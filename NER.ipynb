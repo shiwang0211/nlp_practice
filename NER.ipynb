{
 "cells": [
  {
   "cell_type": "markdown",
   "metadata": {},
   "source": [
    "Rewritten based on https://github.com/kamalkraj/Named-Entity-Recognition-with-Bidirectional-LSTM-CNNs for self-learning purpose"
   ]
  },
  {
   "cell_type": "code",
   "execution_count": 2,
   "metadata": {},
   "outputs": [
    {
     "name": "stderr",
     "output_type": "stream",
     "text": [
      "Using TensorFlow backend.\n"
     ]
    }
   ],
   "source": [
    "import numpy as np \n",
    "from NER.validation import compute_f1\n",
    "from keras.models import Model\n",
    "from keras.layers import TimeDistributed,Conv1D,Dense,Embedding,Input,Dropout,LSTM,Bidirectional,MaxPooling1D,Flatten,concatenate\n",
    "from NER.prepro import readfile,createBatches,createMatrices,iterate_minibatches,addCharInformatioin,padding\n",
    "from keras.utils import Progbar\n",
    "from keras.preprocessing.sequence import pad_sequences\n",
    "from keras.initializers import RandomUniform"
   ]
  },
  {
   "cell_type": "code",
   "execution_count": 4,
   "metadata": {},
   "outputs": [],
   "source": [
    "trainSentences = readfile(\"./NER/data/train.txt\")\n",
    "devSentences = readfile(\"./NER/data/valid.txt\")\n",
    "testSentences = readfile(\"./NER/data/test.txt\")"
   ]
  },
  {
   "cell_type": "code",
   "execution_count": 19,
   "metadata": {},
   "outputs": [
    {
     "data": {
      "text/plain": [
       "14041"
      ]
     },
     "execution_count": 19,
     "metadata": {},
     "output_type": "execute_result"
    }
   ],
   "source": [
    "len(trainSentences)"
   ]
  },
  {
   "cell_type": "code",
   "execution_count": 20,
   "metadata": {},
   "outputs": [
    {
     "data": {
      "text/plain": [
       "[['EU', 'B-ORG\\n'],\n",
       " ['rejects', 'O\\n'],\n",
       " ['German', 'B-MISC\\n'],\n",
       " ['call', 'O\\n'],\n",
       " ['to', 'O\\n'],\n",
       " ['boycott', 'O\\n'],\n",
       " ['British', 'B-MISC\\n'],\n",
       " ['lamb', 'O\\n'],\n",
       " ['.', 'O\\n']]"
      ]
     },
     "execution_count": 20,
     "metadata": {},
     "output_type": "execute_result"
    }
   ],
   "source": [
    "trainSentences[0]"
   ]
  },
  {
   "cell_type": "code",
   "execution_count": 21,
   "metadata": {},
   "outputs": [],
   "source": [
    "trainSentences = addCharInformatioin(trainSentences)\n",
    "devSentences = addCharInformatioin(devSentences)\n",
    "testSentences = addCharInformatioin(testSentences)"
   ]
  },
  {
   "cell_type": "code",
   "execution_count": 22,
   "metadata": {},
   "outputs": [
    {
     "data": {
      "text/plain": [
       "[['EU', ['E', 'U'], 'B-ORG\\n'],\n",
       " ['rejects', ['r', 'e', 'j', 'e', 'c', 't', 's'], 'O\\n'],\n",
       " ['German', ['G', 'e', 'r', 'm', 'a', 'n'], 'B-MISC\\n'],\n",
       " ['call', ['c', 'a', 'l', 'l'], 'O\\n'],\n",
       " ['to', ['t', 'o'], 'O\\n'],\n",
       " ['boycott', ['b', 'o', 'y', 'c', 'o', 't', 't'], 'O\\n'],\n",
       " ['British', ['B', 'r', 'i', 't', 'i', 's', 'h'], 'B-MISC\\n'],\n",
       " ['lamb', ['l', 'a', 'm', 'b'], 'O\\n'],\n",
       " ['.', ['.'], 'O\\n']]"
      ]
     },
     "execution_count": 22,
     "metadata": {},
     "output_type": "execute_result"
    }
   ],
   "source": [
    "trainSentences[0]"
   ]
  },
  {
   "cell_type": "code",
   "execution_count": 23,
   "metadata": {},
   "outputs": [],
   "source": [
    "labelSet = set()\n",
    "words = {}\n",
    "\n",
    "for dataset in [trainSentences, devSentences, testSentences]:\n",
    "    for sentence in dataset:\n",
    "        for token,char,label in sentence:\n",
    "            labelSet.add(label)\n",
    "            words[token.lower()] = True"
   ]
  },
  {
   "cell_type": "code",
   "execution_count": 24,
   "metadata": {},
   "outputs": [
    {
     "data": {
      "text/plain": [
       "{'B-LOC\\n',\n",
       " 'B-MISC\\n',\n",
       " 'B-ORG\\n',\n",
       " 'B-PER\\n',\n",
       " 'I-LOC\\n',\n",
       " 'I-MISC\\n',\n",
       " 'I-ORG\\n',\n",
       " 'I-PER\\n',\n",
       " 'O\\n'}"
      ]
     },
     "execution_count": 24,
     "metadata": {},
     "output_type": "execute_result"
    }
   ],
   "source": [
    "labelSet"
   ]
  },
  {
   "cell_type": "code",
   "execution_count": 54,
   "metadata": {},
   "outputs": [
    {
     "name": "stdout",
     "output_type": "stream",
     "text": [
      "eu True\n",
      "rejects True\n",
      "german True\n",
      "call True\n",
      "to True\n",
      "====\n",
      "26869\n"
     ]
    }
   ],
   "source": [
    "for w, _ in zip(words, range(5)):\n",
    "    print(w, words[w])\n",
    "print(\"====\")\n",
    "print(len(words))"
   ]
  },
  {
   "cell_type": "code",
   "execution_count": 27,
   "metadata": {},
   "outputs": [
    {
     "data": {
      "text/plain": [
       "{'B-LOC\\n': 0,\n",
       " 'I-LOC\\n': 1,\n",
       " 'I-PER\\n': 2,\n",
       " 'I-ORG\\n': 3,\n",
       " 'B-PER\\n': 4,\n",
       " 'B-MISC\\n': 5,\n",
       " 'O\\n': 6,\n",
       " 'I-MISC\\n': 7,\n",
       " 'B-ORG\\n': 8}"
      ]
     },
     "execution_count": 27,
     "metadata": {},
     "output_type": "execute_result"
    }
   ],
   "source": [
    "# :: Create a mapping for the labels ::\n",
    "label2Idx = {}\n",
    "for label in labelSet:\n",
    "    label2Idx[label] = len(label2Idx)\n",
    "    \n",
    "label2Idx"
   ]
  },
  {
   "cell_type": "code",
   "execution_count": 29,
   "metadata": {},
   "outputs": [
    {
     "data": {
      "text/plain": [
       "array([[1., 0., 0., 0., 0., 0., 0., 0.],\n",
       "       [0., 1., 0., 0., 0., 0., 0., 0.],\n",
       "       [0., 0., 1., 0., 0., 0., 0., 0.],\n",
       "       [0., 0., 0., 1., 0., 0., 0., 0.],\n",
       "       [0., 0., 0., 0., 1., 0., 0., 0.],\n",
       "       [0., 0., 0., 0., 0., 1., 0., 0.],\n",
       "       [0., 0., 0., 0., 0., 0., 1., 0.],\n",
       "       [0., 0., 0., 0., 0., 0., 0., 1.]], dtype=float32)"
      ]
     },
     "execution_count": 29,
     "metadata": {},
     "output_type": "execute_result"
    }
   ],
   "source": [
    "# :: Hard coded case lookup ::\n",
    "case2Idx = {'numeric': 0, 'allLower':1, 'allUpper':2, 'initialUpper':3, 'other':4, 'mainly_numeric':5, 'contains_digit': 6, 'PADDING_TOKEN':7}\n",
    "caseEmbeddings = np.identity(len(case2Idx), dtype='float32')\n",
    "caseEmbeddings "
   ]
  },
  {
   "cell_type": "code",
   "execution_count": 31,
   "metadata": {},
   "outputs": [],
   "source": [
    "# :: Read in word embeddings ::\n",
    "word2Idx = {}\n",
    "wordEmbeddings = []\n",
    "fEmbeddings = open(\"./NER/embeddings/glove.6B.100d.txt\", encoding=\"utf-8\")"
   ]
  },
  {
   "cell_type": "code",
   "execution_count": 33,
   "metadata": {},
   "outputs": [],
   "source": [
    "for line in fEmbeddings:\n",
    "    split = line.strip().split(\" \")\n",
    "    word = split[0]\n",
    "    \n",
    "    if len(word2Idx) == 0: #Add padding+unknown\n",
    "        word2Idx[\"PADDING_TOKEN\"] = len(word2Idx)\n",
    "        vector = np.zeros(len(split)-1) #Zero vector vor 'PADDING' word\n",
    "        wordEmbeddings.append(vector)\n",
    "        \n",
    "        word2Idx[\"UNKNOWN_TOKEN\"] = len(word2Idx)\n",
    "        vector = np.random.uniform(-0.25, 0.25, len(split)-1)\n",
    "        wordEmbeddings.append(vector)\n",
    "\n",
    "    if split[0].lower() in words:\n",
    "        vector = np.array([float(num) for num in split[1:]])\n",
    "        wordEmbeddings.append(vector)\n",
    "        word2Idx[split[0]] = len(word2Idx)"
   ]
  },
  {
   "cell_type": "code",
   "execution_count": 51,
   "metadata": {},
   "outputs": [
    {
     "data": {
      "text/plain": [
       "(22949, 100)"
      ]
     },
     "execution_count": 51,
     "metadata": {},
     "output_type": "execute_result"
    }
   ],
   "source": [
    "wordEmbeddings = np.array(wordEmbeddings)\n",
    "wordEmbeddings.shape"
   ]
  },
  {
   "cell_type": "code",
   "execution_count": 53,
   "metadata": {},
   "outputs": [
    {
     "name": "stdout",
     "output_type": "stream",
     "text": [
      "PADDING_TOKEN 0\n",
      "UNKNOWN_TOKEN 1\n",
      "the 2\n",
      ", 3\n",
      ". 4\n",
      "====\n",
      "22949\n"
     ]
    }
   ],
   "source": [
    "for s,_ in zip(word2Idx,range(5)):\n",
    "    print(s, word2Idx[s])\n",
    "print(\"====\")\n",
    "print(len(word2Idx))"
   ]
  },
  {
   "cell_type": "code",
   "execution_count": 58,
   "metadata": {},
   "outputs": [
    {
     "name": "stdout",
     "output_type": "stream",
     "text": [
      "PADDING 0\n",
      "UNKNOWN 1\n",
      "  2\n",
      "0 3\n",
      "1 4\n",
      "2 5\n",
      "====\n",
      "95\n"
     ]
    }
   ],
   "source": [
    "char2Idx = {\"PADDING\":0, \"UNKNOWN\":1}\n",
    "for c in \" 0123456789abcdefghijklmnopqrstuvwxyzABCDEFGHIJKLMNOPQRSTUVWXYZ.,-_()[]{}!?:;#'\\\"/\\\\%$`&=*+@^~|\":\n",
    "    char2Idx[c] = len(char2Idx)\n",
    "for s,_ in zip(char2Idx,range(6)):\n",
    "    print(s, char2Idx[s])\n",
    "print(\"====\")\n",
    "print(len(char2Idx))"
   ]
  },
  {
   "cell_type": "code",
   "execution_count": 59,
   "metadata": {},
   "outputs": [],
   "source": [
    "train_set = padding(createMatrices(trainSentences,word2Idx,  label2Idx, case2Idx,char2Idx))\n",
    "dev_set = padding(createMatrices(devSentences,word2Idx, label2Idx, case2Idx,char2Idx))\n",
    "test_set = padding(createMatrices(testSentences, word2Idx, label2Idx, case2Idx,char2Idx))"
   ]
  },
  {
   "cell_type": "code",
   "execution_count": 61,
   "metadata": {},
   "outputs": [
    {
     "data": {
      "text/plain": [
       "[['EU', ['E', 'U'], 'B-ORG\\n'],\n",
       " ['rejects', ['r', 'e', 'j', 'e', 'c', 't', 's'], 'O\\n'],\n",
       " ['German', ['G', 'e', 'r', 'm', 'a', 'n'], 'B-MISC\\n'],\n",
       " ['call', ['c', 'a', 'l', 'l'], 'O\\n'],\n",
       " ['to', ['t', 'o'], 'O\\n'],\n",
       " ['boycott', ['b', 'o', 'y', 'c', 'o', 't', 't'], 'O\\n'],\n",
       " ['British', ['B', 'r', 'i', 't', 'i', 's', 'h'], 'B-MISC\\n'],\n",
       " ['lamb', ['l', 'a', 'm', 'b'], 'O\\n'],\n",
       " ['.', ['.'], 'O\\n']]"
      ]
     },
     "execution_count": 61,
     "metadata": {},
     "output_type": "execute_result"
    }
   ],
   "source": [
    "trainSentences[0]"
   ]
  },
  {
   "cell_type": "code",
   "execution_count": 72,
   "metadata": {},
   "outputs": [
    {
     "data": {
      "text/plain": [
       "(641, 2, 43, 59, 8)"
      ]
     },
     "execution_count": 72,
     "metadata": {},
     "output_type": "execute_result"
    }
   ],
   "source": [
    "word2Idx['eu'], case2Idx['allUpper'], char2Idx['E'], char2Idx['U'], label2Idx['B-ORG\\n']"
   ]
  },
  {
   "cell_type": "code",
   "execution_count": 60,
   "metadata": {},
   "outputs": [
    {
     "data": {
      "text/plain": [
       "[[641, 6732, 512, 578, 6, 4940, 295, 8353, 4],\n",
       " [2, 1, 3, 1, 1, 1, 3, 1, 4],\n",
       " array([[43, 59,  0,  0,  0,  0,  0,  0,  0,  0,  0,  0,  0,  0,  0,  0,\n",
       "          0,  0,  0,  0,  0,  0,  0,  0,  0,  0,  0,  0,  0,  0,  0,  0,\n",
       "          0,  0,  0,  0,  0,  0,  0,  0,  0,  0,  0,  0,  0,  0,  0,  0,\n",
       "          0,  0,  0,  0],\n",
       "        [30, 17, 22, 17, 15, 32, 31,  0,  0,  0,  0,  0,  0,  0,  0,  0,\n",
       "          0,  0,  0,  0,  0,  0,  0,  0,  0,  0,  0,  0,  0,  0,  0,  0,\n",
       "          0,  0,  0,  0,  0,  0,  0,  0,  0,  0,  0,  0,  0,  0,  0,  0,\n",
       "          0,  0,  0,  0],\n",
       "        [45, 17, 30, 25, 13, 26,  0,  0,  0,  0,  0,  0,  0,  0,  0,  0,\n",
       "          0,  0,  0,  0,  0,  0,  0,  0,  0,  0,  0,  0,  0,  0,  0,  0,\n",
       "          0,  0,  0,  0,  0,  0,  0,  0,  0,  0,  0,  0,  0,  0,  0,  0,\n",
       "          0,  0,  0,  0],\n",
       "        [15, 13, 24, 24,  0,  0,  0,  0,  0,  0,  0,  0,  0,  0,  0,  0,\n",
       "          0,  0,  0,  0,  0,  0,  0,  0,  0,  0,  0,  0,  0,  0,  0,  0,\n",
       "          0,  0,  0,  0,  0,  0,  0,  0,  0,  0,  0,  0,  0,  0,  0,  0,\n",
       "          0,  0,  0,  0],\n",
       "        [32, 27,  0,  0,  0,  0,  0,  0,  0,  0,  0,  0,  0,  0,  0,  0,\n",
       "          0,  0,  0,  0,  0,  0,  0,  0,  0,  0,  0,  0,  0,  0,  0,  0,\n",
       "          0,  0,  0,  0,  0,  0,  0,  0,  0,  0,  0,  0,  0,  0,  0,  0,\n",
       "          0,  0,  0,  0],\n",
       "        [14, 27, 37, 15, 27, 32, 32,  0,  0,  0,  0,  0,  0,  0,  0,  0,\n",
       "          0,  0,  0,  0,  0,  0,  0,  0,  0,  0,  0,  0,  0,  0,  0,  0,\n",
       "          0,  0,  0,  0,  0,  0,  0,  0,  0,  0,  0,  0,  0,  0,  0,  0,\n",
       "          0,  0,  0,  0],\n",
       "        [40, 30, 21, 32, 21, 31, 20,  0,  0,  0,  0,  0,  0,  0,  0,  0,\n",
       "          0,  0,  0,  0,  0,  0,  0,  0,  0,  0,  0,  0,  0,  0,  0,  0,\n",
       "          0,  0,  0,  0,  0,  0,  0,  0,  0,  0,  0,  0,  0,  0,  0,  0,\n",
       "          0,  0,  0,  0],\n",
       "        [24, 13, 25, 14,  0,  0,  0,  0,  0,  0,  0,  0,  0,  0,  0,  0,\n",
       "          0,  0,  0,  0,  0,  0,  0,  0,  0,  0,  0,  0,  0,  0,  0,  0,\n",
       "          0,  0,  0,  0,  0,  0,  0,  0,  0,  0,  0,  0,  0,  0,  0,  0,\n",
       "          0,  0,  0,  0],\n",
       "        [65,  0,  0,  0,  0,  0,  0,  0,  0,  0,  0,  0,  0,  0,  0,  0,\n",
       "          0,  0,  0,  0,  0,  0,  0,  0,  0,  0,  0,  0,  0,  0,  0,  0,\n",
       "          0,  0,  0,  0,  0,  0,  0,  0,  0,  0,  0,  0,  0,  0,  0,  0,\n",
       "          0,  0,  0,  0]], dtype=int32),\n",
       " [8, 6, 5, 6, 6, 6, 5, 6, 6]]"
      ]
     },
     "execution_count": 60,
     "metadata": {},
     "output_type": "execute_result"
    }
   ],
   "source": [
    "train_set[0]"
   ]
  },
  {
   "cell_type": "code",
   "execution_count": 75,
   "metadata": {},
   "outputs": [],
   "source": [
    "idx2Label = {v: k for k, v in label2Idx.items()}"
   ]
  },
  {
   "cell_type": "code",
   "execution_count": 90,
   "metadata": {},
   "outputs": [],
   "source": [
    "train_batch,train_batch_len = createBatches(train_set)\n",
    "dev_batch,dev_batch_len = createBatches(dev_set)\n",
    "test_batch,test_batch_len = createBatches(test_set)"
   ]
  },
  {
   "cell_type": "code",
   "execution_count": 97,
   "metadata": {},
   "outputs": [
    {
     "data": {
      "text/plain": [
       "[179, 1308, 1894, 2665, 3416, 4041, 4945, 6001, 6895, 7398]"
      ]
     },
     "execution_count": 97,
     "metadata": {},
     "output_type": "execute_result"
    }
   ],
   "source": [
    "train_batch_len[:10]"
   ]
  },
  {
   "cell_type": "code",
   "execution_count": 94,
   "metadata": {},
   "outputs": [
    {
     "data": {
      "text/plain": [
       "[[2428, 1],\n",
       " [2, 5],\n",
       " array([[51, 39, 42, 56, 47, 42,  0,  0,  0,  0,  0,  0,  0,  0,  0,  0,\n",
       "          0,  0,  0,  0,  0,  0,  0,  0,  0,  0,  0,  0,  0,  0,  0,  0,\n",
       "          0,  0,  0,  0,  0,  0,  0,  0,  0,  0,  0,  0,  0,  0,  0,  0,\n",
       "          0,  0,  0,  0],\n",
       "        [ 4, 12, 12,  9, 67,  3, 11, 67,  5, 11,  0,  0,  0,  0,  0,  0,\n",
       "          0,  0,  0,  0,  0,  0,  0,  0,  0,  0,  0,  0,  0,  0,  0,  0,\n",
       "          0,  0,  0,  0,  0,  0,  0,  0,  0,  0,  0,  0,  0,  0,  0,  0,\n",
       "          0,  0,  0,  0]], dtype=int32),\n",
       " [0, 6]]"
      ]
     },
     "execution_count": 94,
     "metadata": {},
     "output_type": "execute_result"
    }
   ],
   "source": [
    "train_batch[1000]"
   ]
  },
  {
   "cell_type": "code",
   "execution_count": 98,
   "metadata": {},
   "outputs": [
    {
     "name": "stdout",
     "output_type": "stream",
     "text": [
      "__________________________________________________________________________________________________\n",
      "Layer (type)                    Output Shape         Param #     Connected to                     \n",
      "==================================================================================================\n",
      "char_input (InputLayer)         (None, None, 52)     0                                            \n",
      "__________________________________________________________________________________________________\n",
      "char_embedding (TimeDistributed (None, None, 52, 30) 2850        char_input[0][0]                 \n",
      "__________________________________________________________________________________________________\n",
      "dropout_1 (Dropout)             (None, None, 52, 30) 0           char_embedding[0][0]             \n",
      "__________________________________________________________________________________________________\n",
      "time_distributed_1 (TimeDistrib (None, None, 52, 30) 2730        dropout_1[0][0]                  \n",
      "__________________________________________________________________________________________________\n",
      "time_distributed_2 (TimeDistrib (None, None, 1, 30)  0           time_distributed_1[0][0]         \n",
      "__________________________________________________________________________________________________\n",
      "words_input (InputLayer)        (None, None)         0                                            \n",
      "__________________________________________________________________________________________________\n",
      "casing_input (InputLayer)       (None, None)         0                                            \n",
      "__________________________________________________________________________________________________\n",
      "time_distributed_3 (TimeDistrib (None, None, 30)     0           time_distributed_2[0][0]         \n",
      "__________________________________________________________________________________________________\n",
      "embedding_1 (Embedding)         (None, None, 100)    2294900     words_input[0][0]                \n",
      "__________________________________________________________________________________________________\n",
      "embedding_2 (Embedding)         (None, None, 8)      64          casing_input[0][0]               \n",
      "__________________________________________________________________________________________________\n",
      "dropout_2 (Dropout)             (None, None, 30)     0           time_distributed_3[0][0]         \n",
      "__________________________________________________________________________________________________\n",
      "concatenate_1 (Concatenate)     (None, None, 138)    0           embedding_1[0][0]                \n",
      "                                                                 embedding_2[0][0]                \n",
      "                                                                 dropout_2[0][0]                  \n",
      "__________________________________________________________________________________________________\n",
      "bidirectional_1 (Bidirectional) (None, None, 400)    542400      concatenate_1[0][0]              \n",
      "__________________________________________________________________________________________________\n",
      "time_distributed_4 (TimeDistrib (None, None, 9)      3609        bidirectional_1[0][0]            \n",
      "==================================================================================================\n",
      "Total params: 2,846,553\n",
      "Trainable params: 551,589\n",
      "Non-trainable params: 2,294,964\n",
      "__________________________________________________________________________________________________\n"
     ]
    },
    {
     "data": {
      "image/svg+xml": [
       "<svg height=\"702pt\" viewBox=\"0.00 0.00 741.99 702.00\" width=\"742pt\" xmlns=\"http://www.w3.org/2000/svg\" xmlns:xlink=\"http://www.w3.org/1999/xlink\">\n",
       "<g class=\"graph\" id=\"graph0\" transform=\"scale(1 1) rotate(0) translate(4 698)\">\n",
       "<title>G</title>\n",
       "<polygon fill=\"#ffffff\" points=\"-4,4 -4,-698 737.9863,-698 737.9863,4 -4,4\" stroke=\"transparent\"/>\n",
       "<!-- 48056003384 -->\n",
       "<g class=\"node\" id=\"node1\">\n",
       "<title>48056003384</title>\n",
       "<polygon fill=\"none\" points=\"141.1895,-657.5 141.1895,-693.5 286.6416,-693.5 286.6416,-657.5 141.1895,-657.5\" stroke=\"#000000\"/>\n",
       "<text fill=\"#000000\" font-family=\"Times,serif\" font-size=\"14.00\" text-anchor=\"middle\" x=\"213.9155\" y=\"-671.3\">char_input: InputLayer</text>\n",
       "</g>\n",
       "<!-- 48055978976 -->\n",
       "<g class=\"node\" id=\"node2\">\n",
       "<title>48055978976</title>\n",
       "<polygon fill=\"none\" points=\"29.9688,-584.5 29.9688,-620.5 397.8623,-620.5 397.8623,-584.5 29.9688,-584.5\" stroke=\"#000000\"/>\n",
       "<text fill=\"#000000\" font-family=\"Times,serif\" font-size=\"14.00\" text-anchor=\"middle\" x=\"213.9155\" y=\"-598.3\">char_embedding(embedding_3): TimeDistributed(Embedding)</text>\n",
       "</g>\n",
       "<!-- 48056003384&#45;&gt;48055978976 -->\n",
       "<g class=\"edge\" id=\"edge1\">\n",
       "<title>48056003384-&gt;48055978976</title>\n",
       "<path d=\"M213.9155,-657.4551C213.9155,-649.3828 213.9155,-639.6764 213.9155,-630.6817\" fill=\"none\" stroke=\"#000000\"/>\n",
       "<polygon fill=\"#000000\" points=\"217.4156,-630.5903 213.9155,-620.5904 210.4156,-630.5904 217.4156,-630.5903\" stroke=\"#000000\"/>\n",
       "</g>\n",
       "<!-- 48055978640 -->\n",
       "<g class=\"node\" id=\"node3\">\n",
       "<title>48055978640</title>\n",
       "<polygon fill=\"none\" points=\"150.1138,-511.5 150.1138,-547.5 277.7173,-547.5 277.7173,-511.5 150.1138,-511.5\" stroke=\"#000000\"/>\n",
       "<text fill=\"#000000\" font-family=\"Times,serif\" font-size=\"14.00\" text-anchor=\"middle\" x=\"213.9155\" y=\"-525.3\">dropout_1: Dropout</text>\n",
       "</g>\n",
       "<!-- 48055978976&#45;&gt;48055978640 -->\n",
       "<g class=\"edge\" id=\"edge2\">\n",
       "<title>48055978976-&gt;48055978640</title>\n",
       "<path d=\"M213.9155,-584.4551C213.9155,-576.3828 213.9155,-566.6764 213.9155,-557.6817\" fill=\"none\" stroke=\"#000000\"/>\n",
       "<polygon fill=\"#000000\" points=\"217.4156,-557.5903 213.9155,-547.5904 210.4156,-557.5904 217.4156,-557.5903\" stroke=\"#000000\"/>\n",
       "</g>\n",
       "<!-- 48056150616 -->\n",
       "<g class=\"node\" id=\"node4\">\n",
       "<title>48056150616</title>\n",
       "<polygon fill=\"none\" points=\"42.7793,-438.5 42.7793,-474.5 385.0518,-474.5 385.0518,-438.5 42.7793,-438.5\" stroke=\"#000000\"/>\n",
       "<text fill=\"#000000\" font-family=\"Times,serif\" font-size=\"14.00\" text-anchor=\"middle\" x=\"213.9155\" y=\"-452.3\">time_distributed_1(conv1d_1): TimeDistributed(Conv1D)</text>\n",
       "</g>\n",
       "<!-- 48055978640&#45;&gt;48056150616 -->\n",
       "<g class=\"edge\" id=\"edge3\">\n",
       "<title>48055978640-&gt;48056150616</title>\n",
       "<path d=\"M213.9155,-511.4551C213.9155,-503.3828 213.9155,-493.6764 213.9155,-484.6817\" fill=\"none\" stroke=\"#000000\"/>\n",
       "<polygon fill=\"#000000\" points=\"217.4156,-484.5903 213.9155,-474.5904 210.4156,-484.5904 217.4156,-484.5903\" stroke=\"#000000\"/>\n",
       "</g>\n",
       "<!-- 48084205128 -->\n",
       "<g class=\"node\" id=\"node5\">\n",
       "<title>48084205128</title>\n",
       "<polygon fill=\"none\" points=\"0,-365.5 0,-401.5 427.8311,-401.5 427.8311,-365.5 0,-365.5\" stroke=\"#000000\"/>\n",
       "<text fill=\"#000000\" font-family=\"Times,serif\" font-size=\"14.00\" text-anchor=\"middle\" x=\"213.9155\" y=\"-379.3\">time_distributed_2(max_pooling1d_1): TimeDistributed(MaxPooling1D)</text>\n",
       "</g>\n",
       "<!-- 48056150616&#45;&gt;48084205128 -->\n",
       "<g class=\"edge\" id=\"edge4\">\n",
       "<title>48056150616-&gt;48084205128</title>\n",
       "<path d=\"M213.9155,-438.4551C213.9155,-430.3828 213.9155,-420.6764 213.9155,-411.6817\" fill=\"none\" stroke=\"#000000\"/>\n",
       "<polygon fill=\"#000000\" points=\"217.4156,-411.5903 213.9155,-401.5904 210.4156,-411.5904 217.4156,-411.5903\" stroke=\"#000000\"/>\n",
       "</g>\n",
       "<!-- 48084142288 -->\n",
       "<g class=\"node\" id=\"node8\">\n",
       "<title>48084142288</title>\n",
       "<polygon fill=\"none\" points=\"50.1724,-292.5 50.1724,-328.5 377.6587,-328.5 377.6587,-292.5 50.1724,-292.5\" stroke=\"#000000\"/>\n",
       "<text fill=\"#000000\" font-family=\"Times,serif\" font-size=\"14.00\" text-anchor=\"middle\" x=\"213.9155\" y=\"-306.3\">time_distributed_3(flatten_1): TimeDistributed(Flatten)</text>\n",
       "</g>\n",
       "<!-- 48084205128&#45;&gt;48084142288 -->\n",
       "<g class=\"edge\" id=\"edge5\">\n",
       "<title>48084205128-&gt;48084142288</title>\n",
       "<path d=\"M213.9155,-365.4551C213.9155,-357.3828 213.9155,-347.6764 213.9155,-338.6817\" fill=\"none\" stroke=\"#000000\"/>\n",
       "<polygon fill=\"#000000\" points=\"217.4156,-338.5903 213.9155,-328.5904 210.4156,-338.5904 217.4156,-338.5903\" stroke=\"#000000\"/>\n",
       "</g>\n",
       "<!-- 48055977912 -->\n",
       "<g class=\"node\" id=\"node6\">\n",
       "<title>48055977912</title>\n",
       "<polygon fill=\"none\" points=\"396.124,-292.5 396.124,-328.5 551.707,-328.5 551.707,-292.5 396.124,-292.5\" stroke=\"#000000\"/>\n",
       "<text fill=\"#000000\" font-family=\"Times,serif\" font-size=\"14.00\" text-anchor=\"middle\" x=\"473.9155\" y=\"-306.3\">words_input: InputLayer</text>\n",
       "</g>\n",
       "<!-- 48055978024 -->\n",
       "<g class=\"node\" id=\"node9\">\n",
       "<title>48055978024</title>\n",
       "<polygon fill=\"none\" points=\"387.8447,-219.5 387.8447,-255.5 551.9863,-255.5 551.9863,-219.5 387.8447,-219.5\" stroke=\"#000000\"/>\n",
       "<text fill=\"#000000\" font-family=\"Times,serif\" font-size=\"14.00\" text-anchor=\"middle\" x=\"469.9155\" y=\"-233.3\">embedding_1: Embedding</text>\n",
       "</g>\n",
       "<!-- 48055977912&#45;&gt;48055978024 -->\n",
       "<g class=\"edge\" id=\"edge6\">\n",
       "<title>48055977912-&gt;48055978024</title>\n",
       "<path d=\"M472.9268,-292.4551C472.4844,-284.3828 471.9526,-274.6764 471.4597,-265.6817\" fill=\"none\" stroke=\"#000000\"/>\n",
       "<polygon fill=\"#000000\" points=\"474.9488,-265.3839 470.9068,-255.5904 467.9592,-265.7669 474.9488,-265.3839\" stroke=\"#000000\"/>\n",
       "</g>\n",
       "<!-- 48055979144 -->\n",
       "<g class=\"node\" id=\"node7\">\n",
       "<title>48055979144</title>\n",
       "<polygon fill=\"none\" points=\"573.3516,-292.5 573.3516,-328.5 730.4795,-328.5 730.4795,-292.5 573.3516,-292.5\" stroke=\"#000000\"/>\n",
       "<text fill=\"#000000\" font-family=\"Times,serif\" font-size=\"14.00\" text-anchor=\"middle\" x=\"651.9155\" y=\"-306.3\">casing_input: InputLayer</text>\n",
       "</g>\n",
       "<!-- 4384933816 -->\n",
       "<g class=\"node\" id=\"node10\">\n",
       "<title>4384933816</title>\n",
       "<polygon fill=\"none\" points=\"569.8447,-219.5 569.8447,-255.5 733.9863,-255.5 733.9863,-219.5 569.8447,-219.5\" stroke=\"#000000\"/>\n",
       "<text fill=\"#000000\" font-family=\"Times,serif\" font-size=\"14.00\" text-anchor=\"middle\" x=\"651.9155\" y=\"-233.3\">embedding_2: Embedding</text>\n",
       "</g>\n",
       "<!-- 48055979144&#45;&gt;4384933816 -->\n",
       "<g class=\"edge\" id=\"edge7\">\n",
       "<title>48055979144-&gt;4384933816</title>\n",
       "<path d=\"M651.9155,-292.4551C651.9155,-284.3828 651.9155,-274.6764 651.9155,-265.6817\" fill=\"none\" stroke=\"#000000\"/>\n",
       "<polygon fill=\"#000000\" points=\"655.4156,-265.5903 651.9155,-255.5904 648.4156,-265.5904 655.4156,-265.5903\" stroke=\"#000000\"/>\n",
       "</g>\n",
       "<!-- 48084141616 -->\n",
       "<g class=\"node\" id=\"node11\">\n",
       "<title>48084141616</title>\n",
       "<polygon fill=\"none\" points=\"196.1138,-219.5 196.1138,-255.5 323.7173,-255.5 323.7173,-219.5 196.1138,-219.5\" stroke=\"#000000\"/>\n",
       "<text fill=\"#000000\" font-family=\"Times,serif\" font-size=\"14.00\" text-anchor=\"middle\" x=\"259.9155\" y=\"-233.3\">dropout_2: Dropout</text>\n",
       "</g>\n",
       "<!-- 48084142288&#45;&gt;48084141616 -->\n",
       "<g class=\"edge\" id=\"edge8\">\n",
       "<title>48084142288-&gt;48084141616</title>\n",
       "<path d=\"M225.2863,-292.4551C230.6494,-283.9441 237.1572,-273.6165 243.0771,-264.2219\" fill=\"none\" stroke=\"#000000\"/>\n",
       "<polygon fill=\"#000000\" points=\"246.146,-265.9167 248.5161,-255.5904 240.2237,-262.1848 246.146,-265.9167\" stroke=\"#000000\"/>\n",
       "</g>\n",
       "<!-- 48084332496 -->\n",
       "<g class=\"node\" id=\"node12\">\n",
       "<title>48084332496</title>\n",
       "<polygon fill=\"none\" points=\"383.5962,-146.5 383.5962,-182.5 556.2349,-182.5 556.2349,-146.5 383.5962,-146.5\" stroke=\"#000000\"/>\n",
       "<text fill=\"#000000\" font-family=\"Times,serif\" font-size=\"14.00\" text-anchor=\"middle\" x=\"469.9155\" y=\"-160.3\">concatenate_1: Concatenate</text>\n",
       "</g>\n",
       "<!-- 48055978024&#45;&gt;48084332496 -->\n",
       "<g class=\"edge\" id=\"edge9\">\n",
       "<title>48055978024-&gt;48084332496</title>\n",
       "<path d=\"M469.9155,-219.4551C469.9155,-211.3828 469.9155,-201.6764 469.9155,-192.6817\" fill=\"none\" stroke=\"#000000\"/>\n",
       "<polygon fill=\"#000000\" points=\"473.4156,-192.5903 469.9155,-182.5904 466.4156,-192.5904 473.4156,-192.5903\" stroke=\"#000000\"/>\n",
       "</g>\n",
       "<!-- 4384933816&#45;&gt;48084332496 -->\n",
       "<g class=\"edge\" id=\"edge10\">\n",
       "<title>4384933816-&gt;48084332496</title>\n",
       "<path d=\"M606.9268,-219.4551C581.9889,-209.4525 550.7951,-196.9407 524.4738,-186.3833\" fill=\"none\" stroke=\"#000000\"/>\n",
       "<polygon fill=\"#000000\" points=\"525.6017,-183.0647 515.0175,-182.5904 522.9958,-189.5616 525.6017,-183.0647\" stroke=\"#000000\"/>\n",
       "</g>\n",
       "<!-- 48084141616&#45;&gt;48084332496 -->\n",
       "<g class=\"edge\" id=\"edge11\">\n",
       "<title>48084141616-&gt;48084332496</title>\n",
       "<path d=\"M311.8257,-219.4551C340.9787,-209.3209 377.5414,-196.611 408.1596,-185.9675\" fill=\"none\" stroke=\"#000000\"/>\n",
       "<polygon fill=\"#000000\" points=\"409.5784,-189.1798 417.8748,-182.5904 407.28,-182.5679 409.5784,-189.1798\" stroke=\"#000000\"/>\n",
       "</g>\n",
       "<!-- 48084661416 -->\n",
       "<g class=\"node\" id=\"node13\">\n",
       "<title>48084661416</title>\n",
       "<polygon fill=\"none\" points=\"332.248,-73.5 332.248,-109.5 607.583,-109.5 607.583,-73.5 332.248,-73.5\" stroke=\"#000000\"/>\n",
       "<text fill=\"#000000\" font-family=\"Times,serif\" font-size=\"14.00\" text-anchor=\"middle\" x=\"469.9155\" y=\"-87.3\">bidirectional_1(lstm_1): Bidirectional(LSTM)</text>\n",
       "</g>\n",
       "<!-- 48084332496&#45;&gt;48084661416 -->\n",
       "<g class=\"edge\" id=\"edge12\">\n",
       "<title>48084332496-&gt;48084661416</title>\n",
       "<path d=\"M469.9155,-146.4551C469.9155,-138.3828 469.9155,-128.6764 469.9155,-119.6817\" fill=\"none\" stroke=\"#000000\"/>\n",
       "<polygon fill=\"#000000\" points=\"473.4156,-119.5903 469.9155,-109.5904 466.4156,-119.5904 473.4156,-119.5903\" stroke=\"#000000\"/>\n",
       "</g>\n",
       "<!-- 48140388896 -->\n",
       "<g class=\"node\" id=\"node14\">\n",
       "<title>48140388896</title>\n",
       "<polygon fill=\"none\" points=\"309.6792,-.5 309.6792,-36.5 630.1519,-36.5 630.1519,-.5 309.6792,-.5\" stroke=\"#000000\"/>\n",
       "<text fill=\"#000000\" font-family=\"Times,serif\" font-size=\"14.00\" text-anchor=\"middle\" x=\"469.9155\" y=\"-14.3\">time_distributed_4(dense_1): TimeDistributed(Dense)</text>\n",
       "</g>\n",
       "<!-- 48084661416&#45;&gt;48140388896 -->\n",
       "<g class=\"edge\" id=\"edge13\">\n",
       "<title>48084661416-&gt;48140388896</title>\n",
       "<path d=\"M469.9155,-73.4551C469.9155,-65.3828 469.9155,-55.6764 469.9155,-46.6817\" fill=\"none\" stroke=\"#000000\"/>\n",
       "<polygon fill=\"#000000\" points=\"473.4156,-46.5903 469.9155,-36.5904 466.4156,-46.5904 473.4156,-46.5903\" stroke=\"#000000\"/>\n",
       "</g>\n",
       "</g>\n",
       "</svg>"
      ],
      "text/plain": [
       "<IPython.core.display.SVG object>"
      ]
     },
     "execution_count": 98,
     "metadata": {},
     "output_type": "execute_result"
    }
   ],
   "source": [
    "words_input = Input(shape=(None,),dtype='int32',name='words_input')\n",
    "words = Embedding(input_dim=wordEmbeddings.shape[0], output_dim=wordEmbeddings.shape[1],  weights=[wordEmbeddings], trainable=False)(words_input)\n",
    "casing_input = Input(shape=(None,), dtype='int32', name='casing_input')\n",
    "casing = Embedding(output_dim=caseEmbeddings.shape[1], input_dim=caseEmbeddings.shape[0], weights=[caseEmbeddings], trainable=False)(casing_input)\n",
    "character_input=Input(shape=(None,52,),name='char_input')\n",
    "embed_char_out=TimeDistributed(Embedding(len(char2Idx),30,embeddings_initializer=RandomUniform(minval=-0.5, maxval=0.5)), name='char_embedding')(character_input)\n",
    "dropout= Dropout(0.5)(embed_char_out)\n",
    "conv1d_out= TimeDistributed(Conv1D(kernel_size=3, filters=30, padding='same',activation='tanh', strides=1))(dropout)\n",
    "maxpool_out=TimeDistributed(MaxPooling1D(52))(conv1d_out)\n",
    "char = TimeDistributed(Flatten())(maxpool_out)\n",
    "char = Dropout(0.5)(char)\n",
    "output = concatenate([words, casing,char])\n",
    "output = Bidirectional(LSTM(200, return_sequences=True, dropout=0.50, recurrent_dropout=0.25))(output)\n",
    "output = TimeDistributed(Dense(len(label2Idx), activation='softmax'))(output)\n",
    "model = Model(inputs=[words_input, casing_input,character_input], outputs=[output])\n",
    "model.compile(loss='sparse_categorical_crossentropy', optimizer='nadam')\n",
    "model.summary()\n",
    "from IPython.display import SVG\n",
    "from keras.utils.vis_utils import model_to_dot\n",
    "\n",
    "SVG(model_to_dot(model).create(prog='dot', format='svg'))"
   ]
  },
  {
   "cell_type": "code",
   "execution_count": 120,
   "metadata": {},
   "outputs": [],
   "source": [
    "for i,batch in enumerate(iterate_minibatches(train_batch,train_batch_len)):\n",
    "    labels, tokens, casing,char = batch\n",
    "    break"
   ]
  },
  {
   "cell_type": "markdown",
   "metadata": {},
   "source": [
    "For a single sample"
   ]
  },
  {
   "cell_type": "code",
   "execution_count": 121,
   "metadata": {},
   "outputs": [
    {
     "data": {
      "text/plain": [
       "(179, 1, 1)"
      ]
     },
     "execution_count": 121,
     "metadata": {},
     "output_type": "execute_result"
    }
   ],
   "source": [
    "labels.shape"
   ]
  },
  {
   "cell_type": "code",
   "execution_count": 122,
   "metadata": {},
   "outputs": [
    {
     "data": {
      "text/plain": [
       "(179, 1)"
      ]
     },
     "execution_count": 122,
     "metadata": {},
     "output_type": "execute_result"
    }
   ],
   "source": [
    "tokens.shape"
   ]
  },
  {
   "cell_type": "code",
   "execution_count": 123,
   "metadata": {},
   "outputs": [
    {
     "data": {
      "text/plain": [
       "(179, 1)"
      ]
     },
     "execution_count": 123,
     "metadata": {},
     "output_type": "execute_result"
    }
   ],
   "source": [
    "casing.shape"
   ]
  },
  {
   "cell_type": "code",
   "execution_count": 124,
   "metadata": {},
   "outputs": [
    {
     "data": {
      "text/plain": [
       "(179, 1, 52)"
      ]
     },
     "execution_count": 124,
     "metadata": {},
     "output_type": "execute_result"
    }
   ],
   "source": [
    "char.shape"
   ]
  },
  {
   "cell_type": "code",
   "execution_count": 136,
   "metadata": {},
   "outputs": [
    {
     "data": {
      "text/plain": [
       "array([[[6]],\n",
       "\n",
       "       [[8]],\n",
       "\n",
       "       [[0]],\n",
       "\n",
       "       [[8]],\n",
       "\n",
       "       [[8]]])"
      ]
     },
     "execution_count": 136,
     "metadata": {},
     "output_type": "execute_result"
    }
   ],
   "source": [
    "labels[:5]"
   ]
  },
  {
   "cell_type": "code",
   "execution_count": 132,
   "metadata": {},
   "outputs": [
    {
     "data": {
      "text/plain": [
       "array([[    4],\n",
       "       [15954],\n",
       "       [  231],\n",
       "       [    1],\n",
       "       [    1]])"
      ]
     },
     "execution_count": 132,
     "metadata": {},
     "output_type": "execute_result"
    }
   ],
   "source": [
    "tokens[:5]"
   ]
  },
  {
   "cell_type": "code",
   "execution_count": 133,
   "metadata": {},
   "outputs": [
    {
     "data": {
      "text/plain": [
       "array([[4],\n",
       "       [2],\n",
       "       [2],\n",
       "       [2],\n",
       "       [2]])"
      ]
     },
     "execution_count": 133,
     "metadata": {},
     "output_type": "execute_result"
    }
   ],
   "source": [
    "casing[:5]"
   ]
  },
  {
   "cell_type": "code",
   "execution_count": 134,
   "metadata": {},
   "outputs": [
    {
     "data": {
      "text/plain": [
       "array([[[65,  0,  0,  0,  0,  0,  0,  0,  0,  0,  0,  0,  0,  0,  0,  0,\n",
       "          0,  0,  0,  0,  0,  0,  0,  0,  0,  0,  0,  0,  0,  0,  0,  0,\n",
       "          0,  0,  0,  0,  0,  0,  0,  0,  0,  0,  0,  0,  0,  0,  0,  0,\n",
       "          0,  0,  0,  0]],\n",
       "\n",
       "       [[58, 46, 39, 61, 56, 39,  0,  0,  0,  0,  0,  0,  0,  0,  0,  0,\n",
       "          0,  0,  0,  0,  0,  0,  0,  0,  0,  0,  0,  0,  0,  0,  0,  0,\n",
       "          0,  0,  0,  0,  0,  0,  0,  0,  0,  0,  0,  0,  0,  0,  0,  0,\n",
       "          0,  0,  0,  0]],\n",
       "\n",
       "       [[47, 56, 39, 55,  0,  0,  0,  0,  0,  0,  0,  0,  0,  0,  0,  0,\n",
       "          0,  0,  0,  0,  0,  0,  0,  0,  0,  0,  0,  0,  0,  0,  0,  0,\n",
       "          0,  0,  0,  0,  0,  0,  0,  0,  0,  0,  0,  0,  0,  0,  0,  0,\n",
       "          0,  0,  0,  0]],\n",
       "\n",
       "       [[39, 52, 67, 52, 39, 46, 39, 56,  0,  0,  0,  0,  0,  0,  0,  0,\n",
       "          0,  0,  0,  0,  0,  0,  0,  0,  0,  0,  0,  0,  0,  0,  0,  0,\n",
       "          0,  0,  0,  0,  0,  0,  0,  0,  0,  0,  0,  0,  0,  0,  0,  0,\n",
       "          0,  0,  0,  0]],\n",
       "\n",
       "       [[39, 57, 67, 57, 39, 44, 47, 56,  0,  0,  0,  0,  0,  0,  0,  0,\n",
       "          0,  0,  0,  0,  0,  0,  0,  0,  0,  0,  0,  0,  0,  0,  0,  0,\n",
       "          0,  0,  0,  0,  0,  0,  0,  0,  0,  0,  0,  0,  0,  0,  0,  0,\n",
       "          0,  0,  0,  0]]], dtype=int32)"
      ]
     },
     "execution_count": 134,
     "metadata": {},
     "output_type": "execute_result"
    }
   ],
   "source": [
    "char[:5]"
   ]
  },
  {
   "cell_type": "code",
   "execution_count": 139,
   "metadata": {},
   "outputs": [
    {
     "name": "stdout",
     "output_type": "stream",
     "text": [
      "Epoch 0/50\n",
      "63/64 [============================>.] - ETA: 0s \n",
      "Epoch 1/50\n",
      "63/64 [============================>.] - ETA: 0s \n",
      "Epoch 2/50\n",
      "63/64 [============================>.] - ETA: 0s \n",
      "Epoch 3/50\n",
      "63/64 [============================>.] - ETA: 0s \n",
      "Epoch 4/50\n",
      "63/64 [============================>.] - ETA: 0s \n",
      "Epoch 5/50\n",
      "63/64 [============================>.] - ETA: 0s \n",
      "Epoch 6/50\n",
      "63/64 [============================>.] - ETA: 0s \n",
      "Epoch 7/50\n",
      "63/64 [============================>.] - ETA: 0s \n",
      "Epoch 8/50\n",
      "63/64 [============================>.] - ETA: 0s \n",
      "Epoch 9/50\n",
      "63/64 [============================>.] - ETA: 0s \n",
      "Epoch 10/50\n",
      "63/64 [============================>.] - ETA: 0s \n",
      "Epoch 11/50\n",
      "63/64 [============================>.] - ETA: 0s \n",
      "Epoch 12/50\n",
      "63/64 [============================>.] - ETA: 0s \n",
      "Epoch 13/50\n",
      "63/64 [============================>.] - ETA: 0s \n",
      "Epoch 14/50\n",
      "63/64 [============================>.] - ETA: 0s \n",
      "Epoch 15/50\n",
      "63/64 [============================>.] - ETA: 0s \n",
      "Epoch 16/50\n",
      "63/64 [============================>.] - ETA: 0s \n",
      "Epoch 17/50\n",
      "63/64 [============================>.] - ETA: 0s \n",
      "Epoch 18/50\n",
      "63/64 [============================>.] - ETA: 0s \n",
      "Epoch 19/50\n",
      "63/64 [============================>.] - ETA: 0s \n",
      "Epoch 20/50\n",
      "63/64 [============================>.] - ETA: 0s \n",
      "Epoch 21/50\n",
      "63/64 [============================>.] - ETA: 0s \n",
      "Epoch 22/50\n",
      "63/64 [============================>.] - ETA: 0s \n",
      "Epoch 23/50\n",
      "63/64 [============================>.] - ETA: 0s \n",
      "Epoch 24/50\n",
      "63/64 [============================>.] - ETA: 0s \n",
      "Epoch 25/50\n",
      "63/64 [============================>.] - ETA: 0s \n",
      "Epoch 26/50\n",
      "63/64 [============================>.] - ETA: 0s \n",
      "Epoch 27/50\n",
      "63/64 [============================>.] - ETA: 0s \n",
      "Epoch 28/50\n",
      "63/64 [============================>.] - ETA: 0s \n",
      "Epoch 29/50\n",
      "63/64 [============================>.] - ETA: 0s \n",
      "Epoch 30/50\n",
      "63/64 [============================>.] - ETA: 0s \n",
      "Epoch 31/50\n",
      "63/64 [============================>.] - ETA: 0s \n",
      "Epoch 32/50\n",
      "63/64 [============================>.] - ETA: 0s \n",
      "Epoch 33/50\n",
      "63/64 [============================>.] - ETA: 0s \n",
      "Epoch 34/50\n",
      "63/64 [============================>.] - ETA: 0s \n",
      "Epoch 35/50\n",
      "63/64 [============================>.] - ETA: 0s \n",
      "Epoch 36/50\n",
      "63/64 [============================>.] - ETA: 0s \n",
      "Epoch 37/50\n",
      "63/64 [============================>.] - ETA: 0s \n",
      "Epoch 38/50\n",
      "63/64 [============================>.] - ETA: 0s \n",
      "Epoch 39/50\n",
      "63/64 [============================>.] - ETA: 0s \n",
      "Epoch 40/50\n",
      "63/64 [============================>.] - ETA: 0s \n",
      "Epoch 41/50\n",
      "63/64 [============================>.] - ETA: 0s \n",
      "Epoch 42/50\n",
      "63/64 [============================>.] - ETA: 0s \n",
      "Epoch 43/50\n",
      "63/64 [============================>.] - ETA: 0s \n",
      "Epoch 44/50\n",
      "63/64 [============================>.] - ETA: 0s \n",
      "Epoch 45/50\n",
      "63/64 [============================>.] - ETA: 0s \n",
      "Epoch 46/50\n",
      "63/64 [============================>.] - ETA: 0s \n",
      "Epoch 47/50\n",
      "63/64 [============================>.] - ETA: 0s \n",
      "Epoch 48/50\n",
      "63/64 [============================>.] - ETA: 0s \n",
      "Epoch 49/50\n",
      "63/64 [============================>.] - ETA: 0s \n"
     ]
    }
   ],
   "source": [
    "epochs=50\n",
    "for epoch in range(epochs):    \n",
    "    print(\"Epoch %d/%d\"%(epoch,epochs))\n",
    "    a = Progbar(len(train_batch_len))\n",
    "    for i,batch in enumerate(iterate_minibatches(train_batch,train_batch_len)):\n",
    "        labels, tokens, casing,char = batch       \n",
    "        model.train_on_batch([tokens, casing,char], labels)\n",
    "        a.update(i)\n",
    "    print(' ')"
   ]
  },
  {
   "cell_type": "code",
   "execution_count": 142,
   "metadata": {},
   "outputs": [],
   "source": [
    "def tag_dataset(dataset):\n",
    "    correctLabels = []\n",
    "    predLabels = []\n",
    "    b = Progbar(len(dataset))\n",
    "    for i,data in enumerate(dataset):    \n",
    "        tokens, casing,char, labels = data\n",
    "        tokens = np.asarray([tokens])     \n",
    "        casing = np.asarray([casing])\n",
    "        char = np.asarray([char])\n",
    "        pred = model.predict([tokens, casing,char], verbose=False)[0]   \n",
    "        pred = pred.argmax(axis=-1) #Predict the classes            \n",
    "        correctLabels.append(labels)\n",
    "        predLabels.append(pred)\n",
    "        b.update(i)\n",
    "    return predLabels, correctLabels"
   ]
  },
  {
   "cell_type": "code",
   "execution_count": 143,
   "metadata": {},
   "outputs": [
    {
     "name": "stdout",
     "output_type": "stream",
     "text": [
      "3246/3250 [============================>.] - ETA: 0sDev-Data: Prec: 0.921, Rec: 0.926, F1: 0.924\n",
      "3450/3453 [============================>.] - ETA: 0sTest-Data: Prec: 0.883, Rec: 0.899, F1: 0.891\n"
     ]
    }
   ],
   "source": [
    "#   Performance on dev dataset        \n",
    "predLabels, correctLabels = tag_dataset(dev_batch)        \n",
    "pre_dev, rec_dev, f1_dev = compute_f1(predLabels, correctLabels, idx2Label)\n",
    "print(\"Dev-Data: Prec: %.3f, Rec: %.3f, F1: %.3f\" % (pre_dev, rec_dev, f1_dev))\n",
    "    \n",
    "#   Performance on test dataset       \n",
    "predLabels, correctLabels = tag_dataset(test_batch)        \n",
    "pre_test, rec_test, f1_test= compute_f1(predLabels, correctLabels, idx2Label)\n",
    "print(\"Test-Data: Prec: %.3f, Rec: %.3f, F1: %.3f\" % (pre_test, rec_test, f1_test))"
   ]
  },
  {
   "cell_type": "code",
   "execution_count": null,
   "metadata": {},
   "outputs": [],
   "source": []
  }
 ],
 "metadata": {
  "kernelspec": {
   "display_name": "Python 3",
   "language": "python",
   "name": "python3"
  },
  "language_info": {
   "codemirror_mode": {
    "name": "ipython",
    "version": 3
   },
   "file_extension": ".py",
   "mimetype": "text/x-python",
   "name": "python",
   "nbconvert_exporter": "python",
   "pygments_lexer": "ipython3",
   "version": "3.7.2"
  },
  "toc": {
   "base_numbering": 1,
   "nav_menu": {},
   "number_sections": true,
   "sideBar": true,
   "skip_h1_title": false,
   "title_cell": "Table of Contents",
   "title_sidebar": "Contents",
   "toc_cell": false,
   "toc_position": {},
   "toc_section_display": true,
   "toc_window_display": false
  }
 },
 "nbformat": 4,
 "nbformat_minor": 2
}
