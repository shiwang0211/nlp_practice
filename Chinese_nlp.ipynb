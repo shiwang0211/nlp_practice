{
 "cells": [
  {
   "cell_type": "markdown",
   "metadata": {},
   "source": [
    "http://www.shanetalk.com/2017/06/16/How-to-deploy-Flask-on-the-Aliyun/"
   ]
  },
  {
   "cell_type": "code",
   "execution_count": 190,
   "metadata": {},
   "outputs": [],
   "source": [
    "import keras\n",
    "import jieba\n",
    "import re\n",
    "from collections import Counter\n",
    "import string\n",
    "import seaborn as sns\n",
    "import numpy as np\n",
    "import pandas as pd\n",
    "import jieba.analyse as anls\n",
    "import jieba.posseg as pseg\n",
    "from gensim.models import Phrases\n",
    "from gensim.models.phrases import Phraser\n",
    "from gensim import corpora\n",
    "from sklearn.model_selection import train_test_split\n",
    "import pydot\n",
    "import pickle"
   ]
  },
  {
   "cell_type": "markdown",
   "metadata": {},
   "source": [
    "Reference\n",
    "- https://github.com/x-hacker/CNN_ChineseTextBinaryClassify\n",
    "- https://www.sogou.com/labs/resource/cs.php\n",
    "- https://www.libinx.com/2018/text-classification-cnn-by-tensorflow/"
   ]
  },
  {
   "cell_type": "markdown",
   "metadata": {},
   "source": [
    "# Read in  some example data"
   ]
  },
  {
   "cell_type": "code",
   "execution_count": 122,
   "metadata": {},
   "outputs": [
    {
     "name": "stdout",
     "output_type": "stream",
     "text": [
      "CPU times: user 15.2 s, sys: 3.74 s, total: 18.9 s\n",
      "Wall time: 19.8 s\n"
     ]
    }
   ],
   "source": [
    "%%time\n",
    "f = open('./data/chinese_news/news_sohusite_xml.dat',\"rb\")\n",
    "lines = [l.decode('gbk','ignore') for l in f]"
   ]
  },
  {
   "cell_type": "code",
   "execution_count": 123,
   "metadata": {},
   "outputs": [
    {
     "name": "stdout",
     "output_type": "stream",
     "text": [
      "['<doc>\\n', '<url>http://gongyi.sohu.com/20120706/n347457739.shtml</url>\\n', '<docno>98590b972ad2f0ea-34913306c0bb3300</docno>\\n', '<contenttitle>深圳地铁将设立ＶＩＰ头等车厢\\u3000买双倍票可享坐票</contenttitle>\\n', '<content>南都讯\\u3000记者刘凡\\u3000周昌和\\u3000任笑一\\u3000继推出日票后，深圳今后将设地铁ＶＩＰ头等车厢，设坐票制。昨日，《南都ＭＥＴＲＯ》创刊仪式暨２０１２年深港地铁圈高峰论坛上透露，在未来的１１号线上将增加特色服务，满足不同消费层次的乘客的不同需求，如特设行李架的车厢和买双倍票可有座位坐的ＶＩＰ车厢等。Ｂ厶成希深圳市政府副秘书长、轨道交通建设办公室主任赵鹏林透露，地铁未来的方向将分等级，满足不同层次的人的需求，提供不同层次的有针对的服务。其中包括一些档次稍微高一些的服务。“我们要让公共交通也能满足档次稍高一些的服务”。比如，尝试有座位的地铁票服务。尤其是一些远道而来的乘客，通过提供坐票服务，让乘坐地铁也能享受到非常舒适的体验。他说，这种坐票的服务有望在地铁３期上实行，将加挂２节车厢以实施花钱可买座位的服务。！拔颐窍Ｍ轨道交通和家里开的车一样，分很多种。”赵鹏林说，比如有些地铁是“观光线”，不仅沿途的风光非常好，还能凭一张票无数次上下，如同旅游时提供的“通票服务”。再比如，设立可以放大件行李的车厢，今后通过设专门可放大件行李的座位，避免像现在放行李不太方便的现象。“未来地铁初步不仅在干线上铺设，还会在支线、城际线上去建设。”！熬醯萌绻车费不太贵的话，还是愿意考虑的。”昨日市民黄小姐表示，尤其是从老街到机场这一段，老街站每次上下客都很多人，而如果赶上上下班高峰期，特别拥挤，要一路从老街站站到机场，４０、５０分钟还是挺吃力的，宁愿多花点钱也能稍微舒适一点。但是白领林先生则表示，自己每天上下班都要坐地铁，出双倍车资买坐票费用有点高。</content>\\n']\n"
     ]
    }
   ],
   "source": [
    "print(lines[:5])"
   ]
  },
  {
   "cell_type": "code",
   "execution_count": 124,
   "metadata": {},
   "outputs": [
    {
     "name": "stdout",
     "output_type": "stream",
     "text": [
      "CPU times: user 6.12 s, sys: 524 ms, total: 6.65 s\n",
      "Wall time: 6.69 s\n"
     ]
    }
   ],
   "source": [
    "%%time\n",
    "categories = []\n",
    "contents = []\n",
    "for line in lines:\n",
    "    if '<url>' in line:\n",
    "        url = line.split('<url>')[1].split('</url>')[0]\n",
    "        category = re.findall(r\"http://(.*?).sohu.com/\", url)\n",
    "        categories.append(category[0])\n",
    "    if '<content>' in line:\n",
    "        content = line.split('<content>')[1].split('</content>')[0]\n",
    "        contents.append(content)"
   ]
  },
  {
   "cell_type": "code",
   "execution_count": 125,
   "metadata": {},
   "outputs": [],
   "source": [
    "contents, categories = zip(*[(k,v) for k, v in zip(contents, categories) if k !=''])"
   ]
  },
  {
   "cell_type": "code",
   "execution_count": 126,
   "metadata": {},
   "outputs": [
    {
     "data": {
      "text/html": [
       "<div>\n",
       "<style scoped>\n",
       "    .dataframe tbody tr th:only-of-type {\n",
       "        vertical-align: middle;\n",
       "    }\n",
       "\n",
       "    .dataframe tbody tr th {\n",
       "        vertical-align: top;\n",
       "    }\n",
       "\n",
       "    .dataframe thead th {\n",
       "        text-align: right;\n",
       "    }\n",
       "</style>\n",
       "<table border=\"1\" class=\"dataframe\">\n",
       "  <thead>\n",
       "    <tr style=\"text-align: right;\">\n",
       "      <th></th>\n",
       "      <th>contents</th>\n",
       "      <th>categories</th>\n",
       "    </tr>\n",
       "  </thead>\n",
       "  <tbody>\n",
       "    <tr>\n",
       "      <th>0</th>\n",
       "      <td>南都讯　记者刘凡　周昌和　任笑一　继推出日票后，深圳今后将设地铁ＶＩＰ头等车厢，设坐票制。昨...</td>\n",
       "      <td>gongyi</td>\n",
       "    </tr>\n",
       "    <tr>\n",
       "      <th>1</th>\n",
       "      <td>同心县地处宁夏中部干旱带的核心区，　冬寒长，春暖迟，夏热短，秋凉早，干旱少雨，蒸发强烈，风大...</td>\n",
       "      <td>gongyi</td>\n",
       "    </tr>\n",
       "    <tr>\n",
       "      <th>2</th>\n",
       "      <td>不满一岁的永康是个饱经病痛折磨的孩子，２０１１年７月５日出生的他，患有先天性心脏病、疝气，一...</td>\n",
       "      <td>gongyi</td>\n",
       "    </tr>\n",
       "    <tr>\n",
       "      <th>3</th>\n",
       "      <td>就废弃茶叶被转手事件发声明１颈ㄑ叮记者刘俊）　“我们也是受害者！”昨日，有媒体报道称康师傅的...</td>\n",
       "      <td>gongyi</td>\n",
       "    </tr>\n",
       "    <tr>\n",
       "      <th>4</th>\n",
       "      <td>·奖励办法：率先提交的前１００个创意项目，经评估，可优先资助实施。！ぷ裳电话：０１０－６７７...</td>\n",
       "      <td>gongyi</td>\n",
       "    </tr>\n",
       "  </tbody>\n",
       "</table>\n",
       "</div>"
      ],
      "text/plain": [
       "                                            contents categories\n",
       "0  南都讯　记者刘凡　周昌和　任笑一　继推出日票后，深圳今后将设地铁ＶＩＰ头等车厢，设坐票制。昨...     gongyi\n",
       "1  同心县地处宁夏中部干旱带的核心区，　冬寒长，春暖迟，夏热短，秋凉早，干旱少雨，蒸发强烈，风大...     gongyi\n",
       "2  不满一岁的永康是个饱经病痛折磨的孩子，２０１１年７月５日出生的他，患有先天性心脏病、疝气，一...     gongyi\n",
       "3  就废弃茶叶被转手事件发声明１颈ㄑ叮记者刘俊）　“我们也是受害者！”昨日，有媒体报道称康师傅的...     gongyi\n",
       "4  ·奖励办法：率先提交的前１００个创意项目，经评估，可优先资助实施。！ぷ裳电话：０１０－６７７...     gongyi"
      ]
     },
     "execution_count": 126,
     "metadata": {},
     "output_type": "execute_result"
    }
   ],
   "source": [
    "df = pd.DataFrame({'contents':contents, 'categories':categories})\n",
    "df.head()"
   ]
  },
  {
   "cell_type": "code",
   "execution_count": 127,
   "metadata": {},
   "outputs": [
    {
     "data": {
      "text/plain": [
       "roll           671000\n",
       "product.it     149388\n",
       "news            63836\n",
       "db.auto         56272\n",
       "sports          37211\n",
       "stock           32178\n",
       "pic.yule        27350\n",
       "dealer.auto     25052\n",
       "business        20096\n",
       "saa.auto        19245\n",
       "Name: categories, dtype: int64"
      ]
     },
     "execution_count": 127,
     "metadata": {},
     "output_type": "execute_result"
    }
   ],
   "source": [
    "df['categories'].value_counts()[:10]"
   ]
  },
  {
   "cell_type": "code",
   "execution_count": 130,
   "metadata": {},
   "outputs": [],
   "source": [
    "df = df[df['categories'].isin(['db.auto','sports','stock'])]"
   ]
  },
  {
   "cell_type": "code",
   "execution_count": 131,
   "metadata": {},
   "outputs": [
    {
     "data": {
      "text/plain": [
       "<matplotlib.axes._subplots.AxesSubplot at 0x1840567b8>"
      ]
     },
     "execution_count": 131,
     "metadata": {},
     "output_type": "execute_result"
    },
    {
     "data": {
      "image/png": "[encoded data removed]",
      "text/plain": [
       "<Figure size 432x288 with 1 Axes>"
      ]
     },
     "metadata": {
      "needs_background": "light"
     },
     "output_type": "display_data"
    }
   ],
   "source": [
    "sns.countplot(df['categories'])"
   ]
  },
  {
   "cell_type": "markdown",
   "metadata": {},
   "source": [
    "# Pre-processing"
   ]
  },
  {
   "cell_type": "markdown",
   "metadata": {},
   "source": [
    "## 全角转半角"
   ]
  },
  {
   "cell_type": "code",
   "execution_count": 132,
   "metadata": {},
   "outputs": [],
   "source": [
    "def strQ2B(ustring):\n",
    "    rstring = \"\"\n",
    "    for uchar in ustring:\n",
    "        inside_code=ord(uchar)\n",
    "        if inside_code == 12288:                              #全角空格直接转换            \n",
    "            inside_code = 32 \n",
    "        elif (inside_code >= 65281 and inside_code <= 65374): #全角字符（除空格）根据关系转化\n",
    "            inside_code -= 65248\n",
    "\n",
    "        rstring += chr(inside_code)\n",
    "    return rstring"
   ]
  },
  {
   "cell_type": "code",
   "execution_count": 133,
   "metadata": {},
   "outputs": [
    {
     "name": "stdout",
     "output_type": "stream",
     "text": [
      "CPU times: user 36.5 s, sys: 1.1 s, total: 37.6 s\n",
      "Wall time: 37.8 s\n"
     ]
    }
   ],
   "source": [
    "%%time\n",
    "df['contents'] = [''.join([strQ2B(c) for c in x]) for x in df.contents]\n",
    "df.head()"
   ]
  },
  {
   "cell_type": "markdown",
   "metadata": {},
   "source": [
    "## Jieba Word Parsing"
   ]
  },
  {
   "cell_type": "markdown",
   "metadata": {},
   "source": [
    "### Jieba Parsing"
   ]
  },
  {
   "cell_type": "code",
   "execution_count": 134,
   "metadata": {},
   "outputs": [
    {
     "data": {
      "text/plain": [
       "'继推出日票后，深圳今后将设地铁VIP头等车厢，设坐票制。'"
      ]
     },
     "execution_count": 134,
     "metadata": {},
     "output_type": "execute_result"
    }
   ],
   "source": [
    "text = '继推出日票后，深圳今后将设地铁VIP头等车厢，设坐票制。'\n",
    "text"
   ]
  },
  {
   "cell_type": "code",
   "execution_count": 135,
   "metadata": {},
   "outputs": [
    {
     "name": "stdout",
     "output_type": "stream",
     "text": [
      "【全模式】：继/ 推出/ 日/ 票/ 后/ / / 深圳/ 今后/ 将/ 设/ 地铁/ VIP/ 头等/ 头等车厢/ 车厢/ / / 设/ 坐票/ 坐票制/ / \n"
     ]
    }
   ],
   "source": [
    "seg_list = jieba.lcut(text, cut_all=True)\n",
    "print(\"【全模式】：\" + \"/ \".join(seg_list)) "
   ]
  },
  {
   "cell_type": "code",
   "execution_count": 136,
   "metadata": {},
   "outputs": [
    {
     "name": "stdout",
     "output_type": "stream",
     "text": [
      "【未启用 HMM】：继/ 推出/ 日/ 票/ 后/ ，/ 深圳/ 今后/ 将/ 设/ 地铁/ VIP/ 头等车厢/ ，/ 设/ 坐票制/ 。\n"
     ]
    }
   ],
   "source": [
    "seg_list = jieba.lcut(text, cut_all=False, HMM =False)\n",
    "print(\"【未启用 HMM】：\" + \"/ \".join(seg_list)) "
   ]
  },
  {
   "cell_type": "code",
   "execution_count": 137,
   "metadata": {},
   "outputs": [
    {
     "name": "stdout",
     "output_type": "stream",
     "text": [
      "【精确模式】：继/ 推出/ 日票/ 后/ ，/ 深圳/ 今后/ 将/ 设/ 地铁/ VIP/ 头等车厢/ ，/ 设/ 坐票制/ 。\n"
     ]
    }
   ],
   "source": [
    "seg_list = jieba.lcut(text, cut_all=False)\n",
    "print(\"【精确模式】：\" + \"/ \".join(seg_list)) "
   ]
  },
  {
   "cell_type": "code",
   "execution_count": 138,
   "metadata": {},
   "outputs": [
    {
     "name": "stdout",
     "output_type": "stream",
     "text": [
      "Overwriting ./script/customized_dict.txt\n"
     ]
    }
   ],
   "source": [
    "%%writefile ./script/customized_dict.txt\n",
    "# For test: add customized dictionary:\n",
    "头等车厢"
   ]
  },
  {
   "cell_type": "code",
   "execution_count": 139,
   "metadata": {},
   "outputs": [],
   "source": [
    "# Loading dict\n",
    "jieba.load_userdict(\"./script/customized_dict.txt\")"
   ]
  },
  {
   "cell_type": "code",
   "execution_count": 140,
   "metadata": {},
   "outputs": [
    {
     "name": "stdout",
     "output_type": "stream",
     "text": [
      "【载入字典】：继/ 推出/ 日票/ 后/ ，/ 深圳/ 今后/ 将/ 设/ 地铁/ VIP/ 头等车厢/ ，/ 设/ 坐票制/ 。\n"
     ]
    }
   ],
   "source": [
    "seg_list = jieba.lcut(text, cut_all=False)\n",
    "print(\"【载入字典】：\" + \"/ \".join(seg_list)) "
   ]
  },
  {
   "cell_type": "code",
   "execution_count": 141,
   "metadata": {},
   "outputs": [],
   "source": [
    "# Add Dict:\n",
    "jieba.add_word('坐票制')"
   ]
  },
  {
   "cell_type": "code",
   "execution_count": 142,
   "metadata": {},
   "outputs": [
    {
     "name": "stdout",
     "output_type": "stream",
     "text": [
      "【调整字典】：继/ 推出/ 日票/ 后/ ，/ 深圳/ 今后/ 将/ 设/ 地铁/ VIP/ 头等车厢/ ，/ 设/ 坐票制/ 。\n"
     ]
    }
   ],
   "source": [
    "seg_list = jieba.lcut(text, cut_all=False)\n",
    "print(\"【调整字典】：\" + \"/ \".join(seg_list)) "
   ]
  },
  {
   "cell_type": "markdown",
   "metadata": {},
   "source": [
    "### Jieba Keyword Extraction"
   ]
  },
  {
   "cell_type": "code",
   "execution_count": 148,
   "metadata": {},
   "outputs": [
    {
     "name": "stdout",
     "output_type": "stream",
     "text": [
      "温和 0.1790732744968421\n",
      "辖区 0.16119742845552631\n",
      "欧债 0.15729957240657894\n",
      "不确定性 0.13855842571953947\n",
      "制造业 0.1287541566935526\n",
      "乐观 0.11996512347019736\n",
      "企业 0.11109926802499999\n",
      "美国 0.10938411135947368\n",
      "招聘 0.10852879568039474\n",
      "经济 0.09405736347684211\n"
     ]
    }
   ],
   "source": [
    "for x, w in anls.extract_tags(df['contents'][0], topK=10, withWeight=True):\n",
    "    print('%s %s' % (x, w))"
   ]
  },
  {
   "cell_type": "code",
   "execution_count": 149,
   "metadata": {},
   "outputs": [
    {
     "name": "stdout",
     "output_type": "stream",
     "text": [
      "美国 1.0\n",
      "支出 0.8546251140595224\n",
      "制造业 0.8066501611519553\n",
      "企业 0.803434606179747\n",
      "经济 0.7244635859284279\n",
      "不确定性 0.7063354297451476\n",
      "政策 0.6936384129930083\n",
      "环境 0.6459728854590001\n",
      "危机 0.6018453730188696\n",
      "辖区 0.5880932580054647\n"
     ]
    }
   ],
   "source": [
    "for x, w in anls.textrank(df['contents'][0], withWeight=True, topK=10):\n",
    "    print('%s %s' % (x, w))"
   ]
  },
  {
   "cell_type": "markdown",
   "metadata": {},
   "source": [
    "### PoS Tagging"
   ]
  },
  {
   "cell_type": "code",
   "execution_count": 150,
   "metadata": {},
   "outputs": [
    {
     "name": "stdout",
     "output_type": "stream",
     "text": [
      "美国联邦储备委员会 nt\n",
      "( x\n",
      "简称 v\n",
      "Fed eng\n",
      ") x\n",
      "周三 t\n",
      "发布 v\n"
     ]
    }
   ],
   "source": [
    "words = pseg.cut(df['contents'][0][:20])\n",
    "for word, flag in words:\n",
    "    print(\"{0} {1}\".format(word, flag))"
   ]
  },
  {
   "cell_type": "markdown",
   "metadata": {},
   "source": [
    "### Apply cut to all"
   ]
  },
  {
   "cell_type": "markdown",
   "metadata": {},
   "source": [
    "Due to computation time, only first 500 characters."
   ]
  },
  {
   "cell_type": "code",
   "execution_count": 151,
   "metadata": {
    "scrolled": false
   },
   "outputs": [
    {
     "name": "stdout",
     "output_type": "stream",
     "text": [
      "Finished: 10000 / 125661\n",
      "Finished: 20000 / 125661\n",
      "Finished: 30000 / 125661\n",
      "Finished: 40000 / 125661\n",
      "Finished: 50000 / 125661\n",
      "Finished: 60000 / 125661\n",
      "Finished: 70000 / 125661\n",
      "Finished: 80000 / 125661\n",
      "Finished: 90000 / 125661\n",
      "Finished: 100000 / 125661\n",
      "Finished: 110000 / 125661\n",
      "Finished: 120000 / 125661\n",
      "CPU times: user 2min 55s, sys: 3.09 s, total: 2min 58s\n",
      "Wall time: 2min 58s\n"
     ]
    }
   ],
   "source": [
    "%%time\n",
    "contents = []\n",
    "count = 0\n",
    "L = len(df['contents'])\n",
    "for content in df['contents']:\n",
    "    contents.append([w for w in jieba.cut(content[:500], cut_all=False)])\n",
    "    count += 1\n",
    "    if count % 10000 == 0:\n",
    "        print('Finished:', count, '/', L)"
   ]
  },
  {
   "cell_type": "code",
   "execution_count": 155,
   "metadata": {},
   "outputs": [
    {
     "data": {
      "text/html": [
       "<div>\n",
       "<style scoped>\n",
       "    .dataframe tbody tr th:only-of-type {\n",
       "        vertical-align: middle;\n",
       "    }\n",
       "\n",
       "    .dataframe tbody tr th {\n",
       "        vertical-align: top;\n",
       "    }\n",
       "\n",
       "    .dataframe thead th {\n",
       "        text-align: right;\n",
       "    }\n",
       "</style>\n",
       "<table border=\"1\" class=\"dataframe\">\n",
       "  <thead>\n",
       "    <tr style=\"text-align: right;\">\n",
       "      <th></th>\n",
       "      <th>contents</th>\n",
       "      <th>categories</th>\n",
       "    </tr>\n",
       "  </thead>\n",
       "  <tbody>\n",
       "    <tr>\n",
       "      <th>0</th>\n",
       "      <td>[美国联邦储备委员会, (, 简称, Fed, ), 周三, 发布, 黄皮书, ,, 称, ...</td>\n",
       "      <td>stock</td>\n",
       "    </tr>\n",
       "    <tr>\n",
       "      <th>1</th>\n",
       "      <td>[最高人民检察院, 日前, 下发, 《, 关于, 进一步, 依法, 严厉打击, 食品安全, ...</td>\n",
       "      <td>stock</td>\n",
       "    </tr>\n",
       "    <tr>\n",
       "      <th>2</th>\n",
       "      <td>[海默, 科技, 今日, 发布, 说明, 公告, ,, 回应, 媒体报道, 称, “, 公司...</td>\n",
       "      <td>stock</td>\n",
       "    </tr>\n",
       "    <tr>\n",
       "      <th>3</th>\n",
       "      <td>[科大, 智能, (, 300222, ), 6, 月, 25, 日, 晚间, 公告, ,,...</td>\n",
       "      <td>stock</td>\n",
       "    </tr>\n",
       "    <tr>\n",
       "      <th>4</th>\n",
       "      <td>[银河证券, 5, 日, 发布, 2012, 年, 中期, 投资, 策略, 报告会, ,, ...</td>\n",
       "      <td>stock</td>\n",
       "    </tr>\n",
       "  </tbody>\n",
       "</table>\n",
       "</div>"
      ],
      "text/plain": [
       "                                            contents categories\n",
       "0  [美国联邦储备委员会, (, 简称, Fed, ), 周三, 发布, 黄皮书, ,, 称, ...      stock\n",
       "1  [最高人民检察院, 日前, 下发, 《, 关于, 进一步, 依法, 严厉打击, 食品安全, ...      stock\n",
       "2  [海默, 科技, 今日, 发布, 说明, 公告, ,, 回应, 媒体报道, 称, “, 公司...      stock\n",
       "3  [科大, 智能, (, 300222, ), 6, 月, 25, 日, 晚间, 公告, ,,...      stock\n",
       "4  [银河证券, 5, 日, 发布, 2012, 年, 中期, 投资, 策略, 报告会, ,, ...      stock"
      ]
     },
     "execution_count": 155,
     "metadata": {},
     "output_type": "execute_result"
    }
   ],
   "source": [
    "df['contents'] = contents\n",
    "df.head()"
   ]
  },
  {
   "cell_type": "markdown",
   "metadata": {},
   "source": [
    "## Remove stop characters"
   ]
  },
  {
   "cell_type": "code",
   "execution_count": 159,
   "metadata": {},
   "outputs": [],
   "source": [
    "stop_words = [x for x in string.printable] + \\\n",
    "             ['《','》','“','”','、','。','…','·','-']"
   ]
  },
  {
   "cell_type": "code",
   "execution_count": 160,
   "metadata": {},
   "outputs": [
    {
     "name": "stdout",
     "output_type": "stream",
     "text": [
      "CPU times: user 38.8 s, sys: 31.1 s, total: 1min 9s\n",
      "Wall time: 1min 13s\n"
     ]
    }
   ],
   "source": [
    "%%time\n",
    "df['contents'] = [[w for w in content if w not in stop_words] for content in df['contents']]"
   ]
  },
  {
   "cell_type": "code",
   "execution_count": 161,
   "metadata": {},
   "outputs": [
    {
     "data": {
      "text/html": [
       "<div>\n",
       "<style scoped>\n",
       "    .dataframe tbody tr th:only-of-type {\n",
       "        vertical-align: middle;\n",
       "    }\n",
       "\n",
       "    .dataframe tbody tr th {\n",
       "        vertical-align: top;\n",
       "    }\n",
       "\n",
       "    .dataframe thead th {\n",
       "        text-align: right;\n",
       "    }\n",
       "</style>\n",
       "<table border=\"1\" class=\"dataframe\">\n",
       "  <thead>\n",
       "    <tr style=\"text-align: right;\">\n",
       "      <th></th>\n",
       "      <th>contents</th>\n",
       "      <th>categories</th>\n",
       "    </tr>\n",
       "  </thead>\n",
       "  <tbody>\n",
       "    <tr>\n",
       "      <th>0</th>\n",
       "      <td>[美国联邦储备委员会, 简称, Fed, 周三, 发布, 黄皮书, 称, 月初, 至, 月末...</td>\n",
       "      <td>stock</td>\n",
       "    </tr>\n",
       "    <tr>\n",
       "      <th>1</th>\n",
       "      <td>[最高人民检察院, 日前, 下发, 关于, 进一步, 依法, 严厉打击, 食品安全, 犯罪行...</td>\n",
       "      <td>stock</td>\n",
       "    </tr>\n",
       "    <tr>\n",
       "      <th>2</th>\n",
       "      <td>[海默, 科技, 今日, 发布, 说明, 公告, 回应, 媒体报道, 称, 公司, 拟以, ...</td>\n",
       "      <td>stock</td>\n",
       "    </tr>\n",
       "    <tr>\n",
       "      <th>3</th>\n",
       "      <td>[科大, 智能, 300222, 月, 25, 日, 晚间, 公告, 近日, 公司, 参与,...</td>\n",
       "      <td>stock</td>\n",
       "    </tr>\n",
       "    <tr>\n",
       "      <th>4</th>\n",
       "      <td>[银河证券, 日, 发布, 2012, 年, 中期, 投资, 策略, 报告会, 会上, 发布...</td>\n",
       "      <td>stock</td>\n",
       "    </tr>\n",
       "  </tbody>\n",
       "</table>\n",
       "</div>"
      ],
      "text/plain": [
       "                                            contents categories\n",
       "0  [美国联邦储备委员会, 简称, Fed, 周三, 发布, 黄皮书, 称, 月初, 至, 月末...      stock\n",
       "1  [最高人民检察院, 日前, 下发, 关于, 进一步, 依法, 严厉打击, 食品安全, 犯罪行...      stock\n",
       "2  [海默, 科技, 今日, 发布, 说明, 公告, 回应, 媒体报道, 称, 公司, 拟以, ...      stock\n",
       "3  [科大, 智能, 300222, 月, 25, 日, 晚间, 公告, 近日, 公司, 参与,...      stock\n",
       "4  [银河证券, 日, 发布, 2012, 年, 中期, 投资, 策略, 报告会, 会上, 发布...      stock"
      ]
     },
     "execution_count": 161,
     "metadata": {},
     "output_type": "execute_result"
    }
   ],
   "source": [
    "df.head()"
   ]
  },
  {
   "cell_type": "markdown",
   "metadata": {},
   "source": [
    "## Save processed data"
   ]
  },
  {
   "cell_type": "code",
   "execution_count": 166,
   "metadata": {},
   "outputs": [],
   "source": [
    "pickle.dump( df, open( \"./data/chinese_news/processed_df.p\", \"wb\" ) )\n",
    "df = pickle.load( open( \"./data/chinese_news/processed_df.p\", \"rb\" ) )"
   ]
  },
  {
   "cell_type": "markdown",
   "metadata": {},
   "source": [
    "## Some summary"
   ]
  },
  {
   "cell_type": "markdown",
   "metadata": {},
   "source": [
    "Frequent words"
   ]
  },
  {
   "cell_type": "code",
   "execution_count": 162,
   "metadata": {},
   "outputs": [],
   "source": [
    "all_words = [word for content in df['contents'] for word in content]\n",
    "freqs = Counter(all_words)"
   ]
  },
  {
   "cell_type": "code",
   "execution_count": 165,
   "metadata": {},
   "outputs": [
    {
     "data": {
      "text/plain": [
       "[('的', 575162),\n",
       " ('恚', 271429),\n",
       " ('ǎ', 208140),\n",
       " ('↓', 189272),\n",
       " ('在', 158089),\n",
       " ('了', 128343),\n",
       " ('骸', 95255),\n",
       " ('和', 91934),\n",
       " ('是', 83492),\n",
       " ('个', 76455)]"
      ]
     },
     "execution_count": 165,
     "metadata": {},
     "output_type": "execute_result"
    }
   ],
   "source": [
    "freqs.most_common(10)"
   ]
  },
  {
   "cell_type": "markdown",
   "metadata": {},
   "source": [
    "sentence length"
   ]
  },
  {
   "cell_type": "code",
   "execution_count": 167,
   "metadata": {},
   "outputs": [
    {
     "data": {
      "text/plain": [
       "<matplotlib.axes._subplots.AxesSubplot at 0x674e02eb8>"
      ]
     },
     "execution_count": 167,
     "metadata": {},
     "output_type": "execute_result"
    },
    {
     "data": {
      "image/png": "[encoded data removed]",
      "text/plain": [
       "<Figure size 432x288 with 1 Axes>"
      ]
     },
     "metadata": {
      "needs_background": "light"
     },
     "output_type": "display_data"
    }
   ],
   "source": [
    "sns.distplot([len(content) for content in df['contents']])"
   ]
  },
  {
   "cell_type": "markdown",
   "metadata": {},
   "source": [
    "# Prepare modelling data"
   ]
  },
  {
   "cell_type": "code",
   "execution_count": 169,
   "metadata": {},
   "outputs": [],
   "source": [
    "X = df['contents']\n",
    "Y = df['categories']"
   ]
  },
  {
   "cell_type": "markdown",
   "metadata": {},
   "source": [
    "## Encoding for Y"
   ]
  },
  {
   "cell_type": "code",
   "execution_count": 173,
   "metadata": {},
   "outputs": [],
   "source": [
    "Y, uniques = pd.factorize(df['categories'])"
   ]
  },
  {
   "cell_type": "code",
   "execution_count": 174,
   "metadata": {},
   "outputs": [
    {
     "data": {
      "text/plain": [
       "Index(['stock', 'sports', 'db.auto'], dtype='object')"
      ]
     },
     "execution_count": 174,
     "metadata": {},
     "output_type": "execute_result"
    }
   ],
   "source": [
    "uniques"
   ]
  },
  {
   "cell_type": "code",
   "execution_count": 175,
   "metadata": {},
   "outputs": [
    {
     "data": {
      "text/plain": [
       "(125661, 3)"
      ]
     },
     "execution_count": 175,
     "metadata": {},
     "output_type": "execute_result"
    }
   ],
   "source": [
    "NUM_CLASS = len(set(Y))\n",
    "Y = keras.utils.to_categorical(Y, num_classes=3)\n",
    "Y.shape"
   ]
  },
  {
   "cell_type": "markdown",
   "metadata": {},
   "source": [
    "## Trim and add paddings for X"
   ]
  },
  {
   "cell_type": "code",
   "execution_count": 176,
   "metadata": {},
   "outputs": [],
   "source": [
    "MAX_LEN = 150\n",
    "VOCAB_SIZE = 1000"
   ]
  },
  {
   "cell_type": "code",
   "execution_count": 177,
   "metadata": {},
   "outputs": [],
   "source": [
    "def pad_trim_review(review, MAX_LEN = 150):\n",
    "    l = len(review)\n",
    "    if  l >= MAX_LEN:\n",
    "        return(review[:MAX_LEN])\n",
    "    else:\n",
    "        return(review + ['<PAD/>'] * (MAX_LEN - l))"
   ]
  },
  {
   "cell_type": "code",
   "execution_count": 178,
   "metadata": {},
   "outputs": [],
   "source": [
    "dictionary = corpora.Dictionary(contents)\n",
    "dictionary.filter_extremes(no_below = 1, no_above = 0.5, keep_n = VOCAB_SIZE)"
   ]
  },
  {
   "cell_type": "code",
   "execution_count": 180,
   "metadata": {},
   "outputs": [],
   "source": [
    "contents_padded = [pad_trim_review(x, MAX_LEN) \\\n",
    "                   for x in X]"
   ]
  },
  {
   "cell_type": "code",
   "execution_count": 181,
   "metadata": {},
   "outputs": [],
   "source": [
    "contents_padded_index = np.array([dictionary.doc2idx(x, unknown_word_index = VOCAB_SIZE) \\\n",
    "                                  for x in contents_padded])"
   ]
  },
  {
   "cell_type": "code",
   "execution_count": 182,
   "metadata": {},
   "outputs": [
    {
     "data": {
      "text/plain": [
       "(125661, 150)"
      ]
     },
     "execution_count": 182,
     "metadata": {},
     "output_type": "execute_result"
    }
   ],
   "source": [
    "contents_padded_index.shape"
   ]
  },
  {
   "cell_type": "code",
   "execution_count": 183,
   "metadata": {},
   "outputs": [
    {
     "data": {
      "text/plain": [
       "array([1000, 1000, 1000, 1000,   20, 1000,   49, 1000,   55, 1000,   54,\n",
       "         52, 1000,   25,    9,   60,   13,   27,   44, 1000, 1000, 1000,\n",
       "         19,   54,   36, 1000, 1000, 1000, 1000,   48, 1000, 1000, 1000,\n",
       "         52,   24, 1000,   32, 1000, 1000, 1000,   16,   13, 1000,   46,\n",
       "         50, 1000,   35, 1000, 1000,   22, 1000,   57, 1000, 1000,   48,\n",
       "       1000, 1000, 1000,   52, 1000,   15, 1000,   28, 1000, 1000, 1000,\n",
       "       1000, 1000,   22,   39, 1000,   23,   14, 1000, 1000, 1000,   13,\n",
       "         11, 1000,   44,   52, 1000,   19,   54,   36, 1000, 1000,   21,\n",
       "         31,   43,   53, 1000, 1000, 1000, 1000,   64,   61,   17,   10,\n",
       "       1000,   32, 1000, 1000, 1000, 1000, 1000, 1000, 1000,   63, 1000,\n",
       "       1000, 1000,   22, 1000, 1000,   51, 1000, 1000,   18,   22, 1000,\n",
       "         45, 1000,   47, 1000,    8, 1000, 1000,   18,   38, 1000,   48,\n",
       "       1000, 1000, 1000, 1000, 1000, 1000, 1000, 1000,   37, 1000, 1000,\n",
       "         49,   13, 1000, 1000,   32,   29, 1000])"
      ]
     },
     "execution_count": 183,
     "metadata": {},
     "output_type": "execute_result"
    }
   ],
   "source": [
    "contents_padded_index[0]"
   ]
  },
  {
   "cell_type": "markdown",
   "metadata": {},
   "source": [
    "## Save processed data"
   ]
  },
  {
   "cell_type": "code",
   "execution_count": 209,
   "metadata": {},
   "outputs": [],
   "source": [
    "pickle.dump({'X':contents_padded_index, 'Y':Y}, open( \"./data/chinese_news/processed_data.p\", \"wb\" ) )\n",
    "data_dict = pickle.load( open( \"./data/chinese_news/processed_data.p\", \"rb\" ) )\n",
    "X = data_dict['X']\n",
    "Y = data_dict['Y']"
   ]
  },
  {
   "cell_type": "markdown",
   "metadata": {},
   "source": [
    "## Split Train and Eval"
   ]
  },
  {
   "cell_type": "code",
   "execution_count": 210,
   "metadata": {},
   "outputs": [],
   "source": [
    "X_train, X_eval, Y_train, Y_eval = train_test_split(X, Y, test_size=0.33, random_state=42)"
   ]
  },
  {
   "cell_type": "markdown",
   "metadata": {},
   "source": [
    "# Define LSTM network"
   ]
  },
  {
   "cell_type": "code",
   "execution_count": 193,
   "metadata": {},
   "outputs": [],
   "source": [
    "from keras.models import Sequential, Model\n",
    "from keras import optimizers\n",
    "from IPython.display import SVG\n",
    "from keras.utils.vis_utils import model_to_dot\n",
    "from keras.layers import Activation, Dense, Dropout, Embedding, Flatten, Input,  SpatialDropout1D, Convolution1D, MaxPooling1D, LSTM"
   ]
  },
  {
   "cell_type": "code",
   "execution_count": 194,
   "metadata": {},
   "outputs": [],
   "source": [
    "embedding_dim = 25\n",
    "lstm_units = 120"
   ]
  },
  {
   "cell_type": "code",
   "execution_count": 214,
   "metadata": {},
   "outputs": [
    {
     "name": "stdout",
     "output_type": "stream",
     "text": [
      "_________________________________________________________________\n",
      "Layer (type)                 Output Shape              Param #   \n",
      "=================================================================\n",
      "embedding_2 (Embedding)      (None, 150, 25)           25025     \n",
      "_________________________________________________________________\n",
      "spatial_dropout1d_2 (Spatial (None, 150, 25)           0         \n",
      "_________________________________________________________________\n",
      "lstm_2 (LSTM)                (None, 120)               70080     \n",
      "_________________________________________________________________\n",
      "dense_3 (Dense)              (None, 60)                7260      \n",
      "_________________________________________________________________\n",
      "dropout_2 (Dropout)          (None, 60)                0         \n",
      "_________________________________________________________________\n",
      "dense_4 (Dense)              (None, 3)                 183       \n",
      "=================================================================\n",
      "Total params: 102,548\n",
      "Trainable params: 102,548\n",
      "Non-trainable params: 0\n",
      "_________________________________________________________________\n"
     ]
    }
   ],
   "source": [
    "model = Sequential()\n",
    "model.add(Embedding(input_dim = VOCAB_SIZE + 1, \n",
    "                    output_dim = embedding_dim, \n",
    "                    input_length = MAX_LEN))\n",
    "model.add(SpatialDropout1D(0.5))\n",
    "model.add(LSTM(units = lstm_units, \n",
    "               dropout = 0.2,  \n",
    "               recurrent_dropout = 0.2))\n",
    "model.add(Dense(60, activation='relu'))\n",
    "model.add(Dropout(rate = 0.5))\n",
    "#model.add(Dense(1, activation='relu')) # continous\n",
    "#model.add(Dense(1, activation='sigmoid')) # binary\n",
    "model.add(Dense(3, activation='softmax'))\n",
    "model.summary()"
   ]
  },
  {
   "cell_type": "code",
   "execution_count": 215,
   "metadata": {},
   "outputs": [
    {
     "data": {
      "image/svg+xml": [
       "<svg height=\"531pt\" viewBox=\"0.00 0.00 409.46 531.00\" width=\"409pt\" xmlns=\"http://www.w3.org/2000/svg\" xmlns:xlink=\"http://www.w3.org/1999/xlink\">\n",
       "<g class=\"graph\" id=\"graph0\" transform=\"scale(1 1) rotate(0) translate(4 527)\">\n",
       "<title>G</title>\n",
       "<polygon fill=\"#ffffff\" points=\"-4,4 -4,-527 405.459,-527 405.459,4 -4,4\" stroke=\"transparent\"/>\n",
       "<!-- 28434298080 -->\n",
       "<g class=\"node\" id=\"node1\">\n",
       "<title>28434298080</title>\n",
       "<polygon fill=\"none\" points=\"38.5,-405.5 38.5,-449.5 362.959,-449.5 362.959,-405.5 38.5,-405.5\" stroke=\"#000000\"/>\n",
       "<text fill=\"#000000\" font-family=\"Times,serif\" font-size=\"14.00\" text-anchor=\"middle\" x=\"120.5708\" y=\"-423.3\">embedding_2: Embedding</text>\n",
       "<polyline fill=\"none\" points=\"202.6416,-405.5 202.6416,-449.5 \" stroke=\"#000000\"/>\n",
       "<text fill=\"#000000\" font-family=\"Times,serif\" font-size=\"14.00\" text-anchor=\"middle\" x=\"230.4761\" y=\"-434.3\">input:</text>\n",
       "<polyline fill=\"none\" points=\"202.6416,-427.5 258.3105,-427.5 \" stroke=\"#000000\"/>\n",
       "<text fill=\"#000000\" font-family=\"Times,serif\" font-size=\"14.00\" text-anchor=\"middle\" x=\"230.4761\" y=\"-412.3\">output:</text>\n",
       "<polyline fill=\"none\" points=\"258.3105,-405.5 258.3105,-449.5 \" stroke=\"#000000\"/>\n",
       "<text fill=\"#000000\" font-family=\"Times,serif\" font-size=\"14.00\" text-anchor=\"middle\" x=\"310.6348\" y=\"-434.3\">(None, 150)</text>\n",
       "<polyline fill=\"none\" points=\"258.3105,-427.5 362.959,-427.5 \" stroke=\"#000000\"/>\n",
       "<text fill=\"#000000\" font-family=\"Times,serif\" font-size=\"14.00\" text-anchor=\"middle\" x=\"310.6348\" y=\"-412.3\">(None, 150, 25)</text>\n",
       "</g>\n",
       "<!-- 28434299032 -->\n",
       "<g class=\"node\" id=\"node2\">\n",
       "<title>28434299032</title>\n",
       "<polygon fill=\"none\" points=\"0,-324.5 0,-368.5 401.459,-368.5 401.459,-324.5 0,-324.5\" stroke=\"#000000\"/>\n",
       "<text fill=\"#000000\" font-family=\"Times,serif\" font-size=\"14.00\" text-anchor=\"middle\" x=\"120.5708\" y=\"-342.3\">spatial_dropout1d_2: SpatialDropout1D</text>\n",
       "<polyline fill=\"none\" points=\"241.1416,-324.5 241.1416,-368.5 \" stroke=\"#000000\"/>\n",
       "<text fill=\"#000000\" font-family=\"Times,serif\" font-size=\"14.00\" text-anchor=\"middle\" x=\"268.9761\" y=\"-353.3\">input:</text>\n",
       "<polyline fill=\"none\" points=\"241.1416,-346.5 296.8105,-346.5 \" stroke=\"#000000\"/>\n",
       "<text fill=\"#000000\" font-family=\"Times,serif\" font-size=\"14.00\" text-anchor=\"middle\" x=\"268.9761\" y=\"-331.3\">output:</text>\n",
       "<polyline fill=\"none\" points=\"296.8105,-324.5 296.8105,-368.5 \" stroke=\"#000000\"/>\n",
       "<text fill=\"#000000\" font-family=\"Times,serif\" font-size=\"14.00\" text-anchor=\"middle\" x=\"349.1348\" y=\"-353.3\">(None, 150, 25)</text>\n",
       "<polyline fill=\"none\" points=\"296.8105,-346.5 401.459,-346.5 \" stroke=\"#000000\"/>\n",
       "<text fill=\"#000000\" font-family=\"Times,serif\" font-size=\"14.00\" text-anchor=\"middle\" x=\"349.1348\" y=\"-331.3\">(None, 150, 25)</text>\n",
       "</g>\n",
       "<!-- 28434298080&#45;&gt;28434299032 -->\n",
       "<g class=\"edge\" id=\"edge2\">\n",
       "<title>28434298080-&gt;28434299032</title>\n",
       "<path d=\"M200.7295,-405.3664C200.7295,-397.1516 200.7295,-387.6579 200.7295,-378.7252\" fill=\"none\" stroke=\"#000000\"/>\n",
       "<polygon fill=\"#000000\" points=\"204.2296,-378.6068 200.7295,-368.6068 197.2296,-378.6069 204.2296,-378.6068\" stroke=\"#000000\"/>\n",
       "</g>\n",
       "<!-- 28434300320 -->\n",
       "<g class=\"node\" id=\"node3\">\n",
       "<title>28434300320</title>\n",
       "<polygon fill=\"none\" points=\"71.1484,-243.5 71.1484,-287.5 330.3105,-287.5 330.3105,-243.5 71.1484,-243.5\" stroke=\"#000000\"/>\n",
       "<text fill=\"#000000\" font-family=\"Times,serif\" font-size=\"14.00\" text-anchor=\"middle\" x=\"120.5708\" y=\"-261.3\">lstm_2: LSTM</text>\n",
       "<polyline fill=\"none\" points=\"169.9932,-243.5 169.9932,-287.5 \" stroke=\"#000000\"/>\n",
       "<text fill=\"#000000\" font-family=\"Times,serif\" font-size=\"14.00\" text-anchor=\"middle\" x=\"197.8276\" y=\"-272.3\">input:</text>\n",
       "<polyline fill=\"none\" points=\"169.9932,-265.5 225.6621,-265.5 \" stroke=\"#000000\"/>\n",
       "<text fill=\"#000000\" font-family=\"Times,serif\" font-size=\"14.00\" text-anchor=\"middle\" x=\"197.8276\" y=\"-250.3\">output:</text>\n",
       "<polyline fill=\"none\" points=\"225.6621,-243.5 225.6621,-287.5 \" stroke=\"#000000\"/>\n",
       "<text fill=\"#000000\" font-family=\"Times,serif\" font-size=\"14.00\" text-anchor=\"middle\" x=\"277.9863\" y=\"-272.3\">(None, 150, 25)</text>\n",
       "<polyline fill=\"none\" points=\"225.6621,-265.5 330.3105,-265.5 \" stroke=\"#000000\"/>\n",
       "<text fill=\"#000000\" font-family=\"Times,serif\" font-size=\"14.00\" text-anchor=\"middle\" x=\"277.9863\" y=\"-250.3\">(None, 120)</text>\n",
       "</g>\n",
       "<!-- 28434299032&#45;&gt;28434300320 -->\n",
       "<g class=\"edge\" id=\"edge3\">\n",
       "<title>28434299032-&gt;28434300320</title>\n",
       "<path d=\"M200.7295,-324.3664C200.7295,-316.1516 200.7295,-306.6579 200.7295,-297.7252\" fill=\"none\" stroke=\"#000000\"/>\n",
       "<polygon fill=\"#000000\" points=\"204.2296,-297.6068 200.7295,-287.6068 197.2296,-297.6069 204.2296,-297.6068\" stroke=\"#000000\"/>\n",
       "</g>\n",
       "<!-- 28434300880 -->\n",
       "<g class=\"node\" id=\"node4\">\n",
       "<title>28434300880</title>\n",
       "<polygon fill=\"none\" points=\"78.9448,-162.5 78.9448,-206.5 322.5142,-206.5 322.5142,-162.5 78.9448,-162.5\" stroke=\"#000000\"/>\n",
       "<text fill=\"#000000\" font-family=\"Times,serif\" font-size=\"14.00\" text-anchor=\"middle\" x=\"131.0708\" y=\"-180.3\">dense_3: Dense</text>\n",
       "<polyline fill=\"none\" points=\"183.1968,-162.5 183.1968,-206.5 \" stroke=\"#000000\"/>\n",
       "<text fill=\"#000000\" font-family=\"Times,serif\" font-size=\"14.00\" text-anchor=\"middle\" x=\"211.0313\" y=\"-191.3\">input:</text>\n",
       "<polyline fill=\"none\" points=\"183.1968,-184.5 238.8657,-184.5 \" stroke=\"#000000\"/>\n",
       "<text fill=\"#000000\" font-family=\"Times,serif\" font-size=\"14.00\" text-anchor=\"middle\" x=\"211.0313\" y=\"-169.3\">output:</text>\n",
       "<polyline fill=\"none\" points=\"238.8657,-162.5 238.8657,-206.5 \" stroke=\"#000000\"/>\n",
       "<text fill=\"#000000\" font-family=\"Times,serif\" font-size=\"14.00\" text-anchor=\"middle\" x=\"280.6899\" y=\"-191.3\">(None, 120)</text>\n",
       "<polyline fill=\"none\" points=\"238.8657,-184.5 322.5142,-184.5 \" stroke=\"#000000\"/>\n",
       "<text fill=\"#000000\" font-family=\"Times,serif\" font-size=\"14.00\" text-anchor=\"middle\" x=\"280.6899\" y=\"-169.3\">(None, 60)</text>\n",
       "</g>\n",
       "<!-- 28434300320&#45;&gt;28434300880 -->\n",
       "<g class=\"edge\" id=\"edge4\">\n",
       "<title>28434300320-&gt;28434300880</title>\n",
       "<path d=\"M200.7295,-243.3664C200.7295,-235.1516 200.7295,-225.6579 200.7295,-216.7252\" fill=\"none\" stroke=\"#000000\"/>\n",
       "<polygon fill=\"#000000\" points=\"204.2296,-216.6068 200.7295,-206.6068 197.2296,-216.6069 204.2296,-216.6068\" stroke=\"#000000\"/>\n",
       "</g>\n",
       "<!-- 28434977512 -->\n",
       "<g class=\"node\" id=\"node5\">\n",
       "<title>28434977512</title>\n",
       "<polygon fill=\"none\" points=\"70.769,-81.5 70.769,-125.5 330.6899,-125.5 330.6899,-81.5 70.769,-81.5\" stroke=\"#000000\"/>\n",
       "<text fill=\"#000000\" font-family=\"Times,serif\" font-size=\"14.00\" text-anchor=\"middle\" x=\"134.5708\" y=\"-99.3\">dropout_2: Dropout</text>\n",
       "<polyline fill=\"none\" points=\"198.3726,-81.5 198.3726,-125.5 \" stroke=\"#000000\"/>\n",
       "<text fill=\"#000000\" font-family=\"Times,serif\" font-size=\"14.00\" text-anchor=\"middle\" x=\"226.207\" y=\"-110.3\">input:</text>\n",
       "<polyline fill=\"none\" points=\"198.3726,-103.5 254.0415,-103.5 \" stroke=\"#000000\"/>\n",
       "<text fill=\"#000000\" font-family=\"Times,serif\" font-size=\"14.00\" text-anchor=\"middle\" x=\"226.207\" y=\"-88.3\">output:</text>\n",
       "<polyline fill=\"none\" points=\"254.0415,-81.5 254.0415,-125.5 \" stroke=\"#000000\"/>\n",
       "<text fill=\"#000000\" font-family=\"Times,serif\" font-size=\"14.00\" text-anchor=\"middle\" x=\"292.3657\" y=\"-110.3\">(None, 60)</text>\n",
       "<polyline fill=\"none\" points=\"254.0415,-103.5 330.6899,-103.5 \" stroke=\"#000000\"/>\n",
       "<text fill=\"#000000\" font-family=\"Times,serif\" font-size=\"14.00\" text-anchor=\"middle\" x=\"292.3657\" y=\"-88.3\">(None, 60)</text>\n",
       "</g>\n",
       "<!-- 28434300880&#45;&gt;28434977512 -->\n",
       "<g class=\"edge\" id=\"edge5\">\n",
       "<title>28434300880-&gt;28434977512</title>\n",
       "<path d=\"M200.7295,-162.3664C200.7295,-154.1516 200.7295,-144.6579 200.7295,-135.7252\" fill=\"none\" stroke=\"#000000\"/>\n",
       "<polygon fill=\"#000000\" points=\"204.2296,-135.6068 200.7295,-125.6068 197.2296,-135.6069 204.2296,-135.6068\" stroke=\"#000000\"/>\n",
       "</g>\n",
       "<!-- 28424808768 -->\n",
       "<g class=\"node\" id=\"node6\">\n",
       "<title>28424808768</title>\n",
       "<polygon fill=\"none\" points=\"82.4448,-.5 82.4448,-44.5 319.0142,-44.5 319.0142,-.5 82.4448,-.5\" stroke=\"#000000\"/>\n",
       "<text fill=\"#000000\" font-family=\"Times,serif\" font-size=\"14.00\" text-anchor=\"middle\" x=\"134.5708\" y=\"-18.3\">dense_4: Dense</text>\n",
       "<polyline fill=\"none\" points=\"186.6968,-.5 186.6968,-44.5 \" stroke=\"#000000\"/>\n",
       "<text fill=\"#000000\" font-family=\"Times,serif\" font-size=\"14.00\" text-anchor=\"middle\" x=\"214.5313\" y=\"-29.3\">input:</text>\n",
       "<polyline fill=\"none\" points=\"186.6968,-22.5 242.3657,-22.5 \" stroke=\"#000000\"/>\n",
       "<text fill=\"#000000\" font-family=\"Times,serif\" font-size=\"14.00\" text-anchor=\"middle\" x=\"214.5313\" y=\"-7.3\">output:</text>\n",
       "<polyline fill=\"none\" points=\"242.3657,-.5 242.3657,-44.5 \" stroke=\"#000000\"/>\n",
       "<text fill=\"#000000\" font-family=\"Times,serif\" font-size=\"14.00\" text-anchor=\"middle\" x=\"280.6899\" y=\"-29.3\">(None, 60)</text>\n",
       "<polyline fill=\"none\" points=\"242.3657,-22.5 319.0142,-22.5 \" stroke=\"#000000\"/>\n",
       "<text fill=\"#000000\" font-family=\"Times,serif\" font-size=\"14.00\" text-anchor=\"middle\" x=\"280.6899\" y=\"-7.3\">(None, 3)</text>\n",
       "</g>\n",
       "<!-- 28434977512&#45;&gt;28424808768 -->\n",
       "<g class=\"edge\" id=\"edge6\">\n",
       "<title>28434977512-&gt;28424808768</title>\n",
       "<path d=\"M200.7295,-81.3664C200.7295,-73.1516 200.7295,-63.6579 200.7295,-54.7252\" fill=\"none\" stroke=\"#000000\"/>\n",
       "<polygon fill=\"#000000\" points=\"204.2296,-54.6068 200.7295,-44.6068 197.2296,-54.6069 204.2296,-54.6068\" stroke=\"#000000\"/>\n",
       "</g>\n",
       "<!-- 28434298864 -->\n",
       "<g class=\"node\" id=\"node7\">\n",
       "<title>28434298864</title>\n",
       "<polygon fill=\"none\" points=\"154.2295,-486.5 154.2295,-522.5 247.2295,-522.5 247.2295,-486.5 154.2295,-486.5\" stroke=\"#000000\"/>\n",
       "<text fill=\"#000000\" font-family=\"Times,serif\" font-size=\"14.00\" text-anchor=\"middle\" x=\"200.7295\" y=\"-500.3\">28434298864</text>\n",
       "</g>\n",
       "<!-- 28434298864&#45;&gt;28434298080 -->\n",
       "<g class=\"edge\" id=\"edge1\">\n",
       "<title>28434298864-&gt;28434298080</title>\n",
       "<path d=\"M200.7295,-486.2521C200.7295,-478.3888 200.7295,-468.9498 200.7295,-459.9612\" fill=\"none\" stroke=\"#000000\"/>\n",
       "<polygon fill=\"#000000\" points=\"204.2296,-459.7376 200.7295,-449.7377 197.2296,-459.7377 204.2296,-459.7376\" stroke=\"#000000\"/>\n",
       "</g>\n",
       "</g>\n",
       "</svg>"
      ],
      "text/plain": [
       "<IPython.core.display.SVG object>"
      ]
     },
     "execution_count": 215,
     "metadata": {},
     "output_type": "execute_result"
    }
   ],
   "source": [
    "SVG(model_to_dot(model, show_shapes=True, show_layer_names=True, rankdir='HB').create(prog='dot', format='svg'))"
   ]
  },
  {
   "cell_type": "markdown",
   "metadata": {},
   "source": [
    "# Model training"
   ]
  },
  {
   "cell_type": "code",
   "execution_count": 216,
   "metadata": {},
   "outputs": [],
   "source": [
    "batch_size = 128\n",
    "num_epoches = 10"
   ]
  },
  {
   "cell_type": "code",
   "execution_count": null,
   "metadata": {},
   "outputs": [
    {
     "name": "stdout",
     "output_type": "stream",
     "text": [
      "WARNING:tensorflow:From /Users/shiwang/Desktop/Personal/test_API/env/lib/python3.7/site-packages/tensorflow/python/ops/math_ops.py:3066: to_int32 (from tensorflow.python.ops.math_ops) is deprecated and will be removed in a future version.\n",
      "Instructions for updating:\n",
      "Use tf.cast instead.\n",
      "Train on 84192 samples, validate on 41469 samples\n",
      "Epoch 1/10\n",
      "84192/84192 [==============================] - 148s 2ms/step - loss: 0.6323 - val_loss: 0.4819\n",
      "Epoch 2/10\n",
      "84192/84192 [==============================] - 150s 2ms/step - loss: 0.5127 - val_loss: 0.4375\n",
      "Epoch 3/10\n",
      "84192/84192 [==============================] - 148s 2ms/step - loss: 0.2616 - val_loss: 0.0847\n",
      "Epoch 4/10\n",
      "84192/84192 [==============================] - 146s 2ms/step - loss: 0.1507 - val_loss: 0.0721\n",
      "Epoch 5/10\n",
      "84192/84192 [==============================] - 152s 2ms/step - loss: 0.1163 - val_loss: 0.0621\n",
      "Epoch 6/10\n",
      "84192/84192 [==============================] - 150s 2ms/step - loss: 0.0790 - val_loss: 0.0455\n",
      "Epoch 7/10\n",
      "84192/84192 [==============================] - 154s 2ms/step - loss: 0.0615 - val_loss: 0.0389\n",
      "Epoch 8/10\n",
      "44288/84192 [==============>...............] - ETA: 1:03 - loss: 0.0498"
     ]
    }
   ],
   "source": [
    "model.compile(#loss='binary_crossentropy',\n",
    "            loss = 'categorical_crossentropy',\n",
    "            optimizer = optimizers.Adam(lr = 0.001))\n",
    "model.fit(X_train, Y_train, \n",
    "          batch_size = batch_size, \n",
    "          validation_data=(X_eval, Y_eval), \n",
    "          epochs = num_epoches)"
   ]
  },
  {
   "cell_type": "code",
   "execution_count": null,
   "metadata": {},
   "outputs": [],
   "source": [
    "from keras.models import load_model\n",
    "model.save('./model/chinese_news_lstm.h5')  # creates a HDF5 file 'my_model.h5'\n",
    "model = load_model('./model/chinese_news_lstm.h5')"
   ]
  },
  {
   "cell_type": "code",
   "execution_count": null,
   "metadata": {},
   "outputs": [],
   "source": []
  }
 ],
 "metadata": {
  "kernelspec": {
   "display_name": "Python 3",
   "language": "python",
   "name": "python3"
  },
  "language_info": {
   "codemirror_mode": {
    "name": "ipython",
    "version": 3
   },
   "file_extension": ".py",
   "mimetype": "text/x-python",
   "name": "python",
   "nbconvert_exporter": "python",
   "pygments_lexer": "ipython3",
   "version": "3.7.2"
  },
  "toc": {
   "base_numbering": 1,
   "nav_menu": {},
   "number_sections": true,
   "sideBar": true,
   "skip_h1_title": false,
   "title_cell": "Table of Contents",
   "title_sidebar": "Contents",
   "toc_cell": false,
   "toc_position": {},
   "toc_section_display": true,
   "toc_window_display": true
  }
 },
 "nbformat": 4,
 "nbformat_minor": 2
}
