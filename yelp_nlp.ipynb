{
 "cells": [
  {
   "cell_type": "code",
   "execution_count": 189,
   "metadata": {},
   "outputs": [],
   "source": [
    "import spacy\n",
    "from spacy.lang.en.stop_words import STOP_WORDS\n",
    "import textacy\n",
    "import numpy as np\n",
    "import pandas as pd \n",
    "import json\n",
    "import seaborn as sns\n",
    "from sklearn.cross_validation import train_test_split\n",
    "from keras import optimizers\n",
    "from keras.models import Sequential, Model\n",
    "from keras.layers import Activation, Dense, Dropout, Embedding, Flatten, Input, Merge, SpatialDropout1D, Convolution1D, MaxPooling1D, LSTM\n",
    "import random"
   ]
  },
  {
   "cell_type": "markdown",
   "metadata": {},
   "source": [
    "# Define global variables"
   ]
  },
  {
   "cell_type": "code",
   "execution_count": null,
   "metadata": {},
   "outputs": [],
   "source": [
    "MAX_NUM = 10000\n",
    "nlp = spacy.load('en')"
   ]
  },
  {
   "cell_type": "code",
   "execution_count": 191,
   "metadata": {},
   "outputs": [],
   "source": [
    "RAW_USER_JSON = './data/yelp/user.json'\n",
    "RAW_TIP_JSON = './data/yelp/tip.json'\n",
    "RAW_CHECKIN_JSON = './data/yelp/checkin.json'\n",
    "RAW_PHOTO_JSON = './data/yelp/photos.json'\n",
    "RAW_REVIEW_JSON = './data/yelp/review.json'\n",
    "RAW_BUSINESS_JSON = './data/yelp/business.json'"
   ]
  },
  {
   "cell_type": "markdown",
   "metadata": {},
   "source": [
    "# Take a look at data format"
   ]
  },
  {
   "cell_type": "code",
   "execution_count": 192,
   "metadata": {},
   "outputs": [],
   "source": [
    "def showFirst(JSON):\n",
    "    f = open(JSON)\n",
    "    line = json.loads(f.readline())\n",
    "    df = pd.DataFrame(columns=['key','value'])\n",
    "    for key, value in line.items():\n",
    "        df = df.append({'key':key, 'value':value}, ignore_index=True)\n",
    "    print(df)"
   ]
  },
  {
   "cell_type": "code",
   "execution_count": 193,
   "metadata": {},
   "outputs": [
    {
     "name": "stdout",
     "output_type": "stream",
     "text": [
      "                   key                                              value\n",
      "0              user_id                             oMy_rEb0UBEmMlu-zcxnoQ\n",
      "1                 name                                             Johnny\n",
      "2         review_count                                                  8\n",
      "3        yelping_since                                         2014-11-03\n",
      "4              friends  [cvVMmlU1ouS3I5fhutaryQ, nj6UZ8tdGo8YJ9lUMTVWN...\n",
      "5               useful                                                  0\n",
      "6                funny                                                  0\n",
      "7                 cool                                                  0\n",
      "8                 fans                                                  0\n",
      "9                elite                                                 []\n",
      "10       average_stars                                               4.67\n",
      "11      compliment_hot                                                  0\n",
      "12     compliment_more                                                  0\n",
      "13  compliment_profile                                                  0\n",
      "14     compliment_cute                                                  0\n",
      "15     compliment_list                                                  0\n",
      "16     compliment_note                                                  0\n",
      "17    compliment_plain                                                  1\n",
      "18     compliment_cool                                                  0\n",
      "19    compliment_funny                                                  0\n",
      "20   compliment_writer                                                  0\n",
      "21   compliment_photos                                                  0\n"
     ]
    }
   ],
   "source": [
    "showFirst(RAW_USER_JSON)"
   ]
  },
  {
   "cell_type": "code",
   "execution_count": 194,
   "metadata": {},
   "outputs": [
    {
     "name": "stdout",
     "output_type": "stream",
     "text": [
      "           key                                  value\n",
      "0         text  Get here early enough to have dinner.\n",
      "1         date                             2012-07-15\n",
      "2        likes                                      0\n",
      "3  business_id                 tJRDll5yqpZwehenzE2cSg\n",
      "4      user_id                 zcTZk7OG8ovAmh_fenH21g\n"
     ]
    }
   ],
   "source": [
    "showFirst(RAW_TIP_JSON)"
   ]
  },
  {
   "cell_type": "code",
   "execution_count": 195,
   "metadata": {},
   "outputs": [
    {
     "name": "stdout",
     "output_type": "stream",
     "text": [
      "           key                                              value\n",
      "0         time  {'Thursday': {'21:00': 4, '1:00': 1, '4:00': 1...\n",
      "1  business_id                             7KPBkxAOEtb3QeIL9PEErg\n"
     ]
    }
   ],
   "source": [
    "showFirst(RAW_CHECKIN_JSON)"
   ]
  },
  {
   "cell_type": "code",
   "execution_count": 196,
   "metadata": {},
   "outputs": [
    {
     "name": "stdout",
     "output_type": "stream",
     "text": [
      "           key                   value\n",
      "0      caption                        \n",
      "1     photo_id  soK1szeyan202jnsGhUDmA\n",
      "2  business_id  OnAzbTDn79W6CFZIriqLrA\n",
      "3        label                  inside\n"
     ]
    }
   ],
   "source": [
    "showFirst(RAW_PHOTO_JSON)"
   ]
  },
  {
   "cell_type": "code",
   "execution_count": 197,
   "metadata": {},
   "outputs": [
    {
     "name": "stdout",
     "output_type": "stream",
     "text": [
      "             key                                              value\n",
      "0    business_id                             FYWN1wneV18bWNgQjJ2GNg\n",
      "1           name                                   Dental by Design\n",
      "2   neighborhood                                                   \n",
      "3        address                           4855 E Warner Rd, Ste B9\n",
      "4           city                                          Ahwatukee\n",
      "5          state                                                 AZ\n",
      "6    postal_code                                              85044\n",
      "7       latitude                                            33.3307\n",
      "8      longitude                                           -111.979\n",
      "9          stars                                                  4\n",
      "10  review_count                                                 22\n",
      "11       is_open                                                  1\n",
      "12    attributes  {'AcceptsInsurance': True, 'ByAppointmentOnly'...\n",
      "13    categories  [Dentists, General Dentistry, Health & Medical...\n",
      "14         hours  {'Friday': '7:30-17:00', 'Tuesday': '7:30-17:0...\n"
     ]
    }
   ],
   "source": [
    "showFirst(RAW_BUSINESS_JSON)"
   ]
  },
  {
   "cell_type": "code",
   "execution_count": 198,
   "metadata": {},
   "outputs": [
    {
     "name": "stdout",
     "output_type": "stream",
     "text": [
      "           key                                              value\n",
      "0    review_id                             v0i_UHJMo_hPBq9bxWvW4w\n",
      "1      user_id                             bv2nCi5Qv5vroFiqKGopiw\n",
      "2  business_id                             0W4lkclzZThpx3V65bVgig\n",
      "3        stars                                                  5\n",
      "4         date                                         2016-05-28\n",
      "5         text  Love the staff, love the meat, love the place....\n",
      "6       useful                                                  0\n",
      "7        funny                                                  0\n",
      "8         cool                                                  0\n"
     ]
    }
   ],
   "source": [
    "showFirst(RAW_REVIEW_JSON)"
   ]
  },
  {
   "cell_type": "markdown",
   "metadata": {},
   "source": [
    "# Define some helpful function"
   ]
  },
  {
   "cell_type": "markdown",
   "metadata": {},
   "source": [
    "explore business list"
   ]
  },
  {
   "cell_type": "code",
   "execution_count": 294,
   "metadata": {},
   "outputs": [],
   "source": [
    "def extract_attributes(cols, raw_json, MAX = 1000):\n",
    "    lst = []\n",
    "    records = textacy.io.read_json(raw_json, mode='rt', lines=True)\n",
    "    for record,_ in zip(records, range(MAX)):\n",
    "        t_lst = []\n",
    "        for col in cols:\n",
    "            t_lst.append(record[col])            \n",
    "        lst.append(t_lst)\n",
    "    df = pd.DataFrame(lst, columns=cols)\n",
    "    return df"
   ]
  },
  {
   "cell_type": "code",
   "execution_count": 297,
   "metadata": {},
   "outputs": [
    {
     "data": {
      "text/html": [
       "<div>\n",
       "<style scoped>\n",
       "    .dataframe tbody tr th:only-of-type {\n",
       "        vertical-align: middle;\n",
       "    }\n",
       "\n",
       "    .dataframe tbody tr th {\n",
       "        vertical-align: top;\n",
       "    }\n",
       "\n",
       "    .dataframe thead th {\n",
       "        text-align: right;\n",
       "    }\n",
       "</style>\n",
       "<table border=\"1\" class=\"dataframe\">\n",
       "  <thead>\n",
       "    <tr style=\"text-align: right;\">\n",
       "      <th></th>\n",
       "      <th>business_id</th>\n",
       "      <th>latitude</th>\n",
       "      <th>longitude</th>\n",
       "      <th>stars</th>\n",
       "      <th>review_count</th>\n",
       "    </tr>\n",
       "  </thead>\n",
       "  <tbody>\n",
       "    <tr>\n",
       "      <th>0</th>\n",
       "      <td>FYWN1wneV18bWNgQjJ2GNg</td>\n",
       "      <td>33.330690</td>\n",
       "      <td>-111.978599</td>\n",
       "      <td>4.0</td>\n",
       "      <td>22</td>\n",
       "    </tr>\n",
       "    <tr>\n",
       "      <th>1</th>\n",
       "      <td>He-G7vWjzVUysIKrfNbPUQ</td>\n",
       "      <td>40.291685</td>\n",
       "      <td>-80.104900</td>\n",
       "      <td>3.0</td>\n",
       "      <td>11</td>\n",
       "    </tr>\n",
       "    <tr>\n",
       "      <th>2</th>\n",
       "      <td>KQPW8lFf1y5BT2MxiSZ3QA</td>\n",
       "      <td>33.524903</td>\n",
       "      <td>-112.115310</td>\n",
       "      <td>1.5</td>\n",
       "      <td>18</td>\n",
       "    </tr>\n",
       "    <tr>\n",
       "      <th>3</th>\n",
       "      <td>8DShNS-LuFqpEWIp0HxijA</td>\n",
       "      <td>33.383147</td>\n",
       "      <td>-111.964725</td>\n",
       "      <td>3.0</td>\n",
       "      <td>9</td>\n",
       "    </tr>\n",
       "    <tr>\n",
       "      <th>4</th>\n",
       "      <td>PfOCPjBrlQAnz__NXj9h_w</td>\n",
       "      <td>41.119535</td>\n",
       "      <td>-81.475690</td>\n",
       "      <td>3.5</td>\n",
       "      <td>116</td>\n",
       "    </tr>\n",
       "  </tbody>\n",
       "</table>\n",
       "</div>"
      ],
      "text/plain": [
       "              business_id   latitude   longitude  stars  review_count\n",
       "0  FYWN1wneV18bWNgQjJ2GNg  33.330690 -111.978599    4.0            22\n",
       "1  He-G7vWjzVUysIKrfNbPUQ  40.291685  -80.104900    3.0            11\n",
       "2  KQPW8lFf1y5BT2MxiSZ3QA  33.524903 -112.115310    1.5            18\n",
       "3  8DShNS-LuFqpEWIp0HxijA  33.383147 -111.964725    3.0             9\n",
       "4  PfOCPjBrlQAnz__NXj9h_w  41.119535  -81.475690    3.5           116"
      ]
     },
     "execution_count": 297,
     "metadata": {},
     "output_type": "execute_result"
    }
   ],
   "source": [
    "df_business = extract_attributes(cols = ['business_id', 'latitude','longitude','stars','review_count'],\n",
    "                                 raw_json = RAW_BUSINESS_JSON,\n",
    "                                 MAX = 1000)\n",
    "df_business.head()"
   ]
  },
  {
   "cell_type": "markdown",
   "metadata": {},
   "source": [
    "Filter out rules"
   ]
  },
  {
   "cell_type": "code",
   "execution_count": 199,
   "metadata": {},
   "outputs": [],
   "source": [
    "# define rules to filter out unuseful tokens\n",
    "def filter_token(token):\n",
    "    if(token.is_punct or \\\n",
    "       token.is_digit or \\\n",
    "       token.is_space or \\\n",
    "       token.like_num or \n",
    "       token.is_stop) :\n",
    "        return(False)\n",
    "    else:\n",
    "        return(True)"
   ]
  },
  {
   "cell_type": "markdown",
   "metadata": {},
   "source": [
    "Read review `text` from json"
   ]
  },
  {
   "cell_type": "code",
   "execution_count": 200,
   "metadata": {},
   "outputs": [],
   "source": [
    "# yield entire text for one review\n",
    "def generate_review():\n",
    "    reviews = textacy.io.read_json(RAW_REVIEW_JSON, mode='rt', lines=True)\n",
    "    for review in reviews:\n",
    "        yield review['text']"
   ]
  },
  {
   "cell_type": "code",
   "execution_count": 201,
   "metadata": {},
   "outputs": [
    {
     "name": "stdout",
     "output_type": "stream",
     "text": [
      "Love the staff, love the meat, love the place. Prepare for a long line around lunch or dinner hours. \n",
      "\n",
      "They ask you how you want you meat, lean or something maybe, I can't remember. Just say you don't want it too fatty. \n",
      "\n",
      "Get a half sour pickle and a hot pepper. Hand cut french fries too.\n"
     ]
    }
   ],
   "source": [
    "for text in generate_review():\n",
    "    print(text)\n",
    "    break"
   ]
  },
  {
   "cell_type": "markdown",
   "metadata": {},
   "source": [
    "# Phrase Model"
   ]
  },
  {
   "cell_type": "markdown",
   "metadata": {},
   "source": [
    "## Prepare Sentence (tokens) List"
   ]
  },
  {
   "cell_type": "markdown",
   "metadata": {},
   "source": [
    "- Process\n",
    "    1. filter out based on rules\n",
    "    2. lemmatize\n",
    "    \n",
    "    \n",
    "- Output:  \n",
    "**[**<br/>\n",
    "[sentence 1 token 1, sentence 1 token 2], ..., [sentence 1 token K1],<br/>\n",
    "[sentence 2 token 1, sentence 2 token 2], ..., [sentence 2 token K2],<br/>\n",
    "...<br/>\n",
    "[sentence N token 1, sentence N token 2], ..., [sentence N token KN]<br/>\n",
    "**]**"
   ]
  },
  {
   "cell_type": "code",
   "execution_count": 202,
   "metadata": {},
   "outputs": [],
   "source": [
    "def generate_list(max_num = MAX_NUM):\n",
    "    all_reviews = generate_review()\n",
    "    df = []\n",
    "    \n",
    "    for doc,_ in zip(nlp.pipe(all_reviews, batch_size=10, n_threads=3),  # parallel processing\n",
    "                     range(max_num)):                                    # only MAX_NUM files\n",
    "        for sent in doc.sents:\n",
    "            df.append( [token.lemma_ for token in sent if filter_token(token) and token.lemma_ != '-PRON-'] )\n",
    "    return(df)"
   ]
  },
  {
   "cell_type": "code",
   "execution_count": 203,
   "metadata": {},
   "outputs": [
    {
     "data": {
      "text/plain": [
       "105450"
      ]
     },
     "execution_count": 203,
     "metadata": {},
     "output_type": "execute_result"
    }
   ],
   "source": [
    "unigram_sentences = generate_list()\n",
    "len(unigram_sentences) # Number of sentences"
   ]
  },
  {
   "cell_type": "code",
   "execution_count": 204,
   "metadata": {},
   "outputs": [
    {
     "data": {
      "text/plain": [
       "[['love', 'staff', 'love', 'meat', 'love', 'place'],\n",
       " ['prepare', 'long', 'line', 'lunch', 'dinner', 'hour'],\n",
       " ['ask', 'want', 'meat', 'lean', 'maybe', 'not', 'remember'],\n",
       " ['just', 'not', 'want', 'fatty'],\n",
       " ['get', 'half', 'sour', 'pickle', 'hot', 'pepper']]"
      ]
     },
     "execution_count": 204,
     "metadata": {},
     "output_type": "execute_result"
    }
   ],
   "source": [
    "unigram_sentences[:5]"
   ]
  },
  {
   "cell_type": "markdown",
   "metadata": {},
   "source": [
    "## Train phrase model"
   ]
  },
  {
   "cell_type": "code",
   "execution_count": 205,
   "metadata": {},
   "outputs": [],
   "source": [
    "from gensim.models import Phrases\n",
    "from gensim.models.phrases import Phraser"
   ]
  },
  {
   "cell_type": "code",
   "execution_count": 206,
   "metadata": {},
   "outputs": [],
   "source": [
    "bigram_model = Phraser(Phrases(unigram_sentences))\n",
    "trigram_model = Phraser(Phrases(bigram_model[unigram_sentences]))"
   ]
  },
  {
   "cell_type": "markdown",
   "metadata": {},
   "source": [
    "## Apply Phrase Model"
   ]
  },
  {
   "cell_type": "markdown",
   "metadata": {},
   "source": [
    "- Process\n",
    "    1. filter out based on rules\n",
    "    2. lemmatize\n",
    "    3. apply bigram and trigram phrase model\n",
    "\n",
    "\n",
    "- Output:  \n",
    "**[**<br/>\n",
    "[Doc 1 token 1, Doc 1 token 2], ..., [Doc 1 token K1],<br/>\n",
    "[Doc 2 token 1, Doc 2 token 2], ..., [Doc 2 token K2],<br/>\n",
    "...<br/>\n",
    "[Doc N token 1, Doc N token 2], ..., [Doc N token KN]<br/>\n",
    "**]**"
   ]
  },
  {
   "cell_type": "code",
   "execution_count": 207,
   "metadata": {},
   "outputs": [],
   "source": [
    "def apply_phrase_model(max_num = MAX_NUM):\n",
    "    df = []\n",
    "    for doc,_ in zip(nlp.pipe(generate_review(), batch_size=10, n_threads=3),\n",
    "                   range(max_num)):\n",
    "        unigram_review =  [token.lemma_ for token in doc if filter_token(token) and token.lemma_ != '-PRON-']\n",
    "        bigram_review = bigram_model[unigram_review]\n",
    "        trigram_review = trigram_model[bigram_review]\n",
    "        df.append(trigram_review)\n",
    "    return(df)"
   ]
  },
  {
   "cell_type": "code",
   "execution_count": 208,
   "metadata": {},
   "outputs": [
    {
     "data": {
      "text/plain": [
       "10000"
      ]
     },
     "execution_count": 208,
     "metadata": {},
     "output_type": "execute_result"
    }
   ],
   "source": [
    "phrased_reviews = apply_phrase_model()\n",
    "len(phrased_reviews)"
   ]
  },
  {
   "cell_type": "markdown",
   "metadata": {},
   "source": [
    "Take a look at bi- and tri- grams"
   ]
  },
  {
   "cell_type": "code",
   "execution_count": 209,
   "metadata": {},
   "outputs": [
    {
     "data": {
      "text/plain": [
       "'long_line / lunch_dinner / not_remember / hot_pepper / french_fry / staff_helpful_friendly / beef_tartar / pork_belly / smoke_meat / seat_outside / will_not / cajun_fry / almond_croissant / las_vegas / las_vegas'"
      ]
     },
     "execution_count": 209,
     "metadata": {},
     "output_type": "execute_result"
    }
   ],
   "source": [
    "' / '.join([word for phrased_review in phrased_reviews for word in phrased_review if '_' in word ][:15])"
   ]
  },
  {
   "cell_type": "markdown",
   "metadata": {},
   "source": [
    "# Topic Modelling - `gensim`"
   ]
  },
  {
   "cell_type": "markdown",
   "metadata": {},
   "source": [
    "<img src=\"https://s3.amazonaws.com/skipgram-images/LDA.png\" width= 400>"
   ]
  },
  {
   "cell_type": "code",
   "execution_count": 210,
   "metadata": {},
   "outputs": [],
   "source": [
    "from gensim import corpora\n",
    "from gensim.models import LdaMulticore\n",
    "import pyLDAvis.gensim as gensimvis\n",
    "import pyLDAvis"
   ]
  },
  {
   "cell_type": "markdown",
   "metadata": {},
   "source": [
    "Create gensim `dictionary`"
   ]
  },
  {
   "cell_type": "code",
   "execution_count": 211,
   "metadata": {},
   "outputs": [
    {
     "name": "stdout",
     "output_type": "stream",
     "text": [
      "Dictionary(31197 unique tokens: ['ask', 'cut', 'fatty', 'french_fry', 'get']...)\n"
     ]
    }
   ],
   "source": [
    "dictionary = corpora.Dictionary(phrased_reviews)\n",
    "print(dictionary)"
   ]
  },
  {
   "cell_type": "markdown",
   "metadata": {},
   "source": [
    "An example of using dictionary (essentially just document-term matrix)"
   ]
  },
  {
   "cell_type": "code",
   "execution_count": 212,
   "metadata": {},
   "outputs": [
    {
     "data": {
      "text/plain": [
       "[(19, 1),\n",
       " (57, 1),\n",
       " (77, 1),\n",
       " (78, 1),\n",
       " (89, 2),\n",
       " (91, 1),\n",
       " (99, 2),\n",
       " (138, 1),\n",
       " (230, 1),\n",
       " (249, 1),\n",
       " (328, 1),\n",
       " (530, 1),\n",
       " (968, 1),\n",
       " (1200, 1),\n",
       " (1384, 1),\n",
       " (1471, 1),\n",
       " (1771, 1),\n",
       " (3740, 1),\n",
       " (3741, 1),\n",
       " (3742, 1),\n",
       " (3743, 1)]"
      ]
     },
     "execution_count": 212,
     "metadata": {},
     "output_type": "execute_result"
    }
   ],
   "source": [
    "dictionary.doc2bow(phrased_reviews[300])"
   ]
  },
  {
   "cell_type": "markdown",
   "metadata": {},
   "source": [
    "Create gensim `corpus`"
   ]
  },
  {
   "cell_type": "code",
   "execution_count": 213,
   "metadata": {},
   "outputs": [],
   "source": [
    "corpus = [dictionary.doc2bow(phrased_review) for phrased_review in phrased_reviews]\n",
    "corpora.MmCorpus.serialize('./model/yelp_gensim_corpus.mm', corpus)  # store to disk, for later use\n",
    "corpus = corpora.MmCorpus('./model/yelp_gensim_corpus.mm')"
   ]
  },
  {
   "cell_type": "markdown",
   "metadata": {},
   "source": [
    "Train LDA model"
   ]
  },
  {
   "cell_type": "code",
   "execution_count": 214,
   "metadata": {},
   "outputs": [],
   "source": [
    "lda = LdaMulticore(corpus, \n",
    "                   num_topics = 5, \n",
    "                   id2word = dictionary, \n",
    "                   workers = 3)"
   ]
  },
  {
   "cell_type": "markdown",
   "metadata": {},
   "source": [
    "Take a look at top terms in first topic"
   ]
  },
  {
   "cell_type": "code",
   "execution_count": 215,
   "metadata": {},
   "outputs": [
    {
     "data": {
      "text/plain": [
       "[('not', 0.014495503),\n",
       " ('the', 0.013054001),\n",
       " ('be', 0.011199601),\n",
       " ('great', 0.010389214),\n",
       " ('place', 0.009433869),\n",
       " ('food', 0.008967895),\n",
       " ('come', 0.007817965),\n",
       " ('good', 0.0076900036),\n",
       " ('like', 0.0074591003),\n",
       " ('time', 0.0066083395)]"
      ]
     },
     "execution_count": 215,
     "metadata": {},
     "output_type": "execute_result"
    }
   ],
   "source": [
    "lda.show_topic(0, topn=10)"
   ]
  },
  {
   "cell_type": "markdown",
   "metadata": {},
   "source": [
    "Visualization"
   ]
  },
  {
   "cell_type": "code",
   "execution_count": 216,
   "metadata": {},
   "outputs": [
    {
     "name": "stderr",
     "output_type": "stream",
     "text": [
      "/Users/shiwang/anaconda3/lib/python3.6/site-packages/pyLDAvis/_prepare.py:257: FutureWarning: Sorting because non-concatenation axis is not aligned. A future version\n",
      "of pandas will change to not sort by default.\n",
      "\n",
      "To accept the future behavior, pass 'sort=True'.\n",
      "\n",
      "To retain the current behavior and silence the warning, pass sort=False\n",
      "\n",
      "  return pd.concat([default_term_info] + list(topic_dfs))\n"
     ]
    }
   ],
   "source": [
    "vis_data  = gensimvis.prepare(lda, corpus, dictionary)"
   ]
  },
  {
   "cell_type": "code",
   "execution_count": 217,
   "metadata": {},
   "outputs": [
    {
     "data": {
      "text/html": [
       "\n",
       "<link rel=\"stylesheet\" type=\"text/css\" href=\"https://cdn.rawgit.com/bmabey/pyLDAvis/files/ldavis.v1.0.0.css\">\n",
       "\n",
       "\n",
       "<div id=\"ldavis_el785871126417979608474337369\"></div>\n",
       "<script type=\"text/javascript\">\n",
       "\n",
       "var ldavis_el785871126417979608474337369_data = {\"mdsDat\": {\"x\": [-0.005655840930458591, -0.007011947822711139, -0.009722415928260477, -0.0033666534439850937, 0.025756858125415318], \"y\": [0.004773415655356973, 0.006076565807459411, 0.006833155938246951, -0.02031015682985261, 0.002627019428789275], \"topics\": [1, 2, 3, 4, 5], \"cluster\": [1, 1, 1, 1, 1], \"Freq\": [27.567779541015625, 26.197702407836914, 23.393877029418945, 13.78948974609375, 9.051151275634766]}, \"tinfo\": {\"Category\": [\"Default\", \"Default\", \"Default\", \"Default\", \"Default\", \"Default\", \"Default\", \"Default\", \"Default\", \"Default\", \"Default\", \"Default\", \"Default\", \"Default\", \"Default\", \"Default\", \"Default\", \"Default\", \"Default\", \"Default\", \"Default\", \"Default\", \"Default\", \"Default\", \"Default\", \"Default\", \"Default\", \"Default\", \"Default\", \"Default\", \"Topic1\", \"Topic1\", \"Topic1\", \"Topic1\", \"Topic1\", \"Topic1\", \"Topic1\", \"Topic1\", \"Topic1\", \"Topic1\", \"Topic1\", \"Topic1\", \"Topic1\", \"Topic1\", \"Topic1\", \"Topic1\", \"Topic1\", \"Topic1\", \"Topic1\", \"Topic1\", \"Topic1\", \"Topic1\", \"Topic1\", \"Topic1\", \"Topic1\", \"Topic1\", \"Topic1\", \"Topic1\", \"Topic1\", \"Topic1\", \"Topic1\", \"Topic1\", \"Topic1\", \"Topic1\", \"Topic1\", \"Topic1\", \"Topic1\", \"Topic1\", \"Topic1\", \"Topic1\", \"Topic1\", \"Topic1\", \"Topic1\", \"Topic1\", \"Topic1\", \"Topic1\", \"Topic1\", \"Topic1\", \"Topic1\", \"Topic1\", \"Topic1\", \"Topic1\", \"Topic1\", \"Topic1\", \"Topic1\", \"Topic1\", \"Topic1\", \"Topic1\", \"Topic1\", \"Topic1\", \"Topic1\", \"Topic1\", \"Topic1\", \"Topic1\", \"Topic1\", \"Topic1\", \"Topic1\", \"Topic1\", \"Topic1\", \"Topic1\", \"Topic1\", \"Topic1\", \"Topic1\", \"Topic1\", \"Topic1\", \"Topic1\", \"Topic1\", \"Topic1\", \"Topic1\", \"Topic1\", \"Topic1\", \"Topic1\", \"Topic1\", \"Topic1\", \"Topic1\", \"Topic1\", \"Topic1\", \"Topic2\", \"Topic2\", \"Topic2\", \"Topic2\", \"Topic2\", \"Topic2\", \"Topic2\", \"Topic2\", \"Topic2\", \"Topic2\", \"Topic2\", \"Topic2\", \"Topic2\", \"Topic2\", \"Topic2\", \"Topic2\", \"Topic2\", \"Topic2\", \"Topic2\", \"Topic2\", \"Topic2\", \"Topic2\", \"Topic2\", \"Topic2\", \"Topic2\", \"Topic2\", \"Topic2\", \"Topic2\", \"Topic2\", \"Topic2\", \"Topic2\", \"Topic2\", \"Topic2\", \"Topic2\", \"Topic2\", \"Topic2\", \"Topic2\", \"Topic2\", \"Topic2\", \"Topic2\", \"Topic2\", \"Topic2\", \"Topic2\", \"Topic2\", \"Topic2\", \"Topic2\", \"Topic2\", \"Topic2\", \"Topic2\", \"Topic2\", \"Topic2\", \"Topic2\", \"Topic2\", \"Topic2\", \"Topic2\", \"Topic2\", \"Topic2\", \"Topic2\", \"Topic2\", \"Topic2\", \"Topic2\", \"Topic2\", \"Topic2\", \"Topic2\", \"Topic2\", \"Topic2\", \"Topic2\", \"Topic2\", \"Topic2\", \"Topic2\", \"Topic2\", \"Topic2\", \"Topic2\", \"Topic2\", \"Topic2\", \"Topic2\", \"Topic2\", \"Topic2\", \"Topic2\", \"Topic2\", \"Topic2\", \"Topic2\", \"Topic2\", \"Topic2\", \"Topic2\", \"Topic2\", \"Topic2\", \"Topic2\", \"Topic2\", \"Topic2\", \"Topic2\", \"Topic3\", \"Topic3\", \"Topic3\", \"Topic3\", \"Topic3\", \"Topic3\", \"Topic3\", \"Topic3\", \"Topic3\", \"Topic3\", \"Topic3\", \"Topic3\", \"Topic3\", \"Topic3\", \"Topic3\", \"Topic3\", \"Topic3\", \"Topic3\", \"Topic3\", \"Topic3\", \"Topic3\", \"Topic3\", \"Topic3\", \"Topic3\", \"Topic3\", \"Topic3\", \"Topic3\", \"Topic3\", \"Topic3\", \"Topic3\", \"Topic3\", \"Topic3\", \"Topic3\", \"Topic3\", \"Topic3\", \"Topic3\", \"Topic3\", \"Topic3\", \"Topic3\", \"Topic3\", \"Topic3\", \"Topic3\", \"Topic3\", \"Topic3\", \"Topic3\", \"Topic3\", \"Topic3\", \"Topic3\", \"Topic3\", \"Topic3\", \"Topic3\", \"Topic3\", \"Topic3\", \"Topic3\", \"Topic3\", \"Topic3\", \"Topic3\", \"Topic3\", \"Topic3\", \"Topic3\", \"Topic3\", \"Topic3\", \"Topic3\", \"Topic3\", \"Topic3\", \"Topic3\", \"Topic3\", \"Topic3\", \"Topic3\", \"Topic3\", \"Topic3\", \"Topic3\", \"Topic3\", \"Topic3\", \"Topic3\", \"Topic3\", \"Topic3\", \"Topic3\", \"Topic3\", \"Topic3\", \"Topic3\", \"Topic3\", \"Topic4\", \"Topic4\", \"Topic4\", \"Topic4\", \"Topic4\", \"Topic4\", \"Topic4\", \"Topic4\", \"Topic4\", \"Topic4\", \"Topic4\", \"Topic4\", \"Topic4\", \"Topic4\", \"Topic4\", \"Topic4\", \"Topic4\", \"Topic4\", \"Topic4\", \"Topic4\", \"Topic4\", \"Topic4\", \"Topic4\", \"Topic4\", \"Topic4\", \"Topic4\", \"Topic4\", \"Topic4\", \"Topic4\", \"Topic4\", \"Topic4\", \"Topic4\", \"Topic4\", \"Topic4\", \"Topic4\", \"Topic4\", \"Topic4\", \"Topic4\", \"Topic4\", \"Topic4\", \"Topic4\", \"Topic4\", \"Topic4\", \"Topic4\", \"Topic4\", \"Topic4\", \"Topic4\", \"Topic4\", \"Topic4\", \"Topic4\", \"Topic4\", \"Topic4\", \"Topic4\", \"Topic4\", \"Topic4\", \"Topic4\", \"Topic4\", \"Topic4\", \"Topic4\", \"Topic4\", \"Topic4\", \"Topic4\", \"Topic4\", \"Topic4\", \"Topic4\", \"Topic4\", \"Topic4\", \"Topic4\", \"Topic4\", \"Topic4\", \"Topic4\", \"Topic4\", \"Topic4\", \"Topic4\", \"Topic4\", \"Topic4\", \"Topic4\", \"Topic4\", \"Topic4\", \"Topic4\", \"Topic4\", \"Topic5\", \"Topic5\", \"Topic5\", \"Topic5\", \"Topic5\", \"Topic5\", \"Topic5\", \"Topic5\", \"Topic5\", \"Topic5\", \"Topic5\", \"Topic5\", \"Topic5\", \"Topic5\", \"Topic5\", \"Topic5\", \"Topic5\", \"Topic5\", \"Topic5\", \"Topic5\", \"Topic5\", \"Topic5\", \"Topic5\", \"Topic5\", \"Topic5\", \"Topic5\", \"Topic5\", \"Topic5\", \"Topic5\", \"Topic5\", \"Topic5\", \"Topic5\", \"Topic5\", \"Topic5\", \"Topic5\", \"Topic5\", \"Topic5\", \"Topic5\", \"Topic5\", \"Topic5\", \"Topic5\", \"Topic5\", \"Topic5\", \"Topic5\", \"Topic5\", \"Topic5\", \"Topic5\", \"Topic5\", \"Topic5\", \"Topic5\", \"Topic5\", \"Topic5\", \"Topic5\", \"Topic5\", \"Topic5\", \"Topic5\", \"Topic5\", \"Topic5\", \"Topic5\", \"Topic5\", \"Topic5\", \"Topic5\", \"Topic5\", \"Topic5\", \"Topic5\", \"Topic5\", \"Topic5\", \"Topic5\", \"Topic5\", \"Topic5\", \"Topic5\", \"Topic5\", \"Topic5\", \"Topic5\", \"Topic5\", \"Topic5\", \"Topic5\", \"Topic5\", \"Topic5\", \"Topic5\", \"Topic5\", \"Topic5\", \"Topic5\", \"Topic5\", \"Topic5\", \"Topic5\"], \"Freq\": [4185.0, 11397.0, 4129.0, 9211.0, 2273.0, 2767.0, 3035.0, 8465.0, 2416.0, 2761.0, 570.0, 4672.0, 3087.0, 8139.0, 1442.0, 3754.0, 1001.0, 2186.0, 2516.0, 3828.0, 1143.0, 1041.0, 1343.0, 375.0, 1694.0, 1705.0, 1016.0, 1182.0, 1755.0, 849.0, 5.236104965209961, 3.5051326751708984, 2.719738483428955, 2.7186529636383057, 2.717498540878296, 2.7171621322631836, 2.7165939807891846, 2.7163026332855225, 3.345956563949585, 2.692430257797241, 4.61845064163208, 2.969059705734253, 3.216749668121338, 2.619680881500244, 2.616103410720825, 3.2672441005706787, 2.2998554706573486, 4.367478370666504, 2.5816338062286377, 3.7725369930267334, 2.5347859859466553, 2.203751802444458, 2.457122564315796, 4.221738338470459, 2.4629569053649902, 1.881047248840332, 1.8803598880767822, 1.880027413368225, 1.878690481185913, 1.8786181211471558, 5.847321033477783, 2.4848036766052246, 4.172264575958252, 3.9729413986206055, 2.7163286209106445, 7.929215431213379, 98.02606201171875, 9.249602317810059, 5.565830707550049, 2969.06640625, 1450.4302978515625, 176.93231201171875, 120.48268127441406, 1411.3348388671875, 1615.166748046875, 116.87104797363281, 1827.4185791015625, 1381.2294921875, 3277.25146484375, 940.134521484375, 511.91925048828125, 230.78829956054688, 848.5838623046875, 82.01012420654297, 501.0093994140625, 1175.237548828125, 174.9736785888672, 148.21633911132812, 140.84371948242188, 946.0067138671875, 276.36334228515625, 2413.05078125, 353.310302734375, 593.09912109375, 170.59864807128906, 664.55224609375, 550.3344116210938, 418.66156005859375, 355.63641357421875, 192.7366180419922, 819.174072265625, 2030.0675048828125, 351.503662109375, 1114.2955322265625, 473.9705810546875, 598.7744750976562, 510.0926208496094, 392.0457458496094, 678.1152954101562, 434.9241638183594, 614.5205688476562, 559.3392944335938, 440.62109375, 456.659912109375, 453.1910400390625, 516.15966796875, 442.8843078613281, 4.736532211303711, 3.9745001792907715, 2.8908116817474365, 2.890756368637085, 2.8907101154327393, 2.889110803604126, 2.8857641220092773, 2.820833206176758, 2.7219486236572266, 3.366863250732422, 2.6694555282592773, 4.942493915557861, 2.6688692569732666, 4.564896583557129, 2.3157689571380615, 1.9982694387435913, 1.9971754550933838, 1.9928606748580933, 2.593238592147827, 1.9894919395446777, 1.9858543872833252, 1.9810819625854492, 3.5354599952697754, 1.9560532569885254, 2.8662526607513428, 2.5444188117980957, 1.9121652841567993, 2.542262315750122, 3.0745420455932617, 2.2050912380218506, 9.744645118713379, 3.0342962741851807, 9.638762474060059, 7.287574291229248, 22.878313064575195, 11.585033416748047, 38.94846725463867, 474.5361633300781, 12.622461318969727, 472.6434631347656, 6.44114875793457, 4.92193078994751, 374.32916259765625, 163.236572265625, 379.1861572265625, 235.8179168701172, 511.97369384765625, 541.3606567382812, 137.75550842285156, 100.91077423095703, 400.44598388671875, 987.482177734375, 608.6695556640625, 2318.04248046875, 280.0334777832031, 2959.37451171875, 2162.7041015625, 2392.73828125, 115.274169921875, 153.44903564453125, 365.7504577636719, 126.24899291992188, 701.6344604492188, 1480.761474609375, 321.22412109375, 1248.546142578125, 716.4130249023438, 859.4334716796875, 319.38311767578125, 297.22509765625, 390.8360900878906, 357.07879638671875, 221.52952575683594, 500.0475158691406, 938.4254150390625, 371.0667419433594, 837.61572265625, 464.64276123046875, 869.4716186523438, 875.14013671875, 525.4973754882812, 653.1697387695312, 818.5985717773438, 416.75506591796875, 613.4566650390625, 519.7442016601562, 504.43878173828125, 535.818115234375, 452.933837890625, 433.5299987792969, 437.8907165527344, 2.749907970428467, 2.7498245239257812, 2.7497060298919678, 2.7490735054016113, 2.74883770942688, 2.7469425201416016, 2.6841962337493896, 3.308009147644043, 7.76218843460083, 4.854951858520508, 2.6528310775756836, 2.577348232269287, 2.890565872192383, 2.897108554840088, 2.269444227218628, 2.566337823867798, 4.4469428062438965, 4.323370456695557, 2.5091421604156494, 1.9014190435409546, 4.635509490966797, 1.9004147052764893, 1.9001580476760864, 1.8976988792419434, 3.071417808532715, 1.8807756900787354, 4.789199352264404, 1.8676656484603882, 2.1354293823242188, 2.4458119869232178, 8.199522972106934, 5.988559246063232, 4.05596399307251, 158.43450927734375, 18.610416412353516, 12.370087623596191, 7.457716941833496, 3.718846082687378, 366.3699951171875, 2772.131103515625, 2452.536376953125, 3130.40478515625, 606.9801635742188, 1234.567626953125, 301.7938537597656, 219.43975830078125, 919.8538208007812, 429.1817321777344, 483.21923828125, 400.61474609375, 18.94795799255371, 511.471923828125, 1030.3756103515625, 232.09359741210938, 207.21676635742188, 1782.9373779296875, 198.24710083007812, 93.24388885498047, 1297.1746826171875, 152.6435089111328, 528.1596069335938, 141.4319305419922, 452.13397216796875, 465.1024475097656, 158.4994659423828, 578.268310546875, 872.7421875, 348.38397216796875, 399.92156982421875, 259.4203186035156, 373.0813293457031, 447.9946594238281, 506.5616760253906, 738.9768676757812, 528.3582153320312, 596.8323974609375, 765.062744140625, 655.9741821289062, 540.7373046875, 437.28363037109375, 468.4078369140625, 410.88427734375, 2.1804707050323486, 2.1802620887756348, 2.1796767711639404, 3.7124674320220947, 2.6278493404388428, 2.864727020263672, 2.0542585849761963, 1.5083307027816772, 1.5080093145370483, 1.5079339742660522, 1.507585048675537, 1.5071556568145752, 1.5063574314117432, 1.978998064994812, 1.9615498781204224, 1.9583145380020142, 1.9623554944992065, 1.9587229490280151, 1.9465837478637695, 1.890897512435913, 2.316434383392334, 1.4283311367034912, 5.4916276931762695, 2.296956777572632, 3.188236951828003, 1.1715097427368164, 1.1714835166931152, 1.1714640855789185, 1.171393632888794, 1.1713846921920776, 2.7579634189605713, 1.8118155002593994, 17.38327407836914, 2.4011588096618652, 1.801335096359253, 8.462538719177246, 152.31320190429688, 3.3113367557525635, 3.1292195320129395, 177.74623107910156, 872.4434204101562, 188.6994171142578, 42.94890213012695, 488.35565185546875, 86.48397064208984, 65.72342681884766, 443.2157287597656, 216.78623962402344, 753.0869140625, 1217.272705078125, 626.384521484375, 233.07565307617188, 656.5205078125, 130.31515502929688, 460.9654235839844, 792.217529296875, 148.62942504882812, 554.941162109375, 125.91404724121094, 294.6258239746094, 277.5971984863281, 422.13812255859375, 240.14344787597656, 319.1551818847656, 436.8155517578125, 333.44580078125, 940.4963989257812, 1096.2213134765625, 308.5295715332031, 212.71331787109375, 184.00637817382812, 266.7498779296875, 645.7748413085938, 244.7150421142578, 249.6990203857422, 246.59597778320312, 254.2641143798828, 308.4925842285156, 261.0074768066406, 221.975341796875, 223.04107666015625, 2.071338176727295, 3.1357738971710205, 1.8836101293563843, 1.8336142301559448, 1.8726999759674072, 1.411736011505127, 1.8407906293869019, 1.379612922668457, 1.3797255754470825, 1.3500436544418335, 1.113389015197754, 1.1133111715316772, 1.1131556034088135, 1.1131598949432373, 1.1131324768066406, 1.113110065460205, 1.113072395324707, 1.1129488945007324, 1.1129474639892578, 1.1129082441329956, 1.1128814220428467, 1.112725019454956, 1.1126964092254639, 1.1126750707626343, 1.1125909090042114, 1.1125527620315552, 1.1125521659851074, 1.112536907196045, 1.1124815940856934, 1.1124587059020996, 4.174002647399902, 2.0270063877105713, 1.6747583150863647, 1.6630357503890991, 6.68048620223999, 156.9920654296875, 4.076599597930908, 2.0851378440856934, 1.8994882106781006, 3.411229133605957, 327.6113586425781, 533.3387451171875, 1.7481820583343506, 1.4319419860839844, 2.358660936355591, 372.1739807128906, 331.78173828125, 3.1158573627471924, 198.0093536376953, 1.5947555303573608, 934.6473388671875, 63.309696197509766, 138.63426208496094, 57.97077941894531, 693.3966674804688, 89.85011291503906, 279.00274658203125, 77.77182006835938, 245.28904724121094, 157.8526611328125, 142.82095336914062, 579.074462890625, 110.65576171875, 120.7929916381836, 212.40310668945312, 134.12921142578125, 123.65910339355469, 46.7548828125, 66.63871002197266, 169.80514526367188, 115.15180206298828, 101.97576904296875, 117.3056640625, 447.2507629394531, 227.3336944580078, 255.6627197265625, 290.7720642089844, 149.4304962158203, 243.2421875, 229.009765625, 215.8182373046875, 152.0206756591797, 147.18771362304688, 204.95516967773438, 129.2918701171875, 124.71278381347656], \"Term\": [\"come\", \"the\", \"great\", \"be\", \"$\", \"get\", \"go\", \"not\", \"love\", \"try\", \"car\", \"food\", \"have\", \"good\", \"thing\", \"time\", \"flavor\", \"nice\", \"service\", \"like\", \"friend\", \"right\", \"work\", \"dog\", \"this\", \"know\", \"enjoy\", \"dish\", \"look\", \"store\", \"lavonne\", \"chet\", \"mercbar\", \"marylin\", \"sohi\", \"paige\", \"kirk\", \"fsu\", \"mosquito\", \"bestbuy\", \"kaide\", \"bros\", \"yc\", \"stripmall\", \"beckers\", \"utah\", \"hunan\", \"worldmark\", \"jun\", \"adidas\", \"grandson\", \"prestige\", \"cornet\", \"tock\", \"ewc\", \"capo\", \"b&g\", \"peradise\", \"chk\", \"scorpion\", \"agedashi_tofu\", \"culvers\", \"babystacks\", \"popat\", \"participation\", \"ritz\", \"donut\", \"melanie\", \"yellow_curry\", \"good\", \"time\", \"choose\", \"le\", \"order\", \"food\", \"patio\", \"place\", \"come\", \"the\", \"try\", \"table\", \"all\", \"service\", \"vegetable\", \"need\", \"like\", \"hotel\", \"that\", \"receive\", \"go\", \"expect\", \"be\", \"fresh\", \"restaurant\", \"kid\", \"'s\", \"little\", \"small\", \"will\", \"selection\", \"get\", \"not\", \"taste\", \"great\", \"people\", \"want\", \"drink\", \"price\", \"love\", \"work\", \"nice\", \"think\", \"day\", \"this\", \"know\", \"have\", \"$\", \"kokopelli\", \"cathouse\", \"rula\", \"krush\", \"bula\", \"cancer\", \"karina\", \"whater\", \"mouldy\", \"godzilla\", \"scotyz\", \"dolphin\", \"rotis\", \"shatner\", \"groove\", \"ghorshi\", \"citi\", \"arti\", \"bellwood\", \"footing\", \"remodl\", \"mexicorn\", \"overjoyed\", \"slovenia\", \"saki\", \"horray\", \"ode\", \"deader\", \"jessa\", \"allen\", \"shabu\", \"winston\", \"bean_cheese\", \"okra\", \"brow\", \"trivium\", \"trail\", \"new\", \"souffle\", \"bar\", \"shrimp_wonton\", \"steelcoast\", \"check\", \"beautiful\", \"location\", \"tasty\", \"delicious\", \"ask\", \"group\", \"view\", \"take\", \"have\", \"eat\", \"not\", \"a\", \"the\", \"good\", \"be\", \"happy_hour\", \"girl\", \"chicken\", \"reservation\", \"$\", \"place\", \"salad\", \"food\", \"love\", \"go\", \"would\", \"leave\", \"experience\", \"lot\", \"make\", \"this\", \"like\", \"wait\", \"time\", \"find\", \"great\", \"come\", \"think\", \"get\", \"order\", \"day\", \"try\", \"nice\", \"'s\", \"service\", \"look\", \"little\", \"want\", \"fender\", \"arooni\", \"waymire\", \"lakeview\", \"jesi\", \"leah\", \"cars.com\", \"hakka\", \"halo\", \"andrea\", \"tawooq\", \"administrative\", \"24hrs\", \"pr\", \"chesse\", \"centric\", \"beansprout\", \"decompression\", \"denton\", \"stephan\", \"spiked\", \"miguel\", \"phong\", \"rck\", \"hays\", \"marilyn\", \"hot_fudge\", \"shelly\", \"holsteins\", \"swaddee\", \"cutlet\", \"congee\", \"burgh\", \"hair\", \"dental\", \"cotton_candy\", \"sweater\", \"na\", \"pizza\", \"be\", \"not\", \"the\", \"look\", \"order\", \"burger\", \"beer\", \"have\", \"tell\", \"ask\", \"say\", \"voucher\", \"eat\", \"great\", \"awesome\", \"actually\", \"good\", \"call\", \"class\", \"place\", \"steak\", \"want\", \"will_not\", \"find\", \"know\", \"worth\", \"$\", \"like\", \"way\", \"menu\", \"store\", \"need\", \"restaurant\", \"nice\", \"come\", \"service\", \"go\", \"food\", \"time\", \"get\", \"'s\", \"try\", \"think\", \"orthodontic\", \"cherie\", \"carla\", \"pierogi\", \"cobblestone\", \"hydrographic\", \"pozole\", \"zarkana\", \"cambozola\", \"nita\", \"clochette\", \"th\\u00e9s\", \"10a\", \"scotty\", \"bianca\", \"monga\", \"vroom\", \"larson\", \"-or\", \"vegeway\", \"moca\", \"butterfish\", \"ge\", \"review-\", \"chilean\", \"imperious\", \"individualise\", \"busybody\", \"locomoco\", \"verity\", \"infiniti\", \"conrad\", \"puppy\", \"vacuumed\", \"polaris\", \"brian\", \"dog\", \"discriminate\", \"-they\", \"large\", \"great\", \"friendly\", \"save\", \"service\", \"play\", \"appointment\", \"love\", \"flavor\", \"food\", \"not\", \"like\", \"friend\", \"come\", \"hour\", \"try\", \"place\", \"minute\", \"time\", \"car\", \"know\", \"drink\", \"get\", \"pretty\", \"think\", \"have\", \"nice\", \"be\", \"the\", \"'s\", \"experience\", \"enjoy\", \"restaurant\", \"good\", \"little\", \"eat\", \"look\", \"want\", \"order\", \"go\", \"this\", \"$\", \"vaccum\", \"nog\", \"thompsons\", \"mbg\", \"sunland\", \"raquel\", \"raft\", \"gaylord\", \"persia\", \"alicia\", \"shepherds\", \"gunpowder\", \"cottsdale\", \"wine-\", \"qobolla\", \"indefinitely\", \"toter\", \"quare\", \"kimbap\", \"ilke\", \"morissette\", \"emc\", \"deals!.\", \"sportsbar\", \"rylie\", \"loooooove\", \"fino\", \"vaz\", \"employe\", \"adequately\", \"liar\", \"pvc\", \"drivetime\", \"iq\", \"brake\", \"car\", \"stereo\", \"lvc\", \"mitch\", \"chicken_biryani\", \"$\", \"come\", \"nitro\", \"hyundai\", \"alyssa\", \"go\", \"get\", \"anna\", \"thing\", \"chamberlain\", \"the\", \"et\", \"flavor\", \"style\", \"be\", \"happy\", \"try\", \"sushi\", \"love\", \"work\", \"dish\", \"good\", \"store\", \"fresh\", \"nice\", \"wait\", \"right\", \"helpful\", \"spicy\", \"this\", \"staff\", \"lunch\", \"lot\", \"not\", \"have\", \"time\", \"food\", \"find\", \"great\", \"order\", \"like\", \"'s\", \"think\", \"place\", \"know\", \"little\"], \"Total\": [4185.0, 11397.0, 4129.0, 9211.0, 2273.0, 2767.0, 3035.0, 8465.0, 2416.0, 2761.0, 570.0, 4672.0, 3087.0, 8139.0, 1442.0, 3754.0, 1001.0, 2186.0, 2516.0, 3828.0, 1143.0, 1041.0, 1343.0, 375.0, 1694.0, 1705.0, 1016.0, 1182.0, 1755.0, 849.0, 5.974679470062256, 4.295901775360107, 3.4551377296447754, 3.4550960063934326, 3.4547436237335205, 3.4548215866088867, 3.4548094272613525, 3.4548532962799072, 4.263938903808594, 3.4553864002227783, 5.982263088226318, 3.8769233226776123, 4.213441848754883, 3.438850164413452, 3.434509754180908, 4.298499584197998, 3.035111904144287, 5.7683024406433105, 3.4637210369110107, 5.1200480461120605, 3.443389654159546, 3.0195159912109375, 3.4014711380004883, 5.8500494956970215, 3.414187431335449, 2.615114212036133, 2.615062952041626, 2.615025043487549, 2.6149144172668457, 2.6149179935455322, 8.201047897338867, 3.4700398445129395, 5.926581859588623, 5.674055576324463, 3.8337018489837646, 11.748255729675293, 171.17127990722656, 13.925427436828613, 8.178922653198242, 8139.5576171875, 3754.6240234375, 375.96075439453125, 246.80352783203125, 4002.00341796875, 4672.63427734375, 246.95787048339844, 5602.52734375, 4185.20556640625, 11397.900390625, 2761.967041015625, 1377.0283203125, 554.5264282226562, 2516.042236328125, 172.46409606933594, 1395.1387939453125, 3828.60791015625, 420.0999450683594, 348.7999572753906, 330.79693603515625, 3035.4541015625, 728.3323974609375, 9211.8125, 980.2110595703125, 1803.1917724609375, 416.4052734375, 2066.824951171875, 1658.7891845703125, 1203.4080810546875, 1001.4636840820312, 481.9754638671875, 2767.0009765625, 8465.169921875, 998.0968627929688, 4129.828125, 1437.5106201171875, 1926.2374267578125, 1580.19677734375, 1146.0958251953125, 2416.88037109375, 1343.2752685546875, 2186.67529296875, 1962.0638427734375, 1409.939208984375, 1694.5665283203125, 1705.156005859375, 3087.644775390625, 2273.439453125, 5.82153844833374, 4.924088001251221, 3.6122891902923584, 3.6122708320617676, 3.612285614013672, 3.612025022506714, 3.6115007400512695, 3.608088970184326, 3.564521074295044, 4.426602363586426, 3.5496771335601807, 6.602467060089111, 3.5858945846557617, 6.155325889587402, 3.132511615753174, 2.719790458679199, 2.7195892333984375, 2.719416856765747, 3.5411083698272705, 2.7173712253570557, 2.7186384201049805, 2.7189619541168213, 4.864779472351074, 2.7094340324401855, 3.986300468444824, 3.542722225189209, 2.7027390003204346, 3.5953493118286133, 4.361369609832764, 3.1284871101379395, 14.003030776977539, 4.322554588317871, 14.413164138793945, 10.937853813171387, 37.436458587646484, 18.116470336914062, 68.59237670898438, 1060.146484375, 20.298126220703125, 1094.185302734375, 9.890097618103027, 7.3664093017578125, 919.2709350585938, 372.518798828125, 978.94873046875, 580.0075073242188, 1399.958984375, 1503.8631591796875, 318.30572509765625, 224.09307861328125, 1093.16064453125, 3087.644775390625, 1775.389404296875, 8465.169921875, 733.9844970703125, 11397.900390625, 8139.5576171875, 9211.8125, 263.9670715332031, 370.5069580078125, 1047.621337890625, 300.0696716308594, 2273.439453125, 5602.52734375, 918.0993041992188, 4672.63427734375, 2416.88037109375, 3035.4541015625, 921.2850341796875, 861.95751953125, 1218.893798828125, 1095.268798828125, 601.1297607421875, 1694.5665283203125, 3828.60791015625, 1165.13525390625, 3754.6240234375, 1632.3919677734375, 4129.828125, 4185.20556640625, 1962.0638427734375, 2767.0009765625, 4002.00341796875, 1409.939208984375, 2761.967041015625, 2186.67529296875, 2066.824951171875, 2516.042236328125, 1755.43701171875, 1658.7891845703125, 1926.2374267578125, 3.4822275638580322, 3.482234239578247, 3.482227325439453, 3.482151508331299, 3.482051372528076, 3.4819462299346924, 3.4815382957458496, 4.3205485343933105, 10.157084465026855, 6.358742713928223, 3.48714280128479, 3.439722776412964, 3.8683888912200928, 3.8906819820404053, 3.056967258453369, 3.4601216316223145, 6.0137529373168945, 5.849009990692139, 3.4509897232055664, 2.633155584335327, 6.420900821685791, 2.6330416202545166, 2.633030652999878, 2.632758140563965, 4.277986526489258, 2.632774829864502, 6.7244343757629395, 2.6327462196350098, 3.030036211013794, 3.472653388977051, 11.7405424118042, 8.762314796447754, 6.002206802368164, 312.3910827636719, 31.540441513061523, 20.38911247253418, 11.781854629516602, 5.485729217529297, 947.5953979492188, 9211.8125, 8465.169921875, 11397.900390625, 1755.43701171875, 4002.00341796875, 799.4203491210938, 581.4632568359375, 3087.644775390625, 1289.7652587890625, 1503.8631591796875, 1249.716796875, 34.66147232055664, 1775.389404296875, 4129.828125, 688.6307373046875, 603.0245361328125, 8139.5576171875, 579.550048828125, 234.62628173828125, 5602.52734375, 427.7499694824219, 1926.2374267578125, 394.4427185058594, 1632.3919677734375, 1705.156005859375, 459.04833984375, 2273.439453125, 3828.60791015625, 1225.083251953125, 1463.749267578125, 849.4053955078125, 1395.1387939453125, 1803.1917724609375, 2186.67529296875, 4185.20556640625, 2516.042236328125, 3035.4541015625, 4672.63427734375, 3754.6240234375, 2767.0009765625, 2066.824951171875, 2761.967041015625, 1962.0638427734375, 2.9559082984924316, 2.9559786319732666, 2.9560317993164062, 5.103859901428223, 3.676534652709961, 4.048760890960693, 2.988632917404175, 2.2820911407470703, 2.282132148742676, 2.282151937484741, 2.2822256088256836, 2.2823736667633057, 2.282435894012451, 3.008114814758301, 3.0130350589752197, 3.0168850421905518, 3.026501417160034, 3.0276832580566406, 3.027775764465332, 3.0306038856506348, 3.7237164974212646, 2.302947759628296, 8.926875114440918, 3.7702252864837646, 5.24871826171875, 1.945318579673767, 1.9453396797180176, 1.9453349113464355, 1.9453500509262085, 1.9453421831130981, 4.5942702293396, 3.051898717880249, 32.50193405151367, 4.114017486572266, 3.0529074668884277, 16.19172477722168, 375.0101318359375, 5.914669036865234, 5.584599018096924, 628.5555419921875, 4129.828125, 738.7673950195312, 128.40060424804688, 2516.042236328125, 312.4853210449219, 225.5847930908203, 2416.88037109375, 1001.520751953125, 4672.63427734375, 8465.169921875, 3828.60791015625, 1143.6376953125, 4185.20556640625, 566.200927734375, 2761.967041015625, 5602.52734375, 695.8319702148438, 3754.6240234375, 570.9927368164062, 1705.156005859375, 1580.19677734375, 2767.0009765625, 1346.5595703125, 1962.0638427734375, 3087.644775390625, 2186.67529296875, 9211.8125, 11397.900390625, 2066.824951171875, 1218.893798828125, 1016.4851684570312, 1803.1917724609375, 8139.5576171875, 1658.7891845703125, 1775.389404296875, 1755.43701171875, 1926.2374267578125, 4002.00341796875, 3035.4541015625, 1694.5665283203125, 2273.439453125, 2.856102705001831, 4.553572654724121, 2.930419921875, 2.868105888366699, 2.934722900390625, 2.222402811050415, 2.9309802055358887, 2.2321619987487793, 2.236072540283203, 2.2414090633392334, 1.8952796459197998, 1.895311713218689, 1.895328402519226, 1.8953365087509155, 1.8953641653060913, 1.8953661918640137, 1.8953675031661987, 1.8953986167907715, 1.8954145908355713, 1.8954218626022339, 1.8954169750213623, 1.8954657316207886, 1.895477294921875, 1.8954707384109497, 1.8954973220825195, 1.8954886198043823, 1.8955068588256836, 1.8955169916152954, 1.8955098390579224, 1.8955247402191162, 8.04224967956543, 3.677578926086426, 2.980104446411133, 2.9837963581085205, 14.744281768798828, 570.9927368164062, 9.026118278503418, 4.046167373657227, 3.6156859397888184, 7.491851806640625, 2273.439453125, 4185.20556640625, 3.3194453716278076, 2.593036413192749, 4.889619827270508, 3035.4541015625, 2767.0009765625, 7.000732421875, 1442.077880859375, 2.9928231239318848, 11397.900390625, 348.1421813964844, 1001.520751953125, 328.00836181640625, 9211.8125, 606.4867553710938, 2761.967041015625, 506.4621276855469, 2416.88037109375, 1343.2752685546875, 1182.431396484375, 8139.5576171875, 849.4053955078125, 980.2110595703125, 2186.67529296875, 1165.13525390625, 1041.951171875, 269.85162353515625, 448.6103210449219, 1694.5665283203125, 984.0469970703125, 845.2404174804688, 1095.268798828125, 8465.169921875, 3087.644775390625, 3754.6240234375, 4672.63427734375, 1632.3919677734375, 4129.828125, 4002.00341796875, 3828.60791015625, 2066.824951171875, 1962.0638427734375, 5602.52734375, 1705.156005859375, 1658.7891845703125], \"loglift\": [30.0, 29.0, 28.0, 27.0, 26.0, 25.0, 24.0, 23.0, 22.0, 21.0, 20.0, 19.0, 18.0, 17.0, 16.0, 15.0, 14.0, 13.0, 12.0, 11.0, 10.0, 9.0, 8.0, 7.0, 6.0, 5.0, 4.0, 3.0, 2.0, 1.0, 1.156599998474121, 1.0851000547409058, 1.0492000579833984, 1.048799991607666, 1.0484999418258667, 1.04830002784729, 1.0480999946594238, 1.0479999780654907, 1.0461000204086304, 1.0390000343322754, 1.0298000574111938, 1.0217000246047974, 1.0185999870300293, 1.0163999795913696, 1.0162999629974365, 1.01419997215271, 1.0111000537872314, 1.0103000402450562, 0.9945999979972839, 0.9830999970436096, 0.982200026512146, 0.9735999703407288, 0.9632999897003174, 0.9623000025749207, 0.961899995803833, 0.9589999914169312, 0.9587000012397766, 0.9585000276565552, 0.9578999876976013, 0.9577999711036682, 0.9502000212669373, 0.9545999765396118, 0.9375, 0.9320999979972839, 0.9440000057220459, 0.8953999876976013, 0.7311000227928162, 0.8794000148773193, 0.9035999774932861, 0.2800000011920929, 0.33739998936653137, 0.5347999930381775, 0.571399986743927, 0.24629999697208405, 0.22619999945163727, 0.5404000282287598, 0.16820000112056732, 0.17990000545978546, 0.042100001126527786, 0.21080000698566437, 0.29899999499320984, 0.41190001368522644, 0.20160000026226044, 0.545199990272522, 0.26440000534057617, 0.10750000178813934, 0.41269999742507935, 0.4327000081539154, 0.43470001220703125, 0.12269999831914902, 0.31949999928474426, -0.051100000739097595, 0.26809999346733093, 0.17659999430179596, 0.3962000012397766, 0.15389999747276306, 0.18520000576972961, 0.23270000517368317, 0.2531999945640564, 0.3720000088214874, 0.07129999995231628, -0.13940000534057617, 0.24490000307559967, -0.0215000007301569, 0.17900000512599945, 0.1200999990105629, 0.15780000388622284, 0.21580000221729279, 0.01759999990463257, 0.1607999950647354, 0.019200000911951065, 0.03350000083446503, 0.12540000677108765, -0.022700000554323196, -0.03660000115633011, -0.5001999735832214, -0.3472000062465668, 1.1332000494003296, 1.1253000497817993, 1.1167000532150269, 1.1167000532150269, 1.1167000532150269, 1.1161999702453613, 1.1152000427246094, 1.093400001525879, 1.0698000192642212, 1.0657999515533447, 1.0544999837875366, 1.0499000549316406, 1.044100046157837, 1.0405999422073364, 1.0374000072479248, 1.0312000513076782, 1.0307999849319458, 1.0286999940872192, 1.027999997138977, 1.0276999473571777, 1.0254000425338745, 1.0228999853134155, 1.020300030708313, 1.013700008392334, 1.009600043296814, 1.0084999799728394, 0.9934999942779541, 0.992900013923645, 0.9898999929428101, 0.9897000193595886, 0.9768999814987183, 0.9855999946594238, 0.9370999932289124, 0.9333999752998352, 0.847000002861023, 0.8924000263214111, 0.7735999822616577, 0.5357000231742859, 0.8644000291824341, 0.5001000165939331, 0.9107000231742859, 0.9362999796867371, 0.44110000133514404, 0.5144000053405762, 0.39100000262260437, 0.43950000405311584, 0.3336000144481659, 0.31779998540878296, 0.5019999742507935, 0.541700005531311, 0.3352000117301941, 0.19949999451637268, 0.26899999380111694, 0.04430000111460686, 0.375900000333786, -0.008999999612569809, 0.014100000262260437, -0.008500000461935997, 0.5109999775886536, 0.4580000042915344, 0.287200003862381, 0.47369998693466187, 0.1639000028371811, 0.008799999952316284, 0.28929999470710754, 0.01979999989271164, 0.12349999696016312, 0.07769999653100967, 0.2800999879837036, 0.27480000257492065, 0.2020999938249588, 0.21870000660419464, 0.34119999408721924, 0.11900000274181366, -0.066600002348423, 0.19529999792575836, -0.1606999933719635, 0.08299999684095383, -0.21860000491142273, -0.22540000081062317, 0.022099999710917473, -0.10419999808073044, -0.2475000023841858, 0.12070000171661377, -0.16509999334812164, -0.09730000048875809, -0.07079999893903732, -0.2071000039577484, -0.015200000256299973, -0.002400000113993883, -0.14190000295639038, 1.216599941253662, 1.216599941253662, 1.2165000438690186, 1.2163000106811523, 1.2163000106811523, 1.2156000137329102, 1.1926000118255615, 1.1857000589370728, 1.1837999820709229, 1.1828999519348145, 1.1792000532150269, 1.1641000509262085, 1.1612999439239502, 1.1577999591827393, 1.1548000574111938, 1.1539000272750854, 1.1509000062942505, 1.1505000591278076, 1.1339999437332153, 1.1270999908447266, 1.1268999576568604, 1.1266000270843506, 1.1265000104904175, 1.1253000497817993, 1.121399998664856, 1.1162999868392944, 1.1132999658584595, 1.1094000339508057, 1.1028000116348267, 1.1022000312805176, 1.0937000513076782, 1.072100043296814, 1.0607999563217163, 0.7738000154495239, 0.9251000285148621, 0.953000009059906, 0.9954000115394592, 1.0640000104904175, 0.5023999810218811, 0.251800000667572, 0.21389999985694885, 0.16040000319480896, 0.39070001244544983, 0.2766000032424927, 0.47859999537467957, 0.4781999886035919, 0.24169999361038208, 0.352400004863739, 0.3174000084400177, 0.3149999976158142, 0.848800003528595, 0.20819999277591705, 0.06440000236034393, 0.3650999963283539, 0.38449999690055847, -0.0658000037074089, 0.3799999952316284, 0.5299000144004822, -0.010300000198185444, 0.4223000109195709, 0.15880000591278076, 0.4269999861717224, 0.1688999980688095, 0.1535000056028366, 0.38929998874664307, 0.08370000123977661, -0.02590000070631504, 0.19519999623298645, 0.15520000457763672, 0.26660001277923584, 0.13369999825954437, 0.06019999831914902, -0.009800000116229057, -0.28130000829696655, -0.1080000028014183, -0.1738000065088272, -0.35679998993873596, -0.29190000891685486, -0.17990000545978546, -0.10050000250339508, -0.32170000672340393, -0.11069999635219574, 1.6770000457763672, 1.676900029182434, 1.6765999794006348, 1.6629999876022339, 1.6454999446868896, 1.6353000402450562, 1.6064000129699707, 1.567199945449829, 1.5669000148773193, 1.5669000148773193, 1.56659996509552, 1.5663000345230103, 1.5657000541687012, 1.5625, 1.5520999431610107, 1.5491000413894653, 1.5479999780654907, 1.545799970626831, 1.5394999980926514, 1.509600043296814, 1.506600022315979, 1.503600001335144, 1.4953999519348145, 1.485700011253357, 1.482699990272522, 1.4740999937057495, 1.4740999937057495, 1.4740999937057495, 1.4739999771118164, 1.4739999771118164, 1.470900058746338, 1.4598000049591064, 1.3554999828338623, 1.4428000450134277, 1.4536999464035034, 1.3323999643325806, 1.080199956893921, 1.4012000560760498, 1.4019999504089355, 0.7182000279426575, 0.42660000920295715, 0.6164000034332275, 0.8860999941825867, 0.3418999910354614, 0.6966999769210815, 0.7480000257492065, 0.2851000130176544, 0.45089998841285706, 0.15600000321865082, 0.04190000146627426, 0.17100000381469727, 0.39070001244544983, 0.12890000641345978, 0.5123000144958496, 0.19089999794960022, 0.025100000202655792, 0.4375999867916107, 0.06939999759197235, 0.46950000524520874, 0.225600004196167, 0.24210000038146973, 0.10109999775886536, 0.2572000026702881, 0.16519999504089355, 0.025599999353289604, 0.1005999967455864, -0.30059999227523804, -0.3603000044822693, 0.07930000126361847, 0.23549999296665192, 0.2721000015735626, 0.07029999792575836, -0.5527999997138977, 0.06750000268220901, 0.019700000062584877, 0.01850000023841858, -0.043699998408555984, -0.58160001039505, -0.4722999930381775, -0.05139999836683273, -0.34040001034736633, 2.0810000896453857, 2.0292000770568848, 1.9602999687194824, 1.9549000263214111, 1.9529999494552612, 1.9485000371932983, 1.9371000528335571, 1.9211000204086304, 1.9193999767303467, 1.895300030708313, 1.870300054550171, 1.8702000379562378, 1.8701000213623047, 1.8701000213623047, 1.8700000047683716, 1.8700000047683716, 1.8700000047683716, 1.8698999881744385, 1.8698999881744385, 1.8697999715805054, 1.8697999715805054, 1.8696000576019287, 1.8696000576019287, 1.8696000576019287, 1.8695000410079956, 1.8695000410079956, 1.8694000244140625, 1.8694000244140625, 1.8694000244140625, 1.8694000244140625, 1.746399998664856, 1.8065999746322632, 1.8259999752044678, 1.8177000284194946, 1.6105999946594238, 1.1110999584197998, 1.6073999404907227, 1.739300012588501, 1.7585999965667725, 1.6154999732971191, 0.4650999903678894, 0.34209999442100525, 1.7611000537872314, 1.808500051498413, 1.67330002784729, 0.3034999966621399, 0.28119999170303345, 1.5928000211715698, 0.41679999232292175, 1.7727999687194824, -0.09870000183582306, 0.697700023651123, 0.42480000853538513, 0.6692000031471252, -0.18440000712871552, 0.4927000105381012, 0.10980000346899033, 0.5285999774932861, 0.1145000010728836, 0.26109999418258667, 0.28850001096725464, -0.24079999327659607, 0.36419999599456787, 0.3086000084877014, 0.0706000030040741, 0.24050000309944153, 0.2709999978542328, 0.6492999792098999, 0.49540001153945923, 0.10170000046491623, 0.25690001249313354, 0.2874000072479248, 0.16830000281333923, -0.5382999777793884, -0.20649999380111694, -0.28459998965263367, -0.37470000982284546, 0.011300000362098217, -0.42969998717308044, -0.4584999978542328, -0.47350001335144043, -0.20749999582767487, -0.18780000507831573, -0.9059000015258789, -0.17710000276565552, -0.18559999763965607], \"logprob\": [30.0, 29.0, 28.0, 27.0, 26.0, 25.0, 24.0, 23.0, 22.0, 21.0, 20.0, 19.0, 18.0, 17.0, 16.0, 15.0, 14.0, 13.0, 12.0, 11.0, 10.0, 9.0, 8.0, 7.0, 6.0, 5.0, 4.0, 3.0, 2.0, 1.0, -10.375399589538574, -10.776800155639648, -11.030500411987305, -11.030900001525879, -11.031299591064453, -11.031399726867676, -11.031599998474121, -11.031800270080566, -10.8233003616333, -11.040599822998047, -10.50100040435791, -10.94279956817627, -10.862700462341309, -11.067999839782715, -11.069299697875977, -10.847100257873535, -11.198200225830078, -10.55679988861084, -11.082599639892578, -10.703300476074219, -11.100899696350098, -11.240900039672852, -11.131999969482422, -10.590800285339355, -11.12969970703125, -11.399200439453125, -11.3996000289917, -11.399700164794922, -11.400500297546387, -11.400500297546387, -10.265000343322754, -11.120800018310547, -10.60260009765625, -10.65149974822998, -11.031700134277344, -9.96049976348877, -7.445799827575684, -9.806400299072266, -10.314399719238281, -4.034999847412109, -4.751399993896484, -6.855299949645996, -7.239500045776367, -4.77869987487793, -4.643799781799316, -7.269999980926514, -4.520400047302246, -4.800300121307373, -3.936300039291382, -5.184999942779541, -5.792900085449219, -6.5894999504089355, -5.287499904632568, -7.624199867248535, -5.8144001960754395, -4.9618000984191895, -6.866399765014648, -7.032400131225586, -7.083399772644043, -5.178800106048584, -6.409299850463867, -4.242400169372559, -6.163700103759766, -5.645699977874756, -6.89169979095459, -5.531899929046631, -5.7204999923706055, -5.99399995803833, -6.157100200653076, -6.769700050354004, -5.322700023651123, -4.415200233459473, -6.168799877166748, -5.014999866485596, -5.869900226593018, -5.636099815368652, -5.79640007019043, -6.059599876403809, -5.51170015335083, -5.955900192260742, -5.610199928283691, -5.7042999267578125, -5.942800045013428, -5.907100200653076, -5.914700031280518, -5.784599781036377, -5.937699794769287, -10.424699783325195, -10.600199699401855, -10.918499946594238, -10.918499946594238, -10.918499946594238, -10.919099807739258, -10.920299530029297, -10.942999839782715, -10.978699684143066, -10.76609992980957, -10.998200416564941, -10.382200241088867, -10.99839973449707, -10.461700439453125, -11.140299797058105, -11.287799835205078, -11.288299560546875, -11.290499687194824, -11.027099609375, -11.292200088500977, -11.293999671936035, -11.29640007019043, -10.71720027923584, -11.309100151062012, -10.927000045776367, -11.046099662780762, -11.33180046081543, -11.04699993133545, -10.856900215148926, -11.189299583435059, -9.703300476074219, -10.870100021362305, -9.714300155639648, -9.993900299072266, -8.849900245666504, -9.53030014038086, -8.31779956817627, -5.817699909210205, -9.444600105285645, -5.821700096130371, -10.117300033569336, -10.386300086975098, -6.054900169372559, -6.884799957275391, -6.041999816894531, -6.517000198364258, -5.741799831390381, -5.685999870300293, -7.054599761962891, -7.365799903869629, -5.987500190734863, -5.08489990234375, -5.56879997253418, -4.231599807739258, -6.345099925994873, -3.987299919128418, -4.300899982452393, -4.199900150299072, -7.232699871063232, -6.946700096130371, -6.078100204467773, -7.1417999267578125, -5.426599979400635, -4.679699897766113, -6.207900047302246, -4.850299835205078, -5.405799865722656, -5.223800182342529, -6.213699817657471, -6.285600185394287, -6.0117998123168945, -6.102099895477295, -6.579500198364258, -5.7652997970581055, -5.135799884796143, -6.063700199127197, -5.249499797821045, -5.838799953460693, -5.212200164794922, -5.205699920654297, -5.715700149536133, -5.498199939727783, -5.272500038146973, -5.9475998878479, -5.5609002113342285, -5.7266998291015625, -5.7565999031066895, -5.696300029754639, -5.864299774169922, -5.908100128173828, -5.898099899291992, -10.855299949645996, -10.855299949645996, -10.855400085449219, -10.855600357055664, -10.85569953918457, -10.856399536132812, -10.879500389099121, -10.670499801635742, -9.81760025024414, -10.28689956665039, -10.891200065612793, -10.920100212097168, -10.805399894714355, -10.803099632263184, -11.047300338745117, -10.924400329589844, -10.374600410461426, -10.402799606323242, -10.946900367736816, -11.224300384521484, -10.333100318908691, -11.224800109863281, -11.224900245666504, -11.226200103759766, -10.74470043182373, -11.235199928283691, -10.30049991607666, -11.242199897766113, -11.108200073242188, -10.97249984741211, -9.762800216674805, -10.07699966430664, -10.466699600219727, -6.801499843597412, -8.943099975585938, -9.35159969329834, -9.857600212097168, -10.553400039672852, -5.963200092315674, -3.939500093460083, -4.061999797821045, -3.8178999423980713, -5.458399772644043, -4.7484002113342285, -6.157100200653076, -6.475800037384033, -5.042600154876709, -5.804999828338623, -5.686399936676025, -5.873899936676025, -8.925200462341309, -5.6296000480651855, -4.929200172424316, -6.4197001457214355, -6.533100128173828, -4.380799770355225, -6.577300071716309, -7.331600189208984, -4.69890022277832, -6.838699817657471, -5.597499847412109, -6.914999961853027, -5.752900123596191, -5.724599838256836, -6.80109977722168, -5.506800174713135, -5.095200061798096, -6.013500213623047, -5.8755998611450195, -6.3084001541137695, -5.945099830627441, -5.7621002197265625, -5.639200210571289, -5.261600017547607, -5.597099781036377, -5.475200176239014, -5.226900100708008, -5.38070011138916, -5.57390022277832, -5.786300182342529, -5.71750020980835, -5.848499774932861, -10.558699607849121, -10.558799743652344, -10.559100151062012, -10.026599884033203, -10.372099876403809, -10.285799980163574, -10.618399620056152, -10.927300453186035, -10.927499771118164, -10.927499771118164, -10.927800178527832, -10.928099632263184, -10.928600311279297, -10.655699729919434, -10.664600372314453, -10.666199684143066, -10.66409969329834, -10.666000366210938, -10.672200202941895, -10.701199531555176, -10.498299598693848, -10.981800079345703, -9.635100364685059, -10.506699562072754, -10.178799629211426, -11.180000305175781, -11.180000305175781, -11.180000305175781, -11.180100440979004, -11.180100440979004, -10.323800086975098, -10.744000434875488, -8.482799530029297, -10.462300300598145, -10.749799728393555, -9.20259952545166, -6.312300205230713, -10.140899658203125, -10.197500228881836, -6.157899856567383, -4.566999912261963, -6.098100185394287, -7.5782999992370605, -5.147200107574463, -6.878300189971924, -7.1528000831604, -5.244200229644775, -5.959400177001953, -4.714099884033203, -4.23390007019043, -4.8983001708984375, -5.886899948120117, -4.85129976272583, -6.468299865722656, -5.204999923706055, -4.663400173187256, -6.3368000984191895, -5.019400119781494, -6.502699851989746, -5.652599811553955, -5.712100028991699, -5.293000221252441, -5.85699987411499, -5.5725998878479, -5.258800029754639, -5.528800010681152, -4.4918999671936035, -4.338699817657471, -5.606500148773193, -5.978300094604492, -6.123300075531006, -5.751999855041504, -4.867800235748291, -5.838200092315674, -5.817999839782715, -5.83050012588501, -5.799900054931641, -5.606599807739258, -5.77370023727417, -5.935699939727783, -5.9309000968933105, -10.18910026550293, -9.774399757385254, -10.284099578857422, -10.310999870300293, -10.289899826049805, -10.572400093078613, -10.307100296020508, -10.595499992370605, -10.595399856567383, -10.61709976196289, -10.809900283813477, -10.809900283813477, -10.810099601745605, -10.810099601745605, -10.810099601745605, -10.810099601745605, -10.810099601745605, -10.81029987335205, -10.81029987335205, -10.81029987335205, -10.81029987335205, -10.810500144958496, -10.810500144958496, -10.810500144958496, -10.810600280761719, -10.810600280761719, -10.810600280761719, -10.810600280761719, -10.810700416564941, -10.810700416564941, -9.48840045928955, -10.210700035095215, -10.401599884033203, -10.408599853515625, -9.018099784851074, -5.861100196838379, -9.51200008392334, -10.18239974975586, -10.275699615478516, -9.690199851989746, -5.125400066375732, -4.6381001472473145, -10.358699798583984, -10.558199882507324, -10.059200286865234, -4.997900009155273, -5.112800121307373, -9.780799865722656, -5.629000186920166, -10.450599670410156, -4.077099800109863, -6.769199848175049, -5.985400199890137, -6.8572998046875, -4.375699996948242, -6.419099807739258, -5.285999774932861, -6.563499927520752, -5.41480016708374, -5.855599880218506, -5.955699920654297, -4.555799961090088, -6.2108001708984375, -6.123199939727783, -5.558800220489502, -6.018499851226807, -6.099699974060059, -7.072400093078613, -6.7179999351501465, -5.782599925994873, -6.171000003814697, -6.292500019073486, -6.152500152587891, -4.814199924468994, -5.490900039672852, -5.3734002113342285, -5.244699954986572, -5.910399913787842, -5.4232001304626465, -5.483500003814697, -5.542799949645996, -5.8933000564575195, -5.925600051879883, -5.5945000648498535, -6.055200099945068, -6.091300010681152]}, \"token.table\": {\"Topic\": [1, 2, 3, 4, 5, 1, 2, 3, 4, 5, 4, 1, 2, 4, 5, 4, 3, 1, 2, 3, 4, 5, 1, 2, 3, 4, 5, 5, 1, 3, 3, 1, 4, 5, 5, 1, 2, 3, 4, 5, 2, 1, 3, 5, 3, 3, 4, 5, 1, 2, 3, 4, 5, 3, 2, 1, 2, 3, 4, 5, 1, 2, 3, 4, 5, 1, 1, 2, 3, 1, 2, 3, 4, 5, 1, 2, 3, 4, 5, 1, 2, 3, 4, 5, 1, 2, 3, 1, 2, 3, 4, 5, 1, 1, 2, 3, 4, 5, 2, 1, 4, 1, 2, 3, 4, 5, 1, 2, 3, 4, 5, 1, 1, 2, 3, 4, 5, 2, 1, 2, 3, 4, 5, 2, 3, 4, 4, 1, 2, 3, 4, 5, 4, 2, 1, 1, 2, 3, 4, 5, 4, 3, 2, 3, 1, 5, 1, 2, 3, 4, 5, 4, 3, 1, 1, 2, 3, 4, 5, 1, 2, 4, 5, 1, 2, 4, 1, 1, 2, 3, 4, 5, 2, 1, 2, 3, 4, 5, 4, 4, 1, 2, 3, 4, 5, 1, 2, 3, 5, 3, 4, 1, 1, 2, 3, 4, 5, 5, 1, 1, 2, 3, 4, 1, 2, 3, 4, 5, 2, 3, 5, 3, 4, 1, 2, 3, 4, 5, 1, 2, 3, 4, 5, 3, 1, 3, 4, 5, 1, 2, 3, 4, 5, 1, 2, 3, 4, 5, 1, 2, 1, 2, 3, 4, 5, 1, 2, 3, 4, 5, 1, 5, 1, 2, 3, 4, 5, 5, 5, 1, 2, 3, 4, 5, 1, 2, 3, 4, 5, 1, 1, 2, 3, 4, 5, 1, 2, 3, 4, 5, 3, 1, 2, 3, 4, 5, 5, 1, 2, 3, 4, 5, 1, 2, 3, 4, 5, 2, 1, 2, 3, 4, 5, 1, 2, 3, 4, 5, 1, 2, 3, 4, 5, 1, 5, 1, 2, 3, 4, 1, 2, 3, 4, 5, 2, 1, 2, 3, 4, 5, 1, 2, 3, 4, 5, 2, 1, 2, 3, 4, 5, 1, 1, 2, 3, 4, 5, 2, 1, 2, 3, 4, 5, 5, 1, 2, 3, 4, 5, 3, 1, 2, 3, 4, 1, 2, 3, 4, 5, 1, 2, 3, 4, 5, 1, 2, 3, 4, 5, 3, 1, 2, 3, 4, 5, 3, 2, 1, 3, 1, 2, 3, 4, 5, 1, 2, 3, 4, 5, 1, 4, 5, 5, 4, 5, 4, 4, 5, 1, 5, 3, 2, 1, 1, 3, 2, 1, 2, 3, 4, 5, 5, 1, 1, 2, 3, 4, 5, 2, 3, 2, 3, 1, 2, 3, 4, 5, 2, 4, 1, 1, 2, 3, 4, 5, 3, 1, 2, 3, 4, 5, 1, 2, 3, 5, 1, 2, 3, 4, 5, 1, 2, 3, 4, 5, 1, 2, 3, 4, 5, 4, 1, 2, 3, 4, 5, 5, 1, 2, 3, 4, 5, 1, 2, 3, 4, 5, 1, 2, 3, 4, 5, 3, 4, 5, 1, 2, 3, 4, 5, 3, 1, 5, 1, 2, 3, 4, 1, 2, 3, 4, 5, 1, 2, 3, 1, 2, 3, 4, 5, 4, 5, 1, 4, 4, 5, 1, 2, 2, 3, 4, 1, 2, 3, 4, 5, 1, 2, 3, 4, 5, 1, 2, 3, 4, 5, 4, 2, 4, 5, 4, 5, 1, 2, 3, 4, 5, 2, 1, 2, 3, 4, 5, 1, 2, 3, 4, 5, 4, 1, 2, 1, 1, 1, 2, 3, 4, 5, 1, 2, 3, 4, 5, 1, 5, 3, 3, 4, 1, 2, 3, 4, 5, 1, 2, 3, 4, 5, 1, 2, 3, 4, 5, 3, 4, 1, 5, 4, 3, 1, 1, 2, 3, 4, 5, 1, 2, 3, 4, 5, 1, 2, 3, 4, 5, 3, 5, 5, 5, 5, 5, 3, 1, 2, 3, 4, 5, 2, 1, 2, 3, 4, 5, 1, 2, 3, 4, 5, 3, 4, 1, 2, 3, 4, 5, 1, 2, 3, 5, 2, 2, 5, 2, 1, 2, 3, 4, 5, 1, 2, 3, 4, 5, 1, 2, 3, 4, 5, 1, 4, 2, 1, 2, 3, 4, 5, 1, 2, 3, 4, 5, 1, 2, 4, 5, 2, 3, 3, 5, 1, 2, 3, 4, 2, 1, 2, 3, 4, 5, 1, 1, 2, 3, 4, 1, 2, 3, 4, 5, 1, 2, 3, 5, 1, 2, 3, 4, 5, 1, 2, 3, 4, 5, 1, 2, 3, 3, 1, 2, 3, 4, 5, 1, 2, 3, 4, 5, 1, 1, 2, 3, 4, 5, 5, 1, 2, 3, 4, 5, 3, 1, 2, 3, 4, 5, 1, 2, 3, 4, 5, 1, 2, 3, 4, 5, 1, 2, 3, 4, 5, 1, 2, 3, 4, 5, 3, 1, 2, 3, 4, 5, 1, 2, 3, 4, 5, 1, 2, 3, 4, 5, 1, 2, 3, 4, 5, 1, 2, 3, 4, 5, 1, 2, 3, 4, 5, 5, 4, 1, 2, 3, 4, 5, 1, 5, 5, 1, 2, 3, 4, 5, 1, 2, 3, 4, 5, 1, 2, 3, 4, 5, 1, 5, 1, 4, 5, 1, 2, 3, 4, 5, 4, 4, 1, 2, 3, 4, 5, 1, 2, 3, 4, 5, 4, 1, 2, 3, 4, 5, 1, 2, 3, 4, 5, 1, 2, 3, 4, 5, 3, 2, 1, 2, 3, 4, 5, 1, 2, 3, 4, 5, 5, 2, 4, 1, 2, 3, 4, 5, 1, 5, 1, 2, 3, 4, 5, 1, 2, 3, 4, 5, 1, 1, 2, 4], \"Freq\": [0.19485893845558167, 0.30878323316574097, 0.25424033403396606, 0.09808926284313202, 0.1442747861146927, 0.3217495381832123, 0.24385228753089905, 0.21143542230129242, 0.1495046764612198, 0.0735427513718605, 0.6605508923530579, 0.17906388640403748, 0.17906388640403748, 0.53719162940979, 0.17906388640403748, 0.8762568235397339, 0.7755166292190552, 0.2574986219406128, 0.3814794421195984, 0.1907397210597992, 0.11035655438899994, 0.05994677171111107, 0.1923636496067047, 0.18573041260242462, 0.34326961636543274, 0.17578057944774628, 0.10115674883127213, 0.5275583863258362, 0.7812426686286926, 0.19531066715717316, 0.8721632957458496, 0.73161381483078, 0.12193563580513, 0.12193563580513, 0.4461479187011719, 0.4165716767311096, 0.14246390759944916, 0.24705766141414642, 0.12262716144323349, 0.07033028453588486, 0.6392866373062134, 0.20451487600803375, 0.20451487600803375, 0.4090297520160675, 0.7863189578056335, 0.28568440675735474, 0.14284220337867737, 0.4285265803337097, 0.10195722430944443, 0.23051199316978455, 0.2881399989128113, 0.29257291555404663, 0.08865845948457718, 0.8615158796310425, 0.7354518175125122, 0.1988212764263153, 0.35974016785621643, 0.321172833442688, 0.05984587222337723, 0.060510825365781784, 0.14957217872142792, 0.2642925977706909, 0.3369004428386688, 0.16699805855751038, 0.08132079988718033, 0.764799952507019, 0.6749252676963806, 0.16873131692409515, 0.16873131692409515, 0.2257387340068817, 0.4322851002216339, 0.19009576737880707, 0.10235926508903503, 0.050265710800886154, 0.26194629073143005, 0.25977516174316406, 0.30091798305511475, 0.10204289108514786, 0.07522949576377869, 0.06938102096319199, 0.6938101649284363, 0.13876204192638397, 0.06938102096319199, 0.06938102096319199, 0.16628551483154297, 0.16628551483154297, 0.6651420593261719, 0.17717227339744568, 0.4375618100166321, 0.18790997564792633, 0.155696839094162, 0.04026642441749573, 0.873487114906311, 0.19605709612369537, 0.23045308887958527, 0.37663599848747253, 0.12898492813110352, 0.068791963160038, 0.8471923470497131, 0.868209719657898, 0.66378253698349, 0.1356458067893982, 0.1356458067893982, 0.1356458067893982, 0.0678229033946991, 0.4747603237628937, 0.1235198825597763, 0.18527983129024506, 0.1235198825597763, 0.4940795302391052, 0.06175994127988815, 0.7738094925880432, 0.0801357850432396, 0.6143743395805359, 0.1602715700864792, 0.05342385545372963, 0.10684771090745926, 0.8304991126060486, 0.2852066457271576, 0.19889411330223083, 0.3777737319469452, 0.06254531443119049, 0.07505438476800919, 0.1666053831577301, 0.6664215326309204, 0.514050304889679, 0.4342260956764221, 0.1690966933965683, 0.22948837280273438, 0.3416443467140198, 0.19325336813926697, 0.06556810438632965, 0.8763734102249146, 0.8305590152740479, 0.7647849321365356, 0.13835552334785461, 0.19089560210704803, 0.1751335710287094, 0.22066830098628998, 0.2749597132205963, 0.6765826940536499, 0.8616880774497986, 0.8123331665992737, 0.8670215606689453, 0.33413267135620117, 0.6682653427124023, 0.2567251920700073, 0.4068441390991211, 0.15447023510932922, 0.12292350083589554, 0.05874220281839371, 0.6765948534011841, 0.6542431712150574, 0.931119978427887, 0.19949956238269806, 0.34936287999153137, 0.25295400619506836, 0.11263611912727356, 0.085908904671669, 0.1334783434867859, 0.2669566869735718, 0.1334783434867859, 0.40043503046035767, 0.190522700548172, 0.190522700548172, 0.5715681314468384, 0.7648434042930603, 0.47079381346702576, 0.1808699369430542, 0.14629186689853668, 0.11437363922595978, 0.08777511864900589, 0.7354051470756531, 0.17048388719558716, 0.17900808155536652, 0.39637503027915955, 0.1832701712846756, 0.07245565205812454, 0.8763375282287598, 0.8159857988357544, 0.3299718499183655, 0.20906977355480194, 0.17657436430454254, 0.15698154270648956, 0.12735335528850555, 0.114125095307827, 0.114125095307827, 0.6847505569458008, 0.114125095307827, 0.32766488194465637, 0.6553297638893127, 0.5879808664321899, 0.19618313014507294, 0.09809156507253647, 0.5885493755340576, 0.049045782536268234, 0.049045782536268234, 0.5276130437850952, 0.5763622522354126, 0.08517494052648544, 0.08517494052648544, 0.6813995242118835, 0.08517494052648544, 0.3127794563770294, 0.2957574427127838, 0.18298661708831787, 0.1290835738182068, 0.08014529943466187, 0.8344112634658813, 0.27813708782196045, 0.5275716185569763, 0.6838763952255249, 0.17096909880638123, 0.26215052604675293, 0.36572501063346863, 0.2142919898033142, 0.10857460647821426, 0.049287158995866776, 0.09511598199605942, 0.15852662920951843, 0.6024011969566345, 0.09511598199605942, 0.09511598199605942, 0.8693158030509949, 0.16907116770744324, 0.16907116770744324, 0.5072134733200073, 0.16907116770744324, 0.32813742756843567, 0.2630173861980438, 0.1877487301826477, 0.09979437291622162, 0.12093725055456161, 0.2026611864566803, 0.20799438655376434, 0.09066421538591385, 0.4053223729133606, 0.09333080798387527, 0.1514585316181183, 0.7572926878929138, 0.5725259780883789, 0.08763152360916138, 0.18110515177249908, 0.04089470952749252, 0.11684203147888184, 0.32274460792541504, 0.26705536246299744, 0.1816229522228241, 0.17592746019363403, 0.05315793678164482, 0.3355587124824524, 0.6711174249649048, 0.1943235695362091, 0.3430233299732208, 0.28782418370246887, 0.1408141851425171, 0.03379540145397186, 0.5275748372077942, 0.5275625586509705, 0.28923195600509644, 0.3020211160182953, 0.12494033575057983, 0.18101592361927032, 0.10231334716081619, 0.3791554272174835, 0.1608538180589676, 0.15798142552375793, 0.12064036726951599, 0.180960550904274, 0.5857909321784973, 0.3789478540420532, 0.30068689584732056, 0.12494295090436935, 0.11533195525407791, 0.07826097309589386, 0.21576941013336182, 0.3207826614379883, 0.2108469158411026, 0.17474861443042755, 0.07875993847846985, 0.8615174889564514, 0.2652549147605896, 0.2848580479621887, 0.2768942713737488, 0.08147552609443665, 0.0912771001458168, 0.5275633931159973, 0.22365987300872803, 0.19070997834205627, 0.23064923286437988, 0.21667049825191498, 0.13878893852233887, 0.3456294536590576, 0.2673010528087616, 0.16371920704841614, 0.16115106642246246, 0.062277503311634064, 0.736005425453186, 0.3601265251636505, 0.2438250333070755, 0.18057335913181305, 0.0918169617652893, 0.12344279885292053, 0.23521435260772705, 0.20898227393627167, 0.24920479953289032, 0.2037358582019806, 0.10230512917041779, 0.28831809759140015, 0.2409418672323227, 0.15025027096271515, 0.2558315396308899, 0.06632669270038605, 0.8683436512947083, 0.4479961693286896, 0.11202128231525421, 0.11202128231525421, 0.11202128231525421, 0.5601063966751099, 0.2959883213043213, 0.2359955757856369, 0.19551853835582733, 0.15251168608665466, 0.11998549848794937, 0.7353507876396179, 0.15654227137565613, 0.41294771432876587, 0.3157835304737091, 0.07557213306427002, 0.03778606653213501, 0.31165024638175964, 0.282988965511322, 0.19667567312717438, 0.08598384261131287, 0.12255167961120605, 0.6777206659317017, 0.3647618293762207, 0.2657392621040344, 0.21905367076396942, 0.07936549186706543, 0.07113409042358398, 0.8712345361709595, 0.269744873046875, 0.2104203850030899, 0.24940505623817444, 0.21114680171012878, 0.05884022265672684, 0.6384652853012085, 0.2481890618801117, 0.43354544043540955, 0.15394005179405212, 0.07539921253919601, 0.08796574175357819, 0.5276176929473877, 0.16965913772583008, 0.16645801067352295, 0.5057762861251831, 0.07682677358388901, 0.08002789318561554, 0.6943562626838684, 0.09845344722270966, 0.09845344722270966, 0.7876275777816772, 0.09845344722270966, 0.21434928476810455, 0.32811927795410156, 0.20280739665031433, 0.10552579909563065, 0.14839565753936768, 0.21593602001667023, 0.43566039204597473, 0.17426416277885437, 0.14395734667778015, 0.03030681051313877, 0.1671176701784134, 0.31966111063957214, 0.2979617416858673, 0.1415318250656128, 0.07351882010698318, 0.701264500617981, 0.17787553369998932, 0.22234441339969635, 0.3409281075000763, 0.08893776684999466, 0.17416979372501373, 0.6600581407546997, 0.8468064665794373, 0.1487113982439041, 0.7435569763183594, 0.41656753420829773, 0.29754823446273804, 0.14520354568958282, 0.09997621178627014, 0.040466561913490295, 0.2278343141078949, 0.2896498143672943, 0.20664042234420776, 0.2296004742383957, 0.04592009261250496, 0.6589542627334595, 0.7409674525260925, 0.38564828038215637, 0.5275870561599731, 0.5140545964241028, 0.5276025533676147, 0.5140490531921387, 0.6529873013496399, 0.21766242384910583, 0.335143506526947, 0.670287013053894, 0.861561119556427, 0.6878573298454285, 0.8661205768585205, 0.8358041048049927, 0.16716082394123077, 0.8306795954704285, 0.4106576144695282, 0.17530998587608337, 0.1368858814239502, 0.2281431257724762, 0.04803013056516647, 0.5275890827178955, 0.8683546781539917, 0.26566484570503235, 0.21288374066352844, 0.27270230650901794, 0.17300470173358917, 0.07565290480852127, 0.8588795065879822, 0.17177589237689972, 0.8305025100708008, 0.8615363240242004, 0.1734134703874588, 0.29273468255996704, 0.19409582018852234, 0.28318896889686584, 0.05886512249708176, 0.33028554916381836, 0.6605710983276367, 0.8368649482727051, 0.4862167239189148, 0.13776139914989471, 0.18638306856155396, 0.08103612065315247, 0.10939875990152359, 0.8615871071815491, 0.21462774276733398, 0.3445645570755005, 0.19142474234104156, 0.14385859668254852, 0.10441350191831589, 0.24868662655353546, 0.12434331327676773, 0.12434331327676773, 0.4973732531070709, 0.3069000542163849, 0.24499766528606415, 0.22802022099494934, 0.1635059118270874, 0.056417372077703476, 0.3315671384334564, 0.2616366147994995, 0.18386904895305634, 0.14769808948040009, 0.07535617053508759, 0.2788705825805664, 0.38714998960494995, 0.16139762103557587, 0.09397836029529572, 0.077634297311306, 0.514046311378479, 0.18855702877044678, 0.2580553889274597, 0.3457828462123871, 0.14070570468902588, 0.06721972674131393, 0.5275684595108032, 0.2556450068950653, 0.3259473741054535, 0.157039076089859, 0.15338701009750366, 0.10682309418916702, 0.28052690625190735, 0.296249657869339, 0.13819468021392822, 0.1832941323518753, 0.10137034952640533, 0.27802741527557373, 0.24016834795475006, 0.23543597757816315, 0.12659120559692383, 0.12067572772502899, 0.24714745581150055, 0.24714745581150055, 0.4942949116230011, 0.20295119285583496, 0.3693046271800995, 0.18797938525676727, 0.1480545550584793, 0.09149438887834549, 0.7596547603607178, 0.868282675743103, 0.6973243355751038, 0.6462997198104858, 0.14362215995788574, 0.07181107997894287, 0.07181107997894287, 0.27395403385162354, 0.2746371924877167, 0.273270845413208, 0.1325363665819168, 0.045772865414619446, 0.8682721853256226, 0.7355748414993286, 0.7595778107643127, 0.20119799673557281, 0.29317423701286316, 0.20982077717781067, 0.214132159948349, 0.08191632479429245, 0.27657270431518555, 0.5531454086303711, 0.2685489058494568, 0.5370978116989136, 0.6629354357719421, 0.5275883674621582, 0.7035748362541199, 0.8416277766227722, 0.1822911649942398, 0.7291646599769592, 0.1822911649942398, 0.35910406708717346, 0.21288204193115234, 0.26735690236091614, 0.09389746934175491, 0.06666003167629242, 0.1594119369983673, 0.4480513036251068, 0.18016378581523895, 0.13300049304962158, 0.07923433184623718, 0.28124889731407166, 0.23780393600463867, 0.23185883462429047, 0.15228597819805145, 0.09695083647966385, 0.8763658404350281, 0.30125513672828674, 0.30125513672828674, 0.6025102734565735, 0.21960778534412384, 0.6588233709335327, 0.2398061752319336, 0.2738279402256012, 0.28977563977241516, 0.14376556873321533, 0.0528046116232872, 0.7399900555610657, 0.09142561256885529, 0.6399793028831482, 0.09142561256885529, 0.09142561256885529, 0.09142561256885529, 0.352573424577713, 0.204647496342659, 0.3085954487323761, 0.076961450278759, 0.057221341878175735, 0.6766109466552734, 0.2055591642856598, 0.8222366571426392, 0.8683516383171082, 0.7825334668159485, 0.4737650156021118, 0.24295641481876373, 0.07693620026111603, 0.10933038592338562, 0.09313329309225082, 0.3297366797924042, 0.27547621726989746, 0.18643340468406677, 0.1307816356420517, 0.07721681892871857, 0.7648110389709473, 0.44721269607543945, 0.7595809698104858, 0.1959301382303238, 0.7837205529212952, 0.3081483840942383, 0.14141055941581726, 0.38624078035354614, 0.1371893584728241, 0.02743787132203579, 0.3261028230190277, 0.2643449902534485, 0.23150266706943512, 0.14136476814746857, 0.03659062832593918, 0.2880135178565979, 0.2496117204427719, 0.11520541459321976, 0.2752129137516022, 0.07040330767631531, 0.3275566101074219, 0.6551132202148438, 0.7049631476402283, 0.17624078691005707, 0.6692022681236267, 0.771073043346405, 0.6623578071594238, 0.23170159757137299, 0.2621495723724365, 0.2576937675476074, 0.17823199927806854, 0.07055016607046127, 0.34203073382377625, 0.1867208629846573, 0.25914064049720764, 0.12215383350849152, 0.08899779617786407, 0.15383699536323547, 0.12306959927082062, 0.12306959927082062, 0.5230457782745361, 0.06153479963541031, 0.27191802859306335, 0.5438360571861267, 0.5276030898094177, 0.5275934934616089, 0.6823655962944031, 0.44996342062950134, 0.7596595883369446, 0.4262433648109436, 0.17231114208698273, 0.17835715413093567, 0.12394310534000397, 0.09975908696651459, 0.7356624007225037, 0.18995589017868042, 0.4199024736881256, 0.22661404311656952, 0.10664190351963043, 0.05665351077914238, 0.3288612961769104, 0.20740999281406403, 0.24844834208488464, 0.14807076752185822, 0.06710323691368103, 0.26523613929748535, 0.5304722785949707, 0.23609551787376404, 0.19674625992774963, 0.2744850218296051, 0.17371255159378052, 0.11900749802589417, 0.6809521317481995, 0.08511901646852493, 0.17023803293704987, 0.08511901646852493, 0.8366113305091858, 0.8304982781410217, 0.5275660157203674, 0.7525774836540222, 0.20912770926952362, 0.34963539242744446, 0.27339091897010803, 0.07733368128538132, 0.08931495994329453, 0.2570081353187561, 0.17912688851356506, 0.15576250851154327, 0.33488938212394714, 0.07788125425577164, 0.24005438387393951, 0.22085003554821014, 0.3208726942539215, 0.15923607349395752, 0.059213414788246155, 0.7648423314094543, 0.6648682355880737, 0.8451473116874695, 0.40043532848358154, 0.120338074862957, 0.29047122597694397, 0.120338074862957, 0.06846821308135986, 0.33743470907211304, 0.21303299069404602, 0.209853395819664, 0.1939554065465927, 0.04570670425891876, 0.14282622933387756, 0.7141311168670654, 0.14282622933387756, 0.07141311466693878, 0.812304675579071, 0.16246093809604645, 0.7596630454063416, 0.527626633644104, 0.10111123323440552, 0.6066673994064331, 0.10111123323440552, 0.10111123323440552, 0.738161563873291, 0.34817782044410706, 0.23682738840579987, 0.22602474689483643, 0.10304068773984909, 0.08642122149467468, 0.8683712482452393, 0.1477968990802765, 0.6404532194137573, 0.1477968990802765, 0.049265630543231964, 0.2407434582710266, 0.28755468130111694, 0.20953597128391266, 0.11368440836668015, 0.149350106716156, 0.1557413935661316, 0.1557413935661316, 0.7787069082260132, 0.5275734066963196, 0.2520204782485962, 0.24795563519001007, 0.26726365089416504, 0.1158481240272522, 0.11686433851718903, 0.21975454688072205, 0.24547050893306732, 0.3576855957508087, 0.128579780459404, 0.046756286174058914, 0.13575135171413422, 0.6787567734718323, 0.13575135171413422, 0.7595449686050415, 0.2215791940689087, 0.11078959703445435, 0.11078959703445435, 0.2215791940689087, 0.4431583881378174, 0.19189894199371338, 0.3072737753391266, 0.30491918325424194, 0.06592847406864166, 0.130679652094841, 0.8723846077919006, 0.2621884346008301, 0.13109421730041504, 0.21645790338516235, 0.2134092003107071, 0.17682476341724396, 0.6814953684806824, 0.34553423523902893, 0.3514576852321625, 0.07305581122636795, 0.07503028959035873, 0.15400953590869904, 0.5759285092353821, 0.08487628400325775, 0.1697525680065155, 0.5941339731216431, 0.08487628400325775, 0.08487628400325775, 0.37181514501571655, 0.27813518047332764, 0.20478881895542145, 0.08496557176113129, 0.060274723917245865, 0.19576263427734375, 0.36591145396232605, 0.23326854407787323, 0.12623944878578186, 0.07775618135929108, 0.35267117619514465, 0.21240423619747162, 0.2144080549478531, 0.1142173707485199, 0.10620211809873581, 0.22413502633571625, 0.4068912863731384, 0.11551574617624283, 0.14654982089996338, 0.10689517110586166, 0.8603031635284424, 0.24655649065971375, 0.2000364065170288, 0.3326186537742615, 0.15196563303470612, 0.06822946667671204, 0.42431196570396423, 0.22935782372951508, 0.1777523159980774, 0.10894496738910675, 0.06020642817020416, 0.28750908374786377, 0.2596092224121094, 0.2746119797229767, 0.09615805745124817, 0.08203265070915222, 0.2648955285549164, 0.21427413821220398, 0.2420118898153305, 0.1414625346660614, 0.13730187714099884, 0.2849040925502777, 0.26757538318634033, 0.20947331190109253, 0.16258390247821808, 0.07492110878229141, 0.2696854770183563, 0.2950606942176819, 0.20418201386928558, 0.13100695610046387, 0.10032063722610474, 0.6824960708618164, 0.8762807250022888, 0.3861904740333557, 0.22319145500659943, 0.17471788823604584, 0.1478177309036255, 0.06818259507417679, 0.6837549209594727, 0.17093873023986816, 0.5276021957397461, 0.1603676825761795, 0.5685762763023376, 0.11663103848695755, 0.08747328072786331, 0.058315519243478775, 0.1655951738357544, 0.6623806953430176, 0.11039678007364273, 0.055198390036821365, 0.055198390036821365, 0.3403371572494507, 0.22194327414035797, 0.16944445669651031, 0.16691002249717712, 0.10101496428251266, 0.6979179382324219, 0.7002549171447754, 0.24307140707969666, 0.4861428141593933, 0.5275605320930481, 0.47546127438545227, 0.14495770633220673, 0.21453741192817688, 0.06957969814538956, 0.09277293086051941, 0.6599344611167908, 0.5140483975410461, 0.1695723980665207, 0.4507055878639221, 0.24989615380764008, 0.09371106326580048, 0.035699453204870224, 0.11540190875530243, 0.17310285568237305, 0.5481590628623962, 0.14425238966941833, 0.028850477188825607, 0.6608290076255798, 0.2952446937561035, 0.3184179663658142, 0.1673625409603119, 0.10299233347177505, 0.11500810831785202, 0.31096893548965454, 0.22738629579544067, 0.27410951256752014, 0.1318632811307907, 0.05554870888590813, 0.1763145476579666, 0.3069179058074951, 0.28406232595443726, 0.151826411485672, 0.08081083744764328, 0.8615175485610962, 0.8314650654792786, 0.3554796874523163, 0.2596200108528137, 0.18572814762592316, 0.14179246127605438, 0.05691669136285782, 0.301691472530365, 0.19521212577819824, 0.35746634006500244, 0.10140889137983322, 0.04056355729699135, 0.5276107788085938, 0.6940340399742126, 0.23134468495845795, 0.3238353431224823, 0.20919018983840942, 0.2240791618824005, 0.12506744265556335, 0.11762294918298721, 0.6934449076652527, 0.17336122691631317, 0.24398301541805267, 0.16338148713111877, 0.3441903293132782, 0.14159728586673737, 0.10456415265798569, 0.24422408640384674, 0.34625548124313354, 0.2040627896785736, 0.14870533347129822, 0.056442901492118835, 0.7120069861412048, 0.7335929274559021, 0.24453099071979523, 0.87638920545578], \"Term\": [\"$\", \"$\", \"$\", \"$\", \"$\", \"'s\", \"'s\", \"'s\", \"'s\", \"'s\", \"-or\", \"-they\", \"-they\", \"-they\", \"-they\", \"10a\", \"24hrs\", \"a\", \"a\", \"a\", \"a\", \"a\", \"actually\", \"actually\", \"actually\", \"actually\", \"actually\", \"adequately\", \"adidas\", \"adidas\", \"administrative\", \"agedashi_tofu\", \"agedashi_tofu\", \"agedashi_tofu\", \"alicia\", \"all\", \"all\", \"all\", \"all\", \"all\", \"allen\", \"alyssa\", \"alyssa\", \"alyssa\", \"andrea\", \"anna\", \"anna\", \"anna\", \"appointment\", \"appointment\", \"appointment\", \"appointment\", \"appointment\", \"arooni\", \"arti\", \"ask\", \"ask\", \"ask\", \"ask\", \"ask\", \"awesome\", \"awesome\", \"awesome\", \"awesome\", \"awesome\", \"b&g\", \"babystacks\", \"babystacks\", \"babystacks\", \"bar\", \"bar\", \"bar\", \"bar\", \"bar\", \"be\", \"be\", \"be\", \"be\", \"be\", \"bean_cheese\", \"bean_cheese\", \"bean_cheese\", \"bean_cheese\", \"bean_cheese\", \"beansprout\", \"beansprout\", \"beansprout\", \"beautiful\", \"beautiful\", \"beautiful\", \"beautiful\", \"beautiful\", \"beckers\", \"beer\", \"beer\", \"beer\", \"beer\", \"beer\", \"bellwood\", \"bestbuy\", \"bianca\", \"brake\", \"brake\", \"brake\", \"brake\", \"brake\", \"brian\", \"brian\", \"brian\", \"brian\", \"brian\", \"bros\", \"brow\", \"brow\", \"brow\", \"brow\", \"brow\", \"bula\", \"burger\", \"burger\", \"burger\", \"burger\", \"burger\", \"burgh\", \"burgh\", \"busybody\", \"butterfish\", \"call\", \"call\", \"call\", \"call\", \"call\", \"cambozola\", \"cancer\", \"capo\", \"car\", \"car\", \"car\", \"car\", \"car\", \"carla\", \"cars.com\", \"cathouse\", \"centric\", \"chamberlain\", \"chamberlain\", \"check\", \"check\", \"check\", \"check\", \"check\", \"cherie\", \"chesse\", \"chet\", \"chicken\", \"chicken\", \"chicken\", \"chicken\", \"chicken\", \"chicken_biryani\", \"chicken_biryani\", \"chicken_biryani\", \"chicken_biryani\", \"chilean\", \"chilean\", \"chilean\", \"chk\", \"choose\", \"choose\", \"choose\", \"choose\", \"choose\", \"citi\", \"class\", \"class\", \"class\", \"class\", \"class\", \"clochette\", \"cobblestone\", \"come\", \"come\", \"come\", \"come\", \"come\", \"congee\", \"congee\", \"congee\", \"congee\", \"conrad\", \"conrad\", \"cornet\", \"cotton_candy\", \"cotton_candy\", \"cotton_candy\", \"cotton_candy\", \"cotton_candy\", \"cottsdale\", \"culvers\", \"cutlet\", \"cutlet\", \"cutlet\", \"cutlet\", \"day\", \"day\", \"day\", \"day\", \"day\", \"deader\", \"deader\", \"deals!.\", \"decompression\", \"decompression\", \"delicious\", \"delicious\", \"delicious\", \"delicious\", \"delicious\", \"dental\", \"dental\", \"dental\", \"dental\", \"dental\", \"denton\", \"discriminate\", \"discriminate\", \"discriminate\", \"discriminate\", \"dish\", \"dish\", \"dish\", \"dish\", \"dish\", \"dog\", \"dog\", \"dog\", \"dog\", \"dog\", \"dolphin\", \"dolphin\", \"donut\", \"donut\", \"donut\", \"donut\", \"donut\", \"drink\", \"drink\", \"drink\", \"drink\", \"drink\", \"drivetime\", \"drivetime\", \"eat\", \"eat\", \"eat\", \"eat\", \"eat\", \"emc\", \"employe\", \"enjoy\", \"enjoy\", \"enjoy\", \"enjoy\", \"enjoy\", \"et\", \"et\", \"et\", \"et\", \"et\", \"ewc\", \"expect\", \"expect\", \"expect\", \"expect\", \"expect\", \"experience\", \"experience\", \"experience\", \"experience\", \"experience\", \"fender\", \"find\", \"find\", \"find\", \"find\", \"find\", \"fino\", \"flavor\", \"flavor\", \"flavor\", \"flavor\", \"flavor\", \"food\", \"food\", \"food\", \"food\", \"food\", \"footing\", \"fresh\", \"fresh\", \"fresh\", \"fresh\", \"fresh\", \"friend\", \"friend\", \"friend\", \"friend\", \"friend\", \"friendly\", \"friendly\", \"friendly\", \"friendly\", \"friendly\", \"fsu\", \"gaylord\", \"ge\", \"ge\", \"ge\", \"ge\", \"get\", \"get\", \"get\", \"get\", \"get\", \"ghorshi\", \"girl\", \"girl\", \"girl\", \"girl\", \"girl\", \"go\", \"go\", \"go\", \"go\", \"go\", \"godzilla\", \"good\", \"good\", \"good\", \"good\", \"good\", \"grandson\", \"great\", \"great\", \"great\", \"great\", \"great\", \"groove\", \"group\", \"group\", \"group\", \"group\", \"group\", \"gunpowder\", \"hair\", \"hair\", \"hair\", \"hair\", \"hair\", \"hakka\", \"halo\", \"halo\", \"halo\", \"halo\", \"happy\", \"happy\", \"happy\", \"happy\", \"happy\", \"happy_hour\", \"happy_hour\", \"happy_hour\", \"happy_hour\", \"happy_hour\", \"have\", \"have\", \"have\", \"have\", \"have\", \"hays\", \"helpful\", \"helpful\", \"helpful\", \"helpful\", \"helpful\", \"holsteins\", \"horray\", \"hot_fudge\", \"hot_fudge\", \"hotel\", \"hotel\", \"hotel\", \"hotel\", \"hotel\", \"hour\", \"hour\", \"hour\", \"hour\", \"hour\", \"hunan\", \"hydrographic\", \"hyundai\", \"ilke\", \"imperious\", \"indefinitely\", \"individualise\", \"infiniti\", \"infiniti\", \"iq\", \"iq\", \"jesi\", \"jessa\", \"jun\", \"kaide\", \"kaide\", \"karina\", \"kid\", \"kid\", \"kid\", \"kid\", \"kid\", \"kimbap\", \"kirk\", \"know\", \"know\", \"know\", \"know\", \"know\", \"kokopelli\", \"kokopelli\", \"krush\", \"lakeview\", \"large\", \"large\", \"large\", \"large\", \"large\", \"larson\", \"larson\", \"lavonne\", \"le\", \"le\", \"le\", \"le\", \"le\", \"leah\", \"leave\", \"leave\", \"leave\", \"leave\", \"leave\", \"liar\", \"liar\", \"liar\", \"liar\", \"like\", \"like\", \"like\", \"like\", \"like\", \"little\", \"little\", \"little\", \"little\", \"little\", \"location\", \"location\", \"location\", \"location\", \"location\", \"locomoco\", \"look\", \"look\", \"look\", \"look\", \"look\", \"loooooove\", \"lot\", \"lot\", \"lot\", \"lot\", \"lot\", \"love\", \"love\", \"love\", \"love\", \"love\", \"lunch\", \"lunch\", \"lunch\", \"lunch\", \"lunch\", \"lvc\", \"lvc\", \"lvc\", \"make\", \"make\", \"make\", \"make\", \"make\", \"marilyn\", \"marylin\", \"mbg\", \"melanie\", \"melanie\", \"melanie\", \"melanie\", \"menu\", \"menu\", \"menu\", \"menu\", \"menu\", \"mercbar\", \"mexicorn\", \"miguel\", \"minute\", \"minute\", \"minute\", \"minute\", \"minute\", \"mitch\", \"mitch\", \"moca\", \"moca\", \"monga\", \"morissette\", \"mosquito\", \"mouldy\", \"na\", \"na\", \"na\", \"need\", \"need\", \"need\", \"need\", \"need\", \"new\", \"new\", \"new\", \"new\", \"new\", \"nice\", \"nice\", \"nice\", \"nice\", \"nice\", \"nita\", \"nitro\", \"nitro\", \"nitro\", \"nog\", \"nog\", \"not\", \"not\", \"not\", \"not\", \"not\", \"ode\", \"okra\", \"okra\", \"okra\", \"okra\", \"okra\", \"order\", \"order\", \"order\", \"order\", \"order\", \"orthodontic\", \"overjoyed\", \"overjoyed\", \"paige\", \"participation\", \"patio\", \"patio\", \"patio\", \"patio\", \"patio\", \"people\", \"people\", \"people\", \"people\", \"people\", \"peradise\", \"persia\", \"phong\", \"pierogi\", \"pierogi\", \"pizza\", \"pizza\", \"pizza\", \"pizza\", \"pizza\", \"place\", \"place\", \"place\", \"place\", \"place\", \"play\", \"play\", \"play\", \"play\", \"play\", \"polaris\", \"polaris\", \"popat\", \"popat\", \"pozole\", \"pr\", \"prestige\", \"pretty\", \"pretty\", \"pretty\", \"pretty\", \"pretty\", \"price\", \"price\", \"price\", \"price\", \"price\", \"puppy\", \"puppy\", \"puppy\", \"puppy\", \"puppy\", \"pvc\", \"pvc\", \"qobolla\", \"quare\", \"raft\", \"raquel\", \"rck\", \"receive\", \"receive\", \"receive\", \"receive\", \"receive\", \"remodl\", \"reservation\", \"reservation\", \"reservation\", \"reservation\", \"reservation\", \"restaurant\", \"restaurant\", \"restaurant\", \"restaurant\", \"restaurant\", \"review-\", \"review-\", \"right\", \"right\", \"right\", \"right\", \"right\", \"ritz\", \"ritz\", \"ritz\", \"ritz\", \"rotis\", \"rula\", \"rylie\", \"saki\", \"salad\", \"salad\", \"salad\", \"salad\", \"salad\", \"save\", \"save\", \"save\", \"save\", \"save\", \"say\", \"say\", \"say\", \"say\", \"say\", \"scorpion\", \"scotty\", \"scotyz\", \"selection\", \"selection\", \"selection\", \"selection\", \"selection\", \"service\", \"service\", \"service\", \"service\", \"service\", \"shabu\", \"shabu\", \"shabu\", \"shabu\", \"shatner\", \"shatner\", \"shelly\", \"shepherds\", \"shrimp_wonton\", \"shrimp_wonton\", \"shrimp_wonton\", \"shrimp_wonton\", \"slovenia\", \"small\", \"small\", \"small\", \"small\", \"small\", \"sohi\", \"souffle\", \"souffle\", \"souffle\", \"souffle\", \"spicy\", \"spicy\", \"spicy\", \"spicy\", \"spicy\", \"spiked\", \"spiked\", \"spiked\", \"sportsbar\", \"staff\", \"staff\", \"staff\", \"staff\", \"staff\", \"steak\", \"steak\", \"steak\", \"steak\", \"steak\", \"steelcoast\", \"steelcoast\", \"steelcoast\", \"stephan\", \"stereo\", \"stereo\", \"stereo\", \"stereo\", \"stereo\", \"store\", \"store\", \"store\", \"store\", \"store\", \"stripmall\", \"style\", \"style\", \"style\", \"style\", \"style\", \"sunland\", \"sushi\", \"sushi\", \"sushi\", \"sushi\", \"sushi\", \"swaddee\", \"sweater\", \"sweater\", \"sweater\", \"sweater\", \"sweater\", \"table\", \"table\", \"table\", \"table\", \"table\", \"take\", \"take\", \"take\", \"take\", \"take\", \"taste\", \"taste\", \"taste\", \"taste\", \"taste\", \"tasty\", \"tasty\", \"tasty\", \"tasty\", \"tasty\", \"tawooq\", \"tell\", \"tell\", \"tell\", \"tell\", \"tell\", \"that\", \"that\", \"that\", \"that\", \"that\", \"the\", \"the\", \"the\", \"the\", \"the\", \"thing\", \"thing\", \"thing\", \"thing\", \"thing\", \"think\", \"think\", \"think\", \"think\", \"think\", \"this\", \"this\", \"this\", \"this\", \"this\", \"thompsons\", \"th\\u00e9s\", \"time\", \"time\", \"time\", \"time\", \"time\", \"tock\", \"tock\", \"toter\", \"trail\", \"trail\", \"trail\", \"trail\", \"trail\", \"trivium\", \"trivium\", \"trivium\", \"trivium\", \"trivium\", \"try\", \"try\", \"try\", \"try\", \"try\", \"utah\", \"vaccum\", \"vacuumed\", \"vacuumed\", \"vaz\", \"vegetable\", \"vegetable\", \"vegetable\", \"vegetable\", \"vegetable\", \"vegeway\", \"verity\", \"view\", \"view\", \"view\", \"view\", \"view\", \"voucher\", \"voucher\", \"voucher\", \"voucher\", \"voucher\", \"vroom\", \"wait\", \"wait\", \"wait\", \"wait\", \"wait\", \"want\", \"want\", \"want\", \"want\", \"want\", \"way\", \"way\", \"way\", \"way\", \"way\", \"waymire\", \"whater\", \"will\", \"will\", \"will\", \"will\", \"will\", \"will_not\", \"will_not\", \"will_not\", \"will_not\", \"will_not\", \"wine-\", \"winston\", \"winston\", \"work\", \"work\", \"work\", \"work\", \"work\", \"worldmark\", \"worldmark\", \"worth\", \"worth\", \"worth\", \"worth\", \"worth\", \"would\", \"would\", \"would\", \"would\", \"would\", \"yc\", \"yellow_curry\", \"yellow_curry\", \"zarkana\"]}, \"R\": 30, \"lambda.step\": 0.01, \"plot.opts\": {\"xlab\": \"PC1\", \"ylab\": \"PC2\"}, \"topic.order\": [3, 2, 4, 1, 5]};\n",
       "\n",
       "function LDAvis_load_lib(url, callback){\n",
       "  var s = document.createElement('script');\n",
       "  s.src = url;\n",
       "  s.async = true;\n",
       "  s.onreadystatechange = s.onload = callback;\n",
       "  s.onerror = function(){console.warn(\"failed to load library \" + url);};\n",
       "  document.getElementsByTagName(\"head\")[0].appendChild(s);\n",
       "}\n",
       "\n",
       "if(typeof(LDAvis) !== \"undefined\"){\n",
       "   // already loaded: just create the visualization\n",
       "   !function(LDAvis){\n",
       "       new LDAvis(\"#\" + \"ldavis_el785871126417979608474337369\", ldavis_el785871126417979608474337369_data);\n",
       "   }(LDAvis);\n",
       "}else if(typeof define === \"function\" && define.amd){\n",
       "   // require.js is available: use it to load d3/LDAvis\n",
       "   require.config({paths: {d3: \"https://cdnjs.cloudflare.com/ajax/libs/d3/3.5.5/d3.min\"}});\n",
       "   require([\"d3\"], function(d3){\n",
       "      window.d3 = d3;\n",
       "      LDAvis_load_lib(\"https://cdn.rawgit.com/bmabey/pyLDAvis/files/ldavis.v1.0.0.js\", function(){\n",
       "        new LDAvis(\"#\" + \"ldavis_el785871126417979608474337369\", ldavis_el785871126417979608474337369_data);\n",
       "      });\n",
       "    });\n",
       "}else{\n",
       "    // require.js not available: dynamically load d3 & LDAvis\n",
       "    LDAvis_load_lib(\"https://cdnjs.cloudflare.com/ajax/libs/d3/3.5.5/d3.min.js\", function(){\n",
       "         LDAvis_load_lib(\"https://cdn.rawgit.com/bmabey/pyLDAvis/files/ldavis.v1.0.0.js\", function(){\n",
       "                 new LDAvis(\"#\" + \"ldavis_el785871126417979608474337369\", ldavis_el785871126417979608474337369_data);\n",
       "            })\n",
       "         });\n",
       "}\n",
       "</script>"
      ],
      "text/plain": [
       "<IPython.core.display.HTML object>"
      ]
     },
     "execution_count": 217,
     "metadata": {},
     "output_type": "execute_result"
    }
   ],
   "source": [
    "pyLDAvis.display(vis_data)"
   ]
  },
  {
   "cell_type": "markdown",
   "metadata": {},
   "source": [
    "# Topic Modeling - `textacy`"
   ]
  },
  {
   "cell_type": "markdown",
   "metadata": {},
   "source": [
    "Create Document-Term Matrix"
   ]
  },
  {
   "cell_type": "code",
   "execution_count": 218,
   "metadata": {},
   "outputs": [
    {
     "data": {
      "text/plain": [
       "<10000x31197 sparse matrix of type '<class 'numpy.int32'>'\n",
       "\twith 496916 stored elements in Compressed Sparse Row format>"
      ]
     },
     "execution_count": 218,
     "metadata": {},
     "output_type": "execute_result"
    }
   ],
   "source": [
    "vectorizer = textacy.vsm.Vectorizer(tf_type='linear', min_df = 1)\n",
    "doc_term_matrix = vectorizer.fit_transform(phrased_reviews)\n",
    "doc_term_matrix"
   ]
  },
  {
   "cell_type": "markdown",
   "metadata": {},
   "source": [
    "Train Topic Model"
   ]
  },
  {
   "cell_type": "code",
   "execution_count": 219,
   "metadata": {},
   "outputs": [
    {
     "name": "stderr",
     "output_type": "stream",
     "text": [
      "/Users/shiwang/anaconda3/lib/python3.6/site-packages/sklearn/decomposition/online_lda.py:294: DeprecationWarning: n_topics has been renamed to n_components in version 0.19 and will be removed in 0.21\n",
      "  DeprecationWarning)\n"
     ]
    },
    {
     "data": {
      "text/plain": [
       "(10000, 5)"
      ]
     },
     "execution_count": 219,
     "metadata": {},
     "output_type": "execute_result"
    }
   ],
   "source": [
    "model = textacy.tm.TopicModel('lda', n_topics=5) \n",
    "model.fit(doc_term_matrix)\n",
    "doc_topic_matrix = model.transform(doc_term_matrix)\n",
    "doc_topic_matrix.shape"
   ]
  },
  {
   "cell_type": "code",
   "execution_count": 220,
   "metadata": {},
   "outputs": [
    {
     "data": {
      "text/plain": [
       "<matplotlib.axes._subplots.AxesSubplot at 0x1a2373e5c0>"
      ]
     },
     "execution_count": 220,
     "metadata": {},
     "output_type": "execute_result"
    },
    {
     "data": {
      "image/png": "[encoded data removed]",
      "text/plain": [
       "<Figure size 260.921x602.522 with 1 Axes>"
      ]
     },
     "metadata": {},
     "output_type": "display_data"
    }
   ],
   "source": [
    "model.termite_plot(doc_term_matrix,  \n",
    "                   vectorizer.id_to_term,\n",
    "                   highlight_topics=[0,1,2,3,4])"
   ]
  },
  {
   "cell_type": "markdown",
   "metadata": {},
   "source": [
    "# Predict review stars"
   ]
  },
  {
   "cell_type": "markdown",
   "metadata": {},
   "source": [
    "## Prepare constant length reviews"
   ]
  },
  {
   "cell_type": "code",
   "execution_count": 221,
   "metadata": {},
   "outputs": [
    {
     "name": "stderr",
     "output_type": "stream",
     "text": [
      "/Users/shiwang/anaconda3/lib/python3.6/site-packages/matplotlib/axes/_axes.py:6462: UserWarning: The 'normed' kwarg is deprecated, and has been replaced by the 'density' kwarg.\n",
      "  warnings.warn(\"The 'normed' kwarg is deprecated, and has been \"\n"
     ]
    },
    {
     "data": {
      "text/plain": [
       "<matplotlib.axes._subplots.AxesSubplot at 0x1a12be7e80>"
      ]
     },
     "execution_count": 221,
     "metadata": {},
     "output_type": "execute_result"
    },
    {
     "data": {
      "image/png": "[encoded data removed]",
      "text/plain": [
       "<Figure size 432x288 with 1 Axes>"
      ]
     },
     "metadata": {},
     "output_type": "display_data"
    }
   ],
   "source": [
    "sns.distplot([len(review) for review in phrased_reviews])"
   ]
  },
  {
   "cell_type": "code",
   "execution_count": 222,
   "metadata": {},
   "outputs": [],
   "source": [
    "def pad_trim_review(review, MAX_LEN = 50):\n",
    "    l = len(review)\n",
    "    if  l >= MAX_LEN:\n",
    "        return(review[:MAX_LEN])\n",
    "    else:\n",
    "        return(review + ['<PAD/>'] * (MAX_LEN - l))"
   ]
  },
  {
   "cell_type": "code",
   "execution_count": 223,
   "metadata": {},
   "outputs": [
    {
     "data": {
      "text/plain": [
       "(['love', 'staff', 'love', 'meat', 'love'],\n",
       " ['<PAD/>', '<PAD/>', '<PAD/>', '<PAD/>', '<PAD/>'])"
      ]
     },
     "execution_count": 223,
     "metadata": {},
     "output_type": "execute_result"
    }
   ],
   "source": [
    "pad_trim_review(phrased_reviews[0])[:5],pad_trim_review(phrased_reviews[0])[-5:]"
   ]
  },
  {
   "cell_type": "markdown",
   "metadata": {},
   "source": [
    "## Generate index-based input"
   ]
  },
  {
   "cell_type": "code",
   "execution_count": 224,
   "metadata": {},
   "outputs": [],
   "source": [
    "dictionary = corpora.Dictionary(phrased_reviews)\n",
    "phrased_reviews_padded = [pad_trim_review(x) for x in phrased_reviews]\n",
    "phrased_reviews_padded_index = [dictionary.doc2idx(x, unknown_word_index=len(dictionary)) for x in phrased_reviews_padded]"
   ]
  },
  {
   "cell_type": "code",
   "execution_count": 225,
   "metadata": {},
   "outputs": [
    {
     "data": {
      "text/plain": [
       "31198"
      ]
     },
     "execution_count": 225,
     "metadata": {},
     "output_type": "execute_result"
    }
   ],
   "source": [
    "VOCAB_SIZE = len(dictionary) + 1\n",
    "VOCAB_SIZE"
   ]
  },
  {
   "cell_type": "code",
   "execution_count": 226,
   "metadata": {},
   "outputs": [
    {
     "data": {
      "text/plain": [
       "([12, 22, 12, 15, 12], [31197, 31197, 31197, 31197, 31197])"
      ]
     },
     "execution_count": 226,
     "metadata": {},
     "output_type": "execute_result"
    }
   ],
   "source": [
    "phrased_reviews_padded_index[0][:5], phrased_reviews_padded_index[0][-5:]"
   ]
  },
  {
   "cell_type": "code",
   "execution_count": 227,
   "metadata": {},
   "outputs": [
    {
     "data": {
      "text/plain": [
       "(10000, 50)"
      ]
     },
     "execution_count": 227,
     "metadata": {},
     "output_type": "execute_result"
    }
   ],
   "source": [
    "phrased_reviews_padded_index = np.array(phrased_reviews_padded_index)\n",
    "phrased_reviews_padded_index.shape"
   ]
  },
  {
   "cell_type": "markdown",
   "metadata": {},
   "source": [
    "## Extract target"
   ]
  },
  {
   "cell_type": "code",
   "execution_count": 228,
   "metadata": {},
   "outputs": [],
   "source": [
    "def generate_stars():\n",
    "    reviews = textacy.io.read_json(RAW_REVIEW_JSON, mode='rt', lines=True)\n",
    "    for review in reviews:\n",
    "        yield(review['stars'])"
   ]
  },
  {
   "cell_type": "code",
   "execution_count": 229,
   "metadata": {},
   "outputs": [
    {
     "data": {
      "text/plain": [
       "[5, 5, 5, 5, 4]"
      ]
     },
     "execution_count": 229,
     "metadata": {},
     "output_type": "execute_result"
    }
   ],
   "source": [
    "stars = [star for star, _ in zip(generate_stars(), range(MAX_NUM))]\n",
    "stars[:5]"
   ]
  },
  {
   "cell_type": "code",
   "execution_count": 230,
   "metadata": {},
   "outputs": [
    {
     "data": {
      "text/plain": [
       "(10000, 1)"
      ]
     },
     "execution_count": 230,
     "metadata": {},
     "output_type": "execute_result"
    }
   ],
   "source": [
    "stars = np.array(stars).reshape(-1,1)\n",
    "stars.shape"
   ]
  },
  {
   "cell_type": "code",
   "execution_count": 231,
   "metadata": {},
   "outputs": [
    {
     "name": "stderr",
     "output_type": "stream",
     "text": [
      "/Users/shiwang/anaconda3/lib/python3.6/site-packages/matplotlib/axes/_axes.py:6462: UserWarning: The 'normed' kwarg is deprecated, and has been replaced by the 'density' kwarg.\n",
      "  warnings.warn(\"The 'normed' kwarg is deprecated, and has been \"\n"
     ]
    },
    {
     "data": {
      "text/plain": [
       "<matplotlib.axes._subplots.AxesSubplot at 0x10f7ee7b8>"
      ]
     },
     "execution_count": 231,
     "metadata": {},
     "output_type": "execute_result"
    },
    {
     "data": {
      "image/png": "[encoded data removed]",
      "text/plain": [
       "<Figure size 432x288 with 1 Axes>"
      ]
     },
     "metadata": {},
     "output_type": "display_data"
    }
   ],
   "source": [
    "sns.distplot(stars,kde=False)"
   ]
  },
  {
   "cell_type": "markdown",
   "metadata": {},
   "source": [
    "## Generate Training and Testing set"
   ]
  },
  {
   "cell_type": "code",
   "execution_count": 279,
   "metadata": {},
   "outputs": [
    {
     "data": {
      "text/plain": [
       "(10000, 51)"
      ]
     },
     "execution_count": 279,
     "metadata": {},
     "output_type": "execute_result"
    }
   ],
   "source": [
    "data = np.append(phrased_reviews_padded_index, stars,axis = 1) # continous\n",
    "data.shape"
   ]
  },
  {
   "cell_type": "code",
   "execution_count": 274,
   "metadata": {},
   "outputs": [
    {
     "data": {
      "text/plain": [
       "(8284, 51)"
      ]
     },
     "execution_count": 274,
     "metadata": {},
     "output_type": "execute_result"
    }
   ],
   "source": [
    "data = np.append(phrased_reviews_padded_index, stars,axis = 1) #binary\n",
    "data = data[data[:,-1] != 3]\n",
    "data[:,-1] = [0 if x < 3 else 1 for x in data[:,-1]]\n",
    "data.shape"
   ]
  },
  {
   "cell_type": "code",
   "execution_count": 280,
   "metadata": {},
   "outputs": [],
   "source": [
    "random.seed(1)\n",
    "np.random.shuffle(data)\n",
    "train, test = train_test_split(data, test_size = 0.15,random_state = 0)\n",
    "X_train = train[:,:-1]\n",
    "X_test = test[:,:-1]\n",
    "Y_train = train[:,-1]\n",
    "Y_test = test[:,-1]"
   ]
  },
  {
   "cell_type": "markdown",
   "metadata": {},
   "source": [
    "## Define LSTM network"
   ]
  },
  {
   "cell_type": "code",
   "execution_count": 281,
   "metadata": {},
   "outputs": [],
   "source": [
    "MAX_LEN = 50\n",
    "VOCAB_SIZE\n",
    "embedding_dim = 25\n",
    "lstm_units = 120\n",
    "batch_size = 64"
   ]
  },
  {
   "cell_type": "code",
   "execution_count": 282,
   "metadata": {},
   "outputs": [
    {
     "name": "stderr",
     "output_type": "stream",
     "text": [
      "/Users/shiwang/anaconda3/lib/python3.6/site-packages/tensorflow/python/util/tf_inspect.py:55: DeprecationWarning: inspect.getargspec() is deprecated, use inspect.signature() or inspect.getfullargspec()\n",
      "  if d.decorator_argspec is not None), _inspect.getargspec(target))\n",
      "/Users/shiwang/anaconda3/lib/python3.6/site-packages/tensorflow/python/util/tf_inspect.py:55: DeprecationWarning: inspect.getargspec() is deprecated, use inspect.signature() or inspect.getfullargspec()\n",
      "  if d.decorator_argspec is not None), _inspect.getargspec(target))\n",
      "/Users/shiwang/anaconda3/lib/python3.6/site-packages/tensorflow/python/util/tf_inspect.py:55: DeprecationWarning: inspect.getargspec() is deprecated, use inspect.signature() or inspect.getfullargspec()\n",
      "  if d.decorator_argspec is not None), _inspect.getargspec(target))\n",
      "/Users/shiwang/anaconda3/lib/python3.6/site-packages/tensorflow/python/util/tf_inspect.py:55: DeprecationWarning: inspect.getargspec() is deprecated, use inspect.signature() or inspect.getfullargspec()\n",
      "  if d.decorator_argspec is not None), _inspect.getargspec(target))\n",
      "/Users/shiwang/anaconda3/lib/python3.6/site-packages/tensorflow/python/util/tf_inspect.py:55: DeprecationWarning: inspect.getargspec() is deprecated, use inspect.signature() or inspect.getfullargspec()\n",
      "  if d.decorator_argspec is not None), _inspect.getargspec(target))\n",
      "/Users/shiwang/anaconda3/lib/python3.6/site-packages/tensorflow/python/util/tf_inspect.py:55: DeprecationWarning: inspect.getargspec() is deprecated, use inspect.signature() or inspect.getfullargspec()\n",
      "  if d.decorator_argspec is not None), _inspect.getargspec(target))\n",
      "/Users/shiwang/anaconda3/lib/python3.6/site-packages/tensorflow/python/util/tf_inspect.py:55: DeprecationWarning: inspect.getargspec() is deprecated, use inspect.signature() or inspect.getfullargspec()\n",
      "  if d.decorator_argspec is not None), _inspect.getargspec(target))\n",
      "/Users/shiwang/anaconda3/lib/python3.6/site-packages/tensorflow/python/util/tf_inspect.py:55: DeprecationWarning: inspect.getargspec() is deprecated, use inspect.signature() or inspect.getfullargspec()\n",
      "  if d.decorator_argspec is not None), _inspect.getargspec(target))\n",
      "/Users/shiwang/anaconda3/lib/python3.6/site-packages/tensorflow/python/util/tf_inspect.py:55: DeprecationWarning: inspect.getargspec() is deprecated, use inspect.signature() or inspect.getfullargspec()\n",
      "  if d.decorator_argspec is not None), _inspect.getargspec(target))\n",
      "/Users/shiwang/anaconda3/lib/python3.6/site-packages/tensorflow/python/util/tf_inspect.py:55: DeprecationWarning: inspect.getargspec() is deprecated, use inspect.signature() or inspect.getfullargspec()\n",
      "  if d.decorator_argspec is not None), _inspect.getargspec(target))\n"
     ]
    },
    {
     "name": "stdout",
     "output_type": "stream",
     "text": [
      "_________________________________________________________________\n",
      "Layer (type)                 Output Shape              Param #   \n",
      "=================================================================\n",
      "embedding_14 (Embedding)     (None, 50, 25)            779950    \n",
      "_________________________________________________________________\n",
      "spatial_dropout1d_14 (Spatia (None, 50, 25)            0         \n",
      "_________________________________________________________________\n",
      "lstm_13 (LSTM)               (None, 120)               70080     \n",
      "_________________________________________________________________\n",
      "dense_15 (Dense)             (None, 60)                7260      \n",
      "_________________________________________________________________\n",
      "dropout_3 (Dropout)          (None, 60)                0         \n",
      "_________________________________________________________________\n",
      "dense_16 (Dense)             (None, 1)                 61        \n",
      "=================================================================\n",
      "Total params: 857,351\n",
      "Trainable params: 857,351\n",
      "Non-trainable params: 0\n",
      "_________________________________________________________________\n"
     ]
    },
    {
     "name": "stderr",
     "output_type": "stream",
     "text": [
      "/Users/shiwang/anaconda3/lib/python3.6/site-packages/tensorflow/python/util/tf_inspect.py:55: DeprecationWarning: inspect.getargspec() is deprecated, use inspect.signature() or inspect.getfullargspec()\n",
      "  if d.decorator_argspec is not None), _inspect.getargspec(target))\n"
     ]
    }
   ],
   "source": [
    "model = Sequential()\n",
    "model.add(Embedding(input_dim = VOCAB_SIZE, \n",
    "                    output_dim = embedding_dim, \n",
    "                    input_length = MAX_LEN))\n",
    "model.add(SpatialDropout1D(0.5))\n",
    "model.add(LSTM(units = lstm_units, \n",
    "               dropout = 0.2,  \n",
    "               recurrent_dropout = 0.2))\n",
    "model.add(Dense(60, activation='relu'))\n",
    "model.add(Dropout(rate = 0.5))\n",
    "model.add(Dense(1, activation='relu')) # continous\n",
    "#model.add(Dense(1, activation='sigmoid')) # binary\n",
    "model.summary()"
   ]
  },
  {
   "cell_type": "markdown",
   "metadata": {},
   "source": [
    "## Model training"
   ]
  },
  {
   "cell_type": "code",
   "execution_count": 278,
   "metadata": {},
   "outputs": [
    {
     "name": "stderr",
     "output_type": "stream",
     "text": [
      "/Users/shiwang/anaconda3/lib/python3.6/site-packages/tensorflow/python/util/tf_inspect.py:55: DeprecationWarning: inspect.getargspec() is deprecated, use inspect.signature() or inspect.getfullargspec()\n",
      "  if d.decorator_argspec is not None), _inspect.getargspec(target))\n",
      "/Users/shiwang/anaconda3/lib/python3.6/site-packages/tensorflow/python/util/tf_inspect.py:55: DeprecationWarning: inspect.getargspec() is deprecated, use inspect.signature() or inspect.getfullargspec()\n",
      "  if d.decorator_argspec is not None), _inspect.getargspec(target))\n",
      "/Users/shiwang/anaconda3/lib/python3.6/site-packages/tensorflow/python/util/tf_inspect.py:55: DeprecationWarning: inspect.getargspec() is deprecated, use inspect.signature() or inspect.getfullargspec()\n",
      "  if d.decorator_argspec is not None), _inspect.getargspec(target))\n",
      "/Users/shiwang/anaconda3/lib/python3.6/site-packages/tensorflow/python/util/tf_inspect.py:55: DeprecationWarning: inspect.getargspec() is deprecated, use inspect.signature() or inspect.getfullargspec()\n",
      "  if d.decorator_argspec is not None), _inspect.getargspec(target))\n",
      "/Users/shiwang/anaconda3/lib/python3.6/site-packages/tensorflow/python/util/tf_inspect.py:55: DeprecationWarning: inspect.getargspec() is deprecated, use inspect.signature() or inspect.getfullargspec()\n",
      "  if d.decorator_argspec is not None), _inspect.getargspec(target))\n",
      "/Users/shiwang/anaconda3/lib/python3.6/site-packages/tensorflow/python/util/tf_inspect.py:55: DeprecationWarning: inspect.getargspec() is deprecated, use inspect.signature() or inspect.getfullargspec()\n",
      "  if d.decorator_argspec is not None), _inspect.getargspec(target))\n",
      "/Users/shiwang/anaconda3/lib/python3.6/site-packages/tensorflow/python/util/tf_inspect.py:55: DeprecationWarning: inspect.getargspec() is deprecated, use inspect.signature() or inspect.getfullargspec()\n",
      "  if d.decorator_argspec is not None), _inspect.getargspec(target))\n",
      "/Users/shiwang/anaconda3/lib/python3.6/site-packages/tensorflow/python/util/tf_inspect.py:55: DeprecationWarning: inspect.getargspec() is deprecated, use inspect.signature() or inspect.getfullargspec()\n",
      "  if d.decorator_argspec is not None), _inspect.getargspec(target))\n",
      "/Users/shiwang/anaconda3/lib/python3.6/site-packages/tensorflow/python/util/tf_inspect.py:55: DeprecationWarning: inspect.getargspec() is deprecated, use inspect.signature() or inspect.getfullargspec()\n",
      "  if d.decorator_argspec is not None), _inspect.getargspec(target))\n",
      "/Users/shiwang/anaconda3/lib/python3.6/site-packages/tensorflow/python/util/tf_inspect.py:55: DeprecationWarning: inspect.getargspec() is deprecated, use inspect.signature() or inspect.getfullargspec()\n",
      "  if d.decorator_argspec is not None), _inspect.getargspec(target))\n",
      "/Users/shiwang/anaconda3/lib/python3.6/site-packages/tensorflow/python/util/tf_inspect.py:55: DeprecationWarning: inspect.getargspec() is deprecated, use inspect.signature() or inspect.getfullargspec()\n",
      "  if d.decorator_argspec is not None), _inspect.getargspec(target))\n",
      "/Users/shiwang/anaconda3/lib/python3.6/site-packages/tensorflow/python/util/tf_inspect.py:55: DeprecationWarning: inspect.getargspec() is deprecated, use inspect.signature() or inspect.getfullargspec()\n",
      "  if d.decorator_argspec is not None), _inspect.getargspec(target))\n",
      "/Users/shiwang/anaconda3/lib/python3.6/site-packages/tensorflow/python/util/tf_inspect.py:55: DeprecationWarning: inspect.getargspec() is deprecated, use inspect.signature() or inspect.getfullargspec()\n",
      "  if d.decorator_argspec is not None), _inspect.getargspec(target))\n",
      "/Users/shiwang/anaconda3/lib/python3.6/site-packages/tensorflow/python/util/tf_inspect.py:55: DeprecationWarning: inspect.getargspec() is deprecated, use inspect.signature() or inspect.getfullargspec()\n",
      "  if d.decorator_argspec is not None), _inspect.getargspec(target))\n",
      "/Users/shiwang/anaconda3/lib/python3.6/site-packages/tensorflow/python/util/tf_inspect.py:55: DeprecationWarning: inspect.getargspec() is deprecated, use inspect.signature() or inspect.getfullargspec()\n",
      "  if d.decorator_argspec is not None), _inspect.getargspec(target))\n",
      "/Users/shiwang/anaconda3/lib/python3.6/site-packages/tensorflow/python/util/tf_inspect.py:55: DeprecationWarning: inspect.getargspec() is deprecated, use inspect.signature() or inspect.getfullargspec()\n",
      "  if d.decorator_argspec is not None), _inspect.getargspec(target))\n",
      "/Users/shiwang/anaconda3/lib/python3.6/site-packages/tensorflow/python/util/tf_inspect.py:55: DeprecationWarning: inspect.getargspec() is deprecated, use inspect.signature() or inspect.getfullargspec()\n",
      "  if d.decorator_argspec is not None), _inspect.getargspec(target))\n",
      "/Users/shiwang/anaconda3/lib/python3.6/site-packages/tensorflow/python/util/tf_inspect.py:55: DeprecationWarning: inspect.getargspec() is deprecated, use inspect.signature() or inspect.getfullargspec()\n",
      "  if d.decorator_argspec is not None), _inspect.getargspec(target))\n",
      "/Users/shiwang/anaconda3/lib/python3.6/site-packages/tensorflow/python/util/tf_inspect.py:55: DeprecationWarning: inspect.getargspec() is deprecated, use inspect.signature() or inspect.getfullargspec()\n",
      "  if d.decorator_argspec is not None), _inspect.getargspec(target))\n",
      "/Users/shiwang/anaconda3/lib/python3.6/site-packages/tensorflow/python/util/tf_inspect.py:55: DeprecationWarning: inspect.getargspec() is deprecated, use inspect.signature() or inspect.getfullargspec()\n",
      "  if d.decorator_argspec is not None), _inspect.getargspec(target))\n",
      "/Users/shiwang/anaconda3/lib/python3.6/site-packages/tensorflow/python/util/tf_inspect.py:55: DeprecationWarning: inspect.getargspec() is deprecated, use inspect.signature() or inspect.getfullargspec()\n",
      "  if d.decorator_argspec is not None), _inspect.getargspec(target))\n",
      "/Users/shiwang/anaconda3/lib/python3.6/site-packages/tensorflow/python/util/tf_inspect.py:55: DeprecationWarning: inspect.getargspec() is deprecated, use inspect.signature() or inspect.getfullargspec()\n",
      "  if d.decorator_argspec is not None), _inspect.getargspec(target))\n",
      "/Users/shiwang/anaconda3/lib/python3.6/site-packages/tensorflow/python/util/tf_inspect.py:55: DeprecationWarning: inspect.getargspec() is deprecated, use inspect.signature() or inspect.getfullargspec()\n",
      "  if d.decorator_argspec is not None), _inspect.getargspec(target))\n",
      "/Users/shiwang/anaconda3/lib/python3.6/site-packages/tensorflow/python/util/tf_inspect.py:55: DeprecationWarning: inspect.getargspec() is deprecated, use inspect.signature() or inspect.getfullargspec()\n",
      "  if d.decorator_argspec is not None), _inspect.getargspec(target))\n",
      "/Users/shiwang/anaconda3/lib/python3.6/site-packages/tensorflow/python/util/tf_inspect.py:55: DeprecationWarning: inspect.getargspec() is deprecated, use inspect.signature() or inspect.getfullargspec()\n",
      "  if d.decorator_argspec is not None), _inspect.getargspec(target))\n",
      "/Users/shiwang/anaconda3/lib/python3.6/site-packages/tensorflow/python/util/tf_inspect.py:55: DeprecationWarning: inspect.getargspec() is deprecated, use inspect.signature() or inspect.getfullargspec()\n",
      "  if d.decorator_argspec is not None), _inspect.getargspec(target))\n",
      "/Users/shiwang/anaconda3/lib/python3.6/site-packages/tensorflow/python/util/tf_inspect.py:55: DeprecationWarning: inspect.getargspec() is deprecated, use inspect.signature() or inspect.getfullargspec()\n",
      "  if d.decorator_argspec is not None), _inspect.getargspec(target))\n",
      "/Users/shiwang/anaconda3/lib/python3.6/site-packages/tensorflow/python/util/tf_inspect.py:55: DeprecationWarning: inspect.getargspec() is deprecated, use inspect.signature() or inspect.getfullargspec()\n",
      "  if d.decorator_argspec is not None), _inspect.getargspec(target))\n",
      "/Users/shiwang/anaconda3/lib/python3.6/site-packages/tensorflow/python/util/tf_inspect.py:55: DeprecationWarning: inspect.getargspec() is deprecated, use inspect.signature() or inspect.getfullargspec()\n",
      "  if d.decorator_argspec is not None), _inspect.getargspec(target))\n",
      "/Users/shiwang/anaconda3/lib/python3.6/site-packages/tensorflow/python/util/tf_inspect.py:55: DeprecationWarning: inspect.getargspec() is deprecated, use inspect.signature() or inspect.getfullargspec()\n",
      "  if d.decorator_argspec is not None), _inspect.getargspec(target))\n",
      "/Users/shiwang/anaconda3/lib/python3.6/site-packages/tensorflow/python/util/tf_inspect.py:55: DeprecationWarning: inspect.getargspec() is deprecated, use inspect.signature() or inspect.getfullargspec()\n",
      "  if d.decorator_argspec is not None), _inspect.getargspec(target))\n",
      "/Users/shiwang/anaconda3/lib/python3.6/site-packages/tensorflow/python/util/tf_inspect.py:55: DeprecationWarning: inspect.getargspec() is deprecated, use inspect.signature() or inspect.getfullargspec()\n",
      "  if d.decorator_argspec is not None), _inspect.getargspec(target))\n",
      "/Users/shiwang/anaconda3/lib/python3.6/site-packages/tensorflow/python/util/tf_inspect.py:55: DeprecationWarning: inspect.getargspec() is deprecated, use inspect.signature() or inspect.getfullargspec()\n",
      "  if d.decorator_argspec is not None), _inspect.getargspec(target))\n",
      "/Users/shiwang/anaconda3/lib/python3.6/site-packages/tensorflow/python/util/tf_inspect.py:55: DeprecationWarning: inspect.getargspec() is deprecated, use inspect.signature() or inspect.getfullargspec()\n",
      "  if d.decorator_argspec is not None), _inspect.getargspec(target))\n",
      "/Users/shiwang/anaconda3/lib/python3.6/site-packages/tensorflow/python/util/tf_inspect.py:55: DeprecationWarning: inspect.getargspec() is deprecated, use inspect.signature() or inspect.getfullargspec()\n",
      "  if d.decorator_argspec is not None), _inspect.getargspec(target))\n"
     ]
    },
    {
     "name": "stderr",
     "output_type": "stream",
     "text": [
      "/Users/shiwang/anaconda3/lib/python3.6/site-packages/tensorflow/python/util/tf_inspect.py:55: DeprecationWarning: inspect.getargspec() is deprecated, use inspect.signature() or inspect.getfullargspec()\n",
      "  if d.decorator_argspec is not None), _inspect.getargspec(target))\n",
      "/Users/shiwang/anaconda3/lib/python3.6/site-packages/tensorflow/python/util/tf_inspect.py:55: DeprecationWarning: inspect.getargspec() is deprecated, use inspect.signature() or inspect.getfullargspec()\n",
      "  if d.decorator_argspec is not None), _inspect.getargspec(target))\n",
      "/Users/shiwang/anaconda3/lib/python3.6/site-packages/tensorflow/python/util/tf_inspect.py:55: DeprecationWarning: inspect.getargspec() is deprecated, use inspect.signature() or inspect.getfullargspec()\n",
      "  if d.decorator_argspec is not None), _inspect.getargspec(target))\n",
      "/Users/shiwang/anaconda3/lib/python3.6/site-packages/tensorflow/python/util/tf_inspect.py:55: DeprecationWarning: inspect.getargspec() is deprecated, use inspect.signature() or inspect.getfullargspec()\n",
      "  if d.decorator_argspec is not None), _inspect.getargspec(target))\n",
      "/Users/shiwang/anaconda3/lib/python3.6/site-packages/tensorflow/python/util/tf_inspect.py:55: DeprecationWarning: inspect.getargspec() is deprecated, use inspect.signature() or inspect.getfullargspec()\n",
      "  if d.decorator_argspec is not None), _inspect.getargspec(target))\n",
      "/Users/shiwang/anaconda3/lib/python3.6/site-packages/tensorflow/python/util/tf_inspect.py:55: DeprecationWarning: inspect.getargspec() is deprecated, use inspect.signature() or inspect.getfullargspec()\n",
      "  if d.decorator_argspec is not None), _inspect.getargspec(target))\n",
      "/Users/shiwang/anaconda3/lib/python3.6/site-packages/tensorflow/python/util/tf_inspect.py:55: DeprecationWarning: inspect.getargspec() is deprecated, use inspect.signature() or inspect.getfullargspec()\n",
      "  if d.decorator_argspec is not None), _inspect.getargspec(target))\n",
      "/Users/shiwang/anaconda3/lib/python3.6/site-packages/tensorflow/python/util/tf_inspect.py:55: DeprecationWarning: inspect.getargspec() is deprecated, use inspect.signature() or inspect.getfullargspec()\n",
      "  if d.decorator_argspec is not None), _inspect.getargspec(target))\n",
      "/Users/shiwang/anaconda3/lib/python3.6/site-packages/tensorflow/python/util/tf_inspect.py:55: DeprecationWarning: inspect.getargspec() is deprecated, use inspect.signature() or inspect.getfullargspec()\n",
      "  if d.decorator_argspec is not None), _inspect.getargspec(target))\n",
      "/Users/shiwang/anaconda3/lib/python3.6/site-packages/tensorflow/python/util/tf_inspect.py:55: DeprecationWarning: inspect.getargspec() is deprecated, use inspect.signature() or inspect.getfullargspec()\n",
      "  if d.decorator_argspec is not None), _inspect.getargspec(target))\n",
      "/Users/shiwang/anaconda3/lib/python3.6/site-packages/tensorflow/python/util/tf_inspect.py:55: DeprecationWarning: inspect.getargspec() is deprecated, use inspect.signature() or inspect.getfullargspec()\n",
      "  if d.decorator_argspec is not None), _inspect.getargspec(target))\n",
      "/Users/shiwang/anaconda3/lib/python3.6/site-packages/tensorflow/python/util/tf_inspect.py:55: DeprecationWarning: inspect.getargspec() is deprecated, use inspect.signature() or inspect.getfullargspec()\n",
      "  if d.decorator_argspec is not None), _inspect.getargspec(target))\n",
      "/Users/shiwang/anaconda3/lib/python3.6/site-packages/tensorflow/python/util/tf_inspect.py:55: DeprecationWarning: inspect.getargspec() is deprecated, use inspect.signature() or inspect.getfullargspec()\n",
      "  if d.decorator_argspec is not None), _inspect.getargspec(target))\n",
      "/Users/shiwang/anaconda3/lib/python3.6/site-packages/tensorflow/python/util/tf_inspect.py:55: DeprecationWarning: inspect.getargspec() is deprecated, use inspect.signature() or inspect.getfullargspec()\n",
      "  if d.decorator_argspec is not None), _inspect.getargspec(target))\n",
      "/Users/shiwang/anaconda3/lib/python3.6/site-packages/tensorflow/python/util/tf_inspect.py:55: DeprecationWarning: inspect.getargspec() is deprecated, use inspect.signature() or inspect.getfullargspec()\n",
      "  if d.decorator_argspec is not None), _inspect.getargspec(target))\n",
      "/Users/shiwang/anaconda3/lib/python3.6/site-packages/tensorflow/python/util/tf_inspect.py:55: DeprecationWarning: inspect.getargspec() is deprecated, use inspect.signature() or inspect.getfullargspec()\n",
      "  if d.decorator_argspec is not None), _inspect.getargspec(target))\n",
      "/Users/shiwang/anaconda3/lib/python3.6/site-packages/tensorflow/python/util/tf_inspect.py:55: DeprecationWarning: inspect.getargspec() is deprecated, use inspect.signature() or inspect.getfullargspec()\n",
      "  if d.decorator_argspec is not None), _inspect.getargspec(target))\n",
      "/Users/shiwang/anaconda3/lib/python3.6/site-packages/tensorflow/python/util/tf_inspect.py:55: DeprecationWarning: inspect.getargspec() is deprecated, use inspect.signature() or inspect.getfullargspec()\n",
      "  if d.decorator_argspec is not None), _inspect.getargspec(target))\n",
      "/Users/shiwang/anaconda3/lib/python3.6/site-packages/tensorflow/python/util/tf_inspect.py:55: DeprecationWarning: inspect.getargspec() is deprecated, use inspect.signature() or inspect.getfullargspec()\n",
      "  if d.decorator_argspec is not None), _inspect.getargspec(target))\n",
      "/Users/shiwang/anaconda3/lib/python3.6/site-packages/tensorflow/python/util/tf_inspect.py:55: DeprecationWarning: inspect.getargspec() is deprecated, use inspect.signature() or inspect.getfullargspec()\n",
      "  if d.decorator_argspec is not None), _inspect.getargspec(target))\n",
      "/Users/shiwang/anaconda3/lib/python3.6/site-packages/tensorflow/python/util/tf_inspect.py:55: DeprecationWarning: inspect.getargspec() is deprecated, use inspect.signature() or inspect.getfullargspec()\n",
      "  if d.decorator_argspec is not None), _inspect.getargspec(target))\n",
      "/Users/shiwang/anaconda3/lib/python3.6/site-packages/tensorflow/python/util/tf_inspect.py:55: DeprecationWarning: inspect.getargspec() is deprecated, use inspect.signature() or inspect.getfullargspec()\n",
      "  if d.decorator_argspec is not None), _inspect.getargspec(target))\n",
      "/Users/shiwang/anaconda3/lib/python3.6/site-packages/tensorflow/python/util/tf_inspect.py:55: DeprecationWarning: inspect.getargspec() is deprecated, use inspect.signature() or inspect.getfullargspec()\n",
      "  if d.decorator_argspec is not None), _inspect.getargspec(target))\n",
      "/Users/shiwang/anaconda3/lib/python3.6/site-packages/tensorflow/python/util/tf_inspect.py:55: DeprecationWarning: inspect.getargspec() is deprecated, use inspect.signature() or inspect.getfullargspec()\n",
      "  if d.decorator_argspec is not None), _inspect.getargspec(target))\n",
      "/Users/shiwang/anaconda3/lib/python3.6/site-packages/tensorflow/python/util/tf_inspect.py:55: DeprecationWarning: inspect.getargspec() is deprecated, use inspect.signature() or inspect.getfullargspec()\n",
      "  if d.decorator_argspec is not None), _inspect.getargspec(target))\n",
      "/Users/shiwang/anaconda3/lib/python3.6/site-packages/tensorflow/python/util/tf_inspect.py:55: DeprecationWarning: inspect.getargspec() is deprecated, use inspect.signature() or inspect.getfullargspec()\n",
      "  if d.decorator_argspec is not None), _inspect.getargspec(target))\n",
      "/Users/shiwang/anaconda3/lib/python3.6/site-packages/tensorflow/python/util/tf_inspect.py:55: DeprecationWarning: inspect.getargspec() is deprecated, use inspect.signature() or inspect.getfullargspec()\n",
      "  if d.decorator_argspec is not None), _inspect.getargspec(target))\n",
      "/Users/shiwang/anaconda3/lib/python3.6/site-packages/tensorflow/python/util/tf_inspect.py:55: DeprecationWarning: inspect.getargspec() is deprecated, use inspect.signature() or inspect.getfullargspec()\n",
      "  if d.decorator_argspec is not None), _inspect.getargspec(target))\n",
      "/Users/shiwang/anaconda3/lib/python3.6/site-packages/tensorflow/python/util/tf_inspect.py:55: DeprecationWarning: inspect.getargspec() is deprecated, use inspect.signature() or inspect.getfullargspec()\n",
      "  if d.decorator_argspec is not None), _inspect.getargspec(target))\n",
      "/Users/shiwang/anaconda3/lib/python3.6/site-packages/tensorflow/python/util/tf_inspect.py:55: DeprecationWarning: inspect.getargspec() is deprecated, use inspect.signature() or inspect.getfullargspec()\n",
      "  if d.decorator_argspec is not None), _inspect.getargspec(target))\n",
      "/Users/shiwang/anaconda3/lib/python3.6/site-packages/tensorflow/python/util/tf_inspect.py:55: DeprecationWarning: inspect.getargspec() is deprecated, use inspect.signature() or inspect.getfullargspec()\n",
      "  if d.decorator_argspec is not None), _inspect.getargspec(target))\n",
      "/Users/shiwang/anaconda3/lib/python3.6/site-packages/tensorflow/python/util/tf_inspect.py:55: DeprecationWarning: inspect.getargspec() is deprecated, use inspect.signature() or inspect.getfullargspec()\n",
      "  if d.decorator_argspec is not None), _inspect.getargspec(target))\n",
      "/Users/shiwang/anaconda3/lib/python3.6/site-packages/tensorflow/python/util/tf_inspect.py:55: DeprecationWarning: inspect.getargspec() is deprecated, use inspect.signature() or inspect.getfullargspec()\n",
      "  if d.decorator_argspec is not None), _inspect.getargspec(target))\n"
     ]
    },
    {
     "name": "stderr",
     "output_type": "stream",
     "text": [
      "/Users/shiwang/anaconda3/lib/python3.6/site-packages/tensorflow/python/util/tf_inspect.py:55: DeprecationWarning: inspect.getargspec() is deprecated, use inspect.signature() or inspect.getfullargspec()\n",
      "  if d.decorator_argspec is not None), _inspect.getargspec(target))\n",
      "/Users/shiwang/anaconda3/lib/python3.6/site-packages/tensorflow/python/util/tf_inspect.py:55: DeprecationWarning: inspect.getargspec() is deprecated, use inspect.signature() or inspect.getfullargspec()\n",
      "  if d.decorator_argspec is not None), _inspect.getargspec(target))\n",
      "/Users/shiwang/anaconda3/lib/python3.6/site-packages/tensorflow/python/util/tf_inspect.py:55: DeprecationWarning: inspect.getargspec() is deprecated, use inspect.signature() or inspect.getfullargspec()\n",
      "  if d.decorator_argspec is not None), _inspect.getargspec(target))\n",
      "/Users/shiwang/anaconda3/lib/python3.6/site-packages/tensorflow/python/util/tf_inspect.py:55: DeprecationWarning: inspect.getargspec() is deprecated, use inspect.signature() or inspect.getfullargspec()\n",
      "  if d.decorator_argspec is not None), _inspect.getargspec(target))\n",
      "/Users/shiwang/anaconda3/lib/python3.6/site-packages/tensorflow/python/util/tf_inspect.py:55: DeprecationWarning: inspect.getargspec() is deprecated, use inspect.signature() or inspect.getfullargspec()\n",
      "  if d.decorator_argspec is not None), _inspect.getargspec(target))\n",
      "/Users/shiwang/anaconda3/lib/python3.6/site-packages/tensorflow/python/util/tf_inspect.py:55: DeprecationWarning: inspect.getargspec() is deprecated, use inspect.signature() or inspect.getfullargspec()\n",
      "  if d.decorator_argspec is not None), _inspect.getargspec(target))\n",
      "/Users/shiwang/anaconda3/lib/python3.6/site-packages/tensorflow/python/util/tf_inspect.py:55: DeprecationWarning: inspect.getargspec() is deprecated, use inspect.signature() or inspect.getfullargspec()\n",
      "  if d.decorator_argspec is not None), _inspect.getargspec(target))\n",
      "/Users/shiwang/anaconda3/lib/python3.6/site-packages/tensorflow/python/util/tf_inspect.py:55: DeprecationWarning: inspect.getargspec() is deprecated, use inspect.signature() or inspect.getfullargspec()\n",
      "  if d.decorator_argspec is not None), _inspect.getargspec(target))\n",
      "/Users/shiwang/anaconda3/lib/python3.6/site-packages/tensorflow/python/util/tf_inspect.py:55: DeprecationWarning: inspect.getargspec() is deprecated, use inspect.signature() or inspect.getfullargspec()\n",
      "  if d.decorator_argspec is not None), _inspect.getargspec(target))\n",
      "/Users/shiwang/anaconda3/lib/python3.6/site-packages/tensorflow/python/util/tf_inspect.py:55: DeprecationWarning: inspect.getargspec() is deprecated, use inspect.signature() or inspect.getfullargspec()\n",
      "  if d.decorator_argspec is not None), _inspect.getargspec(target))\n",
      "/Users/shiwang/anaconda3/lib/python3.6/site-packages/tensorflow/python/util/tf_inspect.py:55: DeprecationWarning: inspect.getargspec() is deprecated, use inspect.signature() or inspect.getfullargspec()\n",
      "  if d.decorator_argspec is not None), _inspect.getargspec(target))\n",
      "/Users/shiwang/anaconda3/lib/python3.6/site-packages/tensorflow/python/util/tf_inspect.py:55: DeprecationWarning: inspect.getargspec() is deprecated, use inspect.signature() or inspect.getfullargspec()\n",
      "  if d.decorator_argspec is not None), _inspect.getargspec(target))\n",
      "/Users/shiwang/anaconda3/lib/python3.6/site-packages/tensorflow/python/util/tf_inspect.py:55: DeprecationWarning: inspect.getargspec() is deprecated, use inspect.signature() or inspect.getfullargspec()\n",
      "  if d.decorator_argspec is not None), _inspect.getargspec(target))\n",
      "/Users/shiwang/anaconda3/lib/python3.6/site-packages/tensorflow/python/util/tf_inspect.py:55: DeprecationWarning: inspect.getargspec() is deprecated, use inspect.signature() or inspect.getfullargspec()\n",
      "  if d.decorator_argspec is not None), _inspect.getargspec(target))\n",
      "/Users/shiwang/anaconda3/lib/python3.6/site-packages/tensorflow/python/util/tf_inspect.py:55: DeprecationWarning: inspect.getargspec() is deprecated, use inspect.signature() or inspect.getfullargspec()\n",
      "  if d.decorator_argspec is not None), _inspect.getargspec(target))\n",
      "/Users/shiwang/anaconda3/lib/python3.6/site-packages/tensorflow/python/util/tf_inspect.py:55: DeprecationWarning: inspect.getargspec() is deprecated, use inspect.signature() or inspect.getfullargspec()\n",
      "  if d.decorator_argspec is not None), _inspect.getargspec(target))\n",
      "/Users/shiwang/anaconda3/lib/python3.6/site-packages/tensorflow/python/util/tf_inspect.py:55: DeprecationWarning: inspect.getargspec() is deprecated, use inspect.signature() or inspect.getfullargspec()\n",
      "  if d.decorator_argspec is not None), _inspect.getargspec(target))\n",
      "/Users/shiwang/anaconda3/lib/python3.6/site-packages/tensorflow/python/util/tf_inspect.py:55: DeprecationWarning: inspect.getargspec() is deprecated, use inspect.signature() or inspect.getfullargspec()\n",
      "  if d.decorator_argspec is not None), _inspect.getargspec(target))\n",
      "/Users/shiwang/anaconda3/lib/python3.6/site-packages/tensorflow/python/util/tf_inspect.py:55: DeprecationWarning: inspect.getargspec() is deprecated, use inspect.signature() or inspect.getfullargspec()\n",
      "  if d.decorator_argspec is not None), _inspect.getargspec(target))\n",
      "/Users/shiwang/anaconda3/lib/python3.6/site-packages/tensorflow/python/util/tf_inspect.py:55: DeprecationWarning: inspect.getargspec() is deprecated, use inspect.signature() or inspect.getfullargspec()\n",
      "  if d.decorator_argspec is not None), _inspect.getargspec(target))\n",
      "/Users/shiwang/anaconda3/lib/python3.6/site-packages/tensorflow/python/util/tf_inspect.py:55: DeprecationWarning: inspect.getargspec() is deprecated, use inspect.signature() or inspect.getfullargspec()\n",
      "  if d.decorator_argspec is not None), _inspect.getargspec(target))\n",
      "/Users/shiwang/anaconda3/lib/python3.6/site-packages/tensorflow/python/util/tf_inspect.py:55: DeprecationWarning: inspect.getargspec() is deprecated, use inspect.signature() or inspect.getfullargspec()\n",
      "  if d.decorator_argspec is not None), _inspect.getargspec(target))\n",
      "/Users/shiwang/anaconda3/lib/python3.6/site-packages/tensorflow/python/util/tf_inspect.py:55: DeprecationWarning: inspect.getargspec() is deprecated, use inspect.signature() or inspect.getfullargspec()\n",
      "  if d.decorator_argspec is not None), _inspect.getargspec(target))\n",
      "/Users/shiwang/anaconda3/lib/python3.6/site-packages/tensorflow/python/util/tf_inspect.py:55: DeprecationWarning: inspect.getargspec() is deprecated, use inspect.signature() or inspect.getfullargspec()\n",
      "  if d.decorator_argspec is not None), _inspect.getargspec(target))\n",
      "/Users/shiwang/anaconda3/lib/python3.6/site-packages/tensorflow/python/util/tf_inspect.py:55: DeprecationWarning: inspect.getargspec() is deprecated, use inspect.signature() or inspect.getfullargspec()\n",
      "  if d.decorator_argspec is not None), _inspect.getargspec(target))\n",
      "/Users/shiwang/anaconda3/lib/python3.6/site-packages/tensorflow/python/util/tf_inspect.py:55: DeprecationWarning: inspect.getargspec() is deprecated, use inspect.signature() or inspect.getfullargspec()\n",
      "  if d.decorator_argspec is not None), _inspect.getargspec(target))\n",
      "/Users/shiwang/anaconda3/lib/python3.6/site-packages/tensorflow/python/util/tf_inspect.py:55: DeprecationWarning: inspect.getargspec() is deprecated, use inspect.signature() or inspect.getfullargspec()\n",
      "  if d.decorator_argspec is not None), _inspect.getargspec(target))\n",
      "/Users/shiwang/anaconda3/lib/python3.6/site-packages/tensorflow/python/util/tf_inspect.py:55: DeprecationWarning: inspect.getargspec() is deprecated, use inspect.signature() or inspect.getfullargspec()\n",
      "  if d.decorator_argspec is not None), _inspect.getargspec(target))\n",
      "/Users/shiwang/anaconda3/lib/python3.6/site-packages/tensorflow/python/util/tf_inspect.py:55: DeprecationWarning: inspect.getargspec() is deprecated, use inspect.signature() or inspect.getfullargspec()\n",
      "  if d.decorator_argspec is not None), _inspect.getargspec(target))\n",
      "/Users/shiwang/anaconda3/lib/python3.6/site-packages/tensorflow/python/util/tf_inspect.py:55: DeprecationWarning: inspect.getargspec() is deprecated, use inspect.signature() or inspect.getfullargspec()\n",
      "  if d.decorator_argspec is not None), _inspect.getargspec(target))\n",
      "/Users/shiwang/anaconda3/lib/python3.6/site-packages/tensorflow/python/util/tf_inspect.py:55: DeprecationWarning: inspect.getargspec() is deprecated, use inspect.signature() or inspect.getfullargspec()\n",
      "  if d.decorator_argspec is not None), _inspect.getargspec(target))\n",
      "/Users/shiwang/anaconda3/lib/python3.6/site-packages/tensorflow/python/util/tf_inspect.py:55: DeprecationWarning: inspect.getargspec() is deprecated, use inspect.signature() or inspect.getfullargspec()\n",
      "  if d.decorator_argspec is not None), _inspect.getargspec(target))\n",
      "/Users/shiwang/anaconda3/lib/python3.6/site-packages/tensorflow/python/util/tf_inspect.py:55: DeprecationWarning: inspect.getargspec() is deprecated, use inspect.signature() or inspect.getfullargspec()\n",
      "  if d.decorator_argspec is not None), _inspect.getargspec(target))\n",
      "/Users/shiwang/anaconda3/lib/python3.6/site-packages/tensorflow/python/util/tf_inspect.py:55: DeprecationWarning: inspect.getargspec() is deprecated, use inspect.signature() or inspect.getfullargspec()\n",
      "  if d.decorator_argspec is not None), _inspect.getargspec(target))\n",
      "/Users/shiwang/anaconda3/lib/python3.6/site-packages/tensorflow/python/util/tf_inspect.py:55: DeprecationWarning: inspect.getargspec() is deprecated, use inspect.signature() or inspect.getfullargspec()\n",
      "  if d.decorator_argspec is not None), _inspect.getargspec(target))\n",
      "/Users/shiwang/anaconda3/lib/python3.6/site-packages/tensorflow/python/util/tf_inspect.py:55: DeprecationWarning: inspect.getargspec() is deprecated, use inspect.signature() or inspect.getfullargspec()\n",
      "  if d.decorator_argspec is not None), _inspect.getargspec(target))\n",
      "/Users/shiwang/anaconda3/lib/python3.6/site-packages/tensorflow/python/util/tf_inspect.py:55: DeprecationWarning: inspect.getargspec() is deprecated, use inspect.signature() or inspect.getfullargspec()\n",
      "  if d.decorator_argspec is not None), _inspect.getargspec(target))\n"
     ]
    },
    {
     "name": "stderr",
     "output_type": "stream",
     "text": [
      "/Users/shiwang/anaconda3/lib/python3.6/site-packages/tensorflow/python/util/tf_inspect.py:55: DeprecationWarning: inspect.getargspec() is deprecated, use inspect.signature() or inspect.getfullargspec()\n",
      "  if d.decorator_argspec is not None), _inspect.getargspec(target))\n",
      "/Users/shiwang/anaconda3/lib/python3.6/site-packages/tensorflow/python/util/tf_inspect.py:55: DeprecationWarning: inspect.getargspec() is deprecated, use inspect.signature() or inspect.getfullargspec()\n",
      "  if d.decorator_argspec is not None), _inspect.getargspec(target))\n",
      "/Users/shiwang/anaconda3/lib/python3.6/site-packages/tensorflow/python/util/tf_inspect.py:55: DeprecationWarning: inspect.getargspec() is deprecated, use inspect.signature() or inspect.getfullargspec()\n",
      "  if d.decorator_argspec is not None), _inspect.getargspec(target))\n",
      "/Users/shiwang/anaconda3/lib/python3.6/site-packages/tensorflow/python/util/tf_inspect.py:55: DeprecationWarning: inspect.getargspec() is deprecated, use inspect.signature() or inspect.getfullargspec()\n",
      "  if d.decorator_argspec is not None), _inspect.getargspec(target))\n",
      "/Users/shiwang/anaconda3/lib/python3.6/site-packages/tensorflow/python/util/tf_inspect.py:55: DeprecationWarning: inspect.getargspec() is deprecated, use inspect.signature() or inspect.getfullargspec()\n",
      "  if d.decorator_argspec is not None), _inspect.getargspec(target))\n",
      "/Users/shiwang/anaconda3/lib/python3.6/site-packages/tensorflow/python/util/tf_inspect.py:55: DeprecationWarning: inspect.getargspec() is deprecated, use inspect.signature() or inspect.getfullargspec()\n",
      "  if d.decorator_argspec is not None), _inspect.getargspec(target))\n",
      "/Users/shiwang/anaconda3/lib/python3.6/site-packages/tensorflow/python/util/tf_inspect.py:55: DeprecationWarning: inspect.getargspec() is deprecated, use inspect.signature() or inspect.getfullargspec()\n",
      "  if d.decorator_argspec is not None), _inspect.getargspec(target))\n",
      "/Users/shiwang/anaconda3/lib/python3.6/site-packages/tensorflow/python/util/tf_inspect.py:55: DeprecationWarning: inspect.getargspec() is deprecated, use inspect.signature() or inspect.getfullargspec()\n",
      "  if d.decorator_argspec is not None), _inspect.getargspec(target))\n",
      "/Users/shiwang/anaconda3/lib/python3.6/site-packages/tensorflow/python/util/tf_inspect.py:55: DeprecationWarning: inspect.getargspec() is deprecated, use inspect.signature() or inspect.getfullargspec()\n",
      "  if d.decorator_argspec is not None), _inspect.getargspec(target))\n",
      "/Users/shiwang/anaconda3/lib/python3.6/site-packages/tensorflow/python/util/tf_inspect.py:55: DeprecationWarning: inspect.getargspec() is deprecated, use inspect.signature() or inspect.getfullargspec()\n",
      "  if d.decorator_argspec is not None), _inspect.getargspec(target))\n",
      "/Users/shiwang/anaconda3/lib/python3.6/site-packages/tensorflow/python/util/tf_inspect.py:55: DeprecationWarning: inspect.getargspec() is deprecated, use inspect.signature() or inspect.getfullargspec()\n",
      "  if d.decorator_argspec is not None), _inspect.getargspec(target))\n",
      "/Users/shiwang/anaconda3/lib/python3.6/site-packages/tensorflow/python/util/tf_inspect.py:55: DeprecationWarning: inspect.getargspec() is deprecated, use inspect.signature() or inspect.getfullargspec()\n",
      "  if d.decorator_argspec is not None), _inspect.getargspec(target))\n",
      "/Users/shiwang/anaconda3/lib/python3.6/site-packages/tensorflow/python/util/tf_inspect.py:55: DeprecationWarning: inspect.getargspec() is deprecated, use inspect.signature() or inspect.getfullargspec()\n",
      "  if d.decorator_argspec is not None), _inspect.getargspec(target))\n",
      "/Users/shiwang/anaconda3/lib/python3.6/site-packages/tensorflow/python/util/tf_inspect.py:55: DeprecationWarning: inspect.getargspec() is deprecated, use inspect.signature() or inspect.getfullargspec()\n",
      "  if d.decorator_argspec is not None), _inspect.getargspec(target))\n",
      "/Users/shiwang/anaconda3/lib/python3.6/site-packages/tensorflow/python/util/tf_inspect.py:55: DeprecationWarning: inspect.getargspec() is deprecated, use inspect.signature() or inspect.getfullargspec()\n",
      "  if d.decorator_argspec is not None), _inspect.getargspec(target))\n",
      "/Users/shiwang/anaconda3/lib/python3.6/site-packages/tensorflow/python/util/tf_inspect.py:55: DeprecationWarning: inspect.getargspec() is deprecated, use inspect.signature() or inspect.getfullargspec()\n",
      "  if d.decorator_argspec is not None), _inspect.getargspec(target))\n",
      "/Users/shiwang/anaconda3/lib/python3.6/site-packages/tensorflow/python/util/tf_inspect.py:55: DeprecationWarning: inspect.getargspec() is deprecated, use inspect.signature() or inspect.getfullargspec()\n",
      "  if d.decorator_argspec is not None), _inspect.getargspec(target))\n",
      "/Users/shiwang/anaconda3/lib/python3.6/site-packages/tensorflow/python/util/tf_inspect.py:55: DeprecationWarning: inspect.getargspec() is deprecated, use inspect.signature() or inspect.getfullargspec()\n",
      "  if d.decorator_argspec is not None), _inspect.getargspec(target))\n",
      "/Users/shiwang/anaconda3/lib/python3.6/site-packages/tensorflow/python/util/tf_inspect.py:55: DeprecationWarning: inspect.getargspec() is deprecated, use inspect.signature() or inspect.getfullargspec()\n",
      "  if d.decorator_argspec is not None), _inspect.getargspec(target))\n",
      "/Users/shiwang/anaconda3/lib/python3.6/site-packages/tensorflow/python/util/tf_inspect.py:55: DeprecationWarning: inspect.getargspec() is deprecated, use inspect.signature() or inspect.getfullargspec()\n",
      "  if d.decorator_argspec is not None), _inspect.getargspec(target))\n",
      "/Users/shiwang/anaconda3/lib/python3.6/site-packages/tensorflow/python/util/tf_inspect.py:55: DeprecationWarning: inspect.getargspec() is deprecated, use inspect.signature() or inspect.getfullargspec()\n",
      "  if d.decorator_argspec is not None), _inspect.getargspec(target))\n",
      "/Users/shiwang/anaconda3/lib/python3.6/site-packages/tensorflow/python/util/tf_inspect.py:55: DeprecationWarning: inspect.getargspec() is deprecated, use inspect.signature() or inspect.getfullargspec()\n",
      "  if d.decorator_argspec is not None), _inspect.getargspec(target))\n",
      "/Users/shiwang/anaconda3/lib/python3.6/site-packages/tensorflow/python/util/tf_inspect.py:55: DeprecationWarning: inspect.getargspec() is deprecated, use inspect.signature() or inspect.getfullargspec()\n",
      "  if d.decorator_argspec is not None), _inspect.getargspec(target))\n",
      "/Users/shiwang/anaconda3/lib/python3.6/site-packages/tensorflow/python/util/tf_inspect.py:55: DeprecationWarning: inspect.getargspec() is deprecated, use inspect.signature() or inspect.getfullargspec()\n",
      "  if d.decorator_argspec is not None), _inspect.getargspec(target))\n",
      "/Users/shiwang/anaconda3/lib/python3.6/site-packages/tensorflow/python/util/tf_inspect.py:55: DeprecationWarning: inspect.getargspec() is deprecated, use inspect.signature() or inspect.getfullargspec()\n",
      "  if d.decorator_argspec is not None), _inspect.getargspec(target))\n",
      "/Users/shiwang/anaconda3/lib/python3.6/site-packages/tensorflow/python/util/tf_inspect.py:55: DeprecationWarning: inspect.getargspec() is deprecated, use inspect.signature() or inspect.getfullargspec()\n",
      "  if d.decorator_argspec is not None), _inspect.getargspec(target))\n",
      "/Users/shiwang/anaconda3/lib/python3.6/site-packages/tensorflow/python/util/tf_inspect.py:55: DeprecationWarning: inspect.getargspec() is deprecated, use inspect.signature() or inspect.getfullargspec()\n",
      "  if d.decorator_argspec is not None), _inspect.getargspec(target))\n",
      "/Users/shiwang/anaconda3/lib/python3.6/site-packages/tensorflow/python/util/tf_inspect.py:55: DeprecationWarning: inspect.getargspec() is deprecated, use inspect.signature() or inspect.getfullargspec()\n",
      "  if d.decorator_argspec is not None), _inspect.getargspec(target))\n",
      "/Users/shiwang/anaconda3/lib/python3.6/site-packages/tensorflow/python/util/tf_inspect.py:55: DeprecationWarning: inspect.getargspec() is deprecated, use inspect.signature() or inspect.getfullargspec()\n",
      "  if d.decorator_argspec is not None), _inspect.getargspec(target))\n",
      "/Users/shiwang/anaconda3/lib/python3.6/site-packages/tensorflow/python/util/tf_inspect.py:55: DeprecationWarning: inspect.getargspec() is deprecated, use inspect.signature() or inspect.getfullargspec()\n",
      "  if d.decorator_argspec is not None), _inspect.getargspec(target))\n",
      "/Users/shiwang/anaconda3/lib/python3.6/site-packages/tensorflow/python/util/tf_inspect.py:55: DeprecationWarning: inspect.getargspec() is deprecated, use inspect.signature() or inspect.getfullargspec()\n",
      "  if d.decorator_argspec is not None), _inspect.getargspec(target))\n",
      "/Users/shiwang/anaconda3/lib/python3.6/site-packages/tensorflow/python/util/tf_inspect.py:55: DeprecationWarning: inspect.getargspec() is deprecated, use inspect.signature() or inspect.getfullargspec()\n",
      "  if d.decorator_argspec is not None), _inspect.getargspec(target))\n"
     ]
    },
    {
     "name": "stderr",
     "output_type": "stream",
     "text": [
      "/Users/shiwang/anaconda3/lib/python3.6/site-packages/tensorflow/python/util/tf_inspect.py:55: DeprecationWarning: inspect.getargspec() is deprecated, use inspect.signature() or inspect.getfullargspec()\n",
      "  if d.decorator_argspec is not None), _inspect.getargspec(target))\n",
      "/Users/shiwang/anaconda3/lib/python3.6/site-packages/tensorflow/python/util/tf_inspect.py:55: DeprecationWarning: inspect.getargspec() is deprecated, use inspect.signature() or inspect.getfullargspec()\n",
      "  if d.decorator_argspec is not None), _inspect.getargspec(target))\n",
      "/Users/shiwang/anaconda3/lib/python3.6/site-packages/tensorflow/python/util/tf_inspect.py:55: DeprecationWarning: inspect.getargspec() is deprecated, use inspect.signature() or inspect.getfullargspec()\n",
      "  if d.decorator_argspec is not None), _inspect.getargspec(target))\n",
      "/Users/shiwang/anaconda3/lib/python3.6/site-packages/tensorflow/python/util/tf_inspect.py:55: DeprecationWarning: inspect.getargspec() is deprecated, use inspect.signature() or inspect.getfullargspec()\n",
      "  if d.decorator_argspec is not None), _inspect.getargspec(target))\n",
      "/Users/shiwang/anaconda3/lib/python3.6/site-packages/tensorflow/python/util/tf_inspect.py:55: DeprecationWarning: inspect.getargspec() is deprecated, use inspect.signature() or inspect.getfullargspec()\n",
      "  if d.decorator_argspec is not None), _inspect.getargspec(target))\n",
      "/Users/shiwang/anaconda3/lib/python3.6/site-packages/tensorflow/python/util/tf_inspect.py:55: DeprecationWarning: inspect.getargspec() is deprecated, use inspect.signature() or inspect.getfullargspec()\n",
      "  if d.decorator_argspec is not None), _inspect.getargspec(target))\n",
      "/Users/shiwang/anaconda3/lib/python3.6/site-packages/tensorflow/python/util/tf_inspect.py:55: DeprecationWarning: inspect.getargspec() is deprecated, use inspect.signature() or inspect.getfullargspec()\n",
      "  if d.decorator_argspec is not None), _inspect.getargspec(target))\n",
      "/Users/shiwang/anaconda3/lib/python3.6/site-packages/tensorflow/python/util/tf_inspect.py:55: DeprecationWarning: inspect.getargspec() is deprecated, use inspect.signature() or inspect.getfullargspec()\n",
      "  if d.decorator_argspec is not None), _inspect.getargspec(target))\n",
      "/Users/shiwang/anaconda3/lib/python3.6/site-packages/tensorflow/python/util/tf_inspect.py:55: DeprecationWarning: inspect.getargspec() is deprecated, use inspect.signature() or inspect.getfullargspec()\n",
      "  if d.decorator_argspec is not None), _inspect.getargspec(target))\n"
     ]
    },
    {
     "name": "stdout",
     "output_type": "stream",
     "text": [
      "Train on 7041 samples, validate on 1243 samples\n",
      "Epoch 1/10\n",
      "7041/7041 [==============================] - 10s 1ms/step - loss: 0.5405 - acc: 0.7823 - val_loss: 0.4969 - val_acc: 0.7916\n",
      "Epoch 2/10\n",
      "7041/7041 [==============================] - 7s 1ms/step - loss: 0.4128 - acc: 0.8350 - val_loss: 0.4094 - val_acc: 0.8648\n",
      "Epoch 3/10\n",
      "7041/7041 [==============================] - 7s 1ms/step - loss: 0.2646 - acc: 0.9068 - val_loss: 0.3203 - val_acc: 0.8850\n",
      "Epoch 4/10\n",
      "7041/7041 [==============================] - 7s 1ms/step - loss: 0.1965 - acc: 0.9359 - val_loss: 0.3240 - val_acc: 0.8954\n",
      "Epoch 5/10\n",
      "7041/7041 [==============================] - 7s 1ms/step - loss: 0.1357 - acc: 0.9565 - val_loss: 0.3098 - val_acc: 0.8817\n",
      "Epoch 6/10\n",
      "7041/7041 [==============================] - 7s 1ms/step - loss: 0.1029 - acc: 0.9692 - val_loss: 0.3255 - val_acc: 0.8914\n",
      "Epoch 7/10\n",
      "7041/7041 [==============================] - 7s 963us/step - loss: 0.0807 - acc: 0.9768 - val_loss: 0.3245 - val_acc: 0.8825\n",
      "Epoch 8/10\n",
      "7041/7041 [==============================] - 7s 971us/step - loss: 0.0716 - acc: 0.9798 - val_loss: 0.5499 - val_acc: 0.8882\n",
      "Epoch 9/10\n",
      "7041/7041 [==============================] - 7s 983us/step - loss: 0.0542 - acc: 0.9840 - val_loss: 0.5480 - val_acc: 0.8938\n",
      "Epoch 10/10\n",
      "7041/7041 [==============================] - 7s 998us/step - loss: 0.0473 - acc: 0.9868 - val_loss: 0.5720 - val_acc: 0.8906\n"
     ]
    },
    {
     "data": {
      "text/plain": [
       "<keras.callbacks.History at 0x1a60a47080>"
      ]
     },
     "execution_count": 278,
     "metadata": {},
     "output_type": "execute_result"
    }
   ],
   "source": [
    "model.compile(loss='binary_crossentropy', \n",
    "              optimizer = optimizers.Adam(lr=0.001), \n",
    "              metrics=['accuracy'])\n",
    "model.fit(X_train, \n",
    "          Y_train, \n",
    "          batch_size = batch_size, \n",
    "          validation_data=(X_test, Y_test), \n",
    "          epochs = 10)"
   ]
  },
  {
   "cell_type": "code",
   "execution_count": 283,
   "metadata": {},
   "outputs": [
    {
     "name": "stderr",
     "output_type": "stream",
     "text": [
      "/Users/shiwang/anaconda3/lib/python3.6/site-packages/tensorflow/python/util/tf_inspect.py:55: DeprecationWarning: inspect.getargspec() is deprecated, use inspect.signature() or inspect.getfullargspec()\n",
      "  if d.decorator_argspec is not None), _inspect.getargspec(target))\n",
      "/Users/shiwang/anaconda3/lib/python3.6/site-packages/tensorflow/python/util/tf_inspect.py:55: DeprecationWarning: inspect.getargspec() is deprecated, use inspect.signature() or inspect.getfullargspec()\n",
      "  if d.decorator_argspec is not None), _inspect.getargspec(target))\n",
      "/Users/shiwang/anaconda3/lib/python3.6/site-packages/tensorflow/python/util/tf_inspect.py:55: DeprecationWarning: inspect.getargspec() is deprecated, use inspect.signature() or inspect.getfullargspec()\n",
      "  if d.decorator_argspec is not None), _inspect.getargspec(target))\n",
      "/Users/shiwang/anaconda3/lib/python3.6/site-packages/tensorflow/python/util/tf_inspect.py:55: DeprecationWarning: inspect.getargspec() is deprecated, use inspect.signature() or inspect.getfullargspec()\n",
      "  if d.decorator_argspec is not None), _inspect.getargspec(target))\n",
      "/Users/shiwang/anaconda3/lib/python3.6/site-packages/tensorflow/python/util/tf_inspect.py:55: DeprecationWarning: inspect.getargspec() is deprecated, use inspect.signature() or inspect.getfullargspec()\n",
      "  if d.decorator_argspec is not None), _inspect.getargspec(target))\n",
      "/Users/shiwang/anaconda3/lib/python3.6/site-packages/tensorflow/python/util/tf_inspect.py:55: DeprecationWarning: inspect.getargspec() is deprecated, use inspect.signature() or inspect.getfullargspec()\n",
      "  if d.decorator_argspec is not None), _inspect.getargspec(target))\n",
      "/Users/shiwang/anaconda3/lib/python3.6/site-packages/tensorflow/python/util/tf_inspect.py:55: DeprecationWarning: inspect.getargspec() is deprecated, use inspect.signature() or inspect.getfullargspec()\n",
      "  if d.decorator_argspec is not None), _inspect.getargspec(target))\n",
      "/Users/shiwang/anaconda3/lib/python3.6/site-packages/tensorflow/python/util/tf_inspect.py:55: DeprecationWarning: inspect.getargspec() is deprecated, use inspect.signature() or inspect.getfullargspec()\n",
      "  if d.decorator_argspec is not None), _inspect.getargspec(target))\n",
      "/Users/shiwang/anaconda3/lib/python3.6/site-packages/tensorflow/python/util/tf_inspect.py:55: DeprecationWarning: inspect.getargspec() is deprecated, use inspect.signature() or inspect.getfullargspec()\n",
      "  if d.decorator_argspec is not None), _inspect.getargspec(target))\n",
      "/Users/shiwang/anaconda3/lib/python3.6/site-packages/tensorflow/python/util/tf_inspect.py:55: DeprecationWarning: inspect.getargspec() is deprecated, use inspect.signature() or inspect.getfullargspec()\n",
      "  if d.decorator_argspec is not None), _inspect.getargspec(target))\n",
      "/Users/shiwang/anaconda3/lib/python3.6/site-packages/tensorflow/python/util/tf_inspect.py:55: DeprecationWarning: inspect.getargspec() is deprecated, use inspect.signature() or inspect.getfullargspec()\n",
      "  if d.decorator_argspec is not None), _inspect.getargspec(target))\n",
      "/Users/shiwang/anaconda3/lib/python3.6/site-packages/tensorflow/python/util/tf_inspect.py:55: DeprecationWarning: inspect.getargspec() is deprecated, use inspect.signature() or inspect.getfullargspec()\n",
      "  if d.decorator_argspec is not None), _inspect.getargspec(target))\n",
      "/Users/shiwang/anaconda3/lib/python3.6/site-packages/tensorflow/python/util/tf_inspect.py:55: DeprecationWarning: inspect.getargspec() is deprecated, use inspect.signature() or inspect.getfullargspec()\n",
      "  if d.decorator_argspec is not None), _inspect.getargspec(target))\n",
      "/Users/shiwang/anaconda3/lib/python3.6/site-packages/tensorflow/python/util/tf_inspect.py:55: DeprecationWarning: inspect.getargspec() is deprecated, use inspect.signature() or inspect.getfullargspec()\n",
      "  if d.decorator_argspec is not None), _inspect.getargspec(target))\n",
      "/Users/shiwang/anaconda3/lib/python3.6/site-packages/tensorflow/python/util/tf_inspect.py:55: DeprecationWarning: inspect.getargspec() is deprecated, use inspect.signature() or inspect.getfullargspec()\n",
      "  if d.decorator_argspec is not None), _inspect.getargspec(target))\n",
      "/Users/shiwang/anaconda3/lib/python3.6/site-packages/tensorflow/python/util/tf_inspect.py:55: DeprecationWarning: inspect.getargspec() is deprecated, use inspect.signature() or inspect.getfullargspec()\n",
      "  if d.decorator_argspec is not None), _inspect.getargspec(target))\n",
      "/Users/shiwang/anaconda3/lib/python3.6/site-packages/tensorflow/python/util/tf_inspect.py:55: DeprecationWarning: inspect.getargspec() is deprecated, use inspect.signature() or inspect.getfullargspec()\n",
      "  if d.decorator_argspec is not None), _inspect.getargspec(target))\n",
      "/Users/shiwang/anaconda3/lib/python3.6/site-packages/tensorflow/python/util/tf_inspect.py:55: DeprecationWarning: inspect.getargspec() is deprecated, use inspect.signature() or inspect.getfullargspec()\n",
      "  if d.decorator_argspec is not None), _inspect.getargspec(target))\n",
      "/Users/shiwang/anaconda3/lib/python3.6/site-packages/tensorflow/python/util/tf_inspect.py:55: DeprecationWarning: inspect.getargspec() is deprecated, use inspect.signature() or inspect.getfullargspec()\n",
      "  if d.decorator_argspec is not None), _inspect.getargspec(target))\n",
      "/Users/shiwang/anaconda3/lib/python3.6/site-packages/tensorflow/python/util/tf_inspect.py:55: DeprecationWarning: inspect.getargspec() is deprecated, use inspect.signature() or inspect.getfullargspec()\n",
      "  if d.decorator_argspec is not None), _inspect.getargspec(target))\n",
      "/Users/shiwang/anaconda3/lib/python3.6/site-packages/tensorflow/python/util/tf_inspect.py:55: DeprecationWarning: inspect.getargspec() is deprecated, use inspect.signature() or inspect.getfullargspec()\n",
      "  if d.decorator_argspec is not None), _inspect.getargspec(target))\n",
      "/Users/shiwang/anaconda3/lib/python3.6/site-packages/tensorflow/python/util/tf_inspect.py:55: DeprecationWarning: inspect.getargspec() is deprecated, use inspect.signature() or inspect.getfullargspec()\n",
      "  if d.decorator_argspec is not None), _inspect.getargspec(target))\n",
      "/Users/shiwang/anaconda3/lib/python3.6/site-packages/tensorflow/python/util/tf_inspect.py:55: DeprecationWarning: inspect.getargspec() is deprecated, use inspect.signature() or inspect.getfullargspec()\n",
      "  if d.decorator_argspec is not None), _inspect.getargspec(target))\n",
      "/Users/shiwang/anaconda3/lib/python3.6/site-packages/tensorflow/python/util/tf_inspect.py:55: DeprecationWarning: inspect.getargspec() is deprecated, use inspect.signature() or inspect.getfullargspec()\n",
      "  if d.decorator_argspec is not None), _inspect.getargspec(target))\n",
      "/Users/shiwang/anaconda3/lib/python3.6/site-packages/tensorflow/python/util/tf_inspect.py:55: DeprecationWarning: inspect.getargspec() is deprecated, use inspect.signature() or inspect.getfullargspec()\n",
      "  if d.decorator_argspec is not None), _inspect.getargspec(target))\n",
      "/Users/shiwang/anaconda3/lib/python3.6/site-packages/tensorflow/python/util/tf_inspect.py:55: DeprecationWarning: inspect.getargspec() is deprecated, use inspect.signature() or inspect.getfullargspec()\n",
      "  if d.decorator_argspec is not None), _inspect.getargspec(target))\n",
      "/Users/shiwang/anaconda3/lib/python3.6/site-packages/tensorflow/python/util/tf_inspect.py:55: DeprecationWarning: inspect.getargspec() is deprecated, use inspect.signature() or inspect.getfullargspec()\n",
      "  if d.decorator_argspec is not None), _inspect.getargspec(target))\n",
      "/Users/shiwang/anaconda3/lib/python3.6/site-packages/tensorflow/python/util/tf_inspect.py:55: DeprecationWarning: inspect.getargspec() is deprecated, use inspect.signature() or inspect.getfullargspec()\n",
      "  if d.decorator_argspec is not None), _inspect.getargspec(target))\n",
      "/Users/shiwang/anaconda3/lib/python3.6/site-packages/tensorflow/python/util/tf_inspect.py:55: DeprecationWarning: inspect.getargspec() is deprecated, use inspect.signature() or inspect.getfullargspec()\n",
      "  if d.decorator_argspec is not None), _inspect.getargspec(target))\n",
      "/Users/shiwang/anaconda3/lib/python3.6/site-packages/tensorflow/python/util/tf_inspect.py:55: DeprecationWarning: inspect.getargspec() is deprecated, use inspect.signature() or inspect.getfullargspec()\n",
      "  if d.decorator_argspec is not None), _inspect.getargspec(target))\n",
      "/Users/shiwang/anaconda3/lib/python3.6/site-packages/tensorflow/python/util/tf_inspect.py:55: DeprecationWarning: inspect.getargspec() is deprecated, use inspect.signature() or inspect.getfullargspec()\n",
      "  if d.decorator_argspec is not None), _inspect.getargspec(target))\n",
      "/Users/shiwang/anaconda3/lib/python3.6/site-packages/tensorflow/python/util/tf_inspect.py:55: DeprecationWarning: inspect.getargspec() is deprecated, use inspect.signature() or inspect.getfullargspec()\n",
      "  if d.decorator_argspec is not None), _inspect.getargspec(target))\n",
      "/Users/shiwang/anaconda3/lib/python3.6/site-packages/tensorflow/python/util/tf_inspect.py:55: DeprecationWarning: inspect.getargspec() is deprecated, use inspect.signature() or inspect.getfullargspec()\n",
      "  if d.decorator_argspec is not None), _inspect.getargspec(target))\n",
      "/Users/shiwang/anaconda3/lib/python3.6/site-packages/tensorflow/python/util/tf_inspect.py:55: DeprecationWarning: inspect.getargspec() is deprecated, use inspect.signature() or inspect.getfullargspec()\n",
      "  if d.decorator_argspec is not None), _inspect.getargspec(target))\n",
      "/Users/shiwang/anaconda3/lib/python3.6/site-packages/tensorflow/python/util/tf_inspect.py:55: DeprecationWarning: inspect.getargspec() is deprecated, use inspect.signature() or inspect.getfullargspec()\n",
      "  if d.decorator_argspec is not None), _inspect.getargspec(target))\n",
      "/Users/shiwang/anaconda3/lib/python3.6/site-packages/tensorflow/python/util/tf_inspect.py:55: DeprecationWarning: inspect.getargspec() is deprecated, use inspect.signature() or inspect.getfullargspec()\n",
      "  if d.decorator_argspec is not None), _inspect.getargspec(target))\n",
      "/Users/shiwang/anaconda3/lib/python3.6/site-packages/tensorflow/python/util/tf_inspect.py:55: DeprecationWarning: inspect.getargspec() is deprecated, use inspect.signature() or inspect.getfullargspec()\n",
      "  if d.decorator_argspec is not None), _inspect.getargspec(target))\n",
      "/Users/shiwang/anaconda3/lib/python3.6/site-packages/tensorflow/python/util/tf_inspect.py:55: DeprecationWarning: inspect.getargspec() is deprecated, use inspect.signature() or inspect.getfullargspec()\n",
      "  if d.decorator_argspec is not None), _inspect.getargspec(target))\n",
      "/Users/shiwang/anaconda3/lib/python3.6/site-packages/tensorflow/python/util/tf_inspect.py:55: DeprecationWarning: inspect.getargspec() is deprecated, use inspect.signature() or inspect.getfullargspec()\n",
      "  if d.decorator_argspec is not None), _inspect.getargspec(target))\n",
      "/Users/shiwang/anaconda3/lib/python3.6/site-packages/tensorflow/python/util/tf_inspect.py:55: DeprecationWarning: inspect.getargspec() is deprecated, use inspect.signature() or inspect.getfullargspec()\n",
      "  if d.decorator_argspec is not None), _inspect.getargspec(target))\n",
      "/Users/shiwang/anaconda3/lib/python3.6/site-packages/tensorflow/python/util/tf_inspect.py:55: DeprecationWarning: inspect.getargspec() is deprecated, use inspect.signature() or inspect.getfullargspec()\n",
      "  if d.decorator_argspec is not None), _inspect.getargspec(target))\n",
      "/Users/shiwang/anaconda3/lib/python3.6/site-packages/tensorflow/python/util/tf_inspect.py:55: DeprecationWarning: inspect.getargspec() is deprecated, use inspect.signature() or inspect.getfullargspec()\n",
      "  if d.decorator_argspec is not None), _inspect.getargspec(target))\n",
      "/Users/shiwang/anaconda3/lib/python3.6/site-packages/tensorflow/python/util/tf_inspect.py:55: DeprecationWarning: inspect.getargspec() is deprecated, use inspect.signature() or inspect.getfullargspec()\n",
      "  if d.decorator_argspec is not None), _inspect.getargspec(target))\n"
     ]
    },
    {
     "name": "stderr",
     "output_type": "stream",
     "text": [
      "/Users/shiwang/anaconda3/lib/python3.6/site-packages/tensorflow/python/util/tf_inspect.py:55: DeprecationWarning: inspect.getargspec() is deprecated, use inspect.signature() or inspect.getfullargspec()\n",
      "  if d.decorator_argspec is not None), _inspect.getargspec(target))\n",
      "/Users/shiwang/anaconda3/lib/python3.6/site-packages/tensorflow/python/util/tf_inspect.py:55: DeprecationWarning: inspect.getargspec() is deprecated, use inspect.signature() or inspect.getfullargspec()\n",
      "  if d.decorator_argspec is not None), _inspect.getargspec(target))\n",
      "/Users/shiwang/anaconda3/lib/python3.6/site-packages/tensorflow/python/util/tf_inspect.py:55: DeprecationWarning: inspect.getargspec() is deprecated, use inspect.signature() or inspect.getfullargspec()\n",
      "  if d.decorator_argspec is not None), _inspect.getargspec(target))\n",
      "/Users/shiwang/anaconda3/lib/python3.6/site-packages/tensorflow/python/util/tf_inspect.py:55: DeprecationWarning: inspect.getargspec() is deprecated, use inspect.signature() or inspect.getfullargspec()\n",
      "  if d.decorator_argspec is not None), _inspect.getargspec(target))\n",
      "/Users/shiwang/anaconda3/lib/python3.6/site-packages/tensorflow/python/util/tf_inspect.py:55: DeprecationWarning: inspect.getargspec() is deprecated, use inspect.signature() or inspect.getfullargspec()\n",
      "  if d.decorator_argspec is not None), _inspect.getargspec(target))\n",
      "/Users/shiwang/anaconda3/lib/python3.6/site-packages/tensorflow/python/util/tf_inspect.py:55: DeprecationWarning: inspect.getargspec() is deprecated, use inspect.signature() or inspect.getfullargspec()\n",
      "  if d.decorator_argspec is not None), _inspect.getargspec(target))\n",
      "/Users/shiwang/anaconda3/lib/python3.6/site-packages/tensorflow/python/util/tf_inspect.py:55: DeprecationWarning: inspect.getargspec() is deprecated, use inspect.signature() or inspect.getfullargspec()\n",
      "  if d.decorator_argspec is not None), _inspect.getargspec(target))\n",
      "/Users/shiwang/anaconda3/lib/python3.6/site-packages/tensorflow/python/util/tf_inspect.py:55: DeprecationWarning: inspect.getargspec() is deprecated, use inspect.signature() or inspect.getfullargspec()\n",
      "  if d.decorator_argspec is not None), _inspect.getargspec(target))\n",
      "/Users/shiwang/anaconda3/lib/python3.6/site-packages/tensorflow/python/util/tf_inspect.py:55: DeprecationWarning: inspect.getargspec() is deprecated, use inspect.signature() or inspect.getfullargspec()\n",
      "  if d.decorator_argspec is not None), _inspect.getargspec(target))\n",
      "/Users/shiwang/anaconda3/lib/python3.6/site-packages/tensorflow/python/util/tf_inspect.py:55: DeprecationWarning: inspect.getargspec() is deprecated, use inspect.signature() or inspect.getfullargspec()\n",
      "  if d.decorator_argspec is not None), _inspect.getargspec(target))\n",
      "/Users/shiwang/anaconda3/lib/python3.6/site-packages/tensorflow/python/util/tf_inspect.py:55: DeprecationWarning: inspect.getargspec() is deprecated, use inspect.signature() or inspect.getfullargspec()\n",
      "  if d.decorator_argspec is not None), _inspect.getargspec(target))\n",
      "/Users/shiwang/anaconda3/lib/python3.6/site-packages/tensorflow/python/util/tf_inspect.py:55: DeprecationWarning: inspect.getargspec() is deprecated, use inspect.signature() or inspect.getfullargspec()\n",
      "  if d.decorator_argspec is not None), _inspect.getargspec(target))\n",
      "/Users/shiwang/anaconda3/lib/python3.6/site-packages/tensorflow/python/util/tf_inspect.py:55: DeprecationWarning: inspect.getargspec() is deprecated, use inspect.signature() or inspect.getfullargspec()\n",
      "  if d.decorator_argspec is not None), _inspect.getargspec(target))\n",
      "/Users/shiwang/anaconda3/lib/python3.6/site-packages/tensorflow/python/util/tf_inspect.py:55: DeprecationWarning: inspect.getargspec() is deprecated, use inspect.signature() or inspect.getfullargspec()\n",
      "  if d.decorator_argspec is not None), _inspect.getargspec(target))\n",
      "/Users/shiwang/anaconda3/lib/python3.6/site-packages/tensorflow/python/util/tf_inspect.py:55: DeprecationWarning: inspect.getargspec() is deprecated, use inspect.signature() or inspect.getfullargspec()\n",
      "  if d.decorator_argspec is not None), _inspect.getargspec(target))\n",
      "/Users/shiwang/anaconda3/lib/python3.6/site-packages/tensorflow/python/util/tf_inspect.py:55: DeprecationWarning: inspect.getargspec() is deprecated, use inspect.signature() or inspect.getfullargspec()\n",
      "  if d.decorator_argspec is not None), _inspect.getargspec(target))\n",
      "/Users/shiwang/anaconda3/lib/python3.6/site-packages/tensorflow/python/util/tf_inspect.py:55: DeprecationWarning: inspect.getargspec() is deprecated, use inspect.signature() or inspect.getfullargspec()\n",
      "  if d.decorator_argspec is not None), _inspect.getargspec(target))\n",
      "/Users/shiwang/anaconda3/lib/python3.6/site-packages/tensorflow/python/util/tf_inspect.py:55: DeprecationWarning: inspect.getargspec() is deprecated, use inspect.signature() or inspect.getfullargspec()\n",
      "  if d.decorator_argspec is not None), _inspect.getargspec(target))\n",
      "/Users/shiwang/anaconda3/lib/python3.6/site-packages/tensorflow/python/util/tf_inspect.py:55: DeprecationWarning: inspect.getargspec() is deprecated, use inspect.signature() or inspect.getfullargspec()\n",
      "  if d.decorator_argspec is not None), _inspect.getargspec(target))\n",
      "/Users/shiwang/anaconda3/lib/python3.6/site-packages/tensorflow/python/util/tf_inspect.py:55: DeprecationWarning: inspect.getargspec() is deprecated, use inspect.signature() or inspect.getfullargspec()\n",
      "  if d.decorator_argspec is not None), _inspect.getargspec(target))\n",
      "/Users/shiwang/anaconda3/lib/python3.6/site-packages/tensorflow/python/util/tf_inspect.py:55: DeprecationWarning: inspect.getargspec() is deprecated, use inspect.signature() or inspect.getfullargspec()\n",
      "  if d.decorator_argspec is not None), _inspect.getargspec(target))\n",
      "/Users/shiwang/anaconda3/lib/python3.6/site-packages/tensorflow/python/util/tf_inspect.py:55: DeprecationWarning: inspect.getargspec() is deprecated, use inspect.signature() or inspect.getfullargspec()\n",
      "  if d.decorator_argspec is not None), _inspect.getargspec(target))\n",
      "/Users/shiwang/anaconda3/lib/python3.6/site-packages/tensorflow/python/util/tf_inspect.py:55: DeprecationWarning: inspect.getargspec() is deprecated, use inspect.signature() or inspect.getfullargspec()\n",
      "  if d.decorator_argspec is not None), _inspect.getargspec(target))\n",
      "/Users/shiwang/anaconda3/lib/python3.6/site-packages/tensorflow/python/util/tf_inspect.py:55: DeprecationWarning: inspect.getargspec() is deprecated, use inspect.signature() or inspect.getfullargspec()\n",
      "  if d.decorator_argspec is not None), _inspect.getargspec(target))\n",
      "/Users/shiwang/anaconda3/lib/python3.6/site-packages/tensorflow/python/util/tf_inspect.py:55: DeprecationWarning: inspect.getargspec() is deprecated, use inspect.signature() or inspect.getfullargspec()\n",
      "  if d.decorator_argspec is not None), _inspect.getargspec(target))\n",
      "/Users/shiwang/anaconda3/lib/python3.6/site-packages/tensorflow/python/util/tf_inspect.py:55: DeprecationWarning: inspect.getargspec() is deprecated, use inspect.signature() or inspect.getfullargspec()\n",
      "  if d.decorator_argspec is not None), _inspect.getargspec(target))\n",
      "/Users/shiwang/anaconda3/lib/python3.6/site-packages/tensorflow/python/util/tf_inspect.py:55: DeprecationWarning: inspect.getargspec() is deprecated, use inspect.signature() or inspect.getfullargspec()\n",
      "  if d.decorator_argspec is not None), _inspect.getargspec(target))\n",
      "/Users/shiwang/anaconda3/lib/python3.6/site-packages/tensorflow/python/util/tf_inspect.py:55: DeprecationWarning: inspect.getargspec() is deprecated, use inspect.signature() or inspect.getfullargspec()\n",
      "  if d.decorator_argspec is not None), _inspect.getargspec(target))\n",
      "/Users/shiwang/anaconda3/lib/python3.6/site-packages/tensorflow/python/util/tf_inspect.py:55: DeprecationWarning: inspect.getargspec() is deprecated, use inspect.signature() or inspect.getfullargspec()\n",
      "  if d.decorator_argspec is not None), _inspect.getargspec(target))\n",
      "/Users/shiwang/anaconda3/lib/python3.6/site-packages/tensorflow/python/util/tf_inspect.py:55: DeprecationWarning: inspect.getargspec() is deprecated, use inspect.signature() or inspect.getfullargspec()\n",
      "  if d.decorator_argspec is not None), _inspect.getargspec(target))\n",
      "/Users/shiwang/anaconda3/lib/python3.6/site-packages/tensorflow/python/util/tf_inspect.py:55: DeprecationWarning: inspect.getargspec() is deprecated, use inspect.signature() or inspect.getfullargspec()\n",
      "  if d.decorator_argspec is not None), _inspect.getargspec(target))\n",
      "/Users/shiwang/anaconda3/lib/python3.6/site-packages/tensorflow/python/util/tf_inspect.py:55: DeprecationWarning: inspect.getargspec() is deprecated, use inspect.signature() or inspect.getfullargspec()\n",
      "  if d.decorator_argspec is not None), _inspect.getargspec(target))\n",
      "/Users/shiwang/anaconda3/lib/python3.6/site-packages/tensorflow/python/util/tf_inspect.py:55: DeprecationWarning: inspect.getargspec() is deprecated, use inspect.signature() or inspect.getfullargspec()\n",
      "  if d.decorator_argspec is not None), _inspect.getargspec(target))\n",
      "/Users/shiwang/anaconda3/lib/python3.6/site-packages/tensorflow/python/util/tf_inspect.py:55: DeprecationWarning: inspect.getargspec() is deprecated, use inspect.signature() or inspect.getfullargspec()\n",
      "  if d.decorator_argspec is not None), _inspect.getargspec(target))\n",
      "/Users/shiwang/anaconda3/lib/python3.6/site-packages/tensorflow/python/util/tf_inspect.py:55: DeprecationWarning: inspect.getargspec() is deprecated, use inspect.signature() or inspect.getfullargspec()\n",
      "  if d.decorator_argspec is not None), _inspect.getargspec(target))\n",
      "/Users/shiwang/anaconda3/lib/python3.6/site-packages/tensorflow/python/util/tf_inspect.py:55: DeprecationWarning: inspect.getargspec() is deprecated, use inspect.signature() or inspect.getfullargspec()\n",
      "  if d.decorator_argspec is not None), _inspect.getargspec(target))\n",
      "/Users/shiwang/anaconda3/lib/python3.6/site-packages/tensorflow/python/util/tf_inspect.py:55: DeprecationWarning: inspect.getargspec() is deprecated, use inspect.signature() or inspect.getfullargspec()\n",
      "  if d.decorator_argspec is not None), _inspect.getargspec(target))\n",
      "/Users/shiwang/anaconda3/lib/python3.6/site-packages/tensorflow/python/util/tf_inspect.py:55: DeprecationWarning: inspect.getargspec() is deprecated, use inspect.signature() or inspect.getfullargspec()\n",
      "  if d.decorator_argspec is not None), _inspect.getargspec(target))\n",
      "/Users/shiwang/anaconda3/lib/python3.6/site-packages/tensorflow/python/util/tf_inspect.py:55: DeprecationWarning: inspect.getargspec() is deprecated, use inspect.signature() or inspect.getfullargspec()\n",
      "  if d.decorator_argspec is not None), _inspect.getargspec(target))\n"
     ]
    },
    {
     "name": "stderr",
     "output_type": "stream",
     "text": [
      "/Users/shiwang/anaconda3/lib/python3.6/site-packages/tensorflow/python/util/tf_inspect.py:55: DeprecationWarning: inspect.getargspec() is deprecated, use inspect.signature() or inspect.getfullargspec()\n",
      "  if d.decorator_argspec is not None), _inspect.getargspec(target))\n",
      "/Users/shiwang/anaconda3/lib/python3.6/site-packages/tensorflow/python/util/tf_inspect.py:55: DeprecationWarning: inspect.getargspec() is deprecated, use inspect.signature() or inspect.getfullargspec()\n",
      "  if d.decorator_argspec is not None), _inspect.getargspec(target))\n",
      "/Users/shiwang/anaconda3/lib/python3.6/site-packages/tensorflow/python/util/tf_inspect.py:55: DeprecationWarning: inspect.getargspec() is deprecated, use inspect.signature() or inspect.getfullargspec()\n",
      "  if d.decorator_argspec is not None), _inspect.getargspec(target))\n",
      "/Users/shiwang/anaconda3/lib/python3.6/site-packages/tensorflow/python/util/tf_inspect.py:55: DeprecationWarning: inspect.getargspec() is deprecated, use inspect.signature() or inspect.getfullargspec()\n",
      "  if d.decorator_argspec is not None), _inspect.getargspec(target))\n",
      "/Users/shiwang/anaconda3/lib/python3.6/site-packages/tensorflow/python/util/tf_inspect.py:55: DeprecationWarning: inspect.getargspec() is deprecated, use inspect.signature() or inspect.getfullargspec()\n",
      "  if d.decorator_argspec is not None), _inspect.getargspec(target))\n",
      "/Users/shiwang/anaconda3/lib/python3.6/site-packages/tensorflow/python/util/tf_inspect.py:55: DeprecationWarning: inspect.getargspec() is deprecated, use inspect.signature() or inspect.getfullargspec()\n",
      "  if d.decorator_argspec is not None), _inspect.getargspec(target))\n",
      "/Users/shiwang/anaconda3/lib/python3.6/site-packages/tensorflow/python/util/tf_inspect.py:55: DeprecationWarning: inspect.getargspec() is deprecated, use inspect.signature() or inspect.getfullargspec()\n",
      "  if d.decorator_argspec is not None), _inspect.getargspec(target))\n",
      "/Users/shiwang/anaconda3/lib/python3.6/site-packages/tensorflow/python/util/tf_inspect.py:55: DeprecationWarning: inspect.getargspec() is deprecated, use inspect.signature() or inspect.getfullargspec()\n",
      "  if d.decorator_argspec is not None), _inspect.getargspec(target))\n",
      "/Users/shiwang/anaconda3/lib/python3.6/site-packages/tensorflow/python/util/tf_inspect.py:55: DeprecationWarning: inspect.getargspec() is deprecated, use inspect.signature() or inspect.getfullargspec()\n",
      "  if d.decorator_argspec is not None), _inspect.getargspec(target))\n",
      "/Users/shiwang/anaconda3/lib/python3.6/site-packages/tensorflow/python/util/tf_inspect.py:55: DeprecationWarning: inspect.getargspec() is deprecated, use inspect.signature() or inspect.getfullargspec()\n",
      "  if d.decorator_argspec is not None), _inspect.getargspec(target))\n",
      "/Users/shiwang/anaconda3/lib/python3.6/site-packages/tensorflow/python/util/tf_inspect.py:55: DeprecationWarning: inspect.getargspec() is deprecated, use inspect.signature() or inspect.getfullargspec()\n",
      "  if d.decorator_argspec is not None), _inspect.getargspec(target))\n",
      "/Users/shiwang/anaconda3/lib/python3.6/site-packages/tensorflow/python/util/tf_inspect.py:55: DeprecationWarning: inspect.getargspec() is deprecated, use inspect.signature() or inspect.getfullargspec()\n",
      "  if d.decorator_argspec is not None), _inspect.getargspec(target))\n",
      "/Users/shiwang/anaconda3/lib/python3.6/site-packages/tensorflow/python/util/tf_inspect.py:55: DeprecationWarning: inspect.getargspec() is deprecated, use inspect.signature() or inspect.getfullargspec()\n",
      "  if d.decorator_argspec is not None), _inspect.getargspec(target))\n",
      "/Users/shiwang/anaconda3/lib/python3.6/site-packages/tensorflow/python/util/tf_inspect.py:55: DeprecationWarning: inspect.getargspec() is deprecated, use inspect.signature() or inspect.getfullargspec()\n",
      "  if d.decorator_argspec is not None), _inspect.getargspec(target))\n",
      "/Users/shiwang/anaconda3/lib/python3.6/site-packages/tensorflow/python/util/tf_inspect.py:55: DeprecationWarning: inspect.getargspec() is deprecated, use inspect.signature() or inspect.getfullargspec()\n",
      "  if d.decorator_argspec is not None), _inspect.getargspec(target))\n",
      "/Users/shiwang/anaconda3/lib/python3.6/site-packages/tensorflow/python/util/tf_inspect.py:55: DeprecationWarning: inspect.getargspec() is deprecated, use inspect.signature() or inspect.getfullargspec()\n",
      "  if d.decorator_argspec is not None), _inspect.getargspec(target))\n",
      "/Users/shiwang/anaconda3/lib/python3.6/site-packages/tensorflow/python/util/tf_inspect.py:55: DeprecationWarning: inspect.getargspec() is deprecated, use inspect.signature() or inspect.getfullargspec()\n",
      "  if d.decorator_argspec is not None), _inspect.getargspec(target))\n",
      "/Users/shiwang/anaconda3/lib/python3.6/site-packages/tensorflow/python/util/tf_inspect.py:55: DeprecationWarning: inspect.getargspec() is deprecated, use inspect.signature() or inspect.getfullargspec()\n",
      "  if d.decorator_argspec is not None), _inspect.getargspec(target))\n",
      "/Users/shiwang/anaconda3/lib/python3.6/site-packages/tensorflow/python/util/tf_inspect.py:55: DeprecationWarning: inspect.getargspec() is deprecated, use inspect.signature() or inspect.getfullargspec()\n",
      "  if d.decorator_argspec is not None), _inspect.getargspec(target))\n",
      "/Users/shiwang/anaconda3/lib/python3.6/site-packages/tensorflow/python/util/tf_inspect.py:55: DeprecationWarning: inspect.getargspec() is deprecated, use inspect.signature() or inspect.getfullargspec()\n",
      "  if d.decorator_argspec is not None), _inspect.getargspec(target))\n",
      "/Users/shiwang/anaconda3/lib/python3.6/site-packages/tensorflow/python/util/tf_inspect.py:55: DeprecationWarning: inspect.getargspec() is deprecated, use inspect.signature() or inspect.getfullargspec()\n",
      "  if d.decorator_argspec is not None), _inspect.getargspec(target))\n",
      "/Users/shiwang/anaconda3/lib/python3.6/site-packages/tensorflow/python/util/tf_inspect.py:55: DeprecationWarning: inspect.getargspec() is deprecated, use inspect.signature() or inspect.getfullargspec()\n",
      "  if d.decorator_argspec is not None), _inspect.getargspec(target))\n",
      "/Users/shiwang/anaconda3/lib/python3.6/site-packages/tensorflow/python/util/tf_inspect.py:55: DeprecationWarning: inspect.getargspec() is deprecated, use inspect.signature() or inspect.getfullargspec()\n",
      "  if d.decorator_argspec is not None), _inspect.getargspec(target))\n",
      "/Users/shiwang/anaconda3/lib/python3.6/site-packages/tensorflow/python/util/tf_inspect.py:55: DeprecationWarning: inspect.getargspec() is deprecated, use inspect.signature() or inspect.getfullargspec()\n",
      "  if d.decorator_argspec is not None), _inspect.getargspec(target))\n",
      "/Users/shiwang/anaconda3/lib/python3.6/site-packages/tensorflow/python/util/tf_inspect.py:55: DeprecationWarning: inspect.getargspec() is deprecated, use inspect.signature() or inspect.getfullargspec()\n",
      "  if d.decorator_argspec is not None), _inspect.getargspec(target))\n",
      "/Users/shiwang/anaconda3/lib/python3.6/site-packages/tensorflow/python/util/tf_inspect.py:55: DeprecationWarning: inspect.getargspec() is deprecated, use inspect.signature() or inspect.getfullargspec()\n",
      "  if d.decorator_argspec is not None), _inspect.getargspec(target))\n",
      "/Users/shiwang/anaconda3/lib/python3.6/site-packages/tensorflow/python/util/tf_inspect.py:55: DeprecationWarning: inspect.getargspec() is deprecated, use inspect.signature() or inspect.getfullargspec()\n",
      "  if d.decorator_argspec is not None), _inspect.getargspec(target))\n",
      "/Users/shiwang/anaconda3/lib/python3.6/site-packages/tensorflow/python/util/tf_inspect.py:55: DeprecationWarning: inspect.getargspec() is deprecated, use inspect.signature() or inspect.getfullargspec()\n",
      "  if d.decorator_argspec is not None), _inspect.getargspec(target))\n",
      "/Users/shiwang/anaconda3/lib/python3.6/site-packages/tensorflow/python/util/tf_inspect.py:55: DeprecationWarning: inspect.getargspec() is deprecated, use inspect.signature() or inspect.getfullargspec()\n",
      "  if d.decorator_argspec is not None), _inspect.getargspec(target))\n",
      "/Users/shiwang/anaconda3/lib/python3.6/site-packages/tensorflow/python/util/tf_inspect.py:55: DeprecationWarning: inspect.getargspec() is deprecated, use inspect.signature() or inspect.getfullargspec()\n",
      "  if d.decorator_argspec is not None), _inspect.getargspec(target))\n",
      "/Users/shiwang/anaconda3/lib/python3.6/site-packages/tensorflow/python/util/tf_inspect.py:55: DeprecationWarning: inspect.getargspec() is deprecated, use inspect.signature() or inspect.getfullargspec()\n",
      "  if d.decorator_argspec is not None), _inspect.getargspec(target))\n",
      "/Users/shiwang/anaconda3/lib/python3.6/site-packages/tensorflow/python/util/tf_inspect.py:55: DeprecationWarning: inspect.getargspec() is deprecated, use inspect.signature() or inspect.getfullargspec()\n",
      "  if d.decorator_argspec is not None), _inspect.getargspec(target))\n"
     ]
    },
    {
     "name": "stderr",
     "output_type": "stream",
     "text": [
      "/Users/shiwang/anaconda3/lib/python3.6/site-packages/tensorflow/python/util/tf_inspect.py:55: DeprecationWarning: inspect.getargspec() is deprecated, use inspect.signature() or inspect.getfullargspec()\n",
      "  if d.decorator_argspec is not None), _inspect.getargspec(target))\n",
      "/Users/shiwang/anaconda3/lib/python3.6/site-packages/tensorflow/python/util/tf_inspect.py:55: DeprecationWarning: inspect.getargspec() is deprecated, use inspect.signature() or inspect.getfullargspec()\n",
      "  if d.decorator_argspec is not None), _inspect.getargspec(target))\n",
      "/Users/shiwang/anaconda3/lib/python3.6/site-packages/tensorflow/python/util/tf_inspect.py:55: DeprecationWarning: inspect.getargspec() is deprecated, use inspect.signature() or inspect.getfullargspec()\n",
      "  if d.decorator_argspec is not None), _inspect.getargspec(target))\n",
      "/Users/shiwang/anaconda3/lib/python3.6/site-packages/tensorflow/python/util/tf_inspect.py:55: DeprecationWarning: inspect.getargspec() is deprecated, use inspect.signature() or inspect.getfullargspec()\n",
      "  if d.decorator_argspec is not None), _inspect.getargspec(target))\n",
      "/Users/shiwang/anaconda3/lib/python3.6/site-packages/tensorflow/python/util/tf_inspect.py:55: DeprecationWarning: inspect.getargspec() is deprecated, use inspect.signature() or inspect.getfullargspec()\n",
      "  if d.decorator_argspec is not None), _inspect.getargspec(target))\n",
      "/Users/shiwang/anaconda3/lib/python3.6/site-packages/tensorflow/python/util/tf_inspect.py:55: DeprecationWarning: inspect.getargspec() is deprecated, use inspect.signature() or inspect.getfullargspec()\n",
      "  if d.decorator_argspec is not None), _inspect.getargspec(target))\n",
      "/Users/shiwang/anaconda3/lib/python3.6/site-packages/tensorflow/python/util/tf_inspect.py:55: DeprecationWarning: inspect.getargspec() is deprecated, use inspect.signature() or inspect.getfullargspec()\n",
      "  if d.decorator_argspec is not None), _inspect.getargspec(target))\n",
      "/Users/shiwang/anaconda3/lib/python3.6/site-packages/tensorflow/python/util/tf_inspect.py:55: DeprecationWarning: inspect.getargspec() is deprecated, use inspect.signature() or inspect.getfullargspec()\n",
      "  if d.decorator_argspec is not None), _inspect.getargspec(target))\n",
      "/Users/shiwang/anaconda3/lib/python3.6/site-packages/tensorflow/python/util/tf_inspect.py:55: DeprecationWarning: inspect.getargspec() is deprecated, use inspect.signature() or inspect.getfullargspec()\n",
      "  if d.decorator_argspec is not None), _inspect.getargspec(target))\n",
      "/Users/shiwang/anaconda3/lib/python3.6/site-packages/tensorflow/python/util/tf_inspect.py:55: DeprecationWarning: inspect.getargspec() is deprecated, use inspect.signature() or inspect.getfullargspec()\n",
      "  if d.decorator_argspec is not None), _inspect.getargspec(target))\n",
      "/Users/shiwang/anaconda3/lib/python3.6/site-packages/tensorflow/python/util/tf_inspect.py:55: DeprecationWarning: inspect.getargspec() is deprecated, use inspect.signature() or inspect.getfullargspec()\n",
      "  if d.decorator_argspec is not None), _inspect.getargspec(target))\n",
      "/Users/shiwang/anaconda3/lib/python3.6/site-packages/tensorflow/python/util/tf_inspect.py:55: DeprecationWarning: inspect.getargspec() is deprecated, use inspect.signature() or inspect.getfullargspec()\n",
      "  if d.decorator_argspec is not None), _inspect.getargspec(target))\n",
      "/Users/shiwang/anaconda3/lib/python3.6/site-packages/tensorflow/python/util/tf_inspect.py:55: DeprecationWarning: inspect.getargspec() is deprecated, use inspect.signature() or inspect.getfullargspec()\n",
      "  if d.decorator_argspec is not None), _inspect.getargspec(target))\n",
      "/Users/shiwang/anaconda3/lib/python3.6/site-packages/tensorflow/python/util/tf_inspect.py:55: DeprecationWarning: inspect.getargspec() is deprecated, use inspect.signature() or inspect.getfullargspec()\n",
      "  if d.decorator_argspec is not None), _inspect.getargspec(target))\n",
      "/Users/shiwang/anaconda3/lib/python3.6/site-packages/tensorflow/python/util/tf_inspect.py:55: DeprecationWarning: inspect.getargspec() is deprecated, use inspect.signature() or inspect.getfullargspec()\n",
      "  if d.decorator_argspec is not None), _inspect.getargspec(target))\n",
      "/Users/shiwang/anaconda3/lib/python3.6/site-packages/tensorflow/python/util/tf_inspect.py:55: DeprecationWarning: inspect.getargspec() is deprecated, use inspect.signature() or inspect.getfullargspec()\n",
      "  if d.decorator_argspec is not None), _inspect.getargspec(target))\n",
      "/Users/shiwang/anaconda3/lib/python3.6/site-packages/tensorflow/python/util/tf_inspect.py:55: DeprecationWarning: inspect.getargspec() is deprecated, use inspect.signature() or inspect.getfullargspec()\n",
      "  if d.decorator_argspec is not None), _inspect.getargspec(target))\n",
      "/Users/shiwang/anaconda3/lib/python3.6/site-packages/tensorflow/python/util/tf_inspect.py:55: DeprecationWarning: inspect.getargspec() is deprecated, use inspect.signature() or inspect.getfullargspec()\n",
      "  if d.decorator_argspec is not None), _inspect.getargspec(target))\n",
      "/Users/shiwang/anaconda3/lib/python3.6/site-packages/tensorflow/python/util/tf_inspect.py:55: DeprecationWarning: inspect.getargspec() is deprecated, use inspect.signature() or inspect.getfullargspec()\n",
      "  if d.decorator_argspec is not None), _inspect.getargspec(target))\n",
      "/Users/shiwang/anaconda3/lib/python3.6/site-packages/tensorflow/python/util/tf_inspect.py:55: DeprecationWarning: inspect.getargspec() is deprecated, use inspect.signature() or inspect.getfullargspec()\n",
      "  if d.decorator_argspec is not None), _inspect.getargspec(target))\n",
      "/Users/shiwang/anaconda3/lib/python3.6/site-packages/tensorflow/python/util/tf_inspect.py:55: DeprecationWarning: inspect.getargspec() is deprecated, use inspect.signature() or inspect.getfullargspec()\n",
      "  if d.decorator_argspec is not None), _inspect.getargspec(target))\n"
     ]
    },
    {
     "name": "stdout",
     "output_type": "stream",
     "text": [
      "Train on 8500 samples, validate on 1500 samples\n",
      "Epoch 1/10\n",
      "8500/8500 [==============================] - 11s 1ms/step - loss: 3.4113 - mean_absolute_error: 1.4562 - val_loss: 1.5131 - val_mean_absolute_error: 0.9669\n",
      "Epoch 2/10\n",
      "8500/8500 [==============================] - 8s 995us/step - loss: 2.0851 - mean_absolute_error: 1.1789 - val_loss: 1.4755 - val_mean_absolute_error: 1.0007\n",
      "Epoch 3/10\n",
      "8500/8500 [==============================] - 8s 976us/step - loss: 2.0436 - mean_absolute_error: 1.1654 - val_loss: 1.4726 - val_mean_absolute_error: 1.0302\n",
      "Epoch 4/10\n",
      "8500/8500 [==============================] - 8s 979us/step - loss: 1.7889 - mean_absolute_error: 1.0782 - val_loss: 1.1768 - val_mean_absolute_error: 0.8571\n",
      "Epoch 5/10\n",
      "8500/8500 [==============================] - 8s 989us/step - loss: 1.5029 - mean_absolute_error: 0.9856 - val_loss: 1.1340 - val_mean_absolute_error: 0.8390\n",
      "Epoch 6/10\n",
      "8500/8500 [==============================] - 9s 1ms/step - loss: 1.2611 - mean_absolute_error: 0.8955 - val_loss: 0.9956 - val_mean_absolute_error: 0.7954\n",
      "Epoch 7/10\n",
      "8500/8500 [==============================] - 9s 1ms/step - loss: 1.0438 - mean_absolute_error: 0.8120 - val_loss: 1.0282 - val_mean_absolute_error: 0.7965\n",
      "Epoch 8/10\n",
      "8500/8500 [==============================] - 8s 958us/step - loss: 0.9684 - mean_absolute_error: 0.7862 - val_loss: 0.9734 - val_mean_absolute_error: 0.7789\n",
      "Epoch 9/10\n",
      "8500/8500 [==============================] - 9s 1ms/step - loss: 0.8993 - mean_absolute_error: 0.7548 - val_loss: 0.9948 - val_mean_absolute_error: 0.7831\n",
      "Epoch 10/10\n",
      "8500/8500 [==============================] - 8s 943us/step - loss: 0.8538 - mean_absolute_error: 0.7379 - val_loss: 0.9433 - val_mean_absolute_error: 0.7756\n"
     ]
    },
    {
     "data": {
      "text/plain": [
       "<keras.callbacks.History at 0x1a57e29208>"
      ]
     },
     "execution_count": 283,
     "metadata": {},
     "output_type": "execute_result"
    }
   ],
   "source": [
    "model.compile(loss='mean_squared_error', \n",
    "              optimizer= optimizers.Adam(lr=0.001), \n",
    "              metrics=['mae'])\n",
    "model.fit(X_train, \n",
    "          Y_train, \n",
    "          batch_size = batch_size, \n",
    "          validation_data=(X_test, Y_test), \n",
    "          epochs = 10)"
   ]
  },
  {
   "cell_type": "code",
   "execution_count": null,
   "metadata": {},
   "outputs": [],
   "source": []
  }
 ],
 "metadata": {
  "kernelspec": {
   "display_name": "Python [conda env:anaconda3]",
   "language": "python",
   "name": "conda-env-anaconda3-py"
  },
  "language_info": {
   "codemirror_mode": {
    "name": "ipython",
    "version": 3
   },
   "file_extension": ".py",
   "mimetype": "text/x-python",
   "name": "python",
   "nbconvert_exporter": "python",
   "pygments_lexer": "ipython3",
   "version": "3.6.5"
  },
  "toc": {
   "base_numbering": 1,
   "nav_menu": {},
   "number_sections": true,
   "sideBar": true,
   "skip_h1_title": false,
   "title_cell": "Table of Contents",
   "title_sidebar": "Contents",
   "toc_cell": false,
   "toc_position": {
    "height": "calc(100% - 180px)",
    "left": "10px",
    "top": "150px",
    "width": "275px"
   },
   "toc_section_display": true,
   "toc_window_display": true
  }
 },
 "nbformat": 4,
 "nbformat_minor": 2
}
