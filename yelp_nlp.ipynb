{
 "cells": [
  {
   "cell_type": "code",
   "execution_count": 1,
   "metadata": {},
   "outputs": [],
   "source": [
    "import spacy\n",
    "from spacy.lang.en.stop_words import STOP_WORDS\n",
    "import textacy\n",
    "import numpy as np\n",
    "import pandas as pd "
   ]
  },
  {
   "cell_type": "markdown",
   "metadata": {},
   "source": [
    "# Define global variables"
   ]
  },
  {
   "cell_type": "code",
   "execution_count": 2,
   "metadata": {},
   "outputs": [],
   "source": [
    "MAX_NUM = 1000\n",
    "RAW_REVIEW_JSON = './data/yelp/review.json'\n",
    "RAW_BUSINESS_JSON = './data/yelp/business.json'\n",
    "nlp = spacy.load('en')"
   ]
  },
  {
   "cell_type": "markdown",
   "metadata": {},
   "source": [
    "# Take a look at data format"
   ]
  },
  {
   "cell_type": "code",
   "execution_count": 3,
   "metadata": {},
   "outputs": [
    {
     "data": {
      "text/plain": [
       "'{\"business_id\": \"FYWN1wneV18bWNgQjJ2GNg\", \"name\": \"Dental by Design\", \"neighborhood\": \"\", \"address\": \"4855 E Warner Rd, Ste B9\", \"city\": \"Ahwatukee\", \"state\": \"AZ\", \"postal_code\": \"85044\", \"latitude\": 33.3306902, \"longitude\": -111.9785992, \"stars\": 4.0, \"review_count\": 22, \"is_open\": 1, \"attributes\": {\"AcceptsInsurance\": true, \"ByAppointmentOnly\": true, \"BusinessAcceptsCreditCards\": true}, \"categories\": [\"Dentists\", \"General Dentistry\", \"Health & Medical\", \"Oral Surgeons\", \"Cosmetic Dentists\", \"Orthodontists\"], \"hours\": {\"Friday\": \"7:30-17:00\", \"Tuesday\": \"7:30-17:00\", \"Thursday\": \"7:30-17:00\", \"Wednesday\": \"7:30-17:00\", \"Monday\": \"7:30-17:00\"}}\\n'"
      ]
     },
     "execution_count": 3,
     "metadata": {},
     "output_type": "execute_result"
    }
   ],
   "source": [
    "f = open(RAW_BUSINESS_JSON)\n",
    "f.readline()"
   ]
  },
  {
   "cell_type": "code",
   "execution_count": 4,
   "metadata": {},
   "outputs": [
    {
     "data": {
      "text/plain": [
       "'{\"review_id\":\"v0i_UHJMo_hPBq9bxWvW4w\",\"user_id\":\"bv2nCi5Qv5vroFiqKGopiw\",\"business_id\":\"0W4lkclzZThpx3V65bVgig\",\"stars\":5,\"date\":\"2016-05-28\",\"text\":\"Love the staff, love the meat, love the place. Prepare for a long line around lunch or dinner hours. \\\\n\\\\nThey ask you how you want you meat, lean or something maybe, I can\\'t remember. Just say you don\\'t want it too fatty. \\\\n\\\\nGet a half sour pickle and a hot pepper. Hand cut french fries too.\",\"useful\":0,\"funny\":0,\"cool\":0}\\n'"
      ]
     },
     "execution_count": 4,
     "metadata": {},
     "output_type": "execute_result"
    }
   ],
   "source": [
    "f = open(RAW_REVIEW_JSON)\n",
    "f.readline()"
   ]
  },
  {
   "cell_type": "markdown",
   "metadata": {},
   "source": [
    "# Define some helpful function"
   ]
  },
  {
   "cell_type": "markdown",
   "metadata": {},
   "source": [
    "Filter out rules"
   ]
  },
  {
   "cell_type": "code",
   "execution_count": 5,
   "metadata": {},
   "outputs": [],
   "source": [
    "# define rules to filter out unuseful tokens\n",
    "def filter_token(token):\n",
    "    if(token.is_punct or \\\n",
    "       token.is_digit or \\\n",
    "       token.is_space or \\\n",
    "       token.like_num or \n",
    "       token.is_stop) :\n",
    "        return(False)\n",
    "    else:\n",
    "        return(True)"
   ]
  },
  {
   "cell_type": "markdown",
   "metadata": {},
   "source": [
    "Read review `text` from json"
   ]
  },
  {
   "cell_type": "code",
   "execution_count": 6,
   "metadata": {},
   "outputs": [],
   "source": [
    "# yield entire text for one review\n",
    "def generate_review():\n",
    "    reviews = textacy.io.read_json(RAW_REVIEW_JSON, mode='rt', lines=True)\n",
    "    for review in reviews:\n",
    "        yield review['text']"
   ]
  },
  {
   "cell_type": "code",
   "execution_count": 7,
   "metadata": {},
   "outputs": [
    {
     "name": "stdout",
     "output_type": "stream",
     "text": [
      "Love the staff, love the meat, love the place. Prepare for a long line around lunch or dinner hours. \n",
      "\n",
      "They ask you how you want you meat, lean or something maybe, I can't remember. Just say you don't want it too fatty. \n",
      "\n",
      "Get a half sour pickle and a hot pepper. Hand cut french fries too.\n"
     ]
    }
   ],
   "source": [
    "for text in generate_review():\n",
    "    print(text)\n",
    "    break"
   ]
  },
  {
   "cell_type": "markdown",
   "metadata": {},
   "source": [
    "# Phrase Model"
   ]
  },
  {
   "cell_type": "markdown",
   "metadata": {},
   "source": [
    "## Prepare Sentence (tokens) List"
   ]
  },
  {
   "cell_type": "markdown",
   "metadata": {},
   "source": [
    "- Process\n",
    "    1. filter out based on rules\n",
    "    2. lemmatize\n",
    "    \n",
    "    \n",
    "- Output:  \n",
    "**[**<br/>\n",
    "[sentence 1 token 1, sentence 1 token 2], ..., [sentence 1 token K1],<br/>\n",
    "[sentence 2 token 1, sentence 2 token 2], ..., [sentence 2 token K2],<br/>\n",
    "...<br/>\n",
    "[sentence N token 1, sentence N token 2], ..., [sentence N token KN]<br/>\n",
    "**]**"
   ]
  },
  {
   "cell_type": "code",
   "execution_count": 8,
   "metadata": {},
   "outputs": [],
   "source": [
    "def generate_list(max_num = MAX_NUM):\n",
    "    all_reviews = generate_review()\n",
    "    df = []\n",
    "    \n",
    "    for doc,_ in zip(nlp.pipe(all_reviews, batch_size=10, n_threads=3),  # parallel processing\n",
    "                     range(max_num)):                                    # only MAX_NUM files\n",
    "        for sent in doc.sents:\n",
    "            df.append( [token.lemma_ for token in sent if filter_token(token) and token.lemma_ != '-PRON-'] )\n",
    "    return(df)"
   ]
  },
  {
   "cell_type": "code",
   "execution_count": 9,
   "metadata": {},
   "outputs": [
    {
     "data": {
      "text/plain": [
       "13050"
      ]
     },
     "execution_count": 9,
     "metadata": {},
     "output_type": "execute_result"
    }
   ],
   "source": [
    "unigram_sentences = generate_list()\n",
    "len(unigram_sentences) # Number of sentences"
   ]
  },
  {
   "cell_type": "code",
   "execution_count": 10,
   "metadata": {},
   "outputs": [
    {
     "data": {
      "text/plain": [
       "[['love', 'staff', 'love', 'meat', 'love', 'place'],\n",
       " ['prepare', 'long', 'line', 'lunch', 'dinner', 'hour'],\n",
       " ['ask', 'want', 'meat', 'lean', 'maybe', 'not', 'remember'],\n",
       " ['just', 'not', 'want', 'fatty'],\n",
       " ['get', 'half', 'sour', 'pickle', 'hot', 'pepper']]"
      ]
     },
     "execution_count": 10,
     "metadata": {},
     "output_type": "execute_result"
    }
   ],
   "source": [
    "unigram_sentences[:5]"
   ]
  },
  {
   "cell_type": "markdown",
   "metadata": {},
   "source": [
    "## Train phrase model"
   ]
  },
  {
   "cell_type": "code",
   "execution_count": 11,
   "metadata": {},
   "outputs": [],
   "source": [
    "from gensim.models import Phrases\n",
    "from gensim.models.phrases import Phraser"
   ]
  },
  {
   "cell_type": "code",
   "execution_count": 12,
   "metadata": {},
   "outputs": [],
   "source": [
    "bigram_model = Phraser(Phrases(unigram_sentences))\n",
    "trigram_model = Phraser(Phrases(bigram_model[unigram_sentences]))"
   ]
  },
  {
   "cell_type": "markdown",
   "metadata": {},
   "source": [
    "## Apply Phrase Model"
   ]
  },
  {
   "cell_type": "markdown",
   "metadata": {},
   "source": [
    "- Process\n",
    "    1. filter out based on rules\n",
    "    2. lemmatize\n",
    "    3. apply bigram and trigram phrase model\n",
    "\n",
    "\n",
    "- Output:  \n",
    "**[**<br/>\n",
    "[Doc 1 token 1, Doc 1 token 2], ..., [Doc 1 token K1],<br/>\n",
    "[Doc 2 token 1, Doc 2 token 2], ..., [Doc 2 token K2],<br/>\n",
    "...<br/>\n",
    "[Doc N token 1, Doc N token 2], ..., [Doc N token KN]<br/>\n",
    "**]**"
   ]
  },
  {
   "cell_type": "code",
   "execution_count": 13,
   "metadata": {},
   "outputs": [],
   "source": [
    "def apply_phrase_model(max_num = MAX_NUM):\n",
    "    df = []\n",
    "    for doc,_ in zip(nlp.pipe(generate_review(), batch_size=10, n_threads=3),\n",
    "                   range(max_num)):\n",
    "        unigram_review =  [token.lemma_ for token in doc if filter_token(token) and token.lemma_ != '-PRON-']\n",
    "        bigram_review = bigram_model[unigram_review]\n",
    "        trigram_review = trigram_model[bigram_review]\n",
    "        df.append(trigram_review)\n",
    "    return(df)"
   ]
  },
  {
   "cell_type": "code",
   "execution_count": 14,
   "metadata": {},
   "outputs": [
    {
     "data": {
      "text/plain": [
       "1000"
      ]
     },
     "execution_count": 14,
     "metadata": {},
     "output_type": "execute_result"
    }
   ],
   "source": [
    "phrased_reviews = apply_phrase_model()\n",
    "len(phrased_reviews)"
   ]
  },
  {
   "cell_type": "markdown",
   "metadata": {},
   "source": [
    "Take a look at bi- and tri- grams"
   ]
  },
  {
   "cell_type": "code",
   "execution_count": 15,
   "metadata": {},
   "outputs": [
    {
     "data": {
      "text/plain": [
       "\"long_line / lunch_dinner / not_remember / french_fry / pork_belly / smoke_meat / las_vegas / las_vegas / next_time / coffee_shop / gluten_free / gluten_free / valentine_'s_day / valentine_'s_day / valentine_'s_day\""
      ]
     },
     "execution_count": 15,
     "metadata": {},
     "output_type": "execute_result"
    }
   ],
   "source": [
    "' / '.join([word for phrased_review in phrased_reviews for word in phrased_review if '_' in word ][:15])"
   ]
  },
  {
   "cell_type": "markdown",
   "metadata": {},
   "source": [
    "# Topic Modelling - `gensim`"
   ]
  },
  {
   "cell_type": "markdown",
   "metadata": {},
   "source": [
    "<img src=\"https://s3.amazonaws.com/skipgram-images/LDA.png\" width= 400>"
   ]
  },
  {
   "cell_type": "code",
   "execution_count": 16,
   "metadata": {},
   "outputs": [],
   "source": [
    "from gensim import corpora\n",
    "from gensim.models import LdaMulticore\n",
    "import pyLDAvis.gensim as gensimvis\n",
    "import pyLDAvis"
   ]
  },
  {
   "cell_type": "markdown",
   "metadata": {},
   "source": [
    "Create gensim `dictionary`"
   ]
  },
  {
   "cell_type": "code",
   "execution_count": 17,
   "metadata": {},
   "outputs": [
    {
     "name": "stdout",
     "output_type": "stream",
     "text": [
      "Dictionary(8425 unique tokens: ['ask', 'cut', 'fatty', 'french_fry', 'get']...)\n"
     ]
    }
   ],
   "source": [
    "dictionary = corpora.Dictionary(phrased_reviews)\n",
    "print(dictionary)"
   ]
  },
  {
   "cell_type": "markdown",
   "metadata": {},
   "source": [
    "An example of using dictionary (essentially just document-term matrix)"
   ]
  },
  {
   "cell_type": "code",
   "execution_count": 18,
   "metadata": {},
   "outputs": [
    {
     "data": {
      "text/plain": [
       "[(20, 1),\n",
       " (59, 1),\n",
       " (80, 1),\n",
       " (81, 1),\n",
       " (91, 2),\n",
       " (93, 1),\n",
       " (101, 2),\n",
       " (140, 1),\n",
       " (216, 1),\n",
       " (233, 1),\n",
       " (252, 1),\n",
       " (525, 1),\n",
       " (941, 1),\n",
       " (1144, 1),\n",
       " (1308, 1),\n",
       " (1385, 1),\n",
       " (1661, 1),\n",
       " (3349, 1),\n",
       " (3350, 1),\n",
       " (3351, 1),\n",
       " (3352, 1)]"
      ]
     },
     "execution_count": 18,
     "metadata": {},
     "output_type": "execute_result"
    }
   ],
   "source": [
    "dictionary.doc2bow(phrased_reviews[300])"
   ]
  },
  {
   "cell_type": "markdown",
   "metadata": {},
   "source": [
    "Create gensim `corpus`"
   ]
  },
  {
   "cell_type": "code",
   "execution_count": 19,
   "metadata": {},
   "outputs": [],
   "source": [
    "corpus = [dictionary.doc2bow(phrased_review) for phrased_review in phrased_reviews]\n",
    "corpora.MmCorpus.serialize('./model/yelp_gensim_corpus.mm', corpus)  # store to disk, for later use\n",
    "corpus = corpora.MmCorpus('./model/yelp_gensim_corpus.mm')"
   ]
  },
  {
   "cell_type": "markdown",
   "metadata": {},
   "source": [
    "Train LDA model"
   ]
  },
  {
   "cell_type": "code",
   "execution_count": 20,
   "metadata": {},
   "outputs": [],
   "source": [
    "lda = LdaMulticore(corpus, \n",
    "                   num_topics = 5, \n",
    "                   id2word = dictionary, \n",
    "                   workers = 3)"
   ]
  },
  {
   "cell_type": "markdown",
   "metadata": {},
   "source": [
    "Take a look at top terms in first topic"
   ]
  },
  {
   "cell_type": "code",
   "execution_count": 21,
   "metadata": {},
   "outputs": [
    {
     "data": {
      "text/plain": [
       "[('the', 0.022097582),\n",
       " ('be', 0.017838163),\n",
       " ('not', 0.016510872),\n",
       " ('good', 0.014874373),\n",
       " ('place', 0.012055893),\n",
       " ('have', 0.008718221),\n",
       " ('time', 0.007516761),\n",
       " ('food', 0.00721077),\n",
       " ('like', 0.0059131137),\n",
       " ('come', 0.0058776326)]"
      ]
     },
     "execution_count": 21,
     "metadata": {},
     "output_type": "execute_result"
    }
   ],
   "source": [
    "lda.show_topic(0, topn=10)"
   ]
  },
  {
   "cell_type": "markdown",
   "metadata": {},
   "source": [
    "Visualization"
   ]
  },
  {
   "cell_type": "code",
   "execution_count": 22,
   "metadata": {},
   "outputs": [
    {
     "name": "stderr",
     "output_type": "stream",
     "text": [
      "/Users/shiwang/anaconda3/lib/python3.6/site-packages/pyLDAvis/_prepare.py:257: FutureWarning: Sorting because non-concatenation axis is not aligned. A future version\n",
      "of pandas will change to not sort by default.\n",
      "\n",
      "To accept the future behavior, pass 'sort=True'.\n",
      "\n",
      "To retain the current behavior and silence the warning, pass sort=False\n",
      "\n",
      "  return pd.concat([default_term_info] + list(topic_dfs))\n"
     ]
    }
   ],
   "source": [
    "vis_data  = gensimvis.prepare(lda, corpus, dictionary)"
   ]
  },
  {
   "cell_type": "code",
   "execution_count": 23,
   "metadata": {},
   "outputs": [
    {
     "data": {
      "text/html": [
       "\n",
       "<link rel=\"stylesheet\" type=\"text/css\" href=\"https://cdn.rawgit.com/bmabey/pyLDAvis/files/ldavis.v1.0.0.css\">\n",
       "\n",
       "\n",
       "<div id=\"ldavis_el785871123654395204215682901\"></div>\n",
       "<script type=\"text/javascript\">\n",
       "\n",
       "var ldavis_el785871123654395204215682901_data = {\"mdsDat\": {\"x\": [0.009698092622471701, 0.0036545664810557895, 0.011427716438952525, 0.0009712633954961381, -0.025751638937976114], \"y\": [0.010110567083156592, 0.009203314336629078, -0.0027783790154529858, -0.019674251456390936, 0.0031387490520582615], \"topics\": [1, 2, 3, 4, 5], \"cluster\": [1, 1, 1, 1, 1], \"Freq\": [30.402427673339844, 29.591110229492188, 24.525394439697266, 9.582610130310059, 5.89845609664917]}, \"tinfo\": {\"Category\": [\"Default\", \"Default\", \"Default\", \"Default\", \"Default\", \"Default\", \"Default\", \"Default\", \"Default\", \"Default\", \"Default\", \"Default\", \"Default\", \"Default\", \"Default\", \"Default\", \"Default\", \"Default\", \"Default\", \"Default\", \"Default\", \"Default\", \"Default\", \"Default\", \"Default\", \"Default\", \"Default\", \"Default\", \"Default\", \"Default\", \"Topic1\", \"Topic1\", \"Topic1\", \"Topic1\", \"Topic1\", \"Topic1\", \"Topic1\", \"Topic1\", \"Topic1\", \"Topic1\", \"Topic1\", \"Topic1\", \"Topic1\", \"Topic1\", \"Topic1\", \"Topic1\", \"Topic1\", \"Topic1\", \"Topic1\", \"Topic1\", \"Topic1\", \"Topic1\", \"Topic1\", \"Topic1\", \"Topic1\", \"Topic1\", \"Topic1\", \"Topic1\", \"Topic1\", \"Topic1\", \"Topic1\", \"Topic1\", \"Topic1\", \"Topic1\", \"Topic1\", \"Topic1\", \"Topic1\", \"Topic1\", \"Topic1\", \"Topic1\", \"Topic1\", \"Topic1\", \"Topic1\", \"Topic1\", \"Topic1\", \"Topic1\", \"Topic1\", \"Topic1\", \"Topic1\", \"Topic1\", \"Topic1\", \"Topic1\", \"Topic1\", \"Topic1\", \"Topic1\", \"Topic1\", \"Topic1\", \"Topic1\", \"Topic1\", \"Topic1\", \"Topic1\", \"Topic1\", \"Topic1\", \"Topic1\", \"Topic1\", \"Topic1\", \"Topic1\", \"Topic1\", \"Topic1\", \"Topic1\", \"Topic1\", \"Topic1\", \"Topic1\", \"Topic1\", \"Topic1\", \"Topic1\", \"Topic1\", \"Topic1\", \"Topic1\", \"Topic2\", \"Topic2\", \"Topic2\", \"Topic2\", \"Topic2\", \"Topic2\", \"Topic2\", \"Topic2\", \"Topic2\", \"Topic2\", \"Topic2\", \"Topic2\", \"Topic2\", \"Topic2\", \"Topic2\", \"Topic2\", \"Topic2\", \"Topic2\", \"Topic2\", \"Topic2\", \"Topic2\", \"Topic2\", \"Topic2\", \"Topic2\", \"Topic2\", \"Topic2\", \"Topic2\", \"Topic2\", \"Topic2\", \"Topic2\", \"Topic2\", \"Topic2\", \"Topic2\", \"Topic2\", \"Topic2\", \"Topic2\", \"Topic2\", \"Topic2\", \"Topic2\", \"Topic2\", \"Topic2\", \"Topic2\", \"Topic2\", \"Topic2\", \"Topic2\", \"Topic2\", \"Topic2\", \"Topic2\", \"Topic2\", \"Topic2\", \"Topic2\", \"Topic2\", \"Topic2\", \"Topic2\", \"Topic2\", \"Topic2\", \"Topic2\", \"Topic2\", \"Topic2\", \"Topic2\", \"Topic2\", \"Topic2\", \"Topic2\", \"Topic2\", \"Topic2\", \"Topic2\", \"Topic2\", \"Topic2\", \"Topic2\", \"Topic2\", \"Topic2\", \"Topic2\", \"Topic2\", \"Topic2\", \"Topic2\", \"Topic2\", \"Topic2\", \"Topic2\", \"Topic2\", \"Topic2\", \"Topic3\", \"Topic3\", \"Topic3\", \"Topic3\", \"Topic3\", \"Topic3\", \"Topic3\", \"Topic3\", \"Topic3\", \"Topic3\", \"Topic3\", \"Topic3\", \"Topic3\", \"Topic3\", \"Topic3\", \"Topic3\", \"Topic3\", \"Topic3\", \"Topic3\", \"Topic3\", \"Topic3\", \"Topic3\", \"Topic3\", \"Topic3\", \"Topic3\", \"Topic3\", \"Topic3\", \"Topic3\", \"Topic3\", \"Topic3\", \"Topic3\", \"Topic3\", \"Topic3\", \"Topic3\", \"Topic3\", \"Topic3\", \"Topic3\", \"Topic3\", \"Topic3\", \"Topic3\", \"Topic3\", \"Topic3\", \"Topic3\", \"Topic3\", \"Topic3\", \"Topic3\", \"Topic3\", \"Topic3\", \"Topic3\", \"Topic3\", \"Topic3\", \"Topic3\", \"Topic3\", \"Topic3\", \"Topic3\", \"Topic3\", \"Topic3\", \"Topic3\", \"Topic3\", \"Topic3\", \"Topic3\", \"Topic3\", \"Topic3\", \"Topic3\", \"Topic3\", \"Topic3\", \"Topic3\", \"Topic3\", \"Topic3\", \"Topic3\", \"Topic3\", \"Topic3\", \"Topic3\", \"Topic3\", \"Topic3\", \"Topic3\", \"Topic3\", \"Topic3\", \"Topic3\", \"Topic3\", \"Topic3\", \"Topic3\", \"Topic3\", \"Topic3\", \"Topic4\", \"Topic4\", \"Topic4\", \"Topic4\", \"Topic4\", \"Topic4\", \"Topic4\", \"Topic4\", \"Topic4\", \"Topic4\", \"Topic4\", \"Topic4\", \"Topic4\", \"Topic4\", \"Topic4\", \"Topic4\", \"Topic4\", \"Topic4\", \"Topic4\", \"Topic4\", \"Topic4\", \"Topic4\", \"Topic4\", \"Topic4\", \"Topic4\", \"Topic4\", \"Topic4\", \"Topic4\", \"Topic4\", \"Topic4\", \"Topic4\", \"Topic4\", \"Topic4\", \"Topic4\", \"Topic4\", \"Topic4\", \"Topic4\", \"Topic4\", \"Topic4\", \"Topic4\", \"Topic4\", \"Topic4\", \"Topic4\", \"Topic4\", \"Topic4\", \"Topic4\", \"Topic4\", \"Topic4\", \"Topic4\", \"Topic4\", \"Topic4\", \"Topic4\", \"Topic4\", \"Topic4\", \"Topic4\", \"Topic4\", \"Topic4\", \"Topic4\", \"Topic4\", \"Topic4\", \"Topic4\", \"Topic4\", \"Topic4\", \"Topic4\", \"Topic4\", \"Topic4\", \"Topic4\", \"Topic4\", \"Topic4\", \"Topic4\", \"Topic4\", \"Topic4\", \"Topic4\", \"Topic4\", \"Topic4\", \"Topic4\", \"Topic4\", \"Topic4\", \"Topic4\", \"Topic4\", \"Topic5\", \"Topic5\", \"Topic5\", \"Topic5\", \"Topic5\", \"Topic5\", \"Topic5\", \"Topic5\", \"Topic5\", \"Topic5\", \"Topic5\", \"Topic5\", \"Topic5\", \"Topic5\", \"Topic5\", \"Topic5\", \"Topic5\", \"Topic5\", \"Topic5\", \"Topic5\", \"Topic5\", \"Topic5\", \"Topic5\", \"Topic5\", \"Topic5\", \"Topic5\", \"Topic5\", \"Topic5\", \"Topic5\", \"Topic5\", \"Topic5\", \"Topic5\", \"Topic5\", \"Topic5\", \"Topic5\", \"Topic5\", \"Topic5\", \"Topic5\", \"Topic5\", \"Topic5\", \"Topic5\", \"Topic5\", \"Topic5\", \"Topic5\", \"Topic5\", \"Topic5\", \"Topic5\", \"Topic5\", \"Topic5\", \"Topic5\", \"Topic5\", \"Topic5\", \"Topic5\", \"Topic5\", \"Topic5\", \"Topic5\", \"Topic5\", \"Topic5\", \"Topic5\", \"Topic5\", \"Topic5\", \"Topic5\", \"Topic5\", \"Topic5\", \"Topic5\", \"Topic5\", \"Topic5\", \"Topic5\", \"Topic5\", \"Topic5\", \"Topic5\", \"Topic5\", \"Topic5\", \"Topic5\", \"Topic5\", \"Topic5\", \"Topic5\", \"Topic5\"], \"Freq\": [1493.0, 1227.0, 776.0, 1483.0, 452.0, 518.0, 541.0, 627.0, 389.0, 355.0, 381.0, 259.0, 230.0, 190.0, 226.0, 205.0, 317.0, 132.0, 953.0, 140.0, 569.0, 166.0, 298.0, 466.0, 177.0, 251.0, 177.0, 223.0, 57.0, 135.0, 3.2260024547576904, 2.232792615890503, 2.228144645690918, 2.0771102905273438, 5.115792751312256, 2.119127035140991, 2.085047721862793, 4.850265026092529, 15.963109016418457, 4.791769504547119, 2.726335048675537, 1.9981848001480103, 3.074270486831665, 2.7002720832824707, 4.757525444030762, 2.6438052654266357, 2.5778086185455322, 2.5449607372283936, 5.186570167541504, 3.273035764694214, 1.95818293094635, 1.8527839183807373, 2.483499050140381, 3.2006454467773438, 13.861466407775879, 6.978254318237305, 1.2181638479232788, 1.2181144952774048, 1.2179938554763794, 1.2179616689682007, 5.0432586669921875, 1.8384019136428833, 3.773142099380493, 2.4727020263671875, 4.4512715339660645, 43.19498825073242, 98.0653305053711, 119.20906066894531, 8.41117000579834, 25.03610610961914, 5.575855255126953, 523.5089111328125, 352.3854675292969, 285.6134948730469, 206.54144287109375, 37.16811752319336, 16.380685806274414, 391.1553955078125, 66.23912811279297, 67.50735473632812, 422.5999755859375, 85.6153335571289, 89.71149444580078, 39.66429901123047, 95.96532440185547, 51.88490676879883, 50.78030776977539, 66.45642852783203, 170.82875061035156, 81.89957427978516, 139.24569702148438, 63.71431350708008, 91.17244720458984, 62.77910232543945, 178.07791137695312, 140.08627319335938, 77.20704650878906, 77.7914810180664, 93.01981353759766, 99.5334243774414, 121.84219360351562, 100.88125610351562, 92.9473876953125, 95.9909896850586, 77.72381591796875, 72.6187744140625, 74.31326293945312, 78.76107025146484, 74.62655639648438, 2.248441219329834, 2.2008016109466553, 6.3632121086120605, 2.8539273738861084, 2.1141035556793213, 2.0819995403289795, 2.147874355316162, 3.5043628215789795, 3.111691951751709, 5.809557914733887, 1.9517735242843628, 8.917061805725098, 1.9136408567428589, 16.236618041992188, 2.612144708633423, 1.9400392770767212, 5.81830358505249, 1.8961623907089233, 3.754744291305542, 1.9357270002365112, 4.429378509521484, 1.8797087669372559, 1.227494239807129, 1.2274631261825562, 1.2274504899978638, 1.227424144744873, 1.227375864982605, 1.2273746728897095, 1.2273800373077393, 1.2273595333099365, 1.8889018297195435, 2.4874682426452637, 1.784980297088623, 5.281203746795654, 40.09035110473633, 4.133747100830078, 4.100118637084961, 3.412585496902466, 274.3908386230469, 21.1748104095459, 23.905214309692383, 83.14379119873047, 15.054462432861328, 45.678802490234375, 139.21499633789062, 47.037315368652344, 408.0526428222656, 123.10721588134766, 113.0242691040039, 43.33809280395508, 52.90074157714844, 440.4112548828125, 77.02261352539062, 162.64756774902344, 427.3211364746094, 135.31480407714844, 189.201904296875, 84.31271362304688, 93.13570404052734, 93.38778686523438, 61.01435470581055, 209.22836303710938, 149.65371704101562, 48.284080505371094, 42.00148391723633, 146.7967071533203, 221.2014923095703, 55.11026382446289, 65.0984878540039, 73.5403060913086, 76.519287109375, 105.99920654296875, 95.84154510498047, 71.44470977783203, 107.99705505371094, 69.14837646484375, 73.80517578125, 79.81193542480469, 69.02851867675781, 66.26454162597656, 2.204131603240967, 2.1444082260131836, 2.085880994796753, 2.066437005996704, 4.253047466278076, 1.9990547895431519, 2.6882259845733643, 1.9228979349136353, 1.2275359630584717, 1.2275160551071167, 1.2273359298706055, 1.2273296117782593, 1.22737717628479, 1.227266550064087, 1.2273014783859253, 1.22720205783844, 1.2272361516952515, 1.2271783351898193, 1.2268218994140625, 1.2267788648605347, 1.2264617681503296, 1.226314663887024, 1.2261300086975098, 1.223842740058899, 1.2206636667251587, 1.8842110633850098, 1.8450900316238403, 1.8689154386520386, 7.487987518310547, 1.1974925994873047, 5.729874610900879, 12.480424880981445, 5.194270610809326, 3.492267608642578, 2.463704824447632, 3.941009283065796, 2.198815107345581, 10.5265474319458, 2.371661901473999, 42.42578887939453, 296.29010009765625, 437.4396667480469, 53.94257354736328, 118.7555923461914, 65.93585968017578, 32.53656005859375, 5.250659465789795, 161.25143432617188, 20.060508728027344, 37.56834411621094, 118.34666442871094, 348.00994873046875, 33.21785354614258, 8.718832969665527, 283.6546630859375, 23.428342819213867, 19.188095092773438, 62.935245513916016, 36.25958251953125, 145.41993713378906, 84.07788848876953, 104.00164794921875, 63.09538269042969, 117.47583770751953, 74.71138000488281, 172.1754150390625, 42.53652572631836, 80.88004302978516, 47.857791900634766, 65.91749572753906, 70.12016296386719, 105.52509307861328, 64.58746337890625, 52.00881576538086, 75.53907775878906, 106.70521545410156, 63.89522171020508, 64.8200454711914, 51.797767639160156, 97.72107696533203, 53.06614303588867, 55.59626007080078, 55.83642578125, 58.75263214111328, 1.90470552444458, 1.3441123962402344, 0.7335709929466248, 0.7335559129714966, 0.7332426905632019, 0.7332324981689453, 0.7331883311271667, 0.7331727147102356, 0.7331251502037048, 0.7330029606819153, 0.7328370213508606, 0.7325601577758789, 0.7274529337882996, 0.72673100233078, 1.0961155891418457, 0.7025871872901917, 0.6978097558021545, 0.6772477626800537, 1.0076383352279663, 0.6768198609352112, 1.386776328086853, 0.6727009415626526, 0.6700334548950195, 0.667866587638855, 0.967767596244812, 0.6603051424026489, 0.6602172255516052, 0.6553637981414795, 0.6508941650390625, 0.9829675555229187, 2.285465955734253, 1.5338845252990723, 0.976564347743988, 1.2725144624710083, 1.2450538873672485, 25.308218002319336, 63.50225830078125, 1.7141308784484863, 63.709232330322266, 9.427687644958496, 135.80792236328125, 19.659521102905273, 47.33551788330078, 14.218727111816406, 13.847379684448242, 26.429752349853516, 14.030350685119629, 7.195396423339844, 5.523379802703857, 113.97545623779297, 16.78137969970703, 9.1630220413208, 19.448339462280273, 38.77948760986328, 30.14602279663086, 18.973800659179688, 50.33259582519531, 26.483198165893555, 6.102104663848877, 63.91229248046875, 32.472206115722656, 26.35034942626953, 83.98587799072266, 42.961883544921875, 22.517539978027344, 49.604042053222656, 27.02322006225586, 57.35295104980469, 19.14126205444336, 40.36476516723633, 19.403959274291992, 20.082456588745117, 21.61623764038086, 25.609140396118164, 22.205181121826172, 20.519210815429688, 20.58295440673828, 20.782960891723633, 20.938756942749023, 19.703454971313477, 1.05229914188385, 1.0435612201690674, 1.038200855255127, 0.9872993230819702, 0.9857305884361267, 3.190747022628784, 0.5742812156677246, 0.5741880536079407, 0.5741584300994873, 0.5741580128669739, 0.5741044878959656, 0.5740426778793335, 0.5740039944648743, 0.5733885169029236, 0.5679205060005188, 0.5680707097053528, 0.8429029583930969, 0.5366527438163757, 0.5349509119987488, 0.5292338132858276, 0.5168626308441162, 1.8481558561325073, 0.5253607034683228, 0.5223529934883118, 0.5189664959907532, 0.5027601718902588, 0.49760714173316956, 0.507281482219696, 0.48769885301589966, 0.4851226806640625, 0.8700696229934692, 3.0145766735076904, 1.8933476209640503, 5.907844066619873, 9.768698692321777, 1.2353861331939697, 1.7201199531555176, 1.8337643146514893, 1.4293667078018188, 6.594027996063232, 5.764272212982178, 14.18851089477539, 45.254791259765625, 70.2398452758789, 60.573673248291016, 18.388866424560547, 17.22277069091797, 6.802035331726074, 25.07158660888672, 7.669632434844971, 4.717904567718506, 5.239781379699707, 30.919403076171875, 57.757469177246094, 18.2755126953125, 16.791576385498047, 11.929610252380371, 20.46991729736328, 8.885575294494629, 23.797657012939453, 28.187597274780273, 13.899323463439941, 12.974411010742188, 18.72405242919922, 12.361180305480957, 14.38514232635498, 23.827478408813477, 22.029865264892578, 14.780597686767578, 26.096094131469727, 16.765762329101562, 12.13782787322998, 11.180216789245605, 13.263036727905273, 15.669611930847168, 13.829137802124023, 12.576854705810547, 12.233243942260742], \"Term\": [\"be\", \"not\", \"place\", \"the\", \"come\", \"order\", \"have\", \"time\", \"great\", \"try\", \"go\", \"service\", \"need\", \"way\", \"day\", \"eat\", \"want\", \"wait\", \"good\", \"flavor\", \"food\", \"end\", \"little\", \"like\", \"visit\", \"think\", \"work\", \"this\", \"pizza\", \"walk\", \"custard\", \"woodchester\", \"dept\", \"rainy\", \"luci_'s\", \"cigar\", \"crafty\", \"concourse\", \"airport\", \"terminal\", \"frankie\", \"liking\", \"nissan\", \"airways\", \"hearing\", \"delay\", \"testing\", \"southwest\", \"big_portion\", \"staffed\", \"odb\", \"departure\", \"magical\", \"shawarma\", \"map\", \"fly\", \"million\", \"cancellation\", \"transplant\", \"dreary\", \"us\", \"franchise\", \"knick\", \"korean\", \"sharing\", \"ok\", \"visit\", \"nice\", \"trade\", \"solid\", \"dan\", \"the\", \"good\", \"place\", \"have\", \"fun\", \"pool\", \"not\", \"if\", \"bad\", \"be\", \"this\", \"people\", \"make\", \"find\", \"sauce\", \"big\", \"say\", \"food\", \"need\", \"come\", \"bar\", \"look\", \"price\", \"time\", \"like\", \"pretty\", \"thing\", \"little\", \"try\", \"order\", \"great\", \"get\", \"go\", \"service\", \"day\", \"think\", \"want\", \"love\", \"patrol\", \"jarvis\", \"target\", \"warhol\", \"lacy\", \"sam\", \"march\", \"yonge\", \"nancy\", \"great_view\", \"butternut\", \"exhibit\", \"fest\", \"trail\", \"gumbo\", \"chuck\", \"roosevelt\", \"i\\\"m\", \"playground\", \"salvadoran\", \"heather\", \"port\", \"madness\", \"physical\", \"bride\", \"matches\", \"playoffs\", \"comfortably\", \"pirates\", \"pimmp\", \"glitter\", \"define\", \"del\", \"pillow\", \"fantastic\", \"gain\", \"as_far\", \"label\", \"time\", \"near\", \"week\", \"enjoy\", \"hike\", \"head\", \"try\", \"check\", \"not\", \"want\", \"'s\", \"burger\", \"item\", \"the\", \"menu\", \"like\", \"be\", \"go\", \"food\", \"need\", \"love\", \"look\", \"ask\", \"place\", \"order\", \"start\", \"$\", \"have\", \"good\", \"delicious\", \"way\", \"day\", \"and\", \"great\", \"get\", \"this\", \"come\", \"will\", \"think\", \"little\", \"know\", \"thing\", \"marilyn\", \"maki\", \"tricky\", \"wag\", \"congee\", \"mouse\", \"piercing\", \"proximity\", \"ratty\", \"5:30\", \"mug\", \"victorian\", \"tcf\", \"prepacked\", \"sleepless\", \"mostly\", \"happenstance\", \"whatsoever\", \"deluxe\", \"esp\", \"awsome\", \"bologna\", \"james\", \"grimy\", \"nonexistent\", \"winchell\", \"chickpea\", \"gaylord\", \"cat\", \"june\", \"croissant\", \"cupcake\", \"pasta_dish\", \"denny\", \"costume\", \"flaky\", \"running\", \"healthy\", \"hardware\", \"dish\", \"good\", \"be\", \"meal\", \"get\", \"but\", \"bread\", \"monkey\", \"order\", \"oh\", \"sandwich\", \"great\", \"the\", \"perfect\", \"rib\", \"not\", \"soup\", \"tea\", \"drink\", \"different\", \"food\", \"'s\", \"go\", \"eat\", \"come\", \"service\", \"place\", \"chicken\", \"little\", \"delicious\", \"people\", \"find\", \"like\", \"and\", \"so\", \"want\", \"have\", \"think\", \"love\", \"there\", \"time\", \"friend\", \"know\", \"nice\", \"try\", \"infant\", \"private\", \"http://www.birdandhike.com/hike/other_areas/lone_mt/_lone_mt.htm\", \"bruise\", \"approval\", \"muskoka\", \"sack\", \"sat\", \"hurricane\", \"stan\", \"ghostbar\", \"extension\", \"remter\", \"theee\", \"momofuko\", \"dumbfound\", \"10/ea\", \"junction\", \"olivos\", \"crema\", \"bw3\", \"mien\", \"catherine\", \"wave\", \"gathering\", \"vital\", \"sexier\", \"expire\", \"engaged\", \"fav\", \"slip\", \"dumpling\", \"kimchi\", \"confit\", \"cinnamon\", \"wait\", \"come\", \"vig\", \"order\", \"finally\", \"be\", \"stop\", \"great\", \"special\", \"maybe\", \"way\", \"seat\", \"fast\", \"movie\", \"the\", \"night\", \"music\", \"would\", \"try\", \"think\", \"room\", \"have\", \"will\", \"cookie\", \"place\", \"little\", \"thing\", \"not\", \"like\", \"table\", \"time\", \"service\", \"good\", \"ask\", \"food\", \"end\", \"but\", \"pretty\", \"get\", \"look\", \"know\", \"need\", \"find\", \"go\", \"and\", \"orleans\", \"bridge\", \"dam\", \"metro\", \"abc\", \"voucher\", \"sneeze\", \"mani\", \"supermarket\", \"challenging\", \"carpool\", \"tendency\", \"switchback\", \"fab\", \"fenced\", \"boneyard\", \"eastwood\", \"nite\", \"stores\", \"customizable\", \"unknown\", \"cornbread\", \"arrangement\", \"rogue\", \"t&t\", \"approve\", \"strenuous\", \"scant\", \"rockets\", \"equipement\", \"et\", \"peak\", \"previous\", \"hike\", \"pizza\", \"anniversary\", \"garage\", \"canyon\", \"cha\", \"brunch\", \"casino\", \"flavor\", \"place\", \"be\", \"not\", \"day\", \"eat\", \"all\", \"go\", \"tomato\", \"bike\", \"purchase\", \"have\", \"the\", \"service\", \"need\", \"walk\", \"want\", \"use\", \"come\", \"time\", \"way\", \"work\", \"try\", \"end\", \"this\", \"food\", \"order\", \"love\", \"good\", \"great\", \"friend\", \"visit\", \"'s\", \"like\", \"get\", \"little\", \"find\"], \"Total\": [1493.0, 1227.0, 776.0, 1483.0, 452.0, 518.0, 541.0, 627.0, 389.0, 355.0, 381.0, 259.0, 230.0, 190.0, 226.0, 205.0, 317.0, 132.0, 953.0, 140.0, 569.0, 166.0, 298.0, 466.0, 177.0, 251.0, 177.0, 223.0, 57.0, 135.0, 3.867827892303467, 2.8612358570098877, 2.859492063522339, 2.7973129749298096, 6.909064769744873, 2.862196683883667, 2.8321375846862793, 6.682560920715332, 22.002328872680664, 6.613412857055664, 3.794701337814331, 2.784757137298584, 4.325430870056152, 3.8048553466796875, 6.721905708312988, 3.783710479736328, 3.7280566692352295, 3.70369553565979, 7.580949783325195, 4.784530162811279, 2.863518714904785, 2.7343251705169678, 3.6709835529327393, 4.731112003326416, 20.863676071166992, 10.532586097717285, 1.845906138420105, 1.845914602279663, 1.8458716869354248, 1.845859169960022, 7.66662073135376, 2.792841911315918, 5.782742977142334, 3.7935080528259277, 6.927963733673096, 74.9862060546875, 177.99176025390625, 232.14195251464844, 13.737394332885742, 46.567630767822266, 8.90189266204834, 1483.6630859375, 953.3261108398438, 776.184326171875, 541.2952880859375, 76.97415161132812, 30.71196746826172, 1227.4222412109375, 160.068359375, 164.51431274414062, 1493.4085693359375, 223.58030700683594, 236.5186767578125, 89.9112777709961, 260.95263671875, 125.1656265258789, 122.98838806152344, 173.4488067626953, 569.6427612304688, 230.42503356933594, 452.0185241699219, 169.2018280029297, 266.9275817871094, 166.45486450195312, 627.9815063476562, 466.8904113769531, 217.98638916015625, 226.0789794921875, 298.7608337402344, 355.00457763671875, 518.4864501953125, 389.328369140625, 346.9827880859375, 381.3177795410156, 259.23004150390625, 226.0832977294922, 251.71615600585938, 317.1776428222656, 260.9880676269531, 2.876315116882324, 2.8762433528900146, 8.32026481628418, 3.755458354949951, 2.804391622543335, 2.7872958183288574, 2.8759284019470215, 4.879750728607178, 4.391199111938477, 8.288973808288574, 2.816488742828369, 12.896316528320312, 2.776343822479248, 23.599939346313477, 3.7980387210845947, 2.8594777584075928, 8.611702919006348, 2.80899715423584, 5.575380802154541, 2.8767340183258057, 6.6288933753967285, 2.815622568130493, 1.8535970449447632, 1.8535866737365723, 1.853570818901062, 1.8535784482955933, 1.8535571098327637, 1.8535606861114502, 1.8535711765289307, 1.8535524606704712, 2.874552011489868, 3.8168179988861084, 2.725109577178955, 8.471451759338379, 71.77349090576172, 6.583205223083496, 6.6201629638671875, 5.449158191680908, 627.9815063476562, 39.54122543334961, 46.41461944580078, 187.04302978515625, 28.411531448364258, 100.0936050415039, 355.00457763671875, 104.84017944335938, 1227.4222412109375, 317.1776428222656, 288.5894775390625, 97.27057647705078, 123.37101745605469, 1483.6630859375, 192.65505981445312, 466.8904113769531, 1493.4085693359375, 381.3177795410156, 569.6427612304688, 230.42503356933594, 260.9880676269531, 266.9275817871094, 160.83705139160156, 776.184326171875, 518.4864501953125, 125.20149230957031, 105.16312408447266, 541.2952880859375, 953.3261108398438, 151.23680114746094, 190.11810302734375, 226.0832977294922, 242.45465087890625, 389.328369140625, 346.9827880859375, 223.58030700683594, 452.0185241699219, 219.952880859375, 251.71615600585938, 298.7608337402344, 221.7022247314453, 226.0789794921875, 2.873941659927368, 2.8205060958862305, 2.8721280097961426, 2.8768601417541504, 5.939197063446045, 2.87510347366333, 3.8977458477020264, 2.8744096755981445, 1.853698492050171, 1.85374915599823, 1.8536651134490967, 1.8536622524261475, 1.8537570238113403, 1.8536320924758911, 1.8537375926971436, 1.8536750078201294, 1.8537333011627197, 1.8537323474884033, 1.8535370826721191, 1.853522777557373, 1.853439211845398, 1.8535637855529785, 1.8535159826278687, 1.852752447128296, 1.85366952419281, 2.8744518756866455, 2.8349814414978027, 2.8740122318267822, 11.562080383300781, 1.8533482551574707, 8.920293807983398, 20.54618263244629, 8.48327922821045, 5.651354789733887, 3.894486427307129, 6.480125427246094, 3.5096731185913086, 20.448772430419922, 3.8673601150512695, 99.83458709716797, 953.3261108398438, 1493.4085693359375, 138.34938049316406, 346.9827880859375, 178.5097198486328, 79.59292602539062, 9.833365440368652, 518.4864501953125, 46.091243743896484, 98.89299774169922, 389.328369140625, 1483.6630859375, 89.88955688476562, 17.991535186767578, 1227.4222412109375, 59.260066986083984, 46.88108825683594, 201.3441619873047, 102.11183166503906, 569.6427612304688, 288.5894775390625, 381.3177795410156, 205.59881591796875, 452.0185241699219, 259.23004150390625, 776.184326171875, 129.5116729736328, 298.7608337402344, 151.23680114746094, 236.5186767578125, 260.95263671875, 466.8904113769531, 242.45465087890625, 178.46119689941406, 317.1776428222656, 541.2952880859375, 251.71615600585938, 260.9880676269531, 181.9601593017578, 627.9815063476562, 192.84080505371094, 221.7022247314453, 232.14195251464844, 355.00457763671875, 2.700188159942627, 2.054255962371826, 1.4421744346618652, 1.442154884338379, 1.4423086643218994, 1.4423471689224243, 1.442339301109314, 1.4423649311065674, 1.4423288106918335, 1.4424529075622559, 1.442661166191101, 1.4428375959396362, 1.4461491107940674, 1.4466148614883423, 2.2213211059570312, 1.4630038738250732, 1.466234564781189, 1.4800978899002075, 2.2032763957977295, 1.4803636074066162, 3.0429275035858154, 1.4831578731536865, 1.483871579170227, 1.4864089488983154, 2.156327247619629, 1.4906537532806396, 1.4908928871154785, 1.4948015213012695, 1.4978065490722656, 2.270646572113037, 5.432729721069336, 3.6944687366485596, 2.3017101287841797, 3.123436212539673, 3.0597567558288574, 132.0202178955078, 452.0185241699219, 4.844480991363525, 518.4864501953125, 43.8685188293457, 1493.4085693359375, 117.87643432617188, 389.328369140625, 78.51827239990234, 78.12251281738281, 190.11810302734375, 81.46682739257812, 32.840274810791016, 23.092138290405273, 1483.6630859375, 108.49466705322266, 47.47589111328125, 135.38238525390625, 355.00457763671875, 251.71615600585938, 133.1233673095703, 541.2952880859375, 219.952880859375, 28.032230377197266, 776.184326171875, 298.7608337402344, 226.0789794921875, 1227.4222412109375, 466.8904113769531, 184.3595428466797, 627.9815063476562, 259.23004150390625, 953.3261108398438, 160.83705139160156, 569.6427612304688, 166.95068359375, 178.5097198486328, 217.98638916015625, 346.9827880859375, 266.9275817871094, 221.7022247314453, 230.42503356933594, 260.95263671875, 381.3177795410156, 242.45465087890625, 1.7892354726791382, 1.795376181602478, 1.79789137840271, 1.8191665410995483, 1.864269495010376, 6.48640251159668, 1.309631586074829, 1.3097134828567505, 1.3097341060638428, 1.3097656965255737, 1.3097853660583496, 1.3098454475402832, 1.309885025024414, 1.31046462059021, 1.3131576776504517, 1.3137891292572021, 2.027296543121338, 1.3203740119934082, 1.3538668155670166, 1.3600618839263916, 1.3283987045288086, 4.79315710067749, 1.3652853965759277, 1.3687020540237427, 1.3716163635253906, 1.3322029113769531, 1.33092200756073, 1.3858020305633545, 1.3336427211761475, 1.3373905420303345, 2.4515113830566406, 11.542235374450684, 6.813834190368652, 28.411531448364258, 57.36685562133789, 4.349396705627441, 6.815963268280029, 7.474662780761719, 5.319573879241943, 46.198944091796875, 38.683956146240234, 140.4298553466797, 776.184326171875, 1493.4085693359375, 1227.4222412109375, 226.0832977294922, 205.59881591796875, 52.04185104370117, 381.3177795410156, 64.2926254272461, 30.986536026000977, 36.72428512573242, 541.2952880859375, 1483.6630859375, 259.23004150390625, 230.42503356933594, 135.4439239501953, 317.1776428222656, 85.62432861328125, 452.0185241699219, 627.9815063476562, 190.11810302734375, 177.52084350585938, 355.00457763671875, 166.95068359375, 223.58030700683594, 569.6427612304688, 518.4864501953125, 260.9880676269531, 953.3261108398438, 389.328369140625, 192.84080505371094, 177.99176025390625, 288.5894775390625, 466.8904113769531, 346.9827880859375, 298.7608337402344, 260.95263671875], \"loglift\": [30.0, 29.0, 28.0, 27.0, 26.0, 25.0, 24.0, 23.0, 22.0, 21.0, 20.0, 19.0, 18.0, 17.0, 16.0, 15.0, 14.0, 13.0, 12.0, 11.0, 10.0, 9.0, 8.0, 7.0, 6.0, 5.0, 4.0, 3.0, 2.0, 1.0, 1.0091999769210815, 0.9426000118255615, 0.9412000179290771, 0.8930000066757202, 0.8901000022888184, 0.8901000022888184, 0.8844000101089478, 0.870199978351593, 0.8697999715805054, 0.868399977684021, 0.8600000143051147, 0.8586999773979187, 0.8492000102996826, 0.8476999998092651, 0.8450000286102295, 0.8321999907493591, 0.8216999769210815, 0.8154000043869019, 0.8111000061035156, 0.8109999895095825, 0.8105999827384949, 0.8015000224113464, 0.7998999953269958, 0.7997999787330627, 0.7817999720573425, 0.7789999842643738, 0.7749999761581421, 0.7749999761581421, 0.7749000191688538, 0.7749000191688538, 0.7717999815940857, 0.7724999785423279, 0.763700008392334, 0.7627000212669373, 0.7483000159263611, 0.6391000151634216, 0.5945000052452087, 0.5242000222206116, 0.7001000046730042, 0.5701000094413757, 0.7228000164031982, 0.14890000224113464, 0.19539999961853027, 0.19089999794960022, 0.2272000014781952, 0.4625999927520752, 0.5620999932289124, 0.0471000000834465, 0.3082999885082245, 0.29989999532699585, -0.07169999927282333, 0.23070000112056732, 0.22120000422000885, 0.37229999899864197, 0.19030000269412994, 0.3100000023841858, 0.3061000108718872, 0.2312999963760376, -0.013700000010430813, 0.15620000660419464, 0.013199999928474426, 0.21400000154972076, 0.11640000343322754, 0.21549999713897705, -0.06960000097751617, -0.013199999928474426, 0.1527000069618225, 0.12380000203847885, 0.023800000548362732, -0.08100000023841858, -0.2574999928474426, -0.1597999930381775, -0.1265999972820282, -0.18870000541210175, -0.013899999670684338, 0.054999999701976776, -0.029400000348687172, -0.20239999890327454, -0.06129999831318855, 0.9714000225067139, 0.949999988079071, 0.9495000243186951, 0.9431999921798706, 0.9351000189781189, 0.9259999990463257, 0.9258000254631042, 0.8866000175476074, 0.8733000159263611, 0.8622999787330627, 0.8508999943733215, 0.8486999869346619, 0.8456000089645386, 0.8436999917030334, 0.8434000015258789, 0.829800009727478, 0.8256000280380249, 0.8246999979019165, 0.8223999738693237, 0.8215000033378601, 0.8144999742507935, 0.8136000037193298, 0.8054999709129333, 0.8054999709129333, 0.8054999709129333, 0.8054999709129333, 0.8054999709129333, 0.8054999709129333, 0.8054999709129333, 0.8054999709129333, 0.7978000044822693, 0.7894999980926514, 0.7946000099182129, 0.7451000213623047, 0.6352999806404114, 0.7523999810218811, 0.7386000156402588, 0.7497000098228455, 0.3896999955177307, 0.5932000279426575, 0.5541999936103821, 0.40689998865127563, 0.5825999975204468, 0.43320000171661377, 0.2815999984741211, 0.41620001196861267, 0.11640000343322754, 0.27129998803138733, 0.28029999136924744, 0.4092000126838684, 0.3709000051021576, 0.003100000089034438, 0.30090001225471497, 0.1632000058889389, -0.03359999880194664, 0.18170000612735748, 0.11550000309944153, 0.21230000257492065, 0.18729999661445618, 0.16750000417232513, 0.2484000027179718, -0.093299999833107, -0.024900000542402267, 0.26489999890327454, 0.29989999532699585, -0.08720000088214874, -0.24320000410079956, 0.20819999277591705, 0.1459999978542328, 0.09459999948740005, 0.06440000236034393, -0.08330000191926956, -0.06889999657869339, 0.07680000364780426, -0.21389999985694885, 0.060499999672174454, -0.009200000204145908, -0.1023000031709671, 0.05090000107884407, -0.009499999694526196, 1.1401000022888184, 1.1313999891281128, 1.0856000185012817, 1.0745999813079834, 1.0714999437332153, 1.0420000553131104, 1.0339000225067139, 1.0033999681472778, 0.9933000206947327, 0.9932000041007996, 0.9930999875068665, 0.9930999875068665, 0.9930999875068665, 0.9930999875068665, 0.9930999875068665, 0.9929999709129333, 0.9929999709129333, 0.9929999709129333, 0.9927999973297119, 0.9927999973297119, 0.9926000237464905, 0.9923999905586243, 0.9922000169754028, 0.9908000230789185, 0.9876999855041504, 0.9830999970436096, 0.9760000109672546, 0.9750999808311462, 0.9710000157356262, 0.9686999917030334, 0.9628000259399414, 0.9068999886512756, 0.914900004863739, 0.9240999817848206, 0.9476000070571899, 0.9082000255584717, 0.9379000067710876, 0.7414000034332275, 0.9164999723434448, 0.5497000217437744, 0.23680000007152557, 0.17759999632835388, 0.4636000096797943, 0.33329999446868896, 0.40950000286102295, 0.5109000205993652, 0.777999997138977, 0.23749999701976776, 0.5735999941825867, 0.4375999867916107, 0.21469999849796295, -0.044599998742341995, 0.4099999964237213, 0.6809999942779541, -0.05950000137090683, 0.47749999165534973, 0.5120999813079834, 0.2425999939441681, 0.3700999915599823, 0.04010000079870224, 0.17219999432563782, 0.10620000213384628, 0.22419999539852142, 0.057999998331069946, 0.16140000522136688, -0.10040000081062317, 0.2921000123023987, 0.09880000352859497, 0.2547999918460846, 0.12780000269412994, 0.09130000323057175, -0.08169999718666077, 0.08269999921321869, 0.17249999940395355, -0.029400000348687172, -0.2184000015258789, 0.03440000116825104, 0.012600000016391277, 0.14900000393390656, -0.45489999651908875, 0.11509999632835388, 0.022199999541044235, -0.019500000402331352, -0.39329999685287476, 1.9961999654769897, 1.9210000038146973, 1.6691999435424805, 1.6691999435424805, 1.6686999797821045, 1.6686999797821045, 1.6685999631881714, 1.6685999631881714, 1.6684999465942383, 1.6683000326156616, 1.6678999662399292, 1.6674000024795532, 1.6581000089645386, 1.6568000316619873, 1.6389000415802002, 1.6117000579833984, 1.6026999950408936, 1.5634000301361084, 1.5628999471664429, 1.562600016593933, 1.559399962425232, 1.5546000003814697, 1.5500999689102173, 1.545199990272522, 1.544100046157837, 1.531000018119812, 1.5306999683380127, 1.5206999778747559, 1.5118000507354736, 1.5080000162124634, 1.4793000221252441, 1.4661999940872192, 1.4879000186920166, 1.4472999572753906, 1.4460999965667725, 0.6934000253677368, 0.38260000944137573, 1.3063000440597534, 0.24860000610351562, 0.807699978351593, -0.052400000393390656, 0.554099977016449, 0.23810000717639923, 0.6363999843597412, 0.6150000095367432, 0.37209999561309814, 0.5861999988555908, 0.8270000219345093, 0.9146999716758728, -0.22110000252723694, 0.4787999987602234, 0.7002000212669373, 0.4049000144004822, 0.13099999725818634, 0.22300000488758087, 0.3970000147819519, -0.03009999915957451, 0.22830000519752502, 0.8205000162124634, -0.1517000049352646, 0.12600000202655792, 0.19580000638961792, -0.3368000090122223, -0.0406000018119812, 0.2425999939441681, -0.1932000070810318, 0.08420000225305557, -0.46549999713897705, 0.2167000025510788, -0.301800012588501, 0.19300000369548798, 0.16040000319480896, 0.03420000150799751, -0.26109999418258667, -0.14139999449253082, -0.03480000048875809, -0.07020000368356705, -0.1850000023841858, -0.5568000078201294, -0.1648000031709671, 2.2997000217437744, 2.287899971008301, 2.281399965286255, 2.2193000316619873, 2.19320011138916, 2.121000051498413, 2.0060999393463135, 2.0058999061584473, 2.0058000087738037, 2.0058000087738037, 2.00570011138916, 2.005500078201294, 2.0053999423980713, 2.0039000511169434, 1.992300033569336, 1.9921000003814697, 1.9529000520706177, 1.9301999807357788, 1.901900053024292, 1.8866000175476074, 1.8865000009536743, 1.877500057220459, 1.8753999471664429, 1.8672000169754028, 1.8586000204086304, 1.8559999465942383, 1.8466999530792236, 1.8255000114440918, 1.8244999647140503, 1.8164000511169434, 1.794600009918213, 1.4879000186920166, 1.5499000549316406, 1.2599999904632568, 1.0601999759674072, 1.5717999935150146, 1.4536000490188599, 1.4253000020980835, 1.5162999629974365, 0.8837000131607056, 0.9266999959945679, 0.5382000207901001, -0.011599999852478504, -0.2264000028371811, -0.17829999327659607, 0.3212999999523163, 0.3508000075817108, 0.7957000136375427, 0.10859999805688858, 0.7042999863624573, 0.9483000040054321, 0.8833000063896179, -0.032099999487400055, -0.4154999852180481, 0.17829999327659607, 0.21140000224113464, 0.4009000062942505, 0.09000000357627869, 0.5648999810218811, -0.1137000024318695, -0.27309998869895935, 0.21469999849796295, 0.21439999341964722, -0.11180000007152557, 0.2273000031709671, 0.0869000032544136, -0.34369999170303345, -0.328000009059906, -0.040699999779462814, -0.7677000164985657, -0.31459999084472656, 0.0649000033736229, 0.06289999932050705, -0.24950000643730164, -0.5638999938964844, -0.3919999897480011, -0.33730000257492065, -0.2296999990940094], \"logprob\": [30.0, 29.0, 28.0, 27.0, 26.0, 25.0, 24.0, 23.0, 22.0, 21.0, 20.0, 19.0, 18.0, 17.0, 16.0, 15.0, 14.0, 13.0, 12.0, 11.0, 10.0, 9.0, 8.0, 7.0, 6.0, 5.0, 4.0, 3.0, 2.0, 1.0, -8.901599884033203, -9.269599914550781, -9.271699905395508, -9.341899871826172, -8.440500259399414, -9.321800231933594, -9.338000297546387, -8.493800163269043, -7.302599906921387, -8.505900382995605, -9.069899559020996, -9.380599975585938, -8.949799537658691, -9.079500198364258, -8.513099670410156, -9.100600242614746, -9.125900268554688, -9.138699531555176, -8.426799774169922, -8.887100219726562, -9.400799751281738, -9.456199645996094, -9.163200378417969, -8.909500122070312, -7.443699836730957, -8.130000114440918, -9.875499725341797, -9.875499725341797, -9.87559986114502, -9.875699996948242, -8.45479965209961, -9.463899612426758, -8.74489974975586, -9.167499542236328, -8.579700469970703, -6.30709981918335, -5.487199783325195, -5.291999816894531, -7.943299770355225, -6.852499961853027, -8.354399681091309, -3.812299966812134, -4.208099842071533, -4.4182000160217285, -4.742300033569336, -6.457399845123291, -7.276700019836426, -4.103700160980225, -5.8796000480651855, -5.860599994659424, -4.026400089263916, -5.623000144958496, -5.576200008392334, -6.392399787902832, -5.508900165557861, -6.123799800872803, -6.145299911499023, -5.876299858093262, -4.932199954986572, -5.667300224304199, -5.136600017547607, -5.918399810791016, -5.560100078582764, -5.933199882507324, -4.890600204467773, -5.1305999755859375, -5.726399898529053, -5.718800067901611, -5.539999961853027, -5.472300052642822, -5.270100116729736, -5.458899974822998, -5.540800094604492, -5.508600234985352, -5.719699859619141, -5.787600040435791, -5.764599800109863, -5.706399917602539, -5.760300159454346, -9.235600471496582, -9.256999969482422, -8.195300102233887, -8.997099876403809, -9.297200202941895, -9.3125, -9.281299591064453, -8.791799545288086, -8.910599708557129, -8.286299705505371, -9.377099990844727, -7.857800006866455, -9.39680004119873, -7.258500099182129, -9.085599899291992, -9.383099555969238, -8.284799575805664, -9.406000137329102, -8.722800254821777, -9.385299682617188, -8.557499885559082, -9.41469955444336, -9.840800285339355, -9.840800285339355, -9.840900421142578, -9.840900421142578, -9.840900421142578, -9.840900421142578, -9.840900421142578, -9.840900421142578, -9.409799575805664, -9.134499549865723, -9.466400146484375, -8.381600379943848, -6.354700088500977, -8.62660026550293, -8.63479995727539, -8.818300247192383, -4.43120002746582, -6.993000030517578, -6.871699810028076, -5.625199794769287, -7.334099769592285, -6.2241997718811035, -5.109799861907959, -6.194900035858154, -4.03439998626709, -5.232699871063232, -5.31820011138916, -6.276800155639648, -6.077400207519531, -3.9581000804901123, -5.701700210571289, -4.95419979095459, -3.988300085067749, -5.138199806213379, -4.802999973297119, -5.611299991607666, -5.51170015335083, -5.508999824523926, -5.934700012207031, -4.702400207519531, -5.037499904632568, -6.168700218200684, -6.30810022354126, -5.056700229644775, -4.646699905395508, -6.036499977111816, -5.869900226593018, -5.748000144958496, -5.708199977874756, -5.382400035858154, -5.483099937438965, -5.776899814605713, -5.363699913024902, -5.809500217437744, -5.7444000244140625, -5.666100025177002, -5.811299800872803, -5.852099895477295, -9.067700386047363, -9.095199584960938, -9.12279987335205, -9.132200241088867, -8.410400390625, -9.165399551391602, -8.869099617004395, -9.20419979095459, -9.652999877929688, -9.652999877929688, -9.653200149536133, -9.653200149536133, -9.65310001373291, -9.653200149536133, -9.653200149536133, -9.653300285339355, -9.653300285339355, -9.653300285339355, -9.653599739074707, -9.653599739074707, -9.653900146484375, -9.654000282287598, -9.654199600219727, -9.656000137329102, -9.658599853515625, -9.224499702453613, -9.245499610900879, -9.23270034790039, -7.844699859619141, -9.677800178527832, -8.112299919128418, -7.333899974822998, -8.21049976348877, -8.607500076293945, -8.956399917602539, -8.486599922180176, -9.070099830627441, -7.5040998458862305, -8.994400024414062, -6.110300064086914, -4.1666998863220215, -3.777100086212158, -5.870100021362305, -5.080999851226807, -5.669300079345703, -6.375699996948242, -8.199700355529785, -4.775100231170654, -6.859300136566162, -6.231900215148926, -5.084400177001953, -4.005799770355225, -6.354899883270264, -7.692500114440918, -4.210299968719482, -6.704100131988525, -6.90369987487793, -5.71589994430542, -6.267300128936768, -4.878399848937988, -5.426300048828125, -5.213600158691406, -5.713399887084961, -5.091800212860107, -5.544400215148926, -4.709499835968018, -6.107699871063232, -5.465099811553955, -5.989799976348877, -5.669600009918213, -5.607800006866455, -5.199100017547607, -5.690000057220459, -5.906599998474121, -5.533400058746338, -5.188000202178955, -5.700799942016602, -5.686399936676025, -5.910699844360352, -5.275899887084961, -5.886499881744385, -5.839900016784668, -5.835599899291992, -5.7846999168396, -8.273900032043457, -8.6225004196167, -9.228099822998047, -9.228099822998047, -9.228500366210938, -9.228599548339844, -9.228599548339844, -9.228599548339844, -9.228699684143066, -9.228899955749512, -9.229100227355957, -9.229499816894531, -9.236499786376953, -9.237500190734863, -8.826499938964844, -9.271300315856934, -9.27810001373291, -9.307999610900879, -8.910699844360352, -9.308600425720215, -8.591300010681152, -9.31470012664795, -9.318699836730957, -9.321900367736816, -8.951000213623047, -9.33329963684082, -9.333499908447266, -9.340800285339355, -9.347700119018555, -8.935400009155273, -8.091699600219727, -8.490500450134277, -8.942000389099121, -8.677300453186035, -8.69909954071045, -5.687099933624268, -4.767199993133545, -8.379400253295898, -4.763899803161621, -6.674600124359131, -4.006999969482422, -5.939700126647949, -5.060999870300293, -6.263700008392334, -6.290200233459473, -5.643799781799316, -6.2769999504089355, -6.944799900054932, -7.2093000411987305, -4.182300090789795, -6.0980000495910645, -6.703100204467773, -5.950500011444092, -5.26039981842041, -5.512199878692627, -5.975200176239014, -4.999599933624268, -5.6417999267578125, -7.109600067138672, -4.760799884796143, -5.437900066375732, -5.6468000411987305, -4.487599849700928, -5.1579999923706055, -5.803999900817871, -5.014200210571289, -5.621600151062012, -4.86899995803833, -5.966400146484375, -5.220300197601318, -5.9527997970581055, -5.918399810791016, -5.844799995422363, -5.675300121307373, -5.81790018081665, -5.896900177001953, -5.893799781799316, -5.884099960327148, -5.876699924468994, -5.9375, -8.381999969482422, -8.390399932861328, -8.395500183105469, -8.445799827575684, -8.447400093078613, -7.272799968719482, -8.987600326538086, -8.987799644470215, -8.987899780273438, -8.987899780273438, -8.98799991607666, -8.988100051879883, -8.988100051879883, -8.9891996383667, -8.998800277709961, -8.998499870300293, -8.603899955749512, -9.055399894714355, -9.058600425720215, -9.069299697875977, -9.093000411987305, -7.81879997253418, -9.076700210571289, -9.08240032196045, -9.088899612426758, -9.120699882507324, -9.130999565124512, -9.111700057983398, -9.151100158691406, -9.156399726867676, -8.572199821472168, -7.329599857330322, -7.7947001457214355, -6.656700134277344, -6.153800010681152, -8.221599578857422, -7.890600204467773, -7.826600074768066, -8.075799942016602, -6.546800136566162, -6.681300163269043, -5.780600070953369, -4.620699882507324, -4.181099891662598, -4.329100131988525, -5.521299839019775, -5.5868000984191895, -6.5157999992370605, -5.211299896240234, -6.395699977874756, -6.8815999031066895, -6.776700019836426, -5.0015997886657715, -4.376800060272217, -5.527400016784668, -5.612100124359131, -5.953999996185303, -5.414100170135498, -6.248600006103516, -5.263400077819824, -5.094099998474121, -5.801199913024902, -5.869999885559082, -5.503200054168701, -5.918399810791016, -5.7667999267578125, -5.262199878692627, -5.34060001373291, -5.739699840545654, -5.171199798583984, -5.613699913024902, -5.936699867248535, -6.018899917602539, -5.8480000495910645, -5.681300163269043, -5.80620002746582, -5.901199817657471, -5.928899765014648]}, \"token.table\": {\"Topic\": [1, 2, 3, 4, 5, 1, 2, 3, 4, 5, 4, 3, 5, 1, 2, 3, 4, 1, 2, 1, 2, 3, 4, 5, 1, 2, 3, 4, 5, 1, 2, 3, 4, 5, 4, 5, 5, 1, 2, 3, 1, 2, 3, 4, 5, 3, 1, 2, 3, 4, 5, 1, 2, 3, 4, 5, 1, 2, 3, 4, 5, 1, 2, 3, 4, 5, 1, 2, 3, 4, 1, 2, 3, 4, 5, 3, 5, 1, 2, 3, 4, 5, 2, 5, 4, 1, 2, 3, 4, 5, 1, 2, 3, 4, 5, 1, 2, 3, 4, 5, 2, 1, 4, 1, 1, 2, 3, 4, 5, 5, 1, 2, 3, 4, 5, 1, 2, 3, 4, 1, 2, 3, 5, 5, 1, 2, 3, 4, 5, 1, 2, 3, 4, 5, 3, 2, 1, 3, 4, 1, 2, 3, 4, 5, 2, 1, 2, 2, 4, 2, 3, 1, 2, 3, 4, 5, 1, 2, 3, 5, 2, 3, 1, 4, 1, 2, 3, 1, 2, 3, 4, 1, 5, 5, 1, 2, 3, 1, 2, 3, 4, 5, 2, 3, 2, 1, 1, 2, 3, 4, 5, 3, 1, 2, 3, 4, 1, 1, 1, 2, 3, 4, 5, 1, 2, 3, 4, 5, 1, 1, 2, 3, 4, 5, 4, 1, 2, 3, 4, 3, 5, 1, 2, 3, 4, 5, 1, 2, 3, 4, 5, 4, 1, 2, 3, 4, 5, 3, 4, 5, 1, 2, 3, 4, 4, 4, 5, 1, 2, 3, 4, 5, 1, 2, 3, 4, 5, 4, 5, 2, 1, 2, 3, 4, 5, 1, 2, 3, 4, 5, 1, 2, 3, 4, 1, 2, 3, 4, 5, 1, 2, 3, 1, 2, 3, 4, 5, 1, 1, 3, 1, 2, 3, 4, 5, 1, 2, 3, 4, 5, 2, 3, 4, 1, 2, 3, 4, 5, 4, 1, 3, 1, 2, 3, 4, 5, 4, 2, 1, 2, 3, 4, 5, 1, 2, 3, 4, 5, 1, 2, 3, 4, 5, 2, 3, 4, 3, 2, 3, 1, 3, 1, 2, 3, 4, 5, 1, 2, 3, 4, 5, 1, 2, 3, 4, 5, 1, 2, 3, 2, 3, 1, 2, 3, 4, 5, 4, 4, 2, 1, 2, 3, 4, 5, 4, 1, 2, 3, 4, 5, 3, 2, 4, 3, 2, 4, 1, 2, 1, 2, 3, 4, 5, 1, 3, 1, 2, 2, 1, 2, 3, 4, 5, 1, 1, 2, 3, 4, 5, 1, 2, 3, 4, 5, 1, 2, 3, 4, 5, 1, 5, 2, 1, 1, 2, 3, 4, 5, 3, 5, 1, 2, 3, 2, 3, 2, 1, 2, 3, 4, 5, 1, 2, 3, 4, 5, 1, 2, 3, 4, 5, 5, 4, 1, 2, 4, 1, 2, 3, 4, 5, 3, 3, 1, 2, 3, 4, 5, 3, 1, 2, 3, 4, 5, 4, 2, 5, 1, 2, 3, 4, 5, 1, 2, 3, 4, 5, 1, 2, 3, 4, 5, 1, 2, 3, 4, 5, 1, 5, 3, 1, 2, 3, 4, 5, 1, 1, 2, 3, 4, 5, 1, 2, 3, 4, 5, 4, 1, 2, 3, 4, 5, 5, 1, 2, 3, 4, 2, 1, 2, 3, 4, 5, 1, 2, 3, 4, 5, 1, 2, 3, 4, 5, 2, 2, 3, 1, 2, 3, 4, 2, 2, 1, 2, 3, 4, 5, 1, 2, 3, 4, 5, 1, 2, 2, 1, 2, 3, 4, 5, 2, 3, 1, 2, 3, 4, 5, 1, 2, 3, 5, 1, 2, 3, 4, 5, 4, 1, 3, 1, 2, 3, 4, 5, 1, 3, 4, 1, 2, 3, 4, 5, 1, 2, 3, 4, 5, 1, 2, 4, 3, 4, 2, 3, 2, 1, 2, 3, 4, 5, 4, 1, 2, 3, 4, 5, 1, 2, 3, 4, 5, 5, 1, 2, 3, 4, 5, 1, 2, 3, 4, 5, 4, 1, 2, 4, 5, 1, 2, 3, 3, 1, 2, 3, 4, 5, 1, 2, 3, 4, 5, 1, 2, 3, 4, 5, 1, 2, 3, 4, 5, 1, 1, 2, 3, 4, 5, 1, 3, 4, 1, 2, 3, 4, 5, 1, 2, 3, 4, 5, 5, 5, 5, 5, 1, 2, 3, 4, 5, 1, 2, 5, 3, 1, 2, 3, 4, 5, 5, 1, 2, 1, 1, 2, 3, 4, 5, 4, 1, 2, 3, 4, 5, 1, 2, 3, 4, 5, 1, 2, 3, 4, 5, 1, 2, 3, 4, 5, 1, 2, 3, 4, 5, 1, 2, 3, 4, 5, 1, 2, 3, 4, 5, 1, 2, 3, 4, 5, 1, 3, 1, 2, 3, 4, 5, 5, 1, 2, 1, 2, 3, 4, 5, 3, 1, 3, 4, 1, 2, 3, 4, 5, 4, 1, 5, 3, 1, 2, 3, 4, 5, 1, 2, 3, 4, 5, 1, 2, 3, 4, 5, 2, 4, 1, 2, 3, 4, 5, 1, 2, 3, 4, 5, 3, 1, 2, 3, 4, 5, 1, 3, 1, 1, 2, 3, 4, 5, 1, 2, 3, 4, 5, 1, 2], \"Freq\": [0.19968977570533752, 0.39937955141067505, 0.2187078446149826, 0.11410844326019287, 0.07607229053974152, 0.22523343563079834, 0.3915596604347229, 0.2910709083080292, 0.04504668712615967, 0.04504668712615967, 0.6820191144943237, 0.5394473075866699, 0.5364031195640564, 0.7271957397460938, 0.13634920120239258, 0.09089946746826172, 0.09089946746826172, 0.788466215133667, 0.26282209157943726, 0.26901426911354065, 0.19215303659439087, 0.34587547183036804, 0.07686121761798859, 0.13450713455677032, 0.2887137830257416, 0.31758517026901245, 0.2680913805961609, 0.08248965442180634, 0.045369308441877365, 0.22991694509983063, 0.22991694509983063, 0.22991694509983063, 0.22991694509983063, 0.22991694509983063, 0.693332850933075, 0.7506363987922668, 0.7324475646018982, 0.15105368196964264, 0.6042147278785706, 0.15105368196964264, 0.24869892001152039, 0.37926584482192993, 0.2113940715789795, 0.11813198775053024, 0.04352230951189995, 0.5395375490188599, 0.4133378863334656, 0.2552969455718994, 0.23706144094467163, 0.06078498438000679, 0.0425494909286499, 0.3782465159893036, 0.20685355365276337, 0.2718646824359894, 0.10047172755002975, 0.04137071222066879, 0.28324466943740845, 0.2859230935573578, 0.2926191985607147, 0.09106683731079102, 0.046872638165950775, 0.4146732985973358, 0.30084142088890076, 0.19514037668704987, 0.05691594257950783, 0.032523397356271744, 0.6595479846000671, 0.1319095939397812, 0.1319095939397812, 0.1319095939397812, 0.32272079586982727, 0.35499289631843567, 0.16136039793491364, 0.032272081822156906, 0.16136039793491364, 0.5395012497901917, 0.7611571550369263, 0.15076716244220734, 0.3140982687473297, 0.4146097004413605, 0.07538358122110367, 0.05025572329759598, 0.5394992232322693, 0.5569863319396973, 0.6934068202972412, 0.2813917100429535, 0.2597461938858032, 0.17316412925720215, 0.15151861310005188, 0.15151861310005188, 0.26729562878608704, 0.4420658349990845, 0.11308661103248596, 0.12336721271276474, 0.041122402995824814, 0.19606775045394897, 0.296902596950531, 0.36972776055336, 0.11203871667385101, 0.028009679168462753, 0.7101040482521057, 0.32863089442253113, 0.32863089442253113, 0.5417368412017822, 0.13378529250621796, 0.40135589241981506, 0.13378529250621796, 0.13378529250621796, 0.2675705850124359, 0.7634838819503784, 0.36190715432167053, 0.28435561060905457, 0.1034020408987999, 0.1034020408987999, 0.15510305762290955, 0.08648962527513504, 0.17297925055027008, 0.6054273843765259, 0.673912763595581, 0.3759699761867523, 0.18798498809337616, 0.18798498809337616, 0.18798498809337616, 0.7634953260421753, 0.247996523976326, 0.44830140471458435, 0.17168989777565002, 0.07630662620067596, 0.04769163951277733, 0.3088524639606476, 0.27024590969085693, 0.3320164084434509, 0.061770495027303696, 0.030885247513651848, 0.7054719924926758, 0.6994284391403198, 0.6987640261650085, 0.326823353767395, 0.326823353767395, 0.30750951170921326, 0.23892825841903687, 0.258838951587677, 0.14158712327480316, 0.053095169365406036, 0.5395021438598633, 0.7482161521911621, 0.14964322745800018, 0.3201602101325989, 0.3201602101325989, 0.16837292909622192, 0.6734917163848877, 0.14269289374351501, 0.21403934061527252, 0.3924054503440857, 0.21403934061527252, 0.035673223435878754, 0.2086307555437088, 0.2086307555437088, 0.2086307555437088, 0.4172615110874176, 0.2567732632160187, 0.5135465264320374, 0.7061803936958313, 0.6755096912384033, 0.22420786321163177, 0.11210393160581589, 0.6726235747337341, 0.2433542013168335, 0.09734168648719788, 0.5840501189231873, 0.04867084324359894, 0.7756291627883911, 0.7352606654167175, 0.5562071204185486, 0.6740139722824097, 0.22467131912708282, 0.11233565956354141, 0.3228898346424103, 0.32731297612190247, 0.19019538164138794, 0.07961667329072952, 0.07961667329072952, 0.5239967107772827, 0.26199835538864136, 0.7339154481887817, 0.7928724884986877, 0.15869154036045074, 0.3636681139469147, 0.3173830807209015, 0.11240649968385696, 0.046285029500722885, 0.5395090579986572, 0.17694872617721558, 0.17694872617721558, 0.5308461785316467, 0.17694872617721558, 0.7314419150352478, 0.6994249224662781, 0.21545006334781647, 0.3133819103240967, 0.35255464911460876, 0.048965923488140106, 0.06855229288339615, 0.240397647023201, 0.19031479954719543, 0.42069587111473083, 0.08013255149126053, 0.06009941175580025, 0.5417531132698059, 0.29799720644950867, 0.27316412329673767, 0.31289708614349365, 0.07449930161237717, 0.03973296284675598, 0.6835252046585083, 0.2706749141216278, 0.2706749141216278, 0.2706749141216278, 0.5413498282432556, 0.4932677447795868, 0.4932677447795868, 0.24805590510368347, 0.2821027934551239, 0.30642199516296387, 0.07782146334648132, 0.08268529921770096, 0.27553045749664307, 0.335428386926651, 0.19766315817832947, 0.11380606144666672, 0.07187751680612564, 0.6676429510116577, 0.2459327131509781, 0.4437481462955475, 0.1978154480457306, 0.08554181456565857, 0.026731817051768303, 0.5395131707191467, 0.40791162848472595, 0.40791162848472595, 0.0775415226817131, 0.6978737115859985, 0.0775415226817131, 0.1550830453634262, 0.66898512840271, 0.6930786967277527, 0.7630881071090698, 0.20899081230163574, 0.5573088526725769, 0.12539449334144592, 0.05573088303208351, 0.05573088303208351, 0.15225207805633545, 0.24360331892967224, 0.3045041561126709, 0.2131529003381729, 0.06090082973241806, 0.44040319323539734, 0.7615231871604919, 0.7203719019889832, 0.22795389592647552, 0.3419308662414551, 0.1823631227016449, 0.2051585167646408, 0.045590780675411224, 0.3678828477859497, 0.23759101331233978, 0.26824790239334106, 0.0804743766784668, 0.04598535597324371, 0.15431800484657288, 0.15431800484657288, 0.6172720193862915, 0.15431800484657288, 0.35604965686798096, 0.17090383172035217, 0.277718722820282, 0.0925729051232338, 0.0996939018368721, 0.664604127407074, 0.09494344145059586, 0.1898868829011917, 0.3001881241798401, 0.3317869007587433, 0.25454550981521606, 0.07021944969892502, 0.04213166981935501, 0.7161164283752441, 0.7905760407447815, 0.2635253369808197, 0.3007662296295166, 0.26965248584747314, 0.27483808994293213, 0.09334123879671097, 0.06222749501466751, 0.4806808531284332, 0.2728188633918762, 0.12991374731063843, 0.07794824242591858, 0.03897412121295929, 0.6076067686080933, 0.15190169215202332, 0.15190169215202332, 0.14671440422534943, 0.4401432275772095, 0.14671440422534943, 0.14671440422534943, 0.29342880845069885, 0.46375149488449097, 0.3479456305503845, 0.695891261100769, 0.26802483201026917, 0.27667078375816345, 0.3429564833641052, 0.07493167370557785, 0.04034782201051712, 0.6931634545326233, 0.6957606077194214, 0.25175851583480835, 0.3540354073047638, 0.27273839712142944, 0.055072177201509476, 0.06556211411952972, 0.3692335784435272, 0.23181994259357452, 0.3104918599128723, 0.05979066342115402, 0.027272934094071388, 0.25942111015319824, 0.2722637355327606, 0.3030860424041748, 0.12072071433067322, 0.04366493970155716, 0.7238531708717346, 0.12064219266176224, 0.12064219266176224, 0.5397375226020813, 0.7898813486099243, 0.5394518971443176, 0.25857430696487427, 0.5171486139297485, 0.3824160397052765, 0.2715708017349243, 0.1976739913225174, 0.09237102419137955, 0.05727003514766693, 0.18982231616973877, 0.4595698118209839, 0.21979425847530365, 0.07992518693208694, 0.049953240901231766, 0.09780538082122803, 0.19561076164245605, 0.5379295945167542, 0.09780538082122803, 0.048902690410614014, 0.7438367009162903, 0.14876733720302582, 0.14876733720302582, 0.6034189462661743, 0.15085473656654358, 0.10559093207120895, 0.527954638004303, 0.07039394974708557, 0.10559093207120895, 0.2111818641424179, 0.6933974027633667, 0.6933231949806213, 0.7119978666305542, 0.41232383251190186, 0.2623879015445709, 0.18117259442806244, 0.09995729476213455, 0.049978647381067276, 0.7406890988349915, 0.2674858272075653, 0.42959848046302795, 0.18642953038215637, 0.07295068353414536, 0.04863378778100014, 0.5395151972770691, 0.6953514814376831, 0.6756309866905212, 0.5395640134811401, 0.4344595670700073, 0.4344595670700073, 0.691713273525238, 0.1729283183813095, 0.2931860387325287, 0.31122827529907227, 0.252591073513031, 0.09472164511680603, 0.04961610212922096, 0.5272164940834045, 0.26360824704170227, 0.1835145801305771, 0.5505437254905701, 0.713167130947113, 0.2998562455177307, 0.34911832213401794, 0.22703400254249573, 0.09209869801998138, 0.03426928445696831, 0.7181954979896545, 0.3112857937812805, 0.26777270436286926, 0.2711198627948761, 0.10710908472537994, 0.043513067066669464, 0.3409164249897003, 0.34840911626815796, 0.19855572283267975, 0.08241935819387436, 0.026224341243505478, 0.2873694598674774, 0.35633814334869385, 0.24905353784561157, 0.05364229902625084, 0.057473890483379364, 0.723686933517456, 0.1447373926639557, 0.539491593837738, 0.5448130965232849, 0.4448830187320709, 0.27805188298225403, 0.144586980342865, 0.07785452902317047, 0.055610377341508865, 0.7090926170349121, 0.7635257840156555, 0.6710227131843567, 0.1437905728816986, 0.19172076880931854, 0.6954275965690613, 0.6959083676338196, 0.5394970178604126, 0.17920570075511932, 0.2944093644618988, 0.3072097897529602, 0.17920570075511932, 0.038401223719120026, 0.2746669352054596, 0.15901769697666168, 0.3903161585330963, 0.12287731468677521, 0.05059653893113136, 0.21281558275222778, 0.3996780514717102, 0.25434058904647827, 0.09343123435974121, 0.041524991393089294, 0.5497022867202759, 0.674237072467804, 0.5417393445968628, 0.45018255710601807, 0.45018255710601807, 0.20338916778564453, 0.10169458389282227, 0.5084729194641113, 0.10169458389282227, 0.10169458389282227, 0.5394688844680786, 0.6956271529197693, 0.2165239006280899, 0.3464382588863373, 0.12991434335708618, 0.25982868671417236, 0.08660956472158432, 0.5394717454910278, 0.27382320165634155, 0.3580764830112457, 0.1474432498216629, 0.18956990540027618, 0.021063322201371193, 0.6933143734931946, 0.6831846833229065, 0.2277282327413559, 0.2781906723976135, 0.5310912728309631, 0.10116024315357208, 0.05058012157678604, 0.05058012157678604, 0.35586410760879517, 0.36454373598098755, 0.11717476695775986, 0.09113593399524689, 0.07377670705318451, 0.5126174092292786, 0.14215439558029175, 0.24123170971870422, 0.06892334669828415, 0.034461673349142075, 0.23042607307434082, 0.3041624128818512, 0.2580772042274475, 0.15668973326683044, 0.05530225858092308, 0.6935725212097168, 0.7573611736297607, 0.5394704937934875, 0.31855377554893494, 0.3324039578437805, 0.23137922585010529, 0.06843610852956772, 0.049697648733854294, 0.6984413862228394, 0.23865704238414764, 0.19526486098766327, 0.4339219033718109, 0.08678437769412994, 0.04339218884706497, 0.573438823223114, 0.17336522042751312, 0.08001471310853958, 0.12002207338809967, 0.053343143314123154, 0.4538695216178894, 0.23530027270317078, 0.28930360078811646, 0.3105192184448242, 0.12343620508909225, 0.042431194335222244, 0.5588979125022888, 0.11787894368171692, 0.11787894368171692, 0.589394748210907, 0.11787894368171692, 0.6953340768814087, 0.34655332565307617, 0.17327666282653809, 0.17327666282653809, 0.08663833141326904, 0.25991499423980713, 0.3805196285247803, 0.24945175647735596, 0.27904772758483887, 0.05919194221496582, 0.03382396697998047, 0.20024573802947998, 0.3114933669567108, 0.36711716651916504, 0.06674857437610626, 0.044499050825834274, 0.5394945740699768, 0.25655853748321533, 0.769675612449646, 0.11804351955652237, 0.5902175903320312, 0.11804351955652237, 0.11804351955652237, 0.5395045280456543, 0.5394991040229797, 0.19174835085868835, 0.20918002724647522, 0.36606502532958984, 0.08715834468603134, 0.17431668937206268, 0.3684691786766052, 0.26926594972610474, 0.2215968519449234, 0.08245464414358139, 0.05797591805458069, 0.17935994267463684, 0.7174397706985474, 0.5395032167434692, 0.520969569683075, 0.2604847848415375, 0.09768179059028625, 0.09768179059028625, 0.032560598105192184, 0.7103224992752075, 0.5394814014434814, 0.35323306918144226, 0.2844214141368866, 0.20643490552902222, 0.10092373192310333, 0.05504930764436722, 0.1467602550983429, 0.1467602550983429, 0.2935205101966858, 0.2935205101966858, 0.3784809708595276, 0.270343542098999, 0.2342977523803711, 0.0901145190000534, 0.03604580834507942, 0.48679426312446594, 0.3478975296020508, 0.6957950592041016, 0.3539891839027405, 0.21783950924873352, 0.21783950924873352, 0.05445987731218338, 0.13614968955516815, 0.7149718403816223, 0.5394620299339294, 0.6914916038513184, 0.22232677042484283, 0.22232677042484283, 0.5002352595329285, 0.05558169260621071, 0.7306191921234131, 0.3380323052406311, 0.3154968321323395, 0.18028390407562256, 0.14272475242614746, 0.03004731610417366, 0.23224210739135742, 0.6967263221740723, 0.11612105369567871, 0.569853663444519, 0.6933181285858154, 0.6952328681945801, 0.34761643409729004, 0.7175413370132446, 0.23257461190223694, 0.2629104256629944, 0.38425371050834656, 0.08089551329612732, 0.050559695810079575, 0.6933057904243469, 0.4154495298862457, 0.1837565153837204, 0.2876189053058624, 0.0719047263264656, 0.04793648421764374, 0.3805157244205475, 0.24214637279510498, 0.24214637279510498, 0.08648084849119186, 0.04612312093377113, 0.7216038107872009, 0.18412402272224426, 0.4050728380680084, 0.14729921519756317, 0.1718490868806839, 0.08592454344034195, 0.30089104175567627, 0.23531223833560944, 0.289318323135376, 0.10415459424257278, 0.06943639367818832, 0.6707389950752258, 0.5773702263832092, 0.1443425565958023, 0.1443425565958023, 0.1443425565958023, 0.6341003775596619, 0.21136680245399475, 0.21136680245399475, 0.5394507050514221, 0.18406952917575836, 0.18406952917575836, 0.18406952917575836, 0.3681390583515167, 0.7635735273361206, 0.3250006139278412, 0.27456948161125183, 0.2913798689842224, 0.06163804978132248, 0.044827673584222794, 0.5368536114692688, 0.21474143862724304, 0.12884485721588135, 0.04294828698039055, 0.06442242860794067, 0.20249724388122559, 0.20249724388122559, 0.3881196975708008, 0.1518729329109192, 0.050624310970306396, 0.810001790523529, 0.2419818937778473, 0.20377422869205475, 0.3311331272125244, 0.17830245196819305, 0.05094355717301369, 0.6270208358764648, 0.20900693535804749, 0.6932635307312012, 0.28753650188446045, 0.38338202238082886, 0.17571675777435303, 0.11181975156068802, 0.039935626089572906, 0.37327224016189575, 0.2799541652202606, 0.1442188173532486, 0.16966919600963593, 0.04241729900240898, 0.7386251091957092, 0.7635137438774109, 0.7634257674217224, 0.7290668487548828, 0.32002681493759155, 0.29290592670440674, 0.2223915308713913, 0.12475622445344925, 0.043393466621637344, 0.12018848210573196, 0.721130907535553, 0.12018848210573196, 0.5394450426101685, 0.23463618755340576, 0.21330562233924866, 0.4052806794643402, 0.10665281116962433, 0.021330563351511955, 0.7634488344192505, 0.7560393214225769, 0.15120786428451538, 0.8047087788581848, 0.3531799018383026, 0.2965632975101471, 0.23455460369586945, 0.07683685421943665, 0.03909243270754814, 0.6912689805030823, 0.2692897319793701, 0.3242467939853668, 0.28577685356140137, 0.07144421339035034, 0.049461375921964645, 0.34501218795776367, 0.2919333875179291, 0.21231518685817719, 0.1150040552020073, 0.030962631106376648, 0.2939819097518921, 0.2939819097518921, 0.25425463914871216, 0.11918186396360397, 0.039727285504341125, 0.38464924693107605, 0.31755927205085754, 0.17443396151065826, 0.05814465507864952, 0.06261732429265976, 0.28344783186912537, 0.436318576335907, 0.15605555474758148, 0.07962018251419067, 0.04458729922771454, 0.18664659559726715, 0.4199548661708832, 0.18664659559726715, 0.07776941359043121, 0.1244310662150383, 0.5823520421981812, 0.21838203072547913, 0.07279400527477264, 0.07279400527477264, 0.07279400527477264, 0.08474598079919815, 0.6779678463935852, 0.042372990399599075, 0.042372990399599075, 0.12711897492408752, 0.5417494773864746, 0.6963477730751038, 0.2816865146160126, 0.39154425263404846, 0.16619503498077393, 0.10985773801803589, 0.05352043733000755, 0.7527860403060913, 0.6521778106689453, 0.26087114214897156, 0.3503677248954773, 0.2686152458190918, 0.21022062003612518, 0.07007354497909546, 0.10511031001806259, 0.5394725799560547, 0.20642046630382538, 0.41284093260765076, 0.41284093260765076, 0.5505872964859009, 0.20787478983402252, 0.12360122799873352, 0.0561823770403862, 0.06180061399936676, 0.6708465814590454, 0.4625059962272644, 0.4625059962272644, 0.6952023506164551, 0.3029839098453522, 0.2726854979991913, 0.15906654298305511, 0.1893649399280548, 0.07574597746133804, 0.34700706601142883, 0.2288770079612732, 0.2657926678657532, 0.0664481669664383, 0.08859755098819733, 0.24907177686691284, 0.3877952992916107, 0.2396133542060852, 0.0599033385515213, 0.06305614858865738, 0.7988372445106506, 0.672762393951416, 0.2629944086074829, 0.3418927490711212, 0.184096097946167, 0.13675709068775177, 0.0736384391784668, 0.19390442967414856, 0.5170784592628479, 0.12926961481571198, 0.10772468149662018, 0.04308987036347389, 0.5394521951675415, 0.3046106994152069, 0.3137035667896271, 0.22277498245239258, 0.11820713430643082, 0.03637142479419708, 0.3478924036026001, 0.6957848072052002, 0.6989986300468445, 0.31545591354370117, 0.31545591354370117, 0.21405936777591705, 0.0844971165060997, 0.07323084026575089, 0.339778333902359, 0.2659134566783905, 0.22159455716609955, 0.14034321904182434, 0.03693242743611336, 0.20492850244045258, 0.8197140097618103], \"Term\": [\"$\", \"$\", \"$\", \"$\", \"$\", \"'s\", \"'s\", \"'s\", \"'s\", \"'s\", \"10/ea\", \"5:30\", \"abc\", \"airport\", \"airport\", \"airport\", \"airport\", \"airways\", \"airways\", \"all\", \"all\", \"all\", \"all\", \"all\", \"and\", \"and\", \"and\", \"and\", \"and\", \"anniversary\", \"anniversary\", \"anniversary\", \"anniversary\", \"anniversary\", \"approval\", \"approve\", \"arrangement\", \"as_far\", \"as_far\", \"as_far\", \"ask\", \"ask\", \"ask\", \"ask\", \"ask\", \"awsome\", \"bad\", \"bad\", \"bad\", \"bad\", \"bad\", \"bar\", \"bar\", \"bar\", \"bar\", \"bar\", \"be\", \"be\", \"be\", \"be\", \"be\", \"big\", \"big\", \"big\", \"big\", \"big\", \"big_portion\", \"big_portion\", \"big_portion\", \"big_portion\", \"bike\", \"bike\", \"bike\", \"bike\", \"bike\", \"bologna\", \"boneyard\", \"bread\", \"bread\", \"bread\", \"bread\", \"bread\", \"bride\", \"bridge\", \"bruise\", \"brunch\", \"brunch\", \"brunch\", \"brunch\", \"brunch\", \"burger\", \"burger\", \"burger\", \"burger\", \"burger\", \"but\", \"but\", \"but\", \"but\", \"but\", \"butternut\", \"bw3\", \"bw3\", \"cancellation\", \"canyon\", \"canyon\", \"canyon\", \"canyon\", \"canyon\", \"carpool\", \"casino\", \"casino\", \"casino\", \"casino\", \"casino\", \"cat\", \"cat\", \"cat\", \"catherine\", \"cha\", \"cha\", \"cha\", \"cha\", \"challenging\", \"check\", \"check\", \"check\", \"check\", \"check\", \"chicken\", \"chicken\", \"chicken\", \"chicken\", \"chicken\", \"chickpea\", \"chuck\", \"cigar\", \"cinnamon\", \"cinnamon\", \"come\", \"come\", \"come\", \"come\", \"come\", \"comfortably\", \"concourse\", \"concourse\", \"confit\", \"confit\", \"congee\", \"congee\", \"cookie\", \"cookie\", \"cookie\", \"cookie\", \"cookie\", \"cornbread\", \"cornbread\", \"cornbread\", \"cornbread\", \"costume\", \"costume\", \"crafty\", \"crema\", \"croissant\", \"croissant\", \"croissant\", \"cupcake\", \"cupcake\", \"cupcake\", \"cupcake\", \"custard\", \"customizable\", \"dam\", \"dan\", \"dan\", \"dan\", \"day\", \"day\", \"day\", \"day\", \"day\", \"define\", \"define\", \"del\", \"delay\", \"delicious\", \"delicious\", \"delicious\", \"delicious\", \"delicious\", \"deluxe\", \"denny\", \"denny\", \"denny\", \"denny\", \"departure\", \"dept\", \"different\", \"different\", \"different\", \"different\", \"different\", \"dish\", \"dish\", \"dish\", \"dish\", \"dish\", \"dreary\", \"drink\", \"drink\", \"drink\", \"drink\", \"drink\", \"dumbfound\", \"dumpling\", \"dumpling\", \"dumpling\", \"dumpling\", \"eastwood\", \"eastwood\", \"eat\", \"eat\", \"eat\", \"eat\", \"eat\", \"end\", \"end\", \"end\", \"end\", \"end\", \"engaged\", \"enjoy\", \"enjoy\", \"enjoy\", \"enjoy\", \"enjoy\", \"esp\", \"et\", \"et\", \"exhibit\", \"exhibit\", \"exhibit\", \"exhibit\", \"expire\", \"extension\", \"fab\", \"fantastic\", \"fantastic\", \"fantastic\", \"fantastic\", \"fantastic\", \"fast\", \"fast\", \"fast\", \"fast\", \"fast\", \"fav\", \"fenced\", \"fest\", \"finally\", \"finally\", \"finally\", \"finally\", \"finally\", \"find\", \"find\", \"find\", \"find\", \"find\", \"flaky\", \"flaky\", \"flaky\", \"flaky\", \"flavor\", \"flavor\", \"flavor\", \"flavor\", \"flavor\", \"fly\", \"fly\", \"fly\", \"food\", \"food\", \"food\", \"food\", \"food\", \"franchise\", \"frankie\", \"frankie\", \"friend\", \"friend\", \"friend\", \"friend\", \"friend\", \"fun\", \"fun\", \"fun\", \"fun\", \"fun\", \"gain\", \"gain\", \"gain\", \"garage\", \"garage\", \"garage\", \"garage\", \"garage\", \"gathering\", \"gaylord\", \"gaylord\", \"get\", \"get\", \"get\", \"get\", \"get\", \"ghostbar\", \"glitter\", \"go\", \"go\", \"go\", \"go\", \"go\", \"good\", \"good\", \"good\", \"good\", \"good\", \"great\", \"great\", \"great\", \"great\", \"great\", \"great_view\", \"great_view\", \"great_view\", \"grimy\", \"gumbo\", \"happenstance\", \"hardware\", \"hardware\", \"have\", \"have\", \"have\", \"have\", \"have\", \"head\", \"head\", \"head\", \"head\", \"head\", \"healthy\", \"healthy\", \"healthy\", \"healthy\", \"healthy\", \"hearing\", \"hearing\", \"hearing\", \"heather\", \"heather\", \"hike\", \"hike\", \"hike\", \"hike\", \"hike\", \"http://www.birdandhike.com/hike/other_areas/lone_mt/_lone_mt.htm\", \"hurricane\", \"i\\\"m\", \"if\", \"if\", \"if\", \"if\", \"if\", \"infant\", \"item\", \"item\", \"item\", \"item\", \"item\", \"james\", \"jarvis\", \"junction\", \"june\", \"kimchi\", \"kimchi\", \"knick\", \"knick\", \"know\", \"know\", \"know\", \"know\", \"know\", \"korean\", \"korean\", \"label\", \"label\", \"lacy\", \"like\", \"like\", \"like\", \"like\", \"like\", \"liking\", \"little\", \"little\", \"little\", \"little\", \"little\", \"look\", \"look\", \"look\", \"look\", \"look\", \"love\", \"love\", \"love\", \"love\", \"love\", \"luci_'s\", \"luci_'s\", \"madness\", \"magical\", \"make\", \"make\", \"make\", \"make\", \"make\", \"maki\", \"mani\", \"map\", \"map\", \"map\", \"march\", \"marilyn\", \"matches\", \"maybe\", \"maybe\", \"maybe\", \"maybe\", \"maybe\", \"meal\", \"meal\", \"meal\", \"meal\", \"meal\", \"menu\", \"menu\", \"menu\", \"menu\", \"menu\", \"metro\", \"mien\", \"million\", \"momofuko\", \"momofuko\", \"monkey\", \"monkey\", \"monkey\", \"monkey\", \"monkey\", \"mostly\", \"mouse\", \"movie\", \"movie\", \"movie\", \"movie\", \"movie\", \"mug\", \"music\", \"music\", \"music\", \"music\", \"music\", \"muskoka\", \"nancy\", \"nancy\", \"near\", \"near\", \"near\", \"near\", \"near\", \"need\", \"need\", \"need\", \"need\", \"need\", \"nice\", \"nice\", \"nice\", \"nice\", \"nice\", \"night\", \"night\", \"night\", \"night\", \"night\", \"nissan\", \"nite\", \"nonexistent\", \"not\", \"not\", \"not\", \"not\", \"not\", \"odb\", \"oh\", \"oh\", \"oh\", \"oh\", \"oh\", \"ok\", \"ok\", \"ok\", \"ok\", \"ok\", \"olivos\", \"order\", \"order\", \"order\", \"order\", \"order\", \"orleans\", \"pasta_dish\", \"pasta_dish\", \"pasta_dish\", \"pasta_dish\", \"patrol\", \"peak\", \"peak\", \"peak\", \"peak\", \"peak\", \"people\", \"people\", \"people\", \"people\", \"people\", \"perfect\", \"perfect\", \"perfect\", \"perfect\", \"perfect\", \"physical\", \"piercing\", \"piercing\", \"pillow\", \"pillow\", \"pillow\", \"pillow\", \"pimmp\", \"pirates\", \"pizza\", \"pizza\", \"pizza\", \"pizza\", \"pizza\", \"place\", \"place\", \"place\", \"place\", \"place\", \"playground\", \"playground\", \"playoffs\", \"pool\", \"pool\", \"pool\", \"pool\", \"pool\", \"port\", \"prepacked\", \"pretty\", \"pretty\", \"pretty\", \"pretty\", \"pretty\", \"previous\", \"previous\", \"previous\", \"previous\", \"price\", \"price\", \"price\", \"price\", \"price\", \"private\", \"proximity\", \"proximity\", \"purchase\", \"purchase\", \"purchase\", \"purchase\", \"purchase\", \"rainy\", \"ratty\", \"remter\", \"rib\", \"rib\", \"rib\", \"rib\", \"rogue\", \"room\", \"room\", \"room\", \"room\", \"room\", \"roosevelt\", \"roosevelt\", \"roosevelt\", \"running\", \"sack\", \"salvadoran\", \"salvadoran\", \"sam\", \"sandwich\", \"sandwich\", \"sandwich\", \"sandwich\", \"sandwich\", \"sat\", \"sauce\", \"sauce\", \"sauce\", \"sauce\", \"sauce\", \"say\", \"say\", \"say\", \"say\", \"say\", \"scant\", \"seat\", \"seat\", \"seat\", \"seat\", \"seat\", \"service\", \"service\", \"service\", \"service\", \"service\", \"sexier\", \"sharing\", \"sharing\", \"sharing\", \"sharing\", \"shawarma\", \"shawarma\", \"shawarma\", \"sleepless\", \"slip\", \"slip\", \"slip\", \"slip\", \"sneeze\", \"so\", \"so\", \"so\", \"so\", \"so\", \"solid\", \"solid\", \"solid\", \"solid\", \"solid\", \"soup\", \"soup\", \"soup\", \"soup\", \"soup\", \"southwest\", \"special\", \"special\", \"special\", \"special\", \"special\", \"staffed\", \"staffed\", \"stan\", \"start\", \"start\", \"start\", \"start\", \"start\", \"stop\", \"stop\", \"stop\", \"stop\", \"stop\", \"stores\", \"supermarket\", \"switchback\", \"t&t\", \"table\", \"table\", \"table\", \"table\", \"table\", \"target\", \"target\", \"target\", \"tcf\", \"tea\", \"tea\", \"tea\", \"tea\", \"tea\", \"tendency\", \"terminal\", \"terminal\", \"testing\", \"the\", \"the\", \"the\", \"the\", \"the\", \"theee\", \"there\", \"there\", \"there\", \"there\", \"there\", \"thing\", \"thing\", \"thing\", \"thing\", \"thing\", \"think\", \"think\", \"think\", \"think\", \"think\", \"this\", \"this\", \"this\", \"this\", \"this\", \"time\", \"time\", \"time\", \"time\", \"time\", \"tomato\", \"tomato\", \"tomato\", \"tomato\", \"tomato\", \"trade\", \"trade\", \"trade\", \"trade\", \"trade\", \"trail\", \"trail\", \"trail\", \"trail\", \"trail\", \"transplant\", \"tricky\", \"try\", \"try\", \"try\", \"try\", \"try\", \"unknown\", \"us\", \"us\", \"use\", \"use\", \"use\", \"use\", \"use\", \"victorian\", \"vig\", \"vig\", \"vig\", \"visit\", \"visit\", \"visit\", \"visit\", \"visit\", \"vital\", \"voucher\", \"voucher\", \"wag\", \"wait\", \"wait\", \"wait\", \"wait\", \"wait\", \"walk\", \"walk\", \"walk\", \"walk\", \"walk\", \"want\", \"want\", \"want\", \"want\", \"want\", \"warhol\", \"wave\", \"way\", \"way\", \"way\", \"way\", \"way\", \"week\", \"week\", \"week\", \"week\", \"week\", \"whatsoever\", \"will\", \"will\", \"will\", \"will\", \"will\", \"winchell\", \"winchell\", \"woodchester\", \"work\", \"work\", \"work\", \"work\", \"work\", \"would\", \"would\", \"would\", \"would\", \"would\", \"yonge\", \"yonge\"]}, \"R\": 30, \"lambda.step\": 0.01, \"plot.opts\": {\"xlab\": \"PC1\", \"ylab\": \"PC2\"}, \"topic.order\": [1, 3, 2, 4, 5]};\n",
       "\n",
       "function LDAvis_load_lib(url, callback){\n",
       "  var s = document.createElement('script');\n",
       "  s.src = url;\n",
       "  s.async = true;\n",
       "  s.onreadystatechange = s.onload = callback;\n",
       "  s.onerror = function(){console.warn(\"failed to load library \" + url);};\n",
       "  document.getElementsByTagName(\"head\")[0].appendChild(s);\n",
       "}\n",
       "\n",
       "if(typeof(LDAvis) !== \"undefined\"){\n",
       "   // already loaded: just create the visualization\n",
       "   !function(LDAvis){\n",
       "       new LDAvis(\"#\" + \"ldavis_el785871123654395204215682901\", ldavis_el785871123654395204215682901_data);\n",
       "   }(LDAvis);\n",
       "}else if(typeof define === \"function\" && define.amd){\n",
       "   // require.js is available: use it to load d3/LDAvis\n",
       "   require.config({paths: {d3: \"https://cdnjs.cloudflare.com/ajax/libs/d3/3.5.5/d3.min\"}});\n",
       "   require([\"d3\"], function(d3){\n",
       "      window.d3 = d3;\n",
       "      LDAvis_load_lib(\"https://cdn.rawgit.com/bmabey/pyLDAvis/files/ldavis.v1.0.0.js\", function(){\n",
       "        new LDAvis(\"#\" + \"ldavis_el785871123654395204215682901\", ldavis_el785871123654395204215682901_data);\n",
       "      });\n",
       "    });\n",
       "}else{\n",
       "    // require.js not available: dynamically load d3 & LDAvis\n",
       "    LDAvis_load_lib(\"https://cdnjs.cloudflare.com/ajax/libs/d3/3.5.5/d3.min.js\", function(){\n",
       "         LDAvis_load_lib(\"https://cdn.rawgit.com/bmabey/pyLDAvis/files/ldavis.v1.0.0.js\", function(){\n",
       "                 new LDAvis(\"#\" + \"ldavis_el785871123654395204215682901\", ldavis_el785871123654395204215682901_data);\n",
       "            })\n",
       "         });\n",
       "}\n",
       "</script>"
      ],
      "text/plain": [
       "<IPython.core.display.HTML object>"
      ]
     },
     "execution_count": 23,
     "metadata": {},
     "output_type": "execute_result"
    }
   ],
   "source": [
    "pyLDAvis.display(vis_data)"
   ]
  },
  {
   "cell_type": "markdown",
   "metadata": {},
   "source": [
    "# Topic Modeling - `textacy`"
   ]
  },
  {
   "cell_type": "markdown",
   "metadata": {},
   "source": [
    "Create Document-Term Matrix"
   ]
  },
  {
   "cell_type": "code",
   "execution_count": 24,
   "metadata": {},
   "outputs": [
    {
     "data": {
      "text/plain": [
       "<1000x8425 sparse matrix of type '<class 'numpy.int32'>'\n",
       "\twith 61521 stored elements in Compressed Sparse Row format>"
      ]
     },
     "execution_count": 24,
     "metadata": {},
     "output_type": "execute_result"
    }
   ],
   "source": [
    "vectorizer = textacy.vsm.Vectorizer(tf_type='linear', min_df = 1)\n",
    "doc_term_matrix = vectorizer.fit_transform(phrased_reviews)\n",
    "doc_term_matrix"
   ]
  },
  {
   "cell_type": "markdown",
   "metadata": {},
   "source": [
    "Train Topic Model"
   ]
  },
  {
   "cell_type": "code",
   "execution_count": 25,
   "metadata": {},
   "outputs": [
    {
     "name": "stderr",
     "output_type": "stream",
     "text": [
      "/Users/shiwang/anaconda3/lib/python3.6/site-packages/sklearn/decomposition/online_lda.py:294: DeprecationWarning: n_topics has been renamed to n_components in version 0.19 and will be removed in 0.21\n",
      "  DeprecationWarning)\n"
     ]
    },
    {
     "data": {
      "text/plain": [
       "(1000, 5)"
      ]
     },
     "execution_count": 25,
     "metadata": {},
     "output_type": "execute_result"
    }
   ],
   "source": [
    "model = textacy.tm.TopicModel('lda', n_topics=5) \n",
    "model.fit(doc_term_matrix)\n",
    "doc_topic_matrix = model.transform(doc_term_matrix)\n",
    "doc_topic_matrix.shape"
   ]
  },
  {
   "cell_type": "code",
   "execution_count": 26,
   "metadata": {},
   "outputs": [
    {
     "data": {
      "text/plain": [
       "<matplotlib.axes._subplots.AxesSubplot at 0x1a2c04cac8>"
      ]
     },
     "execution_count": 26,
     "metadata": {},
     "output_type": "execute_result"
    },
    {
     "data": {
      "image/png": "[encoded data removed]",
      "text/plain": [
       "<Figure size 260.921x602.522 with 1 Axes>"
      ]
     },
     "metadata": {},
     "output_type": "display_data"
    }
   ],
   "source": [
    "model.termite_plot(doc_term_matrix,  \n",
    "                   vectorizer.id_to_term,\n",
    "                   highlight_topics=[0,1,2,3,4])"
   ]
  },
  {
   "cell_type": "code",
   "execution_count": null,
   "metadata": {},
   "outputs": [],
   "source": []
  }
 ],
 "metadata": {
  "kernelspec": {
   "display_name": "Python [conda env:anaconda3]",
   "language": "python",
   "name": "conda-env-anaconda3-py"
  },
  "language_info": {
   "codemirror_mode": {
    "name": "ipython",
    "version": 3
   },
   "file_extension": ".py",
   "mimetype": "text/x-python",
   "name": "python",
   "nbconvert_exporter": "python",
   "pygments_lexer": "ipython3",
   "version": "3.6.5"
  },
  "toc": {
   "base_numbering": 1,
   "nav_menu": {},
   "number_sections": true,
   "sideBar": true,
   "skip_h1_title": false,
   "title_cell": "Table of Contents",
   "title_sidebar": "Contents",
   "toc_cell": false,
   "toc_position": {
    "height": "calc(100% - 180px)",
    "left": "10px",
    "top": "150px",
    "width": "377px"
   },
   "toc_section_display": true,
   "toc_window_display": true
  }
 },
 "nbformat": 4,
 "nbformat_minor": 2
}
