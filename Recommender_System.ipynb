{
 "cells": [
  {
   "cell_type": "markdown",
   "metadata": {},
   "source": [
    "# Overview"
   ]
  },
  {
   "cell_type": "markdown",
   "metadata": {},
   "source": [
    "<img src=\"https://www.researchgate.net/profile/Shilad_Sen/publication/221607721/figure/fig1/AS:305580804722702@1449867549680/Intermediary-entities-center-relate-user-to-recommended-item.png\" width=500>"
   ]
  },
  {
   "cell_type": "markdown",
   "metadata": {},
   "source": [
    "**General Workflow**\n",
    "- Generate features from user behavior (indirect) / user attributes (direct) for pairs of $(u,i)$\n",
    "    - Behavior weighing (view, click, purchase)\n",
    "    - Behavior time (recent or past)\n",
    "    - Behavior frequency\n",
    "    - Item popularity (more popular, less important)\n",
    "    \n",
    "    \n",
    "- Apply algorithms (as in following sections), and get candidate list of items\n",
    "    - For a give user feature vector, retrieve $(item, weight)$\n",
    "    - There can be multiple tables (e,g., one table for CF, one-table for content-based) or (e.g., one table for browse, one table for click)\n",
    "\n",
    "- Filtering based on business rules\n",
    "    - For example, only recommend new products\n",
    "    \n",
    "    \n",
    "- Ranking by some criterias\n",
    "    - For example, variety\n"
   ]
  },
  {
   "cell_type": "markdown",
   "metadata": {},
   "source": [
    "# Content-basd Recommendation"
   ]
  },
  {
   "cell_type": "markdown",
   "metadata": {},
   "source": [
    "- Different from item-based CF, where similarity is calculated based on user-item-interactions\n",
    "- Calculate **similarity** with **items** of **ONE user**\n",
    "- Similarity is calculated based on item attribute (for example, location, price, cuisine, etc.)\n",
    "    - Output: An item space with defined distance\n",
    "- One model for one user; No interaction between users\n"
   ]
  },
  {
   "cell_type": "markdown",
   "metadata": {},
   "source": [
    "# Memory-based CF"
   ]
  },
  {
   "cell_type": "markdown",
   "metadata": {},
   "source": [
    "## Load some sample dataset"
   ]
  },
  {
   "cell_type": "code",
   "execution_count": 2,
   "metadata": {},
   "outputs": [
    {
     "name": "stdout",
     "output_type": "stream",
     "text": [
      "The autoreload extension is already loaded. To reload it, use:\n",
      "  %reload_ext autoreload\n"
     ]
    }
   ],
   "source": [
    "%load_ext autoreload\n",
    "%autoreload\n",
    "import pandas as pd\n",
    "import numpy as np\n",
    "import scipy.sparse as sp\n",
    "from scipy.sparse.linalg import svds\n",
    "from scipy.spatial.distance import cosine\n",
    "from scipy import sparse\n",
    "from script import cf"
   ]
  },
  {
   "cell_type": "markdown",
   "metadata": {},
   "source": [
    "**Import Example Data**"
   ]
  },
  {
   "cell_type": "markdown",
   "metadata": {},
   "source": [
    "Input data includes:\n",
    "- User Info (sex, income)\n",
    "- Item Info (BOW, TF-IDF)\n",
    "- User-Item Interaction\n",
    "    - active/explicit: rating\n",
    "    - passive/implicit: clickstream analysis\n"
   ]
  },
  {
   "cell_type": "markdown",
   "metadata": {},
   "source": [
    "Input data dimension\n",
    "- Can be million+ user\n",
    "- Can be 10k+ products"
   ]
  },
  {
   "cell_type": "markdown",
   "metadata": {},
   "source": [
    "Load example data"
   ]
  },
  {
   "cell_type": "code",
   "execution_count": 2,
   "metadata": {},
   "outputs": [
    {
     "data": {
      "text/html": [
       "<div>\n",
       "<style scoped>\n",
       "    .dataframe tbody tr th:only-of-type {\n",
       "        vertical-align: middle;\n",
       "    }\n",
       "\n",
       "    .dataframe tbody tr th {\n",
       "        vertical-align: top;\n",
       "    }\n",
       "\n",
       "    .dataframe thead th {\n",
       "        text-align: right;\n",
       "    }\n",
       "</style>\n",
       "<table border=\"1\" class=\"dataframe\">\n",
       "  <thead>\n",
       "    <tr style=\"text-align: right;\">\n",
       "      <th></th>\n",
       "      <th>user_id</th>\n",
       "      <th>item_id</th>\n",
       "      <th>rating</th>\n",
       "      <th>timestamp</th>\n",
       "    </tr>\n",
       "  </thead>\n",
       "  <tbody>\n",
       "    <tr>\n",
       "      <th>0</th>\n",
       "      <td>196</td>\n",
       "      <td>242</td>\n",
       "      <td>3</td>\n",
       "      <td>881250949</td>\n",
       "    </tr>\n",
       "    <tr>\n",
       "      <th>1</th>\n",
       "      <td>186</td>\n",
       "      <td>302</td>\n",
       "      <td>3</td>\n",
       "      <td>891717742</td>\n",
       "    </tr>\n",
       "    <tr>\n",
       "      <th>2</th>\n",
       "      <td>22</td>\n",
       "      <td>377</td>\n",
       "      <td>1</td>\n",
       "      <td>878887116</td>\n",
       "    </tr>\n",
       "    <tr>\n",
       "      <th>3</th>\n",
       "      <td>244</td>\n",
       "      <td>51</td>\n",
       "      <td>2</td>\n",
       "      <td>880606923</td>\n",
       "    </tr>\n",
       "    <tr>\n",
       "      <th>4</th>\n",
       "      <td>166</td>\n",
       "      <td>346</td>\n",
       "      <td>1</td>\n",
       "      <td>886397596</td>\n",
       "    </tr>\n",
       "  </tbody>\n",
       "</table>\n",
       "</div>"
      ],
      "text/plain": [
       "   user_id  item_id  rating  timestamp\n",
       "0      196      242       3  881250949\n",
       "1      186      302       3  891717742\n",
       "2       22      377       1  878887116\n",
       "3      244       51       2  880606923\n",
       "4      166      346       1  886397596"
      ]
     },
     "execution_count": 2,
     "metadata": {},
     "output_type": "execute_result"
    }
   ],
   "source": [
    "header = ['user_id', 'item_id', 'rating', 'timestamp']\n",
    "df = pd.read_csv('./data/ml-100k/u.data', sep='\\t', names=header)\n",
    "df.head()"
   ]
  },
  {
   "cell_type": "code",
   "execution_count": 3,
   "metadata": {},
   "outputs": [
    {
     "name": "stdout",
     "output_type": "stream",
     "text": [
      "Number of users = 943 | Number of movies = 1682\n"
     ]
    }
   ],
   "source": [
    "n_users = df.user_id.unique().shape[0]\n",
    "n_items = df.item_id.unique().shape[0]\n",
    "print ('Number of users = ' + str(n_users) + ' | Number of movies = ' + str(n_items))"
   ]
  },
  {
   "cell_type": "code",
   "execution_count": 4,
   "metadata": {},
   "outputs": [
    {
     "data": {
      "text/plain": [
       "(943, 1682)"
      ]
     },
     "execution_count": 4,
     "metadata": {},
     "output_type": "execute_result"
    }
   ],
   "source": [
    "df_matrix = np.zeros((n_users, n_items))\n",
    "for line in df.itertuples():\n",
    "    df_matrix[line[1]-1, line[2]-1] = line[3]\n",
    "df_matrix.shape"
   ]
  },
  {
   "cell_type": "markdown",
   "metadata": {},
   "source": [
    "## Define Cosine Similarity\n",
    "$Similarity = cos(\\theta) = \\frac{\\mathbf A \\cdot \\mathbf B }{||\\mathbf A|| \\ ||\\mathbf B|| }$"
   ]
  },
  {
   "cell_type": "code",
   "execution_count": 5,
   "metadata": {
    "collapsed": true
   },
   "outputs": [],
   "source": [
    "###\n",
    "user_similarity = np.zeros((n_users, n_users))\n",
    "for i in range(n_users):\n",
    "    u= df_matrix[i,]\n",
    "    for j in range(n_users):\n",
    "        v= df_matrix[j,]\n",
    "        user_similarity[i,j] = np.dot(u,v) / (np.linalg.norm(u,ord=2) * np.linalg.norm(v,ord=2)) "
   ]
  },
  {
   "cell_type": "code",
   "execution_count": 6,
   "metadata": {},
   "outputs": [
    {
     "data": {
      "text/plain": [
       "(943, 943)"
      ]
     },
     "execution_count": 6,
     "metadata": {},
     "output_type": "execute_result"
    }
   ],
   "source": [
    "from sklearn.metrics.pairwise import pairwise_distances\n",
    "user_similarity = pairwise_distances(df_matrix, metric='cosine')\n",
    "user_similarity.shape"
   ]
  },
  {
   "cell_type": "code",
   "execution_count": 7,
   "metadata": {},
   "outputs": [
    {
     "data": {
      "text/plain": [
       "(1682, 1682)"
      ]
     },
     "execution_count": 7,
     "metadata": {},
     "output_type": "execute_result"
    }
   ],
   "source": [
    "item_similarity = pairwise_distances(df_matrix.T, metric='cosine')\n",
    "item_similarity.shape"
   ]
  },
  {
   "cell_type": "markdown",
   "metadata": {},
   "source": [
    "## Evaluation metrics"
   ]
  },
  {
   "cell_type": "markdown",
   "metadata": {},
   "source": [
    "- Rating prediction: RMSE, MAE\n",
    "- Top-k rating precision: Precision, Recall, AUC\n",
    "    - % of the top-k recommendations that were actually used by user\n",
    "- Possible benchmark model: global top-k recommendations"
   ]
  },
  {
   "cell_type": "markdown",
   "metadata": {},
   "source": [
    "## Prediction"
   ]
  },
  {
   "cell_type": "markdown",
   "metadata": {},
   "source": [
    "### User-Item Filtering\n",
    "- Users who are similar to you also liked ...\n",
    "- Prediction for user **k** for movie **m** :\n",
    "\n",
    "- Prediction = User **k** bias + adjustmemnt from similar user\n",
    "    - $ \\hat{x}_{k,m} = \\bar x_k + \\frac{\\Delta}{Norm}  $\n",
    "\n",
    "\n",
    "- Adjustment = (similarity with another user) * (rating of another user - bias of another user)\n",
    "    - $ \\Delta = \\sum_{k_0}UserSim(k, k_0) \\cdot (x_{k_0, m} - \\bar x_{k0})$\n",
    "\n",
    "    - $ Norm = \\sum_{k_0}|UserSim(k, k_0)|$\n"
   ]
  },
  {
   "cell_type": "code",
   "execution_count": 8,
   "metadata": {},
   "outputs": [
    {
     "name": "stdout",
     "output_type": "stream",
     "text": [
      "Overwriting ./script/cf.py\n"
     ]
    }
   ],
   "source": [
    "%%writefile ./script/cf.py\n",
    "import numpy as np\n",
    "\n",
    "def ui_predict(ratings, similarity):\n",
    "    all_user_mean = ratings.mean(axis = 1)\n",
    "    ratings_diff = (ratings - all_user_mean[:, np.newaxis]) # (943, 1682)\n",
    "    \n",
    "    adjust = similarity.dot(ratings_diff)\n",
    "    norm = np.array([np.abs(similarity).sum(axis=1)]).T\n",
    "\n",
    "    pred = all_user_mean[:, np.newaxis] + adjust / norm\n",
    "    \n",
    "    return pred\n"
   ]
  },
  {
   "cell_type": "code",
   "execution_count": 9,
   "metadata": {},
   "outputs": [
    {
     "data": {
      "text/plain": [
       "(943, 1682)"
      ]
     },
     "execution_count": 9,
     "metadata": {},
     "output_type": "execute_result"
    }
   ],
   "source": [
    "from script.cf import *\n",
    "cf.ui_predict(df_matrix, user_similarity).shape"
   ]
  },
  {
   "cell_type": "markdown",
   "metadata": {
    "run_control": {
     "marked": true
    }
   },
   "source": [
    "### Item-Item Filtering\n",
    "Users who liked this item also liked ...\n",
    "- $ \\hat{x}_{k,m} = \\frac{\\sum_{m_0}ItemSim(m, m_0)}{Norm}  \\cdot x_{k, m_0}$\n",
    "   \n",
    "How to understand $ItemSim(m, m_0)$:\n",
    "- Dot product: number of users who like both item $m$ and item $m_0$ (If input matrix is not rating)\n",
    "- $ItemSim(m, m_0)$: added normalization to [0,1]\n",
    "\n",
    "Result:\n",
    "- Each item $m_0$ is contributing to rating of the target item $m$\n",
    "<img src=\"http://n.sinaimg.cn/sinacn23/279/w640h439/20180715/cbd7-hfkffak1630519.jpg\" width=500>"
   ]
  },
  {
   "cell_type": "code",
   "execution_count": 10,
   "metadata": {},
   "outputs": [
    {
     "name": "stdout",
     "output_type": "stream",
     "text": [
      "Appending to ./script/cf.py\n"
     ]
    }
   ],
   "source": [
    "%%writefile -a ./script/cf.py\n",
    "\n",
    "def ii_predict(ratings, similarity):\n",
    "    norm = np.array([np.abs(similarity).sum(axis=1)])\n",
    "    pred = ratings.dot(similarity)  / norm\n",
    "    return pred"
   ]
  },
  {
   "cell_type": "code",
   "execution_count": 11,
   "metadata": {},
   "outputs": [
    {
     "data": {
      "text/plain": [
       "(943, 1682)"
      ]
     },
     "execution_count": 11,
     "metadata": {},
     "output_type": "execute_result"
    }
   ],
   "source": [
    "cf.ii_predict(df_matrix, item_similarity).shape"
   ]
  },
  {
   "cell_type": "markdown",
   "metadata": {},
   "source": [
    "## Comparison between user-based and item-based\n",
    "|User-based       | Item-based           | \n",
    "| ------------- |:-------------:| \n",
    "| more socialized      | more personalized | \n",
    "| fro example: news | for example: books|\n",
    "| update user-similarity matrix| update item-similarity matrix|\n",
    "| number of user << number of items | number of user >> number of items|\n",
    "| Not interpretable | Interpretable|\n",
    "| Cold starting: No problem for new items (after 1 action) | Cold starting: no problem for new users (after one action)|"
   ]
  },
  {
   "cell_type": "markdown",
   "metadata": {},
   "source": [
    "# Model-Based CF "
   ]
  },
  {
   "cell_type": "markdown",
   "metadata": {},
   "source": [
    "## Matrix Factorization or Latent Factor Model\n",
    "Singular-Value-Decomposition"
   ]
  },
  {
   "cell_type": "markdown",
   "metadata": {},
   "source": [
    "<img src=\"https://cambridgespark.com/content/tutorials/implementing-your-own-recommender-systems-in-Python/figures/BLOG_CCA_4.png\" width=\"400\">\n"
   ]
  },
  {
   "cell_type": "markdown",
   "metadata": {},
   "source": [
    "- $M = U \\times \\Sigma \\times V^T  $ Note: $\\Sigma$ can be multipled to U or V\n",
    "- Con: need default value for missing value in rating matrix\n",
    "    - For like (0/1) or implicit feedback: \n",
    "    - 1) balanaced negative samples + postive samples\n",
    "    - 2) draw negative samples from popular items \n",
    "    \n",
    "    \n",
    "- U and V are low-dimention latent vectors (Embeddings) for users and movies. \n",
    "    - How to interpret this dimensions? Genres (i.e., users' preference for Genre $k$ and a given book's weight on genre $k$)\n",
    "    - \n",
    "    \n",
    "    \n",
    "- Alternative approach: $Min(L) = \\sum_{i,j}{(u_i v_j - x_{ij})^2} + Regularization (u,v)$\n",
    "    - Solved by SGD\n",
    "   \n",
    "   \n",
    "    "
   ]
  },
  {
   "cell_type": "code",
   "execution_count": 52,
   "metadata": {
    "collapsed": true
   },
   "outputs": [],
   "source": [
    "u, s, vt = svds(df_matrix, k = 20)\n",
    "s_diag_matrix = np.diag(s)\n",
    "X_pred = np.dot(np.dot(u, s_diag_matrix), vt)"
   ]
  },
  {
   "cell_type": "markdown",
   "metadata": {},
   "source": [
    "<img src=\"https://cdn-images-1.medium.com/max/1760/1*2i-GJO7JX0Yz6498jUvhEg.png\" width=\"600\">\n"
   ]
  },
  {
   "cell_type": "markdown",
   "metadata": {},
   "source": [
    "## Other methods: \n",
    "- Probabilistic factorization (PMF)\n",
    "    * P = dot_product(i,j) + User_i_bias + movie_j_bias + intercept\n",
    "- Non-negative factorization (NMF)"
   ]
  },
  {
   "cell_type": "markdown",
   "metadata": {},
   "source": [
    "- Weighted rankings from two models\n",
    "- Cascade: 1) Accurate model -> rough rank; 2) 2nd one to refine\n",
    "- Treat collaborative factors as extra feature for content-based model"
   ]
  },
  {
   "cell_type": "markdown",
   "metadata": {},
   "source": [
    "## Comparison with memory-based CF\n",
    "- No need to store user-user ($ U \\times U $) or Item-Item ($ I \\times I$) similarity matrix in memory. The memory requirement is $F \\times (U + I)$\n",
    "- Matrix calculation on real-time is hard for large number of items, so mainly for off-line. Time complexity can be $F \\times U \\times I$. While memory-based method just needs a look-up table.\n",
    "- Hard to interpret"
   ]
  },
  {
   "cell_type": "markdown",
   "metadata": {},
   "source": [
    "# Model-Based CF - Deep Learning"
   ]
  },
  {
   "cell_type": "markdown",
   "metadata": {},
   "source": [
    "- Main difference with SVD\n",
    "    - Don't require orthogonal vectors as in SVD\n",
    "    - Learn the embedding by itself\n",
    "    - Allows non-linearity instead of just dot product\n",
    "    \n",
    "    \n",
    "- Extra benefits\n",
    "    - Can incoporate additional features like user profile\n",
    "    \n",
    "\n",
    "## Model Types\n",
    "\n",
    "### Basic Idea V1\n",
    "- One-hot encoding for user i\n",
    "- Hiddern layer: Embedding layer for users\n",
    "    - Weights: latent vector for users\n",
    "    \n",
    "    \n",
    "- Output layer: output ratings for each item j\n",
    "    - Weights: latent vector for movies\n",
    "    \n",
    "    \n",
    "###  Basic Idea V2\n",
    "- One-hot encoding for user i\n",
    "- Hiddern layer: Embedding layer for users\n",
    "    - Weights: latent vector for users\n",
    "    \n",
    "    \n",
    "- One-hot encoding for item j\n",
    "- Hidden layer: output ratings for each movie j\n",
    "    - Weights: latent vector for movies\n",
    "\n",
    "\n",
    "- More hidden layers\n",
    "\n",
    "<img src=\"https://image.slidesharecdn.com/neuralcollaborativefiltering-170528094418/95/neural-collaborative-filtering-9-638.jpg?cb=1496201763\" width=\"600\">\n",
    "    \n",
    "\n",
    "###  A lot of other DL network types    \n",
    "\n",
    "Example: https://arxiv.org/abs/1708.05031\n",
    "<img src=\"https://nipunbatra.github.io/blog/2017/neumf.png\" width=\"600\">\n",
    "\n"
   ]
  },
  {
   "cell_type": "markdown",
   "metadata": {},
   "source": [
    "## Example in Keras"
   ]
  },
  {
   "cell_type": "code",
   "execution_count": 54,
   "metadata": {
    "collapsed": true
   },
   "outputs": [],
   "source": [
    "import keras\n",
    "from IPython.display import SVG\n",
    "from keras import Model\n",
    "from keras.optimizers import Adam\n",
    "from keras.layers import Input, Embedding, Flatten, Dot, Concatenate, Dense, Dropout\n",
    "from keras.utils.vis_utils import model_to_dot"
   ]
  },
  {
   "cell_type": "markdown",
   "metadata": {},
   "source": [
    "### Model Params"
   ]
  },
  {
   "cell_type": "code",
   "execution_count": 55,
   "metadata": {
    "collapsed": true
   },
   "outputs": [],
   "source": [
    "n_latent_factors = 20"
   ]
  },
  {
   "cell_type": "markdown",
   "metadata": {},
   "source": [
    "### Define Model"
   ]
  },
  {
   "cell_type": "code",
   "execution_count": 56,
   "metadata": {
    "collapsed": true
   },
   "outputs": [],
   "source": [
    "item_input = Input(shape = [1], name = 'Item-input')\n",
    "item_embedding = Embedding(n_items, n_latent_factors, name = 'Item-embedding')(item_input)\n",
    "item_flat = Flatten(name = 'Item-flatten')(item_embedding)"
   ]
  },
  {
   "cell_type": "code",
   "execution_count": 57,
   "metadata": {
    "collapsed": true
   },
   "outputs": [],
   "source": [
    "user_input = Input(shape = [1], name = 'User-input')\n",
    "user_embedding = Embedding(n_users, n_latent_factors, name = 'User-embedding')(user_input)\n",
    "user_flat = Flatten(name = 'User-flatten')(user_embedding)"
   ]
  },
  {
   "cell_type": "markdown",
   "metadata": {},
   "source": [
    "**Option1**"
   ]
  },
  {
   "cell_type": "code",
   "execution_count": 58,
   "metadata": {
    "collapsed": true,
    "run_control": {
     "marked": false
    }
   },
   "outputs": [],
   "source": [
    "dotprod = Dot(axes=1, name='DotProduct')([item_flat, user_flat])\n",
    "model = Model([item_input, user_input ], dotprod)\n",
    "model.compile('adam', 'mean_squared_error')"
   ]
  },
  {
   "cell_type": "code",
   "execution_count": 59,
   "metadata": {},
   "outputs": [
    {
     "data": {
      "image/svg+xml": [
       "<svg height=\"296pt\" viewBox=\"0.00 0.00 680.03 296.00\" width=\"680pt\" xmlns=\"http://www.w3.org/2000/svg\" xmlns:xlink=\"http://www.w3.org/1999/xlink\">\n",
       "<g class=\"graph\" id=\"graph0\" transform=\"scale(1 1) rotate(0) translate(4 292)\">\n",
       "<title>G</title>\n",
       "<polygon fill=\"#ffffff\" points=\"-4,4 -4,-292 676.0293,-292 676.0293,4 -4,4\" stroke=\"transparent\"/>\n",
       "<!-- 103480090128 -->\n",
       "<g class=\"node\" id=\"node1\">\n",
       "<title>103480090128</title>\n",
       "<polygon fill=\"none\" points=\"28.3896,-243.5 28.3896,-287.5 298.3867,-287.5 298.3867,-243.5 28.3896,-243.5\" stroke=\"#000000\"/>\n",
       "<text fill=\"#000000\" font-family=\"Times,serif\" font-size=\"14.00\" text-anchor=\"middle\" x=\"100.7295\" y=\"-261.3\">Item-input: InputLayer</text>\n",
       "<polyline fill=\"none\" points=\"173.0693,-243.5 173.0693,-287.5 \" stroke=\"#000000\"/>\n",
       "<text fill=\"#000000\" font-family=\"Times,serif\" font-size=\"14.00\" text-anchor=\"middle\" x=\"200.9038\" y=\"-272.3\">input:</text>\n",
       "<polyline fill=\"none\" points=\"173.0693,-265.5 228.7383,-265.5 \" stroke=\"#000000\"/>\n",
       "<text fill=\"#000000\" font-family=\"Times,serif\" font-size=\"14.00\" text-anchor=\"middle\" x=\"200.9038\" y=\"-250.3\">output:</text>\n",
       "<polyline fill=\"none\" points=\"228.7383,-243.5 228.7383,-287.5 \" stroke=\"#000000\"/>\n",
       "<text fill=\"#000000\" font-family=\"Times,serif\" font-size=\"14.00\" text-anchor=\"middle\" x=\"263.5625\" y=\"-272.3\">(None, 1)</text>\n",
       "<polyline fill=\"none\" points=\"228.7383,-265.5 298.3867,-265.5 \" stroke=\"#000000\"/>\n",
       "<text fill=\"#000000\" font-family=\"Times,serif\" font-size=\"14.00\" text-anchor=\"middle\" x=\"263.5625\" y=\"-250.3\">(None, 1)</text>\n",
       "</g>\n",
       "<!-- 103480088784 -->\n",
       "<g class=\"node\" id=\"node3\">\n",
       "<title>103480088784</title>\n",
       "<polygon fill=\"none\" points=\"0,-162.5 0,-206.5 326.7764,-206.5 326.7764,-162.5 0,-162.5\" stroke=\"#000000\"/>\n",
       "<text fill=\"#000000\" font-family=\"Times,serif\" font-size=\"14.00\" text-anchor=\"middle\" x=\"90.2295\" y=\"-180.3\">Item-embedding: Embedding</text>\n",
       "<polyline fill=\"none\" points=\"180.459,-162.5 180.459,-206.5 \" stroke=\"#000000\"/>\n",
       "<text fill=\"#000000\" font-family=\"Times,serif\" font-size=\"14.00\" text-anchor=\"middle\" x=\"208.2935\" y=\"-191.3\">input:</text>\n",
       "<polyline fill=\"none\" points=\"180.459,-184.5 236.1279,-184.5 \" stroke=\"#000000\"/>\n",
       "<text fill=\"#000000\" font-family=\"Times,serif\" font-size=\"14.00\" text-anchor=\"middle\" x=\"208.2935\" y=\"-169.3\">output:</text>\n",
       "<polyline fill=\"none\" points=\"236.1279,-162.5 236.1279,-206.5 \" stroke=\"#000000\"/>\n",
       "<text fill=\"#000000\" font-family=\"Times,serif\" font-size=\"14.00\" text-anchor=\"middle\" x=\"281.4521\" y=\"-191.3\">(None, 1)</text>\n",
       "<polyline fill=\"none\" points=\"236.1279,-184.5 326.7764,-184.5 \" stroke=\"#000000\"/>\n",
       "<text fill=\"#000000\" font-family=\"Times,serif\" font-size=\"14.00\" text-anchor=\"middle\" x=\"281.4521\" y=\"-169.3\">(None, 1, 20)</text>\n",
       "</g>\n",
       "<!-- 103480090128&#45;&gt;103480088784 -->\n",
       "<g class=\"edge\" id=\"edge1\">\n",
       "<title>103480090128-&gt;103480088784</title>\n",
       "<path d=\"M163.3882,-243.3664C163.3882,-235.1516 163.3882,-225.6579 163.3882,-216.7252\" fill=\"none\" stroke=\"#000000\"/>\n",
       "<polygon fill=\"#000000\" points=\"166.8883,-216.6068 163.3882,-206.6068 159.8883,-216.6069 166.8883,-216.6068\" stroke=\"#000000\"/>\n",
       "</g>\n",
       "<!-- 103501770992 -->\n",
       "<g class=\"node\" id=\"node2\">\n",
       "<title>103501770992</title>\n",
       "<polygon fill=\"none\" points=\"373.1367,-243.5 373.1367,-287.5 643.6396,-287.5 643.6396,-243.5 373.1367,-243.5\" stroke=\"#000000\"/>\n",
       "<text fill=\"#000000\" font-family=\"Times,serif\" font-size=\"14.00\" text-anchor=\"middle\" x=\"445.7295\" y=\"-261.3\">User-input: InputLayer</text>\n",
       "<polyline fill=\"none\" points=\"518.3223,-243.5 518.3223,-287.5 \" stroke=\"#000000\"/>\n",
       "<text fill=\"#000000\" font-family=\"Times,serif\" font-size=\"14.00\" text-anchor=\"middle\" x=\"546.1567\" y=\"-272.3\">input:</text>\n",
       "<polyline fill=\"none\" points=\"518.3223,-265.5 573.9912,-265.5 \" stroke=\"#000000\"/>\n",
       "<text fill=\"#000000\" font-family=\"Times,serif\" font-size=\"14.00\" text-anchor=\"middle\" x=\"546.1567\" y=\"-250.3\">output:</text>\n",
       "<polyline fill=\"none\" points=\"573.9912,-243.5 573.9912,-287.5 \" stroke=\"#000000\"/>\n",
       "<text fill=\"#000000\" font-family=\"Times,serif\" font-size=\"14.00\" text-anchor=\"middle\" x=\"608.8154\" y=\"-272.3\">(None, 1)</text>\n",
       "<polyline fill=\"none\" points=\"573.9912,-265.5 643.6396,-265.5 \" stroke=\"#000000\"/>\n",
       "<text fill=\"#000000\" font-family=\"Times,serif\" font-size=\"14.00\" text-anchor=\"middle\" x=\"608.8154\" y=\"-250.3\">(None, 1)</text>\n",
       "</g>\n",
       "<!-- 103501771720 -->\n",
       "<g class=\"node\" id=\"node4\">\n",
       "<title>103501771720</title>\n",
       "<polygon fill=\"none\" points=\"344.7471,-162.5 344.7471,-206.5 672.0293,-206.5 672.0293,-162.5 344.7471,-162.5\" stroke=\"#000000\"/>\n",
       "<text fill=\"#000000\" font-family=\"Times,serif\" font-size=\"14.00\" text-anchor=\"middle\" x=\"435.2295\" y=\"-180.3\">User-embedding: Embedding</text>\n",
       "<polyline fill=\"none\" points=\"525.7119,-162.5 525.7119,-206.5 \" stroke=\"#000000\"/>\n",
       "<text fill=\"#000000\" font-family=\"Times,serif\" font-size=\"14.00\" text-anchor=\"middle\" x=\"553.5464\" y=\"-191.3\">input:</text>\n",
       "<polyline fill=\"none\" points=\"525.7119,-184.5 581.3809,-184.5 \" stroke=\"#000000\"/>\n",
       "<text fill=\"#000000\" font-family=\"Times,serif\" font-size=\"14.00\" text-anchor=\"middle\" x=\"553.5464\" y=\"-169.3\">output:</text>\n",
       "<polyline fill=\"none\" points=\"581.3809,-162.5 581.3809,-206.5 \" stroke=\"#000000\"/>\n",
       "<text fill=\"#000000\" font-family=\"Times,serif\" font-size=\"14.00\" text-anchor=\"middle\" x=\"626.7051\" y=\"-191.3\">(None, 1)</text>\n",
       "<polyline fill=\"none\" points=\"581.3809,-184.5 672.0293,-184.5 \" stroke=\"#000000\"/>\n",
       "<text fill=\"#000000\" font-family=\"Times,serif\" font-size=\"14.00\" text-anchor=\"middle\" x=\"626.7051\" y=\"-169.3\">(None, 1, 20)</text>\n",
       "</g>\n",
       "<!-- 103501770992&#45;&gt;103501771720 -->\n",
       "<g class=\"edge\" id=\"edge2\">\n",
       "<title>103501770992-&gt;103501771720</title>\n",
       "<path d=\"M508.3882,-243.3664C508.3882,-235.1516 508.3882,-225.6579 508.3882,-216.7252\" fill=\"none\" stroke=\"#000000\"/>\n",
       "<polygon fill=\"#000000\" points=\"511.8883,-216.6068 508.3882,-206.6068 504.8883,-216.6069 511.8883,-216.6068\" stroke=\"#000000\"/>\n",
       "</g>\n",
       "<!-- 103493684808 -->\n",
       "<g class=\"node\" id=\"node5\">\n",
       "<title>103493684808</title>\n",
       "<polygon fill=\"none\" points=\"52.438,-81.5 52.438,-125.5 326.3384,-125.5 326.3384,-81.5 52.438,-81.5\" stroke=\"#000000\"/>\n",
       "<text fill=\"#000000\" font-family=\"Times,serif\" font-size=\"14.00\" text-anchor=\"middle\" x=\"116.2295\" y=\"-99.3\">Item-flatten: Flatten</text>\n",
       "<polyline fill=\"none\" points=\"180.021,-81.5 180.021,-125.5 \" stroke=\"#000000\"/>\n",
       "<text fill=\"#000000\" font-family=\"Times,serif\" font-size=\"14.00\" text-anchor=\"middle\" x=\"207.8555\" y=\"-110.3\">input:</text>\n",
       "<polyline fill=\"none\" points=\"180.021,-103.5 235.6899,-103.5 \" stroke=\"#000000\"/>\n",
       "<text fill=\"#000000\" font-family=\"Times,serif\" font-size=\"14.00\" text-anchor=\"middle\" x=\"207.8555\" y=\"-88.3\">output:</text>\n",
       "<polyline fill=\"none\" points=\"235.6899,-81.5 235.6899,-125.5 \" stroke=\"#000000\"/>\n",
       "<text fill=\"#000000\" font-family=\"Times,serif\" font-size=\"14.00\" text-anchor=\"middle\" x=\"281.0142\" y=\"-110.3\">(None, 1, 20)</text>\n",
       "<polyline fill=\"none\" points=\"235.6899,-103.5 326.3384,-103.5 \" stroke=\"#000000\"/>\n",
       "<text fill=\"#000000\" font-family=\"Times,serif\" font-size=\"14.00\" text-anchor=\"middle\" x=\"281.0142\" y=\"-88.3\">(None, 20)</text>\n",
       "</g>\n",
       "<!-- 103480088784&#45;&gt;103493684808 -->\n",
       "<g class=\"edge\" id=\"edge3\">\n",
       "<title>103480088784-&gt;103493684808</title>\n",
       "<path d=\"M170.4928,-162.3664C173.187,-153.9731 176.3097,-144.2445 179.231,-135.1434\" fill=\"none\" stroke=\"#000000\"/>\n",
       "<polygon fill=\"#000000\" points=\"182.5683,-136.1981 182.2922,-125.6068 175.9033,-134.0586 182.5683,-136.1981\" stroke=\"#000000\"/>\n",
       "</g>\n",
       "<!-- 103501772504 -->\n",
       "<g class=\"node\" id=\"node6\">\n",
       "<title>103501772504</title>\n",
       "<polygon fill=\"none\" points=\"357.1851,-81.5 357.1851,-125.5 631.5913,-125.5 631.5913,-81.5 357.1851,-81.5\" stroke=\"#000000\"/>\n",
       "<text fill=\"#000000\" font-family=\"Times,serif\" font-size=\"14.00\" text-anchor=\"middle\" x=\"421.2295\" y=\"-99.3\">User-flatten: Flatten</text>\n",
       "<polyline fill=\"none\" points=\"485.2739,-81.5 485.2739,-125.5 \" stroke=\"#000000\"/>\n",
       "<text fill=\"#000000\" font-family=\"Times,serif\" font-size=\"14.00\" text-anchor=\"middle\" x=\"513.1084\" y=\"-110.3\">input:</text>\n",
       "<polyline fill=\"none\" points=\"485.2739,-103.5 540.9429,-103.5 \" stroke=\"#000000\"/>\n",
       "<text fill=\"#000000\" font-family=\"Times,serif\" font-size=\"14.00\" text-anchor=\"middle\" x=\"513.1084\" y=\"-88.3\">output:</text>\n",
       "<polyline fill=\"none\" points=\"540.9429,-81.5 540.9429,-125.5 \" stroke=\"#000000\"/>\n",
       "<text fill=\"#000000\" font-family=\"Times,serif\" font-size=\"14.00\" text-anchor=\"middle\" x=\"586.2671\" y=\"-110.3\">(None, 1, 20)</text>\n",
       "<polyline fill=\"none\" points=\"540.9429,-103.5 631.5913,-103.5 \" stroke=\"#000000\"/>\n",
       "<text fill=\"#000000\" font-family=\"Times,serif\" font-size=\"14.00\" text-anchor=\"middle\" x=\"586.2671\" y=\"-88.3\">(None, 20)</text>\n",
       "</g>\n",
       "<!-- 103501771720&#45;&gt;103501772504 -->\n",
       "<g class=\"edge\" id=\"edge4\">\n",
       "<title>103501771720-&gt;103501772504</title>\n",
       "<path d=\"M504.5626,-162.3664C503.1428,-154.1516 501.5019,-144.6579 499.958,-135.7252\" fill=\"none\" stroke=\"#000000\"/>\n",
       "<polygon fill=\"#000000\" points=\"503.3612,-134.8646 498.2091,-125.6068 496.4635,-136.0569 503.3612,-134.8646\" stroke=\"#000000\"/>\n",
       "</g>\n",
       "<!-- 103487915232 -->\n",
       "<g class=\"node\" id=\"node7\">\n",
       "<title>103487915232</title>\n",
       "<polygon fill=\"none\" points=\"176.2725,-.5 176.2725,-44.5 494.5039,-44.5 494.5039,-.5 176.2725,-.5\" stroke=\"#000000\"/>\n",
       "<text fill=\"#000000\" font-family=\"Times,serif\" font-size=\"14.00\" text-anchor=\"middle\" x=\"230.7432\" y=\"-18.3\">DotProduct: Dot</text>\n",
       "<polyline fill=\"none\" points=\"285.2139,-.5 285.2139,-44.5 \" stroke=\"#000000\"/>\n",
       "<text fill=\"#000000\" font-family=\"Times,serif\" font-size=\"14.00\" text-anchor=\"middle\" x=\"313.0483\" y=\"-29.3\">input:</text>\n",
       "<polyline fill=\"none\" points=\"285.2139,-22.5 340.8828,-22.5 \" stroke=\"#000000\"/>\n",
       "<text fill=\"#000000\" font-family=\"Times,serif\" font-size=\"14.00\" text-anchor=\"middle\" x=\"313.0483\" y=\"-7.3\">output:</text>\n",
       "<polyline fill=\"none\" points=\"340.8828,-.5 340.8828,-44.5 \" stroke=\"#000000\"/>\n",
       "<text fill=\"#000000\" font-family=\"Times,serif\" font-size=\"14.00\" text-anchor=\"middle\" x=\"417.6934\" y=\"-29.3\">[(None, 20), (None, 20)]</text>\n",
       "<polyline fill=\"none\" points=\"340.8828,-22.5 494.5039,-22.5 \" stroke=\"#000000\"/>\n",
       "<text fill=\"#000000\" font-family=\"Times,serif\" font-size=\"14.00\" text-anchor=\"middle\" x=\"417.207\" y=\"-7.3\">(None, 1)</text>\n",
       "</g>\n",
       "<!-- 103493684808&#45;&gt;103487915232 -->\n",
       "<g class=\"edge\" id=\"edge5\">\n",
       "<title>103493684808-&gt;103487915232</title>\n",
       "<path d=\"M229.2833,-81.3664C246.9871,-71.5444 267.9866,-59.894 286.6129,-49.5602\" fill=\"none\" stroke=\"#000000\"/>\n",
       "<polygon fill=\"#000000\" points=\"288.4949,-52.5188 295.5413,-44.6068 285.0989,-46.3977 288.4949,-52.5188\" stroke=\"#000000\"/>\n",
       "</g>\n",
       "<!-- 103501772504&#45;&gt;103487915232 -->\n",
       "<g class=\"edge\" id=\"edge6\">\n",
       "<title>103501772504-&gt;103487915232</title>\n",
       "<path d=\"M450.9407,-81.3664C431.4853,-71.4551 408.3751,-59.682 387.9539,-49.2787\" fill=\"none\" stroke=\"#000000\"/>\n",
       "<polygon fill=\"#000000\" points=\"389.2823,-46.0275 378.7831,-44.6068 386.1047,-52.2648 389.2823,-46.0275\" stroke=\"#000000\"/>\n",
       "</g>\n",
       "</g>\n",
       "</svg>"
      ],
      "text/plain": [
       "<IPython.core.display.SVG object>"
      ]
     },
     "execution_count": 59,
     "metadata": {},
     "output_type": "execute_result"
    }
   ],
   "source": [
    "SVG(model_to_dot(model,  show_shapes=True, show_layer_names=True, rankdir='HB').create(prog='dot', format='svg'))"
   ]
  },
  {
   "cell_type": "markdown",
   "metadata": {},
   "source": [
    "**Option2**"
   ]
  },
  {
   "cell_type": "code",
   "execution_count": 63,
   "metadata": {
    "collapsed": true
   },
   "outputs": [],
   "source": [
    "concatenate = Concatenate(name='Concatenate')([item_flat, user_flat])\n",
    "dropout = Dropout(0.2,name='Dropout')(concatenate)\n",
    "dense_1 = Dense(20,activation='relu', name='FC-1')(dropout)\n",
    "activation = Dense(1, activation='relu', name='Activation')(dense_1)\n",
    "model = Model([item_input, user_input ], activation)\n",
    "model.compile('adam', 'mean_squared_error')"
   ]
  },
  {
   "cell_type": "code",
   "execution_count": 64,
   "metadata": {},
   "outputs": [
    {
     "data": {
      "image/svg+xml": [
       "<svg height=\"539pt\" viewBox=\"0.00 0.00 680.03 539.00\" width=\"680pt\" xmlns=\"http://www.w3.org/2000/svg\" xmlns:xlink=\"http://www.w3.org/1999/xlink\">\n",
       "<g class=\"graph\" id=\"graph0\" transform=\"scale(1 1) rotate(0) translate(4 535)\">\n",
       "<title>G</title>\n",
       "<polygon fill=\"#ffffff\" points=\"-4,4 -4,-535 676.0293,-535 676.0293,4 -4,4\" stroke=\"transparent\"/>\n",
       "<!-- 103480090128 -->\n",
       "<g class=\"node\" id=\"node1\">\n",
       "<title>103480090128</title>\n",
       "<polygon fill=\"none\" points=\"28.3896,-486.5 28.3896,-530.5 298.3867,-530.5 298.3867,-486.5 28.3896,-486.5\" stroke=\"#000000\"/>\n",
       "<text fill=\"#000000\" font-family=\"Times,serif\" font-size=\"14.00\" text-anchor=\"middle\" x=\"100.7295\" y=\"-504.3\">Item-input: InputLayer</text>\n",
       "<polyline fill=\"none\" points=\"173.0693,-486.5 173.0693,-530.5 \" stroke=\"#000000\"/>\n",
       "<text fill=\"#000000\" font-family=\"Times,serif\" font-size=\"14.00\" text-anchor=\"middle\" x=\"200.9038\" y=\"-515.3\">input:</text>\n",
       "<polyline fill=\"none\" points=\"173.0693,-508.5 228.7383,-508.5 \" stroke=\"#000000\"/>\n",
       "<text fill=\"#000000\" font-family=\"Times,serif\" font-size=\"14.00\" text-anchor=\"middle\" x=\"200.9038\" y=\"-493.3\">output:</text>\n",
       "<polyline fill=\"none\" points=\"228.7383,-486.5 228.7383,-530.5 \" stroke=\"#000000\"/>\n",
       "<text fill=\"#000000\" font-family=\"Times,serif\" font-size=\"14.00\" text-anchor=\"middle\" x=\"263.5625\" y=\"-515.3\">(None, 1)</text>\n",
       "<polyline fill=\"none\" points=\"228.7383,-508.5 298.3867,-508.5 \" stroke=\"#000000\"/>\n",
       "<text fill=\"#000000\" font-family=\"Times,serif\" font-size=\"14.00\" text-anchor=\"middle\" x=\"263.5625\" y=\"-493.3\">(None, 1)</text>\n",
       "</g>\n",
       "<!-- 103480088784 -->\n",
       "<g class=\"node\" id=\"node3\">\n",
       "<title>103480088784</title>\n",
       "<polygon fill=\"none\" points=\"0,-405.5 0,-449.5 326.7764,-449.5 326.7764,-405.5 0,-405.5\" stroke=\"#000000\"/>\n",
       "<text fill=\"#000000\" font-family=\"Times,serif\" font-size=\"14.00\" text-anchor=\"middle\" x=\"90.2295\" y=\"-423.3\">Item-embedding: Embedding</text>\n",
       "<polyline fill=\"none\" points=\"180.459,-405.5 180.459,-449.5 \" stroke=\"#000000\"/>\n",
       "<text fill=\"#000000\" font-family=\"Times,serif\" font-size=\"14.00\" text-anchor=\"middle\" x=\"208.2935\" y=\"-434.3\">input:</text>\n",
       "<polyline fill=\"none\" points=\"180.459,-427.5 236.1279,-427.5 \" stroke=\"#000000\"/>\n",
       "<text fill=\"#000000\" font-family=\"Times,serif\" font-size=\"14.00\" text-anchor=\"middle\" x=\"208.2935\" y=\"-412.3\">output:</text>\n",
       "<polyline fill=\"none\" points=\"236.1279,-405.5 236.1279,-449.5 \" stroke=\"#000000\"/>\n",
       "<text fill=\"#000000\" font-family=\"Times,serif\" font-size=\"14.00\" text-anchor=\"middle\" x=\"281.4521\" y=\"-434.3\">(None, 1)</text>\n",
       "<polyline fill=\"none\" points=\"236.1279,-427.5 326.7764,-427.5 \" stroke=\"#000000\"/>\n",
       "<text fill=\"#000000\" font-family=\"Times,serif\" font-size=\"14.00\" text-anchor=\"middle\" x=\"281.4521\" y=\"-412.3\">(None, 1, 20)</text>\n",
       "</g>\n",
       "<!-- 103480090128&#45;&gt;103480088784 -->\n",
       "<g class=\"edge\" id=\"edge1\">\n",
       "<title>103480090128-&gt;103480088784</title>\n",
       "<path d=\"M163.3882,-486.3664C163.3882,-478.1516 163.3882,-468.6579 163.3882,-459.7252\" fill=\"none\" stroke=\"#000000\"/>\n",
       "<polygon fill=\"#000000\" points=\"166.8883,-459.6068 163.3882,-449.6068 159.8883,-459.6069 166.8883,-459.6068\" stroke=\"#000000\"/>\n",
       "</g>\n",
       "<!-- 103501770992 -->\n",
       "<g class=\"node\" id=\"node2\">\n",
       "<title>103501770992</title>\n",
       "<polygon fill=\"none\" points=\"373.1367,-486.5 373.1367,-530.5 643.6396,-530.5 643.6396,-486.5 373.1367,-486.5\" stroke=\"#000000\"/>\n",
       "<text fill=\"#000000\" font-family=\"Times,serif\" font-size=\"14.00\" text-anchor=\"middle\" x=\"445.7295\" y=\"-504.3\">User-input: InputLayer</text>\n",
       "<polyline fill=\"none\" points=\"518.3223,-486.5 518.3223,-530.5 \" stroke=\"#000000\"/>\n",
       "<text fill=\"#000000\" font-family=\"Times,serif\" font-size=\"14.00\" text-anchor=\"middle\" x=\"546.1567\" y=\"-515.3\">input:</text>\n",
       "<polyline fill=\"none\" points=\"518.3223,-508.5 573.9912,-508.5 \" stroke=\"#000000\"/>\n",
       "<text fill=\"#000000\" font-family=\"Times,serif\" font-size=\"14.00\" text-anchor=\"middle\" x=\"546.1567\" y=\"-493.3\">output:</text>\n",
       "<polyline fill=\"none\" points=\"573.9912,-486.5 573.9912,-530.5 \" stroke=\"#000000\"/>\n",
       "<text fill=\"#000000\" font-family=\"Times,serif\" font-size=\"14.00\" text-anchor=\"middle\" x=\"608.8154\" y=\"-515.3\">(None, 1)</text>\n",
       "<polyline fill=\"none\" points=\"573.9912,-508.5 643.6396,-508.5 \" stroke=\"#000000\"/>\n",
       "<text fill=\"#000000\" font-family=\"Times,serif\" font-size=\"14.00\" text-anchor=\"middle\" x=\"608.8154\" y=\"-493.3\">(None, 1)</text>\n",
       "</g>\n",
       "<!-- 103501771720 -->\n",
       "<g class=\"node\" id=\"node4\">\n",
       "<title>103501771720</title>\n",
       "<polygon fill=\"none\" points=\"344.7471,-405.5 344.7471,-449.5 672.0293,-449.5 672.0293,-405.5 344.7471,-405.5\" stroke=\"#000000\"/>\n",
       "<text fill=\"#000000\" font-family=\"Times,serif\" font-size=\"14.00\" text-anchor=\"middle\" x=\"435.2295\" y=\"-423.3\">User-embedding: Embedding</text>\n",
       "<polyline fill=\"none\" points=\"525.7119,-405.5 525.7119,-449.5 \" stroke=\"#000000\"/>\n",
       "<text fill=\"#000000\" font-family=\"Times,serif\" font-size=\"14.00\" text-anchor=\"middle\" x=\"553.5464\" y=\"-434.3\">input:</text>\n",
       "<polyline fill=\"none\" points=\"525.7119,-427.5 581.3809,-427.5 \" stroke=\"#000000\"/>\n",
       "<text fill=\"#000000\" font-family=\"Times,serif\" font-size=\"14.00\" text-anchor=\"middle\" x=\"553.5464\" y=\"-412.3\">output:</text>\n",
       "<polyline fill=\"none\" points=\"581.3809,-405.5 581.3809,-449.5 \" stroke=\"#000000\"/>\n",
       "<text fill=\"#000000\" font-family=\"Times,serif\" font-size=\"14.00\" text-anchor=\"middle\" x=\"626.7051\" y=\"-434.3\">(None, 1)</text>\n",
       "<polyline fill=\"none\" points=\"581.3809,-427.5 672.0293,-427.5 \" stroke=\"#000000\"/>\n",
       "<text fill=\"#000000\" font-family=\"Times,serif\" font-size=\"14.00\" text-anchor=\"middle\" x=\"626.7051\" y=\"-412.3\">(None, 1, 20)</text>\n",
       "</g>\n",
       "<!-- 103501770992&#45;&gt;103501771720 -->\n",
       "<g class=\"edge\" id=\"edge2\">\n",
       "<title>103501770992-&gt;103501771720</title>\n",
       "<path d=\"M508.3882,-486.3664C508.3882,-478.1516 508.3882,-468.6579 508.3882,-459.7252\" fill=\"none\" stroke=\"#000000\"/>\n",
       "<polygon fill=\"#000000\" points=\"511.8883,-459.6068 508.3882,-449.6068 504.8883,-459.6069 511.8883,-459.6068\" stroke=\"#000000\"/>\n",
       "</g>\n",
       "<!-- 103493684808 -->\n",
       "<g class=\"node\" id=\"node5\">\n",
       "<title>103493684808</title>\n",
       "<polygon fill=\"none\" points=\"52.438,-324.5 52.438,-368.5 326.3384,-368.5 326.3384,-324.5 52.438,-324.5\" stroke=\"#000000\"/>\n",
       "<text fill=\"#000000\" font-family=\"Times,serif\" font-size=\"14.00\" text-anchor=\"middle\" x=\"116.2295\" y=\"-342.3\">Item-flatten: Flatten</text>\n",
       "<polyline fill=\"none\" points=\"180.021,-324.5 180.021,-368.5 \" stroke=\"#000000\"/>\n",
       "<text fill=\"#000000\" font-family=\"Times,serif\" font-size=\"14.00\" text-anchor=\"middle\" x=\"207.8555\" y=\"-353.3\">input:</text>\n",
       "<polyline fill=\"none\" points=\"180.021,-346.5 235.6899,-346.5 \" stroke=\"#000000\"/>\n",
       "<text fill=\"#000000\" font-family=\"Times,serif\" font-size=\"14.00\" text-anchor=\"middle\" x=\"207.8555\" y=\"-331.3\">output:</text>\n",
       "<polyline fill=\"none\" points=\"235.6899,-324.5 235.6899,-368.5 \" stroke=\"#000000\"/>\n",
       "<text fill=\"#000000\" font-family=\"Times,serif\" font-size=\"14.00\" text-anchor=\"middle\" x=\"281.0142\" y=\"-353.3\">(None, 1, 20)</text>\n",
       "<polyline fill=\"none\" points=\"235.6899,-346.5 326.3384,-346.5 \" stroke=\"#000000\"/>\n",
       "<text fill=\"#000000\" font-family=\"Times,serif\" font-size=\"14.00\" text-anchor=\"middle\" x=\"281.0142\" y=\"-331.3\">(None, 20)</text>\n",
       "</g>\n",
       "<!-- 103480088784&#45;&gt;103493684808 -->\n",
       "<g class=\"edge\" id=\"edge3\">\n",
       "<title>103480088784-&gt;103493684808</title>\n",
       "<path d=\"M170.4928,-405.3664C173.187,-396.9731 176.3097,-387.2445 179.231,-378.1434\" fill=\"none\" stroke=\"#000000\"/>\n",
       "<polygon fill=\"#000000\" points=\"182.5683,-379.1981 182.2922,-368.6068 175.9033,-377.0586 182.5683,-379.1981\" stroke=\"#000000\"/>\n",
       "</g>\n",
       "<!-- 103501772504 -->\n",
       "<g class=\"node\" id=\"node6\">\n",
       "<title>103501772504</title>\n",
       "<polygon fill=\"none\" points=\"357.1851,-324.5 357.1851,-368.5 631.5913,-368.5 631.5913,-324.5 357.1851,-324.5\" stroke=\"#000000\"/>\n",
       "<text fill=\"#000000\" font-family=\"Times,serif\" font-size=\"14.00\" text-anchor=\"middle\" x=\"421.2295\" y=\"-342.3\">User-flatten: Flatten</text>\n",
       "<polyline fill=\"none\" points=\"485.2739,-324.5 485.2739,-368.5 \" stroke=\"#000000\"/>\n",
       "<text fill=\"#000000\" font-family=\"Times,serif\" font-size=\"14.00\" text-anchor=\"middle\" x=\"513.1084\" y=\"-353.3\">input:</text>\n",
       "<polyline fill=\"none\" points=\"485.2739,-346.5 540.9429,-346.5 \" stroke=\"#000000\"/>\n",
       "<text fill=\"#000000\" font-family=\"Times,serif\" font-size=\"14.00\" text-anchor=\"middle\" x=\"513.1084\" y=\"-331.3\">output:</text>\n",
       "<polyline fill=\"none\" points=\"540.9429,-324.5 540.9429,-368.5 \" stroke=\"#000000\"/>\n",
       "<text fill=\"#000000\" font-family=\"Times,serif\" font-size=\"14.00\" text-anchor=\"middle\" x=\"586.2671\" y=\"-353.3\">(None, 1, 20)</text>\n",
       "<polyline fill=\"none\" points=\"540.9429,-346.5 631.5913,-346.5 \" stroke=\"#000000\"/>\n",
       "<text fill=\"#000000\" font-family=\"Times,serif\" font-size=\"14.00\" text-anchor=\"middle\" x=\"586.2671\" y=\"-331.3\">(None, 20)</text>\n",
       "</g>\n",
       "<!-- 103501771720&#45;&gt;103501772504 -->\n",
       "<g class=\"edge\" id=\"edge4\">\n",
       "<title>103501771720-&gt;103501772504</title>\n",
       "<path d=\"M504.5626,-405.3664C503.1428,-397.1516 501.5019,-387.6579 499.958,-378.7252\" fill=\"none\" stroke=\"#000000\"/>\n",
       "<polygon fill=\"#000000\" points=\"503.3612,-377.8646 498.2091,-368.6068 496.4635,-379.0569 503.3612,-377.8646\" stroke=\"#000000\"/>\n",
       "</g>\n",
       "<!-- 103506937728 -->\n",
       "<g class=\"node\" id=\"node7\">\n",
       "<title>103506937728</title>\n",
       "<polygon fill=\"none\" points=\"149.8618,-243.5 149.8618,-287.5 520.9146,-287.5 520.9146,-243.5 149.8618,-243.5\" stroke=\"#000000\"/>\n",
       "<text fill=\"#000000\" font-family=\"Times,serif\" font-size=\"14.00\" text-anchor=\"middle\" x=\"230.7432\" y=\"-261.3\">Concatenate: Concatenate</text>\n",
       "<polyline fill=\"none\" points=\"311.6245,-243.5 311.6245,-287.5 \" stroke=\"#000000\"/>\n",
       "<text fill=\"#000000\" font-family=\"Times,serif\" font-size=\"14.00\" text-anchor=\"middle\" x=\"339.459\" y=\"-272.3\">input:</text>\n",
       "<polyline fill=\"none\" points=\"311.6245,-265.5 367.2935,-265.5 \" stroke=\"#000000\"/>\n",
       "<text fill=\"#000000\" font-family=\"Times,serif\" font-size=\"14.00\" text-anchor=\"middle\" x=\"339.459\" y=\"-250.3\">output:</text>\n",
       "<polyline fill=\"none\" points=\"367.2935,-243.5 367.2935,-287.5 \" stroke=\"#000000\"/>\n",
       "<text fill=\"#000000\" font-family=\"Times,serif\" font-size=\"14.00\" text-anchor=\"middle\" x=\"444.104\" y=\"-272.3\">[(None, 20), (None, 20)]</text>\n",
       "<polyline fill=\"none\" points=\"367.2935,-265.5 520.9146,-265.5 \" stroke=\"#000000\"/>\n",
       "<text fill=\"#000000\" font-family=\"Times,serif\" font-size=\"14.00\" text-anchor=\"middle\" x=\"443.6177\" y=\"-250.3\">(None, 40)</text>\n",
       "</g>\n",
       "<!-- 103493684808&#45;&gt;103506937728 -->\n",
       "<g class=\"edge\" id=\"edge5\">\n",
       "<title>103493684808-&gt;103506937728</title>\n",
       "<path d=\"M229.2833,-324.3664C246.9871,-314.5444 267.9866,-302.894 286.6129,-292.5602\" fill=\"none\" stroke=\"#000000\"/>\n",
       "<polygon fill=\"#000000\" points=\"288.4949,-295.5188 295.5413,-287.6068 285.0989,-289.3977 288.4949,-295.5188\" stroke=\"#000000\"/>\n",
       "</g>\n",
       "<!-- 103501772504&#45;&gt;103506937728 -->\n",
       "<g class=\"edge\" id=\"edge6\">\n",
       "<title>103501772504-&gt;103506937728</title>\n",
       "<path d=\"M450.9407,-324.3664C431.4853,-314.4551 408.3751,-302.682 387.9539,-292.2787\" fill=\"none\" stroke=\"#000000\"/>\n",
       "<polygon fill=\"#000000\" points=\"389.2823,-289.0275 378.7831,-287.6068 386.1047,-295.2648 389.2823,-289.0275\" stroke=\"#000000\"/>\n",
       "</g>\n",
       "<!-- 103506935880 -->\n",
       "<g class=\"node\" id=\"node8\">\n",
       "<title>103506935880</title>\n",
       "<polygon fill=\"none\" points=\"210.8726,-162.5 210.8726,-206.5 459.9038,-206.5 459.9038,-162.5 210.8726,-162.5\" stroke=\"#000000\"/>\n",
       "<text fill=\"#000000\" font-family=\"Times,serif\" font-size=\"14.00\" text-anchor=\"middle\" x=\"269.2295\" y=\"-180.3\">Dropout: Dropout</text>\n",
       "<polyline fill=\"none\" points=\"327.5864,-162.5 327.5864,-206.5 \" stroke=\"#000000\"/>\n",
       "<text fill=\"#000000\" font-family=\"Times,serif\" font-size=\"14.00\" text-anchor=\"middle\" x=\"355.4209\" y=\"-191.3\">input:</text>\n",
       "<polyline fill=\"none\" points=\"327.5864,-184.5 383.2554,-184.5 \" stroke=\"#000000\"/>\n",
       "<text fill=\"#000000\" font-family=\"Times,serif\" font-size=\"14.00\" text-anchor=\"middle\" x=\"355.4209\" y=\"-169.3\">output:</text>\n",
       "<polyline fill=\"none\" points=\"383.2554,-162.5 383.2554,-206.5 \" stroke=\"#000000\"/>\n",
       "<text fill=\"#000000\" font-family=\"Times,serif\" font-size=\"14.00\" text-anchor=\"middle\" x=\"421.5796\" y=\"-191.3\">(None, 40)</text>\n",
       "<polyline fill=\"none\" points=\"383.2554,-184.5 459.9038,-184.5 \" stroke=\"#000000\"/>\n",
       "<text fill=\"#000000\" font-family=\"Times,serif\" font-size=\"14.00\" text-anchor=\"middle\" x=\"421.5796\" y=\"-169.3\">(None, 40)</text>\n",
       "</g>\n",
       "<!-- 103506937728&#45;&gt;103506935880 -->\n",
       "<g class=\"edge\" id=\"edge7\">\n",
       "<title>103506937728-&gt;103506935880</title>\n",
       "<path d=\"M335.3882,-243.3664C335.3882,-235.1516 335.3882,-225.6579 335.3882,-216.7252\" fill=\"none\" stroke=\"#000000\"/>\n",
       "<polygon fill=\"#000000\" points=\"338.8883,-216.6068 335.3882,-206.6068 331.8883,-216.6069 338.8883,-216.6068\" stroke=\"#000000\"/>\n",
       "</g>\n",
       "<!-- 103506938456 -->\n",
       "<g class=\"node\" id=\"node9\">\n",
       "<title>103506938456</title>\n",
       "<polygon fill=\"none\" points=\"225.6484,-81.5 225.6484,-125.5 445.1279,-125.5 445.1279,-81.5 225.6484,-81.5\" stroke=\"#000000\"/>\n",
       "<text fill=\"#000000\" font-family=\"Times,serif\" font-size=\"14.00\" text-anchor=\"middle\" x=\"269.2295\" y=\"-99.3\">FC-1: Dense</text>\n",
       "<polyline fill=\"none\" points=\"312.8105,-81.5 312.8105,-125.5 \" stroke=\"#000000\"/>\n",
       "<text fill=\"#000000\" font-family=\"Times,serif\" font-size=\"14.00\" text-anchor=\"middle\" x=\"340.645\" y=\"-110.3\">input:</text>\n",
       "<polyline fill=\"none\" points=\"312.8105,-103.5 368.4795,-103.5 \" stroke=\"#000000\"/>\n",
       "<text fill=\"#000000\" font-family=\"Times,serif\" font-size=\"14.00\" text-anchor=\"middle\" x=\"340.645\" y=\"-88.3\">output:</text>\n",
       "<polyline fill=\"none\" points=\"368.4795,-81.5 368.4795,-125.5 \" stroke=\"#000000\"/>\n",
       "<text fill=\"#000000\" font-family=\"Times,serif\" font-size=\"14.00\" text-anchor=\"middle\" x=\"406.8037\" y=\"-110.3\">(None, 40)</text>\n",
       "<polyline fill=\"none\" points=\"368.4795,-103.5 445.1279,-103.5 \" stroke=\"#000000\"/>\n",
       "<text fill=\"#000000\" font-family=\"Times,serif\" font-size=\"14.00\" text-anchor=\"middle\" x=\"406.8037\" y=\"-88.3\">(None, 20)</text>\n",
       "</g>\n",
       "<!-- 103506935880&#45;&gt;103506938456 -->\n",
       "<g class=\"edge\" id=\"edge8\">\n",
       "<title>103506935880-&gt;103506938456</title>\n",
       "<path d=\"M335.3882,-162.3664C335.3882,-154.1516 335.3882,-144.6579 335.3882,-135.7252\" fill=\"none\" stroke=\"#000000\"/>\n",
       "<polygon fill=\"#000000\" points=\"338.8883,-135.6068 335.3882,-125.6068 331.8883,-135.6069 338.8883,-135.6068\" stroke=\"#000000\"/>\n",
       "</g>\n",
       "<!-- 103478969904 -->\n",
       "<g class=\"node\" id=\"node10\">\n",
       "<title>103478969904</title>\n",
       "<polygon fill=\"none\" points=\"210.4932,-.5 210.4932,-44.5 460.2832,-44.5 460.2832,-.5 210.4932,-.5\" stroke=\"#000000\"/>\n",
       "<text fill=\"#000000\" font-family=\"Times,serif\" font-size=\"14.00\" text-anchor=\"middle\" x=\"269.2295\" y=\"-18.3\">Activation: Dense</text>\n",
       "<polyline fill=\"none\" points=\"327.9658,-.5 327.9658,-44.5 \" stroke=\"#000000\"/>\n",
       "<text fill=\"#000000\" font-family=\"Times,serif\" font-size=\"14.00\" text-anchor=\"middle\" x=\"355.8003\" y=\"-29.3\">input:</text>\n",
       "<polyline fill=\"none\" points=\"327.9658,-22.5 383.6348,-22.5 \" stroke=\"#000000\"/>\n",
       "<text fill=\"#000000\" font-family=\"Times,serif\" font-size=\"14.00\" text-anchor=\"middle\" x=\"355.8003\" y=\"-7.3\">output:</text>\n",
       "<polyline fill=\"none\" points=\"383.6348,-.5 383.6348,-44.5 \" stroke=\"#000000\"/>\n",
       "<text fill=\"#000000\" font-family=\"Times,serif\" font-size=\"14.00\" text-anchor=\"middle\" x=\"421.959\" y=\"-29.3\">(None, 20)</text>\n",
       "<polyline fill=\"none\" points=\"383.6348,-22.5 460.2832,-22.5 \" stroke=\"#000000\"/>\n",
       "<text fill=\"#000000\" font-family=\"Times,serif\" font-size=\"14.00\" text-anchor=\"middle\" x=\"421.959\" y=\"-7.3\">(None, 1)</text>\n",
       "</g>\n",
       "<!-- 103506938456&#45;&gt;103478969904 -->\n",
       "<g class=\"edge\" id=\"edge9\">\n",
       "<title>103506938456-&gt;103478969904</title>\n",
       "<path d=\"M335.3882,-81.3664C335.3882,-73.1516 335.3882,-63.6579 335.3882,-54.7252\" fill=\"none\" stroke=\"#000000\"/>\n",
       "<polygon fill=\"#000000\" points=\"338.8883,-54.6068 335.3882,-44.6068 331.8883,-54.6069 338.8883,-54.6068\" stroke=\"#000000\"/>\n",
       "</g>\n",
       "</g>\n",
       "</svg>"
      ],
      "text/plain": [
       "<IPython.core.display.SVG object>"
      ]
     },
     "execution_count": 64,
     "metadata": {},
     "output_type": "execute_result"
    }
   ],
   "source": [
    "SVG(model_to_dot(model,  show_shapes=True, show_layer_names=True, rankdir='HB').create(prog='dot', format='svg'))"
   ]
  },
  {
   "cell_type": "markdown",
   "metadata": {},
   "source": [
    "### Model Training"
   ]
  },
  {
   "cell_type": "code",
   "execution_count": 65,
   "metadata": {},
   "outputs": [
    {
     "name": "stdout",
     "output_type": "stream",
     "text": [
      "Train on 80000 samples, validate on 20000 samples\n",
      "Epoch 1/15\n",
      " - 4s - loss: 1.5278 - val_loss: 0.9136\n",
      "Epoch 2/15\n",
      " - 3s - loss: 0.9126 - val_loss: 0.8956\n",
      "Epoch 3/15\n",
      " - 3s - loss: 0.8964 - val_loss: 0.8882\n",
      "Epoch 4/15\n",
      " - 3s - loss: 0.8809 - val_loss: 0.8799\n",
      "Epoch 5/15\n",
      " - 3s - loss: 0.8614 - val_loss: 0.8652\n",
      "Epoch 6/15\n",
      " - 3s - loss: 0.8486 - val_loss: 0.8639\n",
      "Epoch 7/15\n",
      " - 3s - loss: 0.8381 - val_loss: 0.8644\n",
      "Epoch 8/15\n",
      " - 3s - loss: 0.8255 - val_loss: 0.8608\n",
      "Epoch 9/15\n",
      " - 3s - loss: 0.8156 - val_loss: 0.8549\n",
      "Epoch 10/15\n",
      " - 3s - loss: 0.8033 - val_loss: 0.8568\n",
      "Epoch 11/15\n",
      " - 3s - loss: 0.7958 - val_loss: 0.8511\n",
      "Epoch 12/15\n",
      " - 3s - loss: 0.7857 - val_loss: 0.8489\n",
      "Epoch 13/15\n",
      " - 3s - loss: 0.7771 - val_loss: 0.8513\n",
      "Epoch 14/15\n",
      " - 3s - loss: 0.7703 - val_loss: 0.8451\n",
      "Epoch 15/15\n",
      " - 3s - loss: 0.7656 - val_loss: 0.8548\n"
     ]
    },
    {
     "data": {
      "text/plain": [
       "<keras.callbacks.History at 0x18198a7898>"
      ]
     },
     "execution_count": 65,
     "metadata": {},
     "output_type": "execute_result"
    }
   ],
   "source": [
    "#https://keras.io/models/model/\n",
    "model.fit(x = [df.item_id - 1, df.user_id - 1], \n",
    "          y = df.rating, \n",
    "          epochs = 15, \n",
    "          verbose = 2, \n",
    "          validation_split = 0.2)"
   ]
  },
  {
   "cell_type": "markdown",
   "metadata": {},
   "source": [
    "### Extract Weight"
   ]
  },
  {
   "cell_type": "code",
   "execution_count": 66,
   "metadata": {},
   "outputs": [
    {
     "data": {
      "text/plain": [
       "(943, 20)"
      ]
     },
     "execution_count": 66,
     "metadata": {},
     "output_type": "execute_result"
    }
   ],
   "source": [
    "model.get_layer(name='User-embedding').get_weights()[0].shape"
   ]
  },
  {
   "cell_type": "code",
   "execution_count": 67,
   "metadata": {},
   "outputs": [
    {
     "data": {
      "text/plain": [
       "(1682, 20)"
      ]
     },
     "execution_count": 67,
     "metadata": {},
     "output_type": "execute_result"
    }
   ],
   "source": [
    "model.get_layer(name='Item-embedding').get_weights()[0].shape"
   ]
  },
  {
   "cell_type": "markdown",
   "metadata": {},
   "source": [
    "# Possible A/B Test"
   ]
  },
  {
   "cell_type": "markdown",
   "metadata": {},
   "source": [
    "https://medium.com/nikeengineering/serving-athletes-with-personalized-workout-recommendations-285491eabc3d"
   ]
  },
  {
   "cell_type": "markdown",
   "metadata": {},
   "source": [
    "- Group: \n",
    "50 percent baseline as the Champion \n",
    "50 percent Collaborative Filtering \n",
    "\n",
    "- KPI: \n",
    "User actually start a workout that shown from a recommended section\n"
   ]
  },
  {
   "cell_type": "markdown",
   "metadata": {},
   "source": [
    "# Ranking Algorithms"
   ]
  },
  {
   "cell_type": "markdown",
   "metadata": {},
   "source": [
    "- Top-K ranking problem instead of rating prediction problem\n",
    "- More consistent with practical user needs"
   ]
  },
  {
   "cell_type": "markdown",
   "metadata": {},
   "source": [
    "## How to evaluate a ranking system"
   ]
  },
  {
   "cell_type": "markdown",
   "metadata": {},
   "source": [
    "## Recall and Precision\n",
    "- Given user $u$, the model generates a recommendation set $R$ and true set (where the user likes/rates) $T$\n",
    "- $Recall = \\frac{R \\cap T}{T}$\n",
    "- $Precision = \\frac{R \\cap T}{R}$"
   ]
  },
  {
   "cell_type": "markdown",
   "metadata": {},
   "source": [
    "<img src=\"https://qph.ec.quoracdn.net/main-qimg-18cd74b05b850406e1c01b76b1cb8fd6?convert_to_webp=true\" width=\"400\">\n"
   ]
  },
  {
   "cell_type": "markdown",
   "metadata": {},
   "source": [
    "### AP (Average Precision)"
   ]
  },
  {
   "cell_type": "markdown",
   "metadata": {},
   "source": [
    "$Average Precision = \\frac{\\sum_{k=1}^{N}{P(k) * rel(k)}}{K} $\n",
    "- $P(k)$ is precision of first k results\n",
    "- $rel(k)$ is binary value 0/1\n",
    "- $K$ is total number of relevant items"
   ]
  },
  {
   "cell_type": "markdown",
   "metadata": {},
   "source": [
    "<img src=\"https://slideplayer.com/2295316/8/images/4/Mean+Average+Precision.jpg\" width=\"400\">"
   ]
  },
  {
   "cell_type": "markdown",
   "metadata": {},
   "source": [
    "### Normalized Discounted Cumulative Gain"
   ]
  },
  {
   "cell_type": "markdown",
   "metadata": {},
   "source": [
    "- The premise of DCG is that highly relevant documents appearing lower in a search result list should be penalized as the graded relevance value is reduced logarithmically proportional to the position of the result.\n",
    "- Note: rel(i) here can be any value instead of binary"
   ]
  },
  {
   "cell_type": "markdown",
   "metadata": {},
   "source": [
    "<img src=\"https://image.slidesharecdn.com/colmujsktqk4sh7faxcd-signature-f4a0831a458d6bbb78c09b1a397c3517fe8a2c82e9751f039f832a3be97b108f-poli-141208101339-conversion-gate02/95/florian-douetteau-dataiku-7-638.jpg?cb=1418033719\" width=\"400\">"
   ]
  },
  {
   "cell_type": "markdown",
   "metadata": {},
   "source": [
    "https://en.wikipedia.org/wiki/Discounted_cumulative_gain"
   ]
  },
  {
   "cell_type": "markdown",
   "metadata": {},
   "source": [
    "## Coverage\n",
    "<img src=\"https://slideplayer.com/10441443/35/images/7/Coverage+Measure+the+ability+of+recommender+system+to+recommend+all+items+to+users.+Entropy%2C+Gini+Index..jpg\" width=400>\n",
    "\n",
    "<img src=\"https://image.slidesharecdn.com/divers-111026095821-phpapp01/95/towards-diverse-recommendation-72-728.jpg?cb=1319623189\" width=400>"
   ]
  },
  {
   "cell_type": "markdown",
   "metadata": {},
   "source": [
    "## Modelling Approach"
   ]
  },
  {
   "cell_type": "markdown",
   "metadata": {},
   "source": [
    "- Pointwise\n",
    "    - Given user u and item i, predict score x\n",
    "    - Not necessary, since the score is not important; ranked list is important.\n",
    "    - Actually solving a *regression* problem\n",
    "    - The relationships between documents sometimes not considered\n",
    "    - Usually: regression, classification, etc\n",
    "    \n",
    "<img src=\"https://image.slidesharecdn.com/l2rrecysystutaly-final-131012040539-phpapp01/95/learning-to-rank-for-recommender-systems-acm-recsys-2013-tutorial-40-638.jpg?cb=1381555055\" width=\"400\">\n",
    "    \n",
    "    \n",
    "- Pairwise\n",
    "    - Goal is to correctly determine a>b or a<b for each document pair\n",
    "    - The scale of difference is ignored\n",
    "\n",
    "<img src=\"https://image.slidesharecdn.com/l2rrecysystutaly-final-131012040539-phpapp01/95/learning-to-rank-for-recommender-systems-acm-recsys-2013-tutorial-46-638.jpg?cb=1381555055\" width=\"400\">\n",
    "\n",
    "- Listwise\n",
    "    - Directly optimize final performance metric\n",
    "    - More complicated modelling\n",
    "    \n",
    "<img src=\"http://baogege.info/img/learning-to-rank-for-recommender-system/listwiseltrrs.png\" width=\"400\">    \n"
   ]
  },
  {
   "cell_type": "markdown",
   "metadata": {},
   "source": [
    "# Cold Starting"
   ]
  },
  {
   "cell_type": "markdown",
   "metadata": {},
   "source": [
    "For new users:\n",
    "- Provide most popular items\n",
    "- Provide results based on demographic attributes (gender, age, etc)\n",
    "- Ask users to provide feedback on some items before providing recommendation\n",
    "\n",
    "\n",
    "For new items:\n",
    "- If using user-based CF, then as long as some user finds the items from other sources, it will be spread among users\n",
    "- If using item-based CF, then have to use item content to calculate item similarity, otherwise it will never be presented to users\n",
    "    - Calculate item-similarity by vectorizing items\n",
    "    - A strong feature would actually help content-based recommendation out-perform CF\n",
    "    \n",
    "- Some examples of similarity w/o user behavior history\n",
    "    - keyword vector of an item title with the help of NER\n",
    "    - TF-IDF of a text\n",
    "    - LDA topic modelling (use topic vector to calculate similarity)\n",
    "     "
   ]
  },
  {
   "cell_type": "markdown",
   "metadata": {},
   "source": [
    "# CTR (Click-Through Rate) Prediction"
   ]
  },
  {
   "cell_type": "markdown",
   "metadata": {},
   "source": [
    "## Problem Statement"
   ]
  },
  {
   "cell_type": "markdown",
   "metadata": {},
   "source": [
    "Given (user, item, context): predict click = 0/1\n",
    "- Goal: $P(Click=1|User, Item, Context)$\n",
    "- Difference: in recommendation system and in online ad. \n",
    "- The former mainly cares about ranking, while the latter cares about accuracy, because it contributes to revenue."
   ]
  },
  {
   "cell_type": "markdown",
   "metadata": {},
   "source": [
    "## Modelling Approach - Traditional"
   ]
  },
  {
   "cell_type": "markdown",
   "metadata": {},
   "source": [
    "- Logistic Regression + Feature Engineering (Linear Model)\n",
    "    - Advantage: simple model, good at dealing with discrete features\n",
    "    - Main problem: feature combination, high-order interaction, only linear relationship --> (**Fix**: FM)\n",
    "    - For example: gender and clothes type; manual interaction is required\n",
    "    \n",
    "    \n",
    "- GBDT\n",
    "    - Advantage: good at dealing with continous features\n",
    "    - Capable of doing some feature combination (more than 2 orders)\n",
    "    - Capable of doing some feature selection\n",
    "    \n",
    "    \n",
    "- Degree-2 Polynomial Mappings \n",
    "    - Combine features by $y(X)=w_0 + \\sum_{i=1}^{N}{w_{1i}x_i} + \\sum_{i=1}^{N}\\sum_{j=i+1}^{N}{w_{2ij}x_ix_j} $, where N is number of features\n",
    "    - Sparse data\n",
    "    - High dimension: $O(n^2)$\n",
    "    - Make trivial prediction on those unseen pairs\n",
    "    \n",
    "<img src=\"http://ailab.criteo.com/wp-content/uploads/2017/03/Screen-Shot-2017-02-10-at-11.12.46-AM-789x121.png\" width=\"400\">   \n",
    "\n",
    "\n",
    "- Known: for matrix W, and a large K, $W \\approx VV^T$, i.e., $w_{ij} \\approx <v_i, v_j>$\n",
    "- Factorization Machine (FM)\n",
    "    -  $y(X)=w_0 + \\sum_{i=1}^{N}{w_{1i}x_i} + \\sum_{i=1}^{N}\\sum_{j=i+1}^{N}{<v_i, v_j>x_ix_j} $\n",
    "    - $v_i, v_j - R^{N \\times K}$, latent vector for feature i and j with embedding length $K$\n",
    "    - Reasonable prediction for unseen pairs\n",
    "    - Lower dimension: $O(N \\times K)$\n",
    "\n",
    "    \n",
    "<img src=\"http://ailab.criteo.com/wp-content/uploads/2017/03/Screen-Shot-2017-02-10-at-11.12.53-AM-768x301.png\" width=\"400\">   \n",
    "\n"
   ]
  },
  {
   "cell_type": "markdown",
   "metadata": {},
   "source": [
    "- Field Factorization Machine (FFM)\n",
    "    - Split the original latent space into many “smaller” latent spaces,  and depending on the fields of features, one of them is used.\n",
    "    - For example: weather, location, gender; intuitively, they should have different interactions\n",
    "    - Note: slower than FM\n",
    "    - $y(X)=w_0 + \\sum_{i=1}^{N}{w_{1i}x_i} + \\sum_{i=1}^{N}\\sum_{j=i+1}^{N}{<v_{i, f_j}, v_{j, f_i}>x_ix_j} $\n",
    "<img src=\"http://ailab.criteo.com/wp-content/uploads/2017/03/Screen-Shot-2017-02-10-at-11.13.03-AM-768x230.png\" width=\"400\"> \n",
    "\n",
    "\n",
    "- GBDT + LR (Mixed)\n",
    "    - GBDT transforms features, reduced dimensions, combined attributes\n",
    "    - The leaves serve as new input features for LR\n",
    "<img \n",
    "    - Alternative: use GBDT for continous variables, get $gbdt(X_{continuous})$, and concatenate with $X_{discrete}$ to get final $\\mathbf X$, and feed into LR.\n",
    "    \n",
    "    \n",
    "<img src=\"https://raw.githubusercontent.com/PnYuan/Practice-of-Machine-Learning/master/imgs/Kaggle_CTR/gbdt-lr/gbdt-lr_2.png\" width=\"500\">\n"
   ]
  },
  {
   "cell_type": "markdown",
   "metadata": {},
   "source": [
    "## Modelling Approach - Deep Learning"
   ]
  },
  {
   "cell_type": "markdown",
   "metadata": {},
   "source": [
    "- Main Advantage\n",
    "    - High-order interaction is possible by nature\n",
    "    - Can be extended into figures/texts\n",
    "- Main characteristic\n",
    "    - Shallow part of model (yes/no)\n",
    "    - Stack part of model\n",
    "        - Concentenate\n",
    "        - Bi-Interaction\n",
    "    - Start: Embedding layer\n",
    "    - End: FC layer\n",
    "    \n",
    "<img src=\"https://pic2.zhimg.com/80/v2-627974c0bb215cb6404e9ee51bbb5752_hd.jpg\" width=\"700\">\n",
    "\n",
    "ref: https://github.com/hhlisme/Daily"
   ]
  },
  {
   "cell_type": "markdown",
   "metadata": {},
   "source": [
    "- Describe Factorization Machine (FM) as deep learning network"
   ]
  },
  {
   "cell_type": "markdown",
   "metadata": {},
   "source": [
    "<img src = \"https://pic3.zhimg.com/80/v2-3d5201396f213cf78c61c68c2e8c77a5_hd.jpg\" width = \"500\">"
   ]
  },
  {
   "cell_type": "markdown",
   "metadata": {},
   "source": [
    "### Wide and Deep\n",
    "- Memorization: learning the directly relevant frequent co-occurrence of items;\n",
    "- Generalization: improving the diversity exploring new items combinations that have never or rarely occurred in the past.\n",
    "- **Wide/Shallow**: LR for categorical variables --> Memorization\n",
    "- **Deep/Stack**: DNN for continous/categorical variables --> Generalization\n",
    "<img src=\"https://1.bp.blogspot.com/-Dw1mB9am1l8/V3MgtOzp3uI/AAAAAAAABGs/mP-3nZQCjWwdk6qCa5WraSpK8A7rSPj3ACLcB/s1600/image04.png\" width=\"800\">\n",
    "---\n",
    "<img src=\"http://edarchimbaud.github.io/img/2016-11-22-wide-and-deep-learning-for-recommender-systems/Screenshot%20from%202016-11-22%2021-07-22.png\" width=\"600\">\n",
    "\n"
   ]
  },
  {
   "cell_type": "markdown",
   "metadata": {},
   "source": [
    "- An example from https://zhuanlan.zhihu.com/p/37823302"
   ]
  },
  {
   "cell_type": "markdown",
   "metadata": {},
   "source": [
    "<img src=\"https://pic4.zhimg.com/80/v2-e440f72e8bf2a4be2274235d481d4f63_hd.jpg\" width=\"600\">"
   ]
  },
  {
   "cell_type": "markdown",
   "metadata": {},
   "source": [
    "**Network structure**\n",
    "\n",
    "Part 4: Wide Part, including position bias, some categorical features to enable memorization\n",
    "\n",
    "Part 1: Deep Part, including categorical features\n",
    "- User ID / Item ID / Area ID\n",
    "- Some discretized continuous features\n",
    "- Missing / Lower frequency IDs treated as separate value\n",
    "\n",
    "Part 2: Deep Part, including continuous features\n",
    "- Some statistics\n",
    "- Text\n",
    "- Image\n",
    "\n",
    "Part 3: FC, Activation layer, etc."
   ]
  },
  {
   "cell_type": "markdown",
   "metadata": {},
   "source": [
    "**List/Type of features**\n",
    "- User Characteristic\n",
    "    - Demographic\n",
    "    - Behavior, preference, activeness\n",
    "- Business Characteristics\n",
    "    - Type, city, star, etc\n",
    "    - Image\n",
    "- Query\n",
    "    - Tokens, similarity\n",
    "- Context\n",
    "    - Time, distance, competition\n",
    "    - Position bias"
   ]
  },
  {
   "cell_type": "markdown",
   "metadata": {},
   "source": [
    "**Key feature: user behavior**\n",
    "- Real time user behavior\n",
    "    - Clicked Business (C_P)\n",
    "    - Ordered Business (O_P)\n",
    "    - Queries (Q)\n",
    "    - Sortings (S)\n",
    "    - Business Characteristic (C_Type, O_Type, C_Loc, O_Loc)\n",
    "    \n",
    "    \n",
    "- Problem: Sparsity of C_P, O_P, Q, S\n",
    "- Fix: separate model to describe **USER** based on user behavior \n",
    "    - Predict next time t user behavior based on LTSM\n",
    "    - Doc2Vec to get embedding of a user based on behaviors\n",
    "    - Topic modelling\n",
    "    - Serve as continous feature in Part 2\n",
    "\n",
    "\n",
    "- Extra\n",
    "    - Statistics for different types of behaviors, for example, conversion rate\n",
    "    - Paattern/Series of behaviors (A-B-C)\n",
    " "
   ]
  },
  {
   "cell_type": "markdown",
   "metadata": {},
   "source": [
    "### Deep FM\n",
    "- Ref: https://www.ijcai.org/proceedings/2017/0239.pdf\n",
    "- FM and Deep parts shares the same inputs; In wide&deep, the two parts are independent\n",
    "- Compared with wide&deep based on manually created features, Deep FM contains the inner product of feature latent vectors (automatically)\n",
    "- Red arrow means 1 weight\n",
    "- $y_{DeepFm}=sigmoid(y_{FM}+y_{DNN})$\n",
    "\n",
    "<img src=\"https://ai2-s2-public.s3.amazonaws.com/figures/2017-08-08/151313065d71b49dbf07289c002c887d7b5a0a6b/1-Figure1-1.png\" width=\"600\">\n",
    "\n"
   ]
  },
  {
   "cell_type": "markdown",
   "metadata": {},
   "source": [
    "### Neural Factorization Machines (NFM)\n",
    "\n",
    "Below is the deep part of NFM. Difference with Deep FM:\n",
    "\n",
    "- In DeepFM: concatenation increases number of parameters, while here bi-interaction reduces complexity\n",
    "- In NFM: sum of element-wise product loses informaion, but reduced parameters\n",
    "\n",
    "\n",
    "<img src = \"https://image.slidesharecdn.com/readinggroup-nfm-20170312-180312053718/95/reading-group-nfm-20170312-14-638.jpg?cb=1520833085\" width = \"700\">\n",
    "\n"
   ]
  },
  {
   "cell_type": "markdown",
   "metadata": {},
   "source": [
    "### NFFM"
   ]
  },
  {
   "cell_type": "markdown",
   "metadata": {},
   "source": [
    "<img src = \"https://pic3.zhimg.com/80/v2-9e58e4631ab5be2bce602df2f3d1194c_hd.jpg\" width = \"450\">"
   ]
  },
  {
   "cell_type": "markdown",
   "metadata": {},
   "source": [
    "## Some feature engineering issues\n"
   ]
  },
  {
   "cell_type": "markdown",
   "metadata": {},
   "source": [
    "- For continuous variables\n",
    "    - standardize for NN\n",
    "    <img src=\"https://pic1.zhimg.com/80/v2-d98d393fe36b70564d39a3764c45b4f3_hd.jpg\" width=\"500\">\n",
    "    \n",
    "    - discretize for LR\n",
    "    \n",
    "    \n",
    "    \n",
    "- For discrete variables\n",
    "    - One-got encoding\n",
    "    - Text: BoW(n-gram), TF-IDF\n",
    "    \n"
   ]
  },
  {
   "cell_type": "markdown",
   "metadata": {
    "collapsed": true
   },
   "source": [
    "# Reference\n",
    "- https://arxiv.org/pdf/1606.07792.pdf\n",
    "- https://www.slideshare.net/kerveros99/deep-learning-for-recommender-systems-recsys2017-tutorial?from_action=save\n",
    "- https://medium.com/recombee-blog/machine-learning-for-recommender-systems-part-1-algorithms-evaluation-and-cold-start-6f696683d0ed\n",
    "- https://www.slideshare.net/microlife/recommender-systems-contentbased-and-collaborative-filtering\n",
    "- https://www.slideshare.net/LadislavPeska/towards-recommender-systems-for-police-photo-lineup?next_slideshow=1\n",
    "- https://nycdatascience.com/blog/student-works/capstone/metarecommendr-recommendation-system-video-games-movies-tv-shows/\n",
    "- https://www.researchgate.net/publication/317558508_Item_Silk_Road_Recommending_Items_from_Information_Domains_to_Social_Users?enrichId=rgreq-ea35906fbd73392cb2fd6212acddf950-XXX&enrichSource=Y292ZXJQYWdlOzMxNzU1ODUwODtBUzo2MDM1NDY3NDc2ODY5MThAMTUyMDkwODE2NjY0OQ%3D%3D&el=1_x_3&_esc=publicationCoverPdf\n",
    "- https://www.jianshu.com/p/005a4e6ac775\n"
   ]
  },
  {
   "cell_type": "markdown",
   "metadata": {},
   "source": [
    "Ref: \n",
    "- https://pnyuan.github.io/blog/ml_practice/Kaggle%E6%BB%91%E6%B0%B4%20-%20CTR%E9%A2%84%E4%BC%B0%EF%BC%88GBDT-LR%EF%BC%89/\n",
    "- http://ailab.criteo.com/ctr-prediction-linear-model-field-aware-factorization-machines/\n",
    "- http://kubicode.me/2018/02/23/Deep%20Learning/Deep-in-out-Factorization-Machines-Series/\n",
    "- https://zhuanlan.zhihu.com/p/37823302"
   ]
  },
  {
   "cell_type": "code",
   "execution_count": null,
   "metadata": {
    "collapsed": true
   },
   "outputs": [],
   "source": []
  }
 ],
 "metadata": {
  "hide_input": false,
  "kernelspec": {
   "display_name": "Python 3",
   "language": "python",
   "name": "python3"
  },
  "language_info": {
   "codemirror_mode": {
    "name": "ipython",
    "version": 3
   },
   "file_extension": ".py",
   "mimetype": "text/x-python",
   "name": "python",
   "nbconvert_exporter": "python",
   "pygments_lexer": "ipython3",
   "version": "3.5.3"
  },
  "toc": {
   "base_numbering": 1,
   "colors": {
    "hover_highlight": "#DAA520",
    "navigate_num": "#000000",
    "navigate_text": "#333333",
    "running_highlight": "#FF0000",
    "selected_highlight": "#FFD700",
    "sidebar_border": "#EEEEEE",
    "wrapper_background": "#FFFFFF"
   },
   "moveMenuLeft": true,
   "nav_menu": {},
   "navigate_menu": true,
   "number_sections": true,
   "sideBar": true,
   "skip_h1_title": false,
   "threshold": 4,
   "title_cell": "Table of Contents",
   "title_sidebar": "Contents",
   "toc_cell": false,
   "toc_position": {
    "height": "632px",
    "left": "0px",
    "right": "1261.17px",
    "top": "106.992px",
    "width": "318px"
   },
   "toc_section_display": "block",
   "toc_window_display": true,
   "widenNotebook": false
  },
  "varInspector": {
   "cols": {
    "lenName": 16,
    "lenType": 16,
    "lenVar": 40
   },
   "kernels_config": {
    "python": {
     "delete_cmd_postfix": "",
     "delete_cmd_prefix": "del ",
     "library": "var_list.py",
     "varRefreshCmd": "print(var_dic_list())"
    },
    "r": {
     "delete_cmd_postfix": ") ",
     "delete_cmd_prefix": "rm(",
     "library": "var_list.r",
     "varRefreshCmd": "cat(var_dic_list()) "
    }
   },
   "types_to_exclude": [
    "module",
    "function",
    "builtin_function_or_method",
    "instance",
    "_Feature"
   ],
   "window_display": false
  }
 },
 "nbformat": 4,
 "nbformat_minor": 2
}
