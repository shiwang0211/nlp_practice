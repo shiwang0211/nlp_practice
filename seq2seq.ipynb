{
 "cells": [
  {
   "cell_type": "code",
   "execution_count": 1,
   "metadata": {},
   "outputs": [
    {
     "name": "stderr",
     "output_type": "stream",
     "text": [
      "Using TensorFlow backend.\n"
     ]
    }
   ],
   "source": [
    "%load_ext autoreload\n",
    "%autoreload 2\n",
    "from __future__ import print_function\n",
    "import numpy as np\n",
    "from keras.models import Model, Sequential\n",
    "from keras.layers import Input, LSTM, Dense, Lambda, Activation, dot, concatenate, TimeDistributed\n",
    "from keras import backend as K\n",
    "import seaborn as sns\n",
    "%matplotlib inline \n",
    "# https://github.com/keras-team/keras/blob/master/examples/lstm_seq2seq.py\n",
    "from script.seq2seq import generateInOut"
   ]
  },
  {
   "cell_type": "markdown",
   "metadata": {},
   "source": [
    "# Simple character level Seq2Seq Translation"
   ]
  },
  {
   "cell_type": "markdown",
   "metadata": {},
   "source": [
    "## Preparation\n",
    "- Bidirectional LSTM\n",
    "    * Allow information from future inputs\n",
    "    * LSTM only allows past information\n",
    "<img src=\"https://cdn-images-1.medium.com/max/764/1*6QnPUSv_t9BY9Fv8_aLb-Q.png\" width=\"500\">\n",
    "\n",
    "\n",
    "    \n"
   ]
  },
  {
   "cell_type": "markdown",
   "metadata": {},
   "source": [
    "- RNN in Keras\n",
    "https://keras.io/layers/recurrent/\n",
    "\n",
    "    * keras.layers.RNN(cell, return_sequences=False, return_state=False, go_backwards=False, stateful=False, unroll=False)\n",
    "    * keras.layers.LSTM(units, activation='tanh', recurrent_activation='hard_sigmoid', use_bias=True, kernel_initializer='glorot_uniform', recurrent_initializer='orthogonal', bias_initializer='zeros', unit_forget_bias=True, kernel_regularizer=None, recurrent_regularizer=None, bias_regularizer=None, activity_regularizer=None, kernel_constraint=None, recurrent_constraint=None, bias_constraint=None, dropout=0.0, recurrent_dropout=0.0, implementation=1, return_sequences=False, return_state=False, go_backwards=False, stateful=False, unroll=False)\n",
    "    * 3D tensor with shape (batch_size, timesteps, input_dim).\n",
    "\n"
   ]
  },
  {
   "cell_type": "markdown",
   "metadata": {},
   "source": [
    "## Import Data"
   ]
  },
  {
   "cell_type": "markdown",
   "metadata": {},
   "source": [
    "Reference:\n",
    "\n",
    "https://blog.keras.io/a-ten-minute-introduction-to-sequence-to-sequence-learning-in-keras.html\n",
    "\n"
   ]
  },
  {
   "cell_type": "code",
   "execution_count": 2,
   "metadata": {},
   "outputs": [
    {
     "name": "stdout",
     "output_type": "stream",
     "text": [
      "Number of samples: 10000\n",
      "Number of unique input tokens: 71\n",
      "Number of unique output tokens: 94\n",
      "Max sequence length for inputs: 16\n",
      "Max sequence length for outputs: 59\n"
     ]
    }
   ],
   "source": [
    "encoder_input_data,\\\n",
    "decoder_input_data,\\\n",
    "decoder_target_data,\\\n",
    "num_samples, \\\n",
    "input_vocabulary, \\\n",
    "output_vocabulary, \\\n",
    "input_sequence_length, \\\n",
    "output_sequence_length, \\\n",
    "input_token_index, \\\n",
    "target_token_index = \\\n",
    "generateInOut(data_path = './data/fra.txt', num_samples = 10000)"
   ]
  },
  {
   "cell_type": "code",
   "execution_count": 3,
   "metadata": {
    "scrolled": true
   },
   "outputs": [
    {
     "data": {
      "text/plain": [
       "(10000, 16, 71)"
      ]
     },
     "execution_count": 3,
     "metadata": {},
     "output_type": "execute_result"
    }
   ],
   "source": [
    "encoder_input_data.shape # num_sample, input_sequence_length, input_vocabulary"
   ]
  },
  {
   "cell_type": "code",
   "execution_count": 4,
   "metadata": {},
   "outputs": [
    {
     "data": {
      "text/plain": [
       "(10000, 59, 94)"
      ]
     },
     "execution_count": 4,
     "metadata": {},
     "output_type": "execute_result"
    }
   ],
   "source": [
    "decoder_input_data.shape # num_sample, output_seq_length, output_vocabulary"
   ]
  },
  {
   "cell_type": "code",
   "execution_count": 5,
   "metadata": {},
   "outputs": [
    {
     "data": {
      "text/plain": [
       "(10000, 59, 94)"
      ]
     },
     "execution_count": 5,
     "metadata": {},
     "output_type": "execute_result"
    }
   ],
   "source": [
    "decoder_target_data.shape # num_sample, output_seq_length, output_vocabulary"
   ]
  },
  {
   "cell_type": "code",
   "execution_count": 44,
   "metadata": {},
   "outputs": [
    {
     "data": {
      "text/plain": [
       "('\\t', '\\n')"
      ]
     },
     "execution_count": 44,
     "metadata": {},
     "output_type": "execute_result"
    }
   ],
   "source": [
    "re_target_token_index = {}\n",
    "for key, value in target_token_index.items():\n",
    "    re_target_token_index[value] = key\n",
    "re_target_token_index[0], re_target_token_index[1]"
   ]
  },
  {
   "cell_type": "markdown",
   "metadata": {},
   "source": [
    "## Model Definition"
   ]
  },
  {
   "cell_type": "markdown",
   "metadata": {},
   "source": [
    "\n",
    "- Encoder: 1-direction LSTM\n",
    "- Decoder: 1-direction LSTM\n",
    "- Embedding: None"
   ]
  },
  {
   "cell_type": "markdown",
   "metadata": {},
   "source": [
    "### Model Params"
   ]
  },
  {
   "cell_type": "code",
   "execution_count": 10,
   "metadata": {},
   "outputs": [],
   "source": [
    "epochs = 100\n",
    "batch_size = 64\n",
    "lstm_units = 256"
   ]
  },
  {
   "cell_type": "markdown",
   "metadata": {},
   "source": [
    "### Encoder Network"
   ]
  },
  {
   "cell_type": "markdown",
   "metadata": {},
   "source": [
    "Note, if use word instead of character:\n",
    "https://keras.io/layers/embeddings/"
   ]
  },
  {
   "cell_type": "code",
   "execution_count": 11,
   "metadata": {},
   "outputs": [],
   "source": [
    "# Define Encoder Input\n",
    "encoder_inputs = Input(shape=(input_sequence_length, input_vocabulary)) # or (None, input_vocabulary)\n",
    "\n",
    "# Define Encoder Layer itself\n",
    "encoder = LSTM(lstm_units, return_state=True)\n",
    "\n",
    "# Define Encoder Output: Output, hidden state 'h' and 'c'\n",
    "e_all_h,e_last_h,e_last_c = encoder(encoder_inputs)\n",
    "\n",
    "# For Encoder, Output is not used\n",
    "encoder_states = [e_last_h, e_last_c]"
   ]
  },
  {
   "cell_type": "markdown",
   "metadata": {},
   "source": [
    "### Decoder Network (V1) - Teacher Forcing"
   ]
  },
  {
   "cell_type": "code",
   "execution_count": 12,
   "metadata": {},
   "outputs": [],
   "source": [
    "# Define Decoder Input\n",
    "decoder_inputs = Input(shape=(output_sequence_length, output_vocabulary))\n",
    "\n",
    "# Define Decoder Layer itself, note the difference with encoder\n",
    "decoder_lstm = LSTM(lstm_units, return_sequences=True, return_state=True)\n",
    "\n",
    "# Extract Output, note the differene: \n",
    "# initial state is given from encoder, instead of default (Zero??)\n",
    "d_all_h,d_last_h,d_last_c = decoder_lstm(decoder_inputs,\n",
    "                                     initial_state = encoder_states)\n",
    "\n",
    "decoder_dense = Dense(output_vocabulary, activation='softmax')\n",
    "decoder_outputs = decoder_dense(d_all_h)"
   ]
  },
  {
   "cell_type": "markdown",
   "metadata": {},
   "source": [
    "### Decoder Network (V2) - Sampling"
   ]
  },
  {
   "cell_type": "code",
   "execution_count": null,
   "metadata": {},
   "outputs": [],
   "source": [
    "# Note, sequence length is \"ONE\"\n",
    "decoder_inputs = Input(shape=(1, output_vocabulary))\n",
    "\n",
    "# Same Decoder\n",
    "decoder_lstm = LSTM(lstm_units, return_sequences=True, return_state=True)\n",
    "\n",
    "# Same Dense Layer\n",
    "decoder_dense = Dense(output_vocabulary, activation='softmax')\n",
    "\n",
    "# Define some lists\n",
    "final_outputs = []\n",
    "previous_states = encoder_states # States from encoder\n",
    "current_inputs = decoder_inputs # Start sentence index\n",
    "\n",
    "# Generate States, Outputs one-by-one\n",
    "for _ in range(output_sequence_length):\n",
    "    \n",
    "    d_all_h, d_last_h, d_last_c = decoder_lstm(current_inputs, initial_state = previous_states)\n",
    "    densed_output = decoder_dense(d_all_h) \n",
    "    final_outputs.append(densed_output)\n",
    "    \n",
    "    current_inputs = densed_output\n",
    "    previous_states = [d_last_h, d_last_c]\n",
    "\n",
    "# Concatenate all predictions\n",
    "decoder_outputs = Lambda(lambda x: K.concatenate(x, axis=1))(final_outputs)"
   ]
  },
  {
   "cell_type": "code",
   "execution_count": null,
   "metadata": {},
   "outputs": [],
   "source": [
    "# Start of Sentence one-hot encoding\n",
    "target_token_index['\\t']"
   ]
  },
  {
   "cell_type": "code",
   "execution_count": null,
   "metadata": {},
   "outputs": [],
   "source": [
    "# OVERWRITE decoder_input_data to be \"START\" character\n",
    "decoder_input_data = np.zeros(shape = (num_samples, 1, output_vocabulary))\n",
    "decoder_input_data[:, 0, target_token_index['\\t']] = 1.\n",
    "decoder_input_data.shape  # num_sample, output_seq_length = 1, output_vocabulary"
   ]
  },
  {
   "cell_type": "markdown",
   "metadata": {},
   "source": [
    "## Model Training"
   ]
  },
  {
   "cell_type": "code",
   "execution_count": null,
   "metadata": {},
   "outputs": [],
   "source": [
    "model = Model([encoder_inputs, decoder_inputs], decoder_outputs)\n",
    "model.compile(optimizer='rmsprop', loss='categorical_crossentropy')\n",
    "model.fit([encoder_input_data, decoder_input_data], decoder_target_data,\n",
    "          batch_size = batch_size,\n",
    "          epochs = epochs,\n",
    "          validation_split = 0.2)"
   ]
  },
  {
   "cell_type": "markdown",
   "metadata": {},
   "source": [
    "## Model Prediction"
   ]
  },
  {
   "cell_type": "code",
   "execution_count": null,
   "metadata": {},
   "outputs": [],
   "source": [
    "# Note, only apply to 2nd type of training method (using sampling)\n",
    "probs = model.predict([encoder_input_data[:5,:,:], decoder_input_data[:5,:,:]])\n",
    "predictions = np.argmax(probs, axis = 1)\n",
    "predictions[0]"
   ]
  },
  {
   "cell_type": "markdown",
   "metadata": {},
   "source": [
    "# Attention Mechanism with Simple example"
   ]
  },
  {
   "cell_type": "markdown",
   "metadata": {},
   "source": [
    "Then use reverse index to generate actual sentence until first \"end of sentence\" character"
   ]
  },
  {
   "cell_type": "markdown",
   "metadata": {},
   "source": [
    "Reference:\n",
    "- https://medium.com/datalogue/attention-in-keras-1892773a4f22\n",
    "- https://github.com/datalogue/keras-attention/blob/master/models/custom_recurrents.py\n",
    "- https://guillaumegenthial.github.io/sequence-to-sequence.html\n",
    "- https://github.com/wanasit/katakana/blob/master/notebooks/Attention-based%20Sequence-to-Sequence%20in%20Keras.ipynb"
   ]
  },
  {
   "cell_type": "markdown",
   "metadata": {},
   "source": [
    "## Generate simple test case to show attention"
   ]
  },
  {
   "cell_type": "code",
   "execution_count": 98,
   "metadata": {},
   "outputs": [],
   "source": [
    "import string\n",
    "import random"
   ]
  },
  {
   "cell_type": "code",
   "execution_count": 99,
   "metadata": {},
   "outputs": [],
   "source": [
    "random.choice(string.ascii_letters)\n",
    "num_samples = 10000\n",
    "input_vocabulary = 52 \n",
    "output_vocabulary = 52 + 2\n",
    "input_sequence_length = 10\n",
    "output_sequence_length = 10 + 1\n",
    "\n",
    "encoder_input_data = np.zeros(shape = (num_samples, input_sequence_length, input_vocabulary))\n",
    "decoder_input_data = np.zeros(shape = (num_samples, output_sequence_length, output_vocabulary))\n",
    "decoder_target_data = np.zeros(shape = (num_samples, output_sequence_length, output_vocabulary))"
   ]
  },
  {
   "cell_type": "code",
   "execution_count": 100,
   "metadata": {},
   "outputs": [],
   "source": [
    "for i in range(num_samples):\n",
    "    a1 = []\n",
    "    b1 = []\n",
    "    c1 = []\n",
    "    \n",
    "    for j in range(input_sequence_length):\n",
    "        if len(c1) > 0:\n",
    "            b1.append(c1[-1])\n",
    "        else:\n",
    "            b1.append(52)\n",
    "        a1.append(np.random.randint(26))\n",
    "        c1.append(a1[-1] + 26)\n",
    "    b1.append(c1[-1])\n",
    "    c1.append(53)\n",
    "    \n",
    "    for j in range(input_sequence_length):\n",
    "        encoder_input_data[i, j, a1[j]] = 1\n",
    "        \n",
    "    for j in range(output_sequence_length):\n",
    "        decoder_input_data[i, j, b1[j]] = 1 \n",
    "        decoder_target_data[i, j, c1[j]] = 1"
   ]
  },
  {
   "cell_type": "code",
   "execution_count": 101,
   "metadata": {},
   "outputs": [
    {
     "name": "stdout",
     "output_type": "stream",
     "text": [
      "[11, 17, 5, 13, 1, 3, 16, 13, 14, 21] \n",
      " [52, 37, 43, 31, 39, 27, 29, 42, 39, 40, 47] \n",
      " [37, 43, 31, 39, 27, 29, 42, 39, 40, 47, 53]\n"
     ]
    }
   ],
   "source": [
    "print(a1,'\\n', b1, '\\n',c1)"
   ]
  },
  {
   "cell_type": "markdown",
   "metadata": {},
   "source": [
    "## Define encoder and teacher-forcing decoder"
   ]
  },
  {
   "cell_type": "markdown",
   "metadata": {},
   "source": [
    "See section 1 for notes"
   ]
  },
  {
   "cell_type": "code",
   "execution_count": 102,
   "metadata": {},
   "outputs": [],
   "source": [
    "epochs = 1000\n",
    "batch_size = 64\n",
    "lstm_units = 50"
   ]
  },
  {
   "cell_type": "markdown",
   "metadata": {},
   "source": [
    "unroll: Boolean (default False). If True, the network will be unrolled, else a symbolic loop will be used. Unrolling can speed-up a RNN, although it tends to be more memory-intensive. Unrolling is only suitable for short sequences."
   ]
  },
  {
   "cell_type": "code",
   "execution_count": 103,
   "metadata": {},
   "outputs": [
    {
     "data": {
      "text/plain": [
       "<tf.Tensor 'lstm_9/transpose_1:0' shape=(?, 10, 50) dtype=float32>"
      ]
     },
     "execution_count": 103,
     "metadata": {},
     "output_type": "execute_result"
    }
   ],
   "source": [
    "encoder_inputs = Input(shape=(input_sequence_length, input_vocabulary))\n",
    "encoder = LSTM(lstm_units, return_state=True, return_sequences = True,unroll=True) # Note, sequence\n",
    "e_all_h, e_last_h, e_last_c = encoder(encoder_inputs)\n",
    "encoder_states = [e_last_h, e_last_c]\n",
    "e_all_h # num_examples, input_sequence_length, lstm_units"
   ]
  },
  {
   "cell_type": "code",
   "execution_count": 104,
   "metadata": {},
   "outputs": [
    {
     "data": {
      "text/plain": [
       "<tf.Tensor 'lstm_10/transpose_1:0' shape=(?, 11, 50) dtype=float32>"
      ]
     },
     "execution_count": 104,
     "metadata": {},
     "output_type": "execute_result"
    }
   ],
   "source": [
    "decoder_inputs = Input(shape=(output_sequence_length, output_vocabulary))\n",
    "decoder_lstm = LSTM(lstm_units, return_sequences=True, return_state=True,unroll=True)\n",
    "d_all_h, d_last_h, d_last_c= decoder_lstm(decoder_inputs,\n",
    "                                     initial_state = encoder_states)\n",
    "d_all_h # num_examples, output_sequence_length, lstm_units"
   ]
  },
  {
   "cell_type": "markdown",
   "metadata": {},
   "source": [
    "## Define Attention Mechanism"
   ]
  },
  {
   "cell_type": "markdown",
   "metadata": {},
   "source": [
    "- Luong attention mechanism\n",
    "- Alignment function: dot product"
   ]
  },
  {
   "cell_type": "code",
   "execution_count": 105,
   "metadata": {},
   "outputs": [
    {
     "data": {
      "text/plain": [
       "<tf.Tensor 'dot_9/MatMul:0' shape=(?, 11, 10) dtype=float32>"
      ]
     },
     "execution_count": 105,
     "metadata": {},
     "output_type": "execute_result"
    }
   ],
   "source": [
    "attention = dot([d_all_h, e_all_h], axes=[2, 2])\n",
    "attention # num_examples, output_sequence_length, input_sequence_length"
   ]
  },
  {
   "cell_type": "markdown",
   "metadata": {},
   "source": [
    "$ \\mathbf e_t = [s^T_{t-1} h_1, ..., s^T_{t-1} h_N] $<br/><br/>"
   ]
  },
  {
   "cell_type": "code",
   "execution_count": 106,
   "metadata": {},
   "outputs": [
    {
     "data": {
      "text/plain": [
       "<tf.Tensor 'attention_4/truediv:0' shape=(?, 11, 10) dtype=float32>"
      ]
     },
     "execution_count": 106,
     "metadata": {},
     "output_type": "execute_result"
    }
   ],
   "source": [
    "attention = Activation('softmax', name='attention')(attention) # Note Layer Name: \"attention\"\n",
    "attention # num_examples, output_sequence_length, input_sequence_length"
   ]
  },
  {
   "cell_type": "markdown",
   "metadata": {},
   "source": [
    "$ \\pmb\\alpha_t = softmax(\\mathbf e_t) $"
   ]
  },
  {
   "cell_type": "code",
   "execution_count": 107,
   "metadata": {},
   "outputs": [
    {
     "data": {
      "text/plain": [
       "<tf.Tensor 'dot_10/MatMul:0' shape=(?, 11, 50) dtype=float32>"
      ]
     },
     "execution_count": 107,
     "metadata": {},
     "output_type": "execute_result"
    }
   ],
   "source": [
    "context = dot([attention, e_all_h], axes=[2,1])\n",
    "context #num_examples, output_sequence_length, lstm_units"
   ]
  },
  {
   "cell_type": "markdown",
   "metadata": {},
   "source": [
    "$ c_t = \\sum_{k=1}^{N} \\alpha_{tk}h_k $<br/><br/>"
   ]
  },
  {
   "cell_type": "code",
   "execution_count": 108,
   "metadata": {},
   "outputs": [
    {
     "data": {
      "text/plain": [
       "<tf.Tensor 'concatenate_5/concat:0' shape=(?, 11, 100) dtype=float32>"
      ]
     },
     "execution_count": 108,
     "metadata": {},
     "output_type": "execute_result"
    }
   ],
   "source": [
    "decoder_combined_context = concatenate([context, d_all_h])\n",
    "decoder_combined_context  # #num_examples, output_sequence_length, lstm_units * 2"
   ]
  },
  {
   "cell_type": "markdown",
   "metadata": {},
   "source": [
    "$ [c_t;h_t]$<br/><br/>"
   ]
  },
  {
   "cell_type": "code",
   "execution_count": 109,
   "metadata": {},
   "outputs": [
    {
     "data": {
      "text/plain": [
       "<tf.Tensor 'time_distributed_10/Reshape_1:0' shape=(?, 11, 54) dtype=float32>"
      ]
     },
     "execution_count": 109,
     "metadata": {},
     "output_type": "execute_result"
    }
   ],
   "source": [
    "output = TimeDistributed(Dense(64, activation=\"tanh\"))(decoder_combined_context)\n",
    "output = TimeDistributed(Dense(output_vocabulary, activation=\"softmax\"))(output)\n",
    "output #num_examples, output_sequence_length, output_vocabulary"
   ]
  },
  {
   "cell_type": "markdown",
   "metadata": {},
   "source": [
    "$ \\tilde h_t = tanh(W_c[c_t;h_t])$<br/><br/>"
   ]
  },
  {
   "cell_type": "markdown",
   "metadata": {},
   "source": [
    "## Train Model"
   ]
  },
  {
   "cell_type": "code",
   "execution_count": null,
   "metadata": {},
   "outputs": [],
   "source": [
    "model = Model(inputs=[encoder_inputs, decoder_inputs], outputs=[output])\n",
    "model.compile(optimizer='adam', loss='categorical_crossentropy')\n",
    "model.fit([encoder_input_data, decoder_input_data], decoder_target_data,\n",
    "          batch_size = batch_size,\n",
    "          epochs = epochs,\n",
    "          validation_split = 0.2)"
   ]
  },
  {
   "cell_type": "code",
   "execution_count": 111,
   "metadata": {},
   "outputs": [
    {
     "name": "stderr",
     "output_type": "stream",
     "text": [
      "/Users/shiwang/anaconda3/lib/python3.6/site-packages/keras/engine/topology.py:2379: UserWarning: Layer lstm_10 was passed non-serializable keyword arguments: {'initial_state': [<tf.Tensor 'lstm_9/mul_59:0' shape=(?, 50) dtype=float32>, <tf.Tensor 'lstm_9/add_77:0' shape=(?, 50) dtype=float32>]}. They will not be included in the serialized model (and thus will be missing at deserialization time).\n",
      "  str(node.arguments) + '. They will not be included '\n"
     ]
    }
   ],
   "source": [
    "model.save('./model/seq2seq.h5')\n",
    "# model = load_model('./model/seq2seq.h5')"
   ]
  },
  {
   "cell_type": "markdown",
   "metadata": {},
   "source": [
    "## Model Prediction"
   ]
  },
  {
   "cell_type": "code",
   "execution_count": 112,
   "metadata": {},
   "outputs": [
    {
     "data": {
      "text/plain": [
       "[<keras.engine.topology.InputLayer at 0x1a37f0f668>,\n",
       " <keras.engine.topology.InputLayer at 0x1a3301bc18>,\n",
       " <keras.layers.recurrent.LSTM at 0x1a37f38358>,\n",
       " <keras.layers.recurrent.LSTM at 0x1a3301b828>,\n",
       " <keras.layers.merge.Dot at 0x1a334084e0>,\n",
       " <keras.layers.core.Activation at 0x1a334083c8>,\n",
       " <keras.layers.merge.Dot at 0x1a3341f470>,\n",
       " <keras.layers.merge.Concatenate at 0x1a3301bba8>,\n",
       " <keras.layers.wrappers.TimeDistributed at 0x1a3341f630>,\n",
       " <keras.layers.wrappers.TimeDistributed at 0x1a3341fac8>]"
      ]
     },
     "execution_count": 112,
     "metadata": {},
     "output_type": "execute_result"
    }
   ],
   "source": [
    "model.layers"
   ]
  },
  {
   "cell_type": "markdown",
   "metadata": {},
   "source": [
    "### Rebuild model to have intermediate outputs:\n",
    "- Original model outputs: `model.outputs`\n",
    "- Attention layer outputs: `attention_layer.output`"
   ]
  },
  {
   "cell_type": "code",
   "execution_count": 113,
   "metadata": {},
   "outputs": [
    {
     "name": "stdout",
     "output_type": "stream",
     "text": [
      "[(None, 11, 54), (None, 11, 10)]\n"
     ]
    }
   ],
   "source": [
    "attention_layer = model.get_layer('attention') # Extract Layer by layer name\n",
    "attention_model = Model(inputs = model.inputs, \n",
    "                        outputs = model.outputs + [attention_layer.output])\n",
    "print(attention_model.output_shape)\n",
    "# num_examples, output_sequence_length, output_vocabulary\n",
    "# num_examples, output_sequence_length, input_sequence_length"
   ]
  },
  {
   "cell_type": "markdown",
   "metadata": {},
   "source": [
    "### Generate Simple test inputs"
   ]
  },
  {
   "cell_type": "code",
   "execution_count": 223,
   "metadata": {},
   "outputs": [],
   "source": [
    "# encoder_inputs = Input(shape=(input_sequence_length, input_vocabulary))\n",
    "# decoder_inputs = Input(shape=(output_sequence_length, output_vocabulary))\n",
    "# target_token_index['\\t'], target_token_index['\\n']) == (0,1)\n",
    "\n",
    "# Assume single sample\n",
    "num_sample = 1\n",
    "test_text = a1\n",
    "test_input = test_text\n",
    "\n",
    "# Encoder input\n",
    "encoder_input = np.zeros(shape = (num_sample, input_sequence_length, input_vocabulary), dtype = np.float32)\n",
    "for index, pos in enumerate(test_input):\n",
    "    encoder_input[0,index,pos] = 1\n",
    "\n",
    "# Decoder Input\n",
    "decoder_input = np.zeros(shape = (num_sample, output_sequence_length, output_vocabulary), dtype = np.float32)\n",
    "\n",
    "# Initialize first position to be SoS\n",
    "decoder_input[:,0,52] = 1 # Each sample, start of sentence, should be '\\t' (index 0: SoS) "
   ]
  },
  {
   "cell_type": "markdown",
   "metadata": {},
   "source": [
    "### Generate Prediction"
   ]
  },
  {
   "cell_type": "code",
   "execution_count": 225,
   "metadata": {},
   "outputs": [],
   "source": [
    "# Generate prediction by greedy sampling, step by step\n",
    "predictions = []\n",
    "\n",
    "for t in range(0, output_sequence_length):\n",
    "    \n",
    "    output, attention = attention_model.predict([encoder_input, decoder_input])\n",
    "    # output: num_examples, output_sequence_length, output_vocabulary\n",
    "    # attention: num_examples, output_sequence_length, input_sequence_length\n",
    "    \n",
    "    prediction_t_argmax = output.argmax(axis = 2)[:, t] # only pick lastest prdiction at time t\n",
    "    predictions.append(prediction_t_argmax[0])\n",
    "    # Stop with EoS\n",
    "    if prediction_t_argmax == 53:\n",
    "        break\n",
    "    decoder_input[:, t+1, prediction_t_argmax[0]] = 1 # overwrite decoder_input with latest t\n",
    "\n",
    "# Post-process for 1st sample\n",
    "attention_density = attention[0] # attention for 1st sample after last time step"
   ]
  },
  {
   "cell_type": "code",
   "execution_count": 227,
   "metadata": {},
   "outputs": [
    {
     "data": {
      "text/plain": [
       "[11, 17, 5, 13, 1, 3, 16, 13, 14, 21]"
      ]
     },
     "execution_count": 227,
     "metadata": {},
     "output_type": "execute_result"
    }
   ],
   "source": [
    "test_input"
   ]
  },
  {
   "cell_type": "code",
   "execution_count": 226,
   "metadata": {},
   "outputs": [
    {
     "data": {
      "text/plain": [
       "[37, 43, 31, 39, 27, 29, 42, 39, 40, 47, 53]"
      ]
     },
     "execution_count": 226,
     "metadata": {},
     "output_type": "execute_result"
    }
   ],
   "source": [
    "predictions"
   ]
  },
  {
   "cell_type": "markdown",
   "metadata": {},
   "source": [
    "## Visualization"
   ]
  },
  {
   "cell_type": "markdown",
   "metadata": {},
   "source": [
    "Weird results, to be investigated"
   ]
  },
  {
   "cell_type": "code",
   "execution_count": 229,
   "metadata": {},
   "outputs": [
    {
     "data": {
      "image/png": "[encoded data removed]",
      "text/plain": [
       "<matplotlib.figure.Figure at 0x1a437835c0>"
      ]
     },
     "metadata": {},
     "output_type": "display_data"
    }
   ],
   "source": [
    "import seaborn as sns\n",
    "ax = sns.heatmap(attention_density,   \n",
    "        xticklabels=[w for w in test_input],\n",
    "        yticklabels=[w for w in predictions])\n",
    "ax.invert_yaxis()"
   ]
  },
  {
   "cell_type": "markdown",
   "metadata": {
    "run_control": {
     "marked": false
    }
   },
   "source": [
    "# Reference"
   ]
  },
  {
   "cell_type": "markdown",
   "metadata": {},
   "source": [
    "- https://guillaumegenthial.github.io/sequence-to-sequence.html\n",
    "- https://blog.keras.io/a-ten-minute-introduction-to-sequence-to-sequence-learning-in-keras.html"
   ]
  },
  {
   "cell_type": "code",
   "execution_count": null,
   "metadata": {},
   "outputs": [],
   "source": []
  }
 ],
 "metadata": {
  "kernelspec": {
   "display_name": "Python [default]",
   "language": "python",
   "name": "python3"
  },
  "toc": {
   "base_numbering": 1,
   "nav_menu": {},
   "number_sections": true,
   "sideBar": true,
   "skip_h1_title": false,
   "title_cell": "Table of Contents",
   "title_sidebar": "Contents",
   "toc_cell": false,
   "toc_position": {
    "height": "calc(100% - 180px)",
    "left": "10px",
    "top": "150px",
    "width": "266px"
   },
   "toc_section_display": true,
   "toc_window_display": true
  },
  "varInspector": {
   "cols": {
    "lenName": 16,
    "lenType": 16,
    "lenVar": 40
   },
   "kernels_config": {
    "python": {
     "delete_cmd_postfix": "",
     "delete_cmd_prefix": "del ",
     "library": "var_list.py",
     "varRefreshCmd": "print(var_dic_list())"
    },
    "r": {
     "delete_cmd_postfix": ") ",
     "delete_cmd_prefix": "rm(",
     "library": "var_list.r",
     "varRefreshCmd": "cat(var_dic_list()) "
    }
   },
   "types_to_exclude": [
    "module",
    "function",
    "builtin_function_or_method",
    "instance",
    "_Feature"
   ],
   "window_display": false
  }
 },
 "nbformat": 4,
 "nbformat_minor": 2
}
