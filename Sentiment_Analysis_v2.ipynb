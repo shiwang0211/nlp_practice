{
 "cells": [
  {
   "cell_type": "markdown",
   "metadata": {},
   "source": [
    "**CNN/RNN - Sentiment Analysis**"
   ]
  },
  {
   "cell_type": "markdown",
   "metadata": {
    "collapsed": true
   },
   "source": [
    "Reference: https://github.com/rouseguy/DeepLearning-NLP/blob/master/notebooks/3.%20CNN%20-%20Text.ipynb"
   ]
  },
  {
   "cell_type": "code",
   "execution_count": 1,
   "metadata": {},
   "outputs": [
    {
     "name": "stderr",
     "output_type": "stream",
     "text": [
      "Using TensorFlow backend.\n",
      "/Users/shiwang/anaconda3/lib/python3.6/site-packages/sklearn/cross_validation.py:41: DeprecationWarning: This module was deprecated in version 0.18 in favor of the model_selection module into which all the refactored classes and functions are moved. Also note that the interface of the new CV iterators are different from that of this module. This module will be removed in 0.20.\n",
      "  \"This module will be removed in 0.20.\", DeprecationWarning)\n"
     ]
    }
   ],
   "source": [
    "import numpy as np\n",
    "from script import data_helpers\n",
    "from script import w2v \n",
    "from script.w2v import train_word2vec\n",
    "from keras.models import Sequential, Model\n",
    "from keras.layers import Activation, Dense, Dropout, Embedding, Flatten, Input, Merge, SpatialDropout1D, Convolution1D, MaxPooling1D, LSTM\n",
    "from sklearn.cross_validation import train_test_split\n",
    "np.random.seed(2)"
   ]
  },
  {
   "cell_type": "markdown",
   "metadata": {},
   "source": [
    "## Train a Word2Vec model to get the embedding vectors"
   ]
  },
  {
   "cell_type": "markdown",
   "metadata": {},
   "source": [
    "### Read in training data"
   ]
  },
  {
   "cell_type": "code",
   "execution_count": 2,
   "metadata": {},
   "outputs": [
    {
     "name": "stdout",
     "output_type": "stream",
     "text": [
      "Loading data...\n",
      "Loading finished...\n",
      "There is a total of 18779 words in vocabulary\n",
      "The shape of X is: (10662, 56)\n",
      "The shape of Y is: (10662, 2)\n"
     ]
    }
   ],
   "source": [
    "print(\"Loading data...\")\n",
    "x, y, vocabulary, vocabulary_inv = data_helpers.load_data() # Note, x is padded with zero in the end\n",
    "print(\"Loading finished...\")\n",
    "print('There is a total of ' + str(len(vocabulary)) + ' words in vocabulary')\n",
    "print('The shape of X is: ' + str(x.shape)) # 10662 sequences, every sequence has 56 words\n",
    "print('The shape of Y is: ' + str(y.shape)) # 10662 results with either [1,0] - positive or [0,1] - negative"
   ]
  },
  {
   "cell_type": "markdown",
   "metadata": {},
   "source": [
    "### Apply `train_word2vec` function"
   ]
  },
  {
   "cell_type": "code",
   "execution_count": 4,
   "metadata": {},
   "outputs": [],
   "source": [
    "# Model Hyperparameters\n",
    "sequence_length = 56\n",
    "embedding_dim = 20          \n",
    "num_filters = 150\n",
    "filter_size = 3\n",
    "dropout_prob = 0.25\n",
    "\n",
    "# Training parameters\n",
    "batch_size = 32\n",
    "num_epochs = 2\n",
    "\n",
    "# Word2Vec parameters, see train_word2vec\n",
    "min_word_count = 1  # Minimum word count                        \n",
    "context = 10        # Context window size"
   ]
  },
  {
   "cell_type": "code",
   "execution_count": 5,
   "metadata": {},
   "outputs": [
    {
     "name": "stdout",
     "output_type": "stream",
     "text": [
      "Loading existing Word2Vec model '20features_1minwords_10context'\n"
     ]
    }
   ],
   "source": [
    "# train_word2vec\n",
    "embedding_weights = train_word2vec(x, vocabulary_inv, embedding_dim, min_word_count, context)"
   ]
  },
  {
   "cell_type": "code",
   "execution_count": 9,
   "metadata": {},
   "outputs": [
    {
     "data": {
      "text/plain": [
       "(18779, 20)"
      ]
     },
     "execution_count": 9,
     "metadata": {},
     "output_type": "execute_result"
    }
   ],
   "source": [
    "embedding_weights[0].shape # (Vocabulary length, embedding dim)"
   ]
  },
  {
   "cell_type": "markdown",
   "metadata": {},
   "source": [
    "## Generate train/test set"
   ]
  },
  {
   "cell_type": "code",
   "execution_count": 55,
   "metadata": {},
   "outputs": [],
   "source": [
    "import random\n",
    "random.seed(1)\n",
    "data = np.append(x,y,axis = 1)\n",
    "train, test = train_test_split(data, test_size = 0.15,random_state = 0)\n",
    "X_test = test[:,:-2]\n",
    "Y_test = test[:,-2:]\n",
    "X_train = train[:,:-2]\n",
    "Y_train = train[:,-2:]"
   ]
  },
  {
   "cell_type": "code",
   "execution_count": 56,
   "metadata": {},
   "outputs": [
    {
     "data": {
      "text/plain": [
       "(9062, 56)"
      ]
     },
     "execution_count": 56,
     "metadata": {},
     "output_type": "execute_result"
    }
   ],
   "source": [
    "X_train.shape # Number of example, length of sequence"
   ]
  },
  {
   "cell_type": "markdown",
   "metadata": {},
   "source": [
    "## Model training - 1, 1-d CNN"
   ]
  },
  {
   "cell_type": "code",
   "execution_count": 57,
   "metadata": {},
   "outputs": [
    {
     "name": "stdout",
     "output_type": "stream",
     "text": [
      "_________________________________________________________________\n",
      "Layer (type)                 Output Shape              Param #   \n",
      "=================================================================\n",
      "embedding_6 (Embedding)      (None, 56, 20)            375580    \n",
      "_________________________________________________________________\n",
      "conv1d_6 (Conv1D)            (None, 54, 150)           9150      \n",
      "_________________________________________________________________\n",
      "max_pooling1d_6 (MaxPooling1 (None, 27, 150)           0         \n",
      "_________________________________________________________________\n",
      "dropout_6 (Dropout)          (None, 27, 150)           0         \n",
      "_________________________________________________________________\n",
      "flatten_6 (Flatten)          (None, 4050)              0         \n",
      "_________________________________________________________________\n",
      "dense_6 (Dense)              (None, 2)                 8102      \n",
      "=================================================================\n",
      "Total params: 392,832\n",
      "Trainable params: 392,832\n",
      "Non-trainable params: 0\n",
      "_________________________________________________________________\n"
     ]
    }
   ],
   "source": [
    "model = Sequential()\n",
    "model.add(Embedding(input_dim = len(vocabulary), \n",
    "                    output_dim = embedding_dim, \n",
    "                    input_length = sequence_length,\n",
    "                    weights = embedding_weights))\n",
    "\n",
    "model.add(Convolution1D(filters = num_filters,\n",
    "                         kernel_size = filter_size,\n",
    "                         strides = 1,\n",
    "                         padding = 'valid',\n",
    "                         activation = 'relu'))\n",
    "\n",
    "model.add(MaxPooling1D(pool_size=2))\n",
    "model.add(Dropout(dropout_prob))\n",
    "model.add(Flatten())\n",
    "model.add(Dense(2, activation='softmax'))\n",
    "model.summary()"
   ]
  },
  {
   "cell_type": "markdown",
   "metadata": {},
   "source": [
    "![image](https://cdn-images-1.medium.com/max/1200/1*h_L7fSoQhipTHFULgXmHyQ.png)"
   ]
  },
  {
   "cell_type": "code",
   "execution_count": 58,
   "metadata": {},
   "outputs": [
    {
     "name": "stdout",
     "output_type": "stream",
     "text": [
      "Train on 9062 samples, validate on 1600 samples\n",
      "Epoch 1/5\n",
      "9062/9062 [==============================] - 2s 264us/step - loss: 0.6613 - acc: 0.5990 - val_loss: 0.6123 - val_acc: 0.6594\n",
      "Epoch 2/5\n",
      "9062/9062 [==============================] - 2s 227us/step - loss: 0.5539 - acc: 0.7139 - val_loss: 0.6052 - val_acc: 0.7100\n",
      "Epoch 3/5\n",
      "9062/9062 [==============================] - 2s 235us/step - loss: 0.4653 - acc: 0.7791 - val_loss: 0.5417 - val_acc: 0.7244\n",
      "Epoch 4/5\n",
      "9062/9062 [==============================] - 2s 235us/step - loss: 0.3939 - acc: 0.8226 - val_loss: 0.6011 - val_acc: 0.7475\n",
      "Epoch 5/5\n",
      "9062/9062 [==============================] - 2s 232us/step - loss: 0.3385 - acc: 0.8500 - val_loss: 0.6066 - val_acc: 0.7419\n"
     ]
    },
    {
     "data": {
      "text/plain": [
       "<keras.callbacks.History at 0x1a2ac9bba8>"
      ]
     },
     "execution_count": 58,
     "metadata": {},
     "output_type": "execute_result"
    }
   ],
   "source": [
    "model.compile(loss='binary_crossentropy', optimizer='rmsprop', metrics=['accuracy'])\n",
    "model.fit(X_train, Y_train, batch_size=batch_size, validation_data=(X_test, Y_test), epochs=5)"
   ]
  },
  {
   "cell_type": "markdown",
   "metadata": {
    "collapsed": true
   },
   "source": [
    "### Model prediction "
   ]
  },
  {
   "cell_type": "code",
   "execution_count": 59,
   "metadata": {},
   "outputs": [
    {
     "name": "stdout",
     "output_type": "stream",
     "text": [
      "The Accuracy is: 0.741875\n"
     ]
    }
   ],
   "source": [
    "preds = model.predict_classes(X_test)\n",
    "acc = sum(preds == np.array([0 if y_test[0] == 1 else 1 for y_test in Y_test])) / len(Y_test)\n",
    "print('The Accuracy is:',acc) "
   ]
  },
  {
   "cell_type": "code",
   "execution_count": 60,
   "metadata": {},
   "outputs": [
    {
     "name": "stdout",
     "output_type": "stream",
     "text": [
      "The Accuracy is: 0.741875\n"
     ]
    }
   ],
   "source": [
    "model.evaluate(X_test, Y_test, verbose=0)\n",
    "print('The Accuracy is:',acc) "
   ]
  },
  {
   "cell_type": "markdown",
   "metadata": {},
   "source": [
    "## Model training - 2, LSTM"
   ]
  },
  {
   "cell_type": "code",
   "execution_count": 61,
   "metadata": {},
   "outputs": [
    {
     "name": "stdout",
     "output_type": "stream",
     "text": [
      "_________________________________________________________________\n",
      "Layer (type)                 Output Shape              Param #   \n",
      "=================================================================\n",
      "embedding_7 (Embedding)      (None, 56, 20)            375580    \n",
      "_________________________________________________________________\n",
      "spatial_dropout1d_1 (Spatial (None, 56, 20)            0         \n",
      "_________________________________________________________________\n",
      "lstm_1 (LSTM)                (None, 120)               67680     \n",
      "_________________________________________________________________\n",
      "dense_7 (Dense)              (None, 2)                 242       \n",
      "=================================================================\n",
      "Total params: 443,502\n",
      "Trainable params: 443,502\n",
      "Non-trainable params: 0\n",
      "_________________________________________________________________\n"
     ]
    }
   ],
   "source": [
    "model = Sequential()\n",
    "model.add(Embedding(input_dim = len(vocabulary), \n",
    "                    output_dim = embedding_dim, \n",
    "                    input_length = sequence_length,               \n",
    "                    mask_zero = True, #https://keras.io/layers/embeddings/\n",
    "                    weights = embedding_weights))\n",
    "model.add(SpatialDropout1D(0.5))\n",
    "model.add(LSTM(units = 120, \n",
    "               dropout = 0.2,  \n",
    "               recurrent_dropout = 0.2,\n",
    "               return_sequences = False)) # (Batch size, time steps, units) - with return_sequences=True\n",
    "\n",
    "model.add(Dense(2, activation='softmax'))\n",
    "model.summary()"
   ]
  },
  {
   "cell_type": "markdown",
   "metadata": {},
   "source": [
    "![image](https://d3ansictanv2wj.cloudfront.net/SentimentAnalysis16-38b6f3cbb7bae622fe0ba114db188666.png)"
   ]
  },
  {
   "cell_type": "code",
   "execution_count": 62,
   "metadata": {
    "scrolled": true
   },
   "outputs": [
    {
     "name": "stdout",
     "output_type": "stream",
     "text": [
      "Train on 9062 samples, validate on 1600 samples\n",
      "Epoch 1/5\n",
      "9062/9062 [==============================] - 18s 2ms/step - loss: 0.6912 - acc: 0.5278 - val_loss: 0.6725 - val_acc: 0.6175\n",
      "Epoch 2/5\n",
      "9062/9062 [==============================] - 17s 2ms/step - loss: 0.6684 - acc: 0.5904 - val_loss: 0.6508 - val_acc: 0.6544\n",
      "Epoch 3/5\n",
      "9062/9062 [==============================] - 17s 2ms/step - loss: 0.6108 - acc: 0.6665 - val_loss: 0.5864 - val_acc: 0.7094\n",
      "Epoch 4/5\n",
      "9062/9062 [==============================] - 17s 2ms/step - loss: 0.5258 - acc: 0.7346 - val_loss: 0.5248 - val_acc: 0.7438\n",
      "Epoch 5/5\n",
      "9062/9062 [==============================] - 17s 2ms/step - loss: 0.4491 - acc: 0.7922 - val_loss: 0.5128 - val_acc: 0.7600\n",
      "Test score: 0.512823333144\n",
      "Test accuracy: 0.76\n"
     ]
    }
   ],
   "source": [
    "model.compile(loss='binary_crossentropy', optimizer='adam', metrics=['accuracy'])\n",
    "model.fit(X_train, Y_train, batch_size=batch_size, validation_data=(X_test, Y_test), epochs=5)\n",
    "\n",
    "score = model.evaluate(X_test, Y_test, verbose=0)\n",
    "print('Test score:', score[0])\n",
    "print('Test accuracy:', score[1])"
   ]
  },
  {
   "cell_type": "code",
   "execution_count": null,
   "metadata": {},
   "outputs": [],
   "source": []
  }
 ],
 "metadata": {
  "kernelspec": {
   "display_name": "Python [conda env:anaconda3]",
   "language": "python",
   "name": "conda-env-anaconda3-py"
  },
  "language_info": {
   "codemirror_mode": {
    "name": "ipython",
    "version": 3
   },
   "file_extension": ".py",
   "mimetype": "text/x-python",
   "name": "python",
   "nbconvert_exporter": "python",
   "pygments_lexer": "ipython3",
   "version": "3.6.3"
  },
  "toc": {
   "base_numbering": 1,
   "nav_menu": {},
   "number_sections": true,
   "sideBar": true,
   "skip_h1_title": false,
   "title_cell": "Table of Contents",
   "title_sidebar": "Contents",
   "toc_cell": false,
   "toc_position": {},
   "toc_section_display": true,
   "toc_window_display": true
  }
 },
 "nbformat": 4,
 "nbformat_minor": 2
}
